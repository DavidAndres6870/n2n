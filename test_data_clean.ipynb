{
 "cells": [
  {
   "cell_type": "code",
   "execution_count": 1,
   "metadata": {},
   "outputs": [],
   "source": [
    "#https://pypi.org/project/oauth2client/\n",
    "import gspread\n",
    "from oauth2client.service_account import ServiceAccountCredentials\n",
    "\n",
    "#from df2gspread import df2gspread as d2g\n",
    "from gspread_dataframe import get_as_dataframe, set_with_dataframe"
   ]
  },
  {
   "cell_type": "code",
   "execution_count": 2,
   "metadata": {},
   "outputs": [],
   "source": [
    "import numpy as np\n",
    "import pandas as pd\n",
    "from datetime import datetime, timedelta"
   ]
  },
  {
   "cell_type": "markdown",
   "metadata": {},
   "source": [
    "## Read google sheets"
   ]
  },
  {
   "cell_type": "markdown",
   "metadata": {},
   "source": [
    "Define the scope"
   ]
  },
  {
   "cell_type": "code",
   "execution_count": 3,
   "metadata": {},
   "outputs": [],
   "source": [
    "# define the scope\n",
    "#SCOPE = ['https://spreadsheets.google.com/feeds',\n",
    "#    \"https://www.googleapis.com/auth/drive\"]\n",
    "SCOPE = [\"https://www.googleapis.com/auth/drive\"]\n",
    "API_FILE = \"gcp_api/n2n-project-credentials.json\""
   ]
  },
  {
   "cell_type": "markdown",
   "metadata": {},
   "source": [
    "Credentials"
   ]
  },
  {
   "cell_type": "code",
   "execution_count": 4,
   "metadata": {},
   "outputs": [],
   "source": [
    "# add credentials to the account\n",
    "credentials = ServiceAccountCredentials.from_json_keyfile_name(API_FILE, SCOPE)\n",
    "\n",
    "# authorize the clientsheet\n",
    "client = gspread.authorize(credentials)\n",
    "\n",
    "# get the instance of the Spreadsheet\n",
    "sheet = client.open('Copy of N2N - Database')\n",
    "\n",
    "# get the first sheet of the Spreadsheet\n",
    "sheet_instance = sheet.get_worksheet(0)"
   ]
  },
  {
   "cell_type": "code",
   "execution_count": 5,
   "metadata": {},
   "outputs": [
    {
     "name": "stdout",
     "output_type": "stream",
     "text": [
      "16\n",
      "4995\n"
     ]
    }
   ],
   "source": [
    "# get the total number of columns\n",
    "print(sheet_instance.col_count)\n",
    "print(sheet_instance.row_count)"
   ]
  },
  {
   "cell_type": "markdown",
   "metadata": {},
   "source": [
    "Database"
   ]
  },
  {
   "cell_type": "code",
   "execution_count": 6,
   "metadata": {},
   "outputs": [],
   "source": [
    "data = sheet_instance.get_all_values()\n",
    "dfToUpdate = pd.DataFrame(data[1:], columns=data[0])"
   ]
  },
  {
   "cell_type": "code",
   "execution_count": 7,
   "metadata": {},
   "outputs": [
    {
     "data": {
      "text/html": [
       "<div>\n",
       "<style scoped>\n",
       "    .dataframe tbody tr th:only-of-type {\n",
       "        vertical-align: middle;\n",
       "    }\n",
       "\n",
       "    .dataframe tbody tr th {\n",
       "        vertical-align: top;\n",
       "    }\n",
       "\n",
       "    .dataframe thead th {\n",
       "        text-align: right;\n",
       "    }\n",
       "</style>\n",
       "<table border=\"1\" class=\"dataframe\">\n",
       "  <thead>\n",
       "    <tr style=\"text-align: right;\">\n",
       "      <th></th>\n",
       "      <th>#</th>\n",
       "      <th>Date</th>\n",
       "      <th>City</th>\n",
       "      <th>Season</th>\n",
       "      <th>Industry / Event</th>\n",
       "      <th>Format</th>\n",
       "      <th>Attendance</th>\n",
       "      <th>Email</th>\n",
       "      <th>First Name</th>\n",
       "      <th>Last Name</th>\n",
       "      <th>Country of Origin</th>\n",
       "      <th>Area of Expertise</th>\n",
       "      <th>Employment Status</th>\n",
       "      <th>Employer</th>\n",
       "      <th>Dream Job</th>\n",
       "      <th>Linkedin</th>\n",
       "    </tr>\n",
       "  </thead>\n",
       "  <tbody>\n",
       "    <tr>\n",
       "      <th>0</th>\n",
       "      <td>1</td>\n",
       "      <td>January 14, 2021</td>\n",
       "      <td>Toronto</td>\n",
       "      <td>1</td>\n",
       "      <td>HR</td>\n",
       "      <td>Online</td>\n",
       "      <td>Checked In</td>\n",
       "      <td>fabysantanar@gmail.com</td>\n",
       "      <td>Fabiana</td>\n",
       "      <td>Santana</td>\n",
       "      <td>Venezuela</td>\n",
       "      <td>Employee Experience, Business Partner</td>\n",
       "      <td>Employed</td>\n",
       "      <td>Spin Master</td>\n",
       "      <td></td>\n",
       "      <td></td>\n",
       "    </tr>\n",
       "    <tr>\n",
       "      <th>1</th>\n",
       "      <td>1</td>\n",
       "      <td>January 14, 2021</td>\n",
       "      <td>Toronto</td>\n",
       "      <td>1</td>\n",
       "      <td>HR</td>\n",
       "      <td>Online</td>\n",
       "      <td>Checked In</td>\n",
       "      <td>davhd21@gmail.com</td>\n",
       "      <td>David</td>\n",
       "      <td>Herrera</td>\n",
       "      <td>Mexico</td>\n",
       "      <td>Talent</td>\n",
       "      <td>Employed</td>\n",
       "      <td>Korn Ferry</td>\n",
       "      <td></td>\n",
       "      <td></td>\n",
       "    </tr>\n",
       "    <tr>\n",
       "      <th>2</th>\n",
       "      <td>1</td>\n",
       "      <td>January 14, 2021</td>\n",
       "      <td>Toronto</td>\n",
       "      <td>1</td>\n",
       "      <td>HR</td>\n",
       "      <td>Online</td>\n",
       "      <td>Checked In</td>\n",
       "      <td>karla.cadario@wilsonhcg.com</td>\n",
       "      <td>Karla</td>\n",
       "      <td>Cadario Moreno</td>\n",
       "      <td>Bolivia</td>\n",
       "      <td>Reclutamiento y Seleccion</td>\n",
       "      <td>Employed</td>\n",
       "      <td>WilsonHCG</td>\n",
       "      <td></td>\n",
       "      <td></td>\n",
       "    </tr>\n",
       "    <tr>\n",
       "      <th>3</th>\n",
       "      <td>1</td>\n",
       "      <td>January 14, 2021</td>\n",
       "      <td>Toronto</td>\n",
       "      <td>1</td>\n",
       "      <td>HR</td>\n",
       "      <td>Online</td>\n",
       "      <td>Checked In</td>\n",
       "      <td>eri_mabu@hotmail.com</td>\n",
       "      <td>Erika</td>\n",
       "      <td>Martínez</td>\n",
       "      <td>Colombia</td>\n",
       "      <td>Recruiting</td>\n",
       "      <td>Employed</td>\n",
       "      <td>Accenture</td>\n",
       "      <td></td>\n",
       "      <td></td>\n",
       "    </tr>\n",
       "    <tr>\n",
       "      <th>4</th>\n",
       "      <td>1</td>\n",
       "      <td>January 14, 2021</td>\n",
       "      <td>Toronto</td>\n",
       "      <td>1</td>\n",
       "      <td>HR</td>\n",
       "      <td>Online</td>\n",
       "      <td>Checked In</td>\n",
       "      <td>padronalfredo@outlook.com</td>\n",
       "      <td>Alfredo</td>\n",
       "      <td>Padron</td>\n",
       "      <td>Venezuela</td>\n",
       "      <td>Tech</td>\n",
       "      <td>Employed</td>\n",
       "      <td>Scotiabank</td>\n",
       "      <td></td>\n",
       "      <td></td>\n",
       "    </tr>\n",
       "    <tr>\n",
       "      <th>...</th>\n",
       "      <td>...</td>\n",
       "      <td>...</td>\n",
       "      <td>...</td>\n",
       "      <td>...</td>\n",
       "      <td>...</td>\n",
       "      <td>...</td>\n",
       "      <td>...</td>\n",
       "      <td>...</td>\n",
       "      <td>...</td>\n",
       "      <td>...</td>\n",
       "      <td>...</td>\n",
       "      <td>...</td>\n",
       "      <td>...</td>\n",
       "      <td>...</td>\n",
       "      <td>...</td>\n",
       "      <td>...</td>\n",
       "    </tr>\n",
       "    <tr>\n",
       "      <th>4989</th>\n",
       "      <td>177</td>\n",
       "      <td>November 27, 2023</td>\n",
       "      <td>Toronto</td>\n",
       "      <td>9</td>\n",
       "      <td>Legal</td>\n",
       "      <td>Online</td>\n",
       "      <td>Attending</td>\n",
       "      <td>mfpineror@gmail.com</td>\n",
       "      <td>Maria Fernanda</td>\n",
       "      <td>Pineros Rojas</td>\n",
       "      <td>Colombianone</td>\n",
       "      <td>Human Rightsnone</td>\n",
       "      <td>Unemployed and looking for opportunitiesnone</td>\n",
       "      <td>Nonnone</td>\n",
       "      <td>Work At Ngonone</td>\n",
       "      <td>Maria Fernanda Piñeros Rojasnone</td>\n",
       "    </tr>\n",
       "    <tr>\n",
       "      <th>4990</th>\n",
       "      <td>177</td>\n",
       "      <td>November 27, 2023</td>\n",
       "      <td>Toronto</td>\n",
       "      <td>9</td>\n",
       "      <td>Legal</td>\n",
       "      <td>Online</td>\n",
       "      <td>Checked In</td>\n",
       "      <td>cp_abi_98@hotmail.com</td>\n",
       "      <td>Abigail</td>\n",
       "      <td>Condori Pereyra</td>\n",
       "      <td>Perunone</td>\n",
       "      <td>Criminalnone</td>\n",
       "      <td>Employed and looking for opportunitiesnone</td>\n",
       "      <td>Dominion Pardons And Waiversnone</td>\n",
       "      <td>.None</td>\n",
       "      <td>Https://Www.Linkedin.Com/In/Abigailcondoripere...</td>\n",
       "    </tr>\n",
       "    <tr>\n",
       "      <th>4991</th>\n",
       "      <td>177</td>\n",
       "      <td>November 27, 2023</td>\n",
       "      <td>Toronto</td>\n",
       "      <td>9</td>\n",
       "      <td>Legal</td>\n",
       "      <td>Online</td>\n",
       "      <td>Attending</td>\n",
       "      <td>cvilches.guzman@gmail.com</td>\n",
       "      <td>carolina</td>\n",
       "      <td>vilches</td>\n",
       "      <td>Chilenone</td>\n",
       "      <td>Clean Servicesnone</td>\n",
       "      <td>Unemployed and looking for opportunitiesnone</td>\n",
       "      <td>Sunshinenone</td>\n",
       "      <td>Achieve Confidence In My Professional Fieldnone</td>\n",
       "      <td>Nonenone</td>\n",
       "    </tr>\n",
       "    <tr>\n",
       "      <th>4992</th>\n",
       "      <td>177</td>\n",
       "      <td>November 27, 2023</td>\n",
       "      <td>Toronto</td>\n",
       "      <td>9</td>\n",
       "      <td>Legal</td>\n",
       "      <td>Online</td>\n",
       "      <td>Not Attending</td>\n",
       "      <td>hbatchounr@gmail.com</td>\n",
       "      <td>Helen</td>\n",
       "      <td>Batchoun</td>\n",
       "      <td>Nonenone</td>\n",
       "      <td>Nonenone</td>\n",
       "      <td>Nonenone</td>\n",
       "      <td>Nonenone</td>\n",
       "      <td>Nonenone</td>\n",
       "      <td>Nonenone</td>\n",
       "    </tr>\n",
       "    <tr>\n",
       "      <th>4993</th>\n",
       "      <td>177</td>\n",
       "      <td>November 27, 2023</td>\n",
       "      <td>Toronto</td>\n",
       "      <td>9</td>\n",
       "      <td>Legal</td>\n",
       "      <td>Online</td>\n",
       "      <td>Not Attending</td>\n",
       "      <td>jmedinarivas@gmail.com</td>\n",
       "      <td>Jessica</td>\n",
       "      <td>Medina</td>\n",
       "      <td>Nonenone</td>\n",
       "      <td>Nonenone</td>\n",
       "      <td>Nonenone</td>\n",
       "      <td>Nonenone</td>\n",
       "      <td>Nonenone</td>\n",
       "      <td>Nonenone</td>\n",
       "    </tr>\n",
       "  </tbody>\n",
       "</table>\n",
       "<p>4994 rows × 16 columns</p>\n",
       "</div>"
      ],
      "text/plain": [
       "        #               Date     City Season Industry / Event  Format  \\\n",
       "0       1   January 14, 2021  Toronto      1               HR  Online   \n",
       "1       1   January 14, 2021  Toronto      1               HR  Online   \n",
       "2       1   January 14, 2021  Toronto      1               HR  Online   \n",
       "3       1   January 14, 2021  Toronto      1               HR  Online   \n",
       "4       1   January 14, 2021  Toronto      1               HR  Online   \n",
       "...   ...                ...      ...    ...              ...     ...   \n",
       "4989  177  November 27, 2023  Toronto      9            Legal  Online   \n",
       "4990  177  November 27, 2023  Toronto      9            Legal  Online   \n",
       "4991  177  November 27, 2023  Toronto      9            Legal  Online   \n",
       "4992  177  November 27, 2023  Toronto      9            Legal  Online   \n",
       "4993  177  November 27, 2023  Toronto      9            Legal  Online   \n",
       "\n",
       "         Attendance                        Email      First Name  \\\n",
       "0        Checked In       fabysantanar@gmail.com         Fabiana   \n",
       "1        Checked In            davhd21@gmail.com           David   \n",
       "2        Checked In  karla.cadario@wilsonhcg.com           Karla   \n",
       "3        Checked In         eri_mabu@hotmail.com           Erika   \n",
       "4        Checked In    padronalfredo@outlook.com         Alfredo   \n",
       "...             ...                          ...             ...   \n",
       "4989      Attending          mfpineror@gmail.com  Maria Fernanda   \n",
       "4990     Checked In        cp_abi_98@hotmail.com         Abigail   \n",
       "4991      Attending    cvilches.guzman@gmail.com        carolina   \n",
       "4992  Not Attending         hbatchounr@gmail.com           Helen   \n",
       "4993  Not Attending       jmedinarivas@gmail.com         Jessica   \n",
       "\n",
       "            Last Name Country of Origin  \\\n",
       "0             Santana         Venezuela   \n",
       "1             Herrera            Mexico   \n",
       "2      Cadario Moreno           Bolivia   \n",
       "3           Martínez          Colombia   \n",
       "4              Padron         Venezuela   \n",
       "...               ...               ...   \n",
       "4989    Pineros Rojas      Colombianone   \n",
       "4990  Condori Pereyra          Perunone   \n",
       "4991          vilches         Chilenone   \n",
       "4992         Batchoun          Nonenone   \n",
       "4993           Medina          Nonenone   \n",
       "\n",
       "                          Area of Expertise  \\\n",
       "0     Employee Experience, Business Partner   \n",
       "1                                    Talent   \n",
       "2                 Reclutamiento y Seleccion   \n",
       "3                                Recruiting   \n",
       "4                                      Tech   \n",
       "...                                     ...   \n",
       "4989                       Human Rightsnone   \n",
       "4990                           Criminalnone   \n",
       "4991                     Clean Servicesnone   \n",
       "4992                               Nonenone   \n",
       "4993                               Nonenone   \n",
       "\n",
       "                                 Employment Status  \\\n",
       "0                                         Employed   \n",
       "1                                         Employed   \n",
       "2                                         Employed   \n",
       "3                                         Employed   \n",
       "4                                         Employed   \n",
       "...                                            ...   \n",
       "4989  Unemployed and looking for opportunitiesnone   \n",
       "4990    Employed and looking for opportunitiesnone   \n",
       "4991  Unemployed and looking for opportunitiesnone   \n",
       "4992                                      Nonenone   \n",
       "4993                                      Nonenone   \n",
       "\n",
       "                              Employer  \\\n",
       "0                          Spin Master   \n",
       "1                           Korn Ferry   \n",
       "2                            WilsonHCG   \n",
       "3                            Accenture   \n",
       "4                           Scotiabank   \n",
       "...                                ...   \n",
       "4989                           Nonnone   \n",
       "4990  Dominion Pardons And Waiversnone   \n",
       "4991                      Sunshinenone   \n",
       "4992                          Nonenone   \n",
       "4993                          Nonenone   \n",
       "\n",
       "                                            Dream Job  \\\n",
       "0                                                       \n",
       "1                                                       \n",
       "2                                                       \n",
       "3                                                       \n",
       "4                                                       \n",
       "...                                               ...   \n",
       "4989                                  Work At Ngonone   \n",
       "4990                                            .None   \n",
       "4991  Achieve Confidence In My Professional Fieldnone   \n",
       "4992                                         Nonenone   \n",
       "4993                                         Nonenone   \n",
       "\n",
       "                                               Linkedin  \n",
       "0                                                        \n",
       "1                                                        \n",
       "2                                                        \n",
       "3                                                        \n",
       "4                                                        \n",
       "...                                                 ...  \n",
       "4989                   Maria Fernanda Piñeros Rojasnone  \n",
       "4990  Https://Www.Linkedin.Com/In/Abigailcondoripere...  \n",
       "4991                                           Nonenone  \n",
       "4992                                           Nonenone  \n",
       "4993                                           Nonenone  \n",
       "\n",
       "[4994 rows x 16 columns]"
      ]
     },
     "execution_count": 7,
     "metadata": {},
     "output_type": "execute_result"
    }
   ],
   "source": [
    "dfToUpdate"
   ]
  },
  {
   "cell_type": "markdown",
   "metadata": {},
   "source": [
    "Define actual meeting number"
   ]
  },
  {
   "cell_type": "code",
   "execution_count": 8,
   "metadata": {},
   "outputs": [],
   "source": [
    "dfToUpdate['#'] = dfToUpdate['#'].astype(int)"
   ]
  },
  {
   "cell_type": "code",
   "execution_count": 9,
   "metadata": {},
   "outputs": [
    {
     "data": {
      "text/plain": [
       "177"
      ]
     },
     "execution_count": 9,
     "metadata": {},
     "output_type": "execute_result"
    }
   ],
   "source": [
    "MAX_NUMBER = dfToUpdate['#'].max()\n",
    "MAX_NUMBER"
   ]
  },
  {
   "cell_type": "code",
   "execution_count": 10,
   "metadata": {},
   "outputs": [
    {
     "data": {
      "text/plain": [
       "0        January 14, 2021\n",
       "1        January 14, 2021\n",
       "2        January 14, 2021\n",
       "3        January 14, 2021\n",
       "4        January 14, 2021\n",
       "              ...        \n",
       "4989    November 27, 2023\n",
       "4990    November 27, 2023\n",
       "4991    November 27, 2023\n",
       "4992    November 27, 2023\n",
       "4993    November 27, 2023\n",
       "Name: Date, Length: 4994, dtype: object"
      ]
     },
     "execution_count": 10,
     "metadata": {},
     "output_type": "execute_result"
    }
   ],
   "source": [
    "dfToUpdate['Date']"
   ]
  },
  {
   "cell_type": "code",
   "execution_count": 11,
   "metadata": {},
   "outputs": [],
   "source": [
    "#dfToUpdate['Date'] = pd.to_datetime(dfToUpdate['Date'], format='%B %d, %Y')\n",
    "#dfToUpdate['Date'] = dfToUpdate['Date'].dt.strftime('%Y-%m-%d')\n",
    "#dfToUpdate['Date'] = pd.to_datetime(dfToUpdate['Date'], format='%Y-%m-%d')"
   ]
  },
  {
   "cell_type": "code",
   "execution_count": 12,
   "metadata": {},
   "outputs": [],
   "source": [
    "#dfToUpdate['Date'].max()"
   ]
  },
  {
   "cell_type": "code",
   "execution_count": 13,
   "metadata": {},
   "outputs": [],
   "source": [
    "#dfToUpdate['Date'].max() + timedelta(days=1)"
   ]
  },
  {
   "cell_type": "markdown",
   "metadata": {},
   "source": [
    "## Read new data"
   ]
  },
  {
   "cell_type": "code",
   "execution_count": 14,
   "metadata": {},
   "outputs": [],
   "source": [
    "#df = pd.read_excel('gcp_files/report-2023-11-06T2158.xlsx')\n",
    "#df = pd.read_excel('gcp_files/report-2023-11-07T1311.xlsx')\n",
    "#df = pd.read_excel('gcp_files/report-2023-11-13T2113.xlsx')\n",
    "#df = pd.read_excel('gcp_files/report-2023-11-20T1926.xlsx')\n",
    "df = pd.read_excel('gcp_files/test.xlsx')\n"
   ]
  },
  {
   "cell_type": "markdown",
   "metadata": {},
   "source": [
    "#### City"
   ]
  },
  {
   "cell_type": "code",
   "execution_count": 15,
   "metadata": {},
   "outputs": [],
   "source": [
    "def extract_city(event_name):\n",
    "    if \"Montreal\" in event_name:\n",
    "        return \"Montreal\"\n",
    "    else:\n",
    "        return \"Toronto\""
   ]
  },
  {
   "cell_type": "code",
   "execution_count": 16,
   "metadata": {},
   "outputs": [],
   "source": [
    "df['City'] = df['Event Name'].apply(extract_city)"
   ]
  },
  {
   "cell_type": "markdown",
   "metadata": {},
   "source": [
    "#### Seasons\n"
   ]
  },
  {
   "cell_type": "markdown",
   "metadata": {},
   "source": [
    "Toronto"
   ]
  },
  {
   "cell_type": "code",
   "execution_count": 17,
   "metadata": {},
   "outputs": [],
   "source": [
    "def return_season_toronto(meeting_date):\n",
    "    if meeting_date <= datetime(2021,3,4): return 1\n",
    "    elif meeting_date <= datetime(2021,6,10): return 2\n",
    "    elif meeting_date <= datetime(2021,12,9): return 3\n",
    "    elif meeting_date <= datetime(2022,4,14): return 4\n",
    "    elif meeting_date <= datetime(2022,7,28): return 5\n",
    "    elif meeting_date <= datetime(2022,11,7): return 6\n",
    "    elif meeting_date <= datetime(2023,4,6): return 7\n",
    "    elif meeting_date <= datetime(2023,6,29): return 8\n",
    "    elif meeting_date <= datetime(2023,12,31): return 9\n",
    "    else: return 9\n"
   ]
  },
  {
   "cell_type": "markdown",
   "metadata": {},
   "source": [
    "Montreal"
   ]
  },
  {
   "cell_type": "code",
   "execution_count": 18,
   "metadata": {},
   "outputs": [],
   "source": [
    "def return_season_montreal(meeting_date):\n",
    "    if meeting_date <= datetime(2021,3,4):\n",
    "        return 1\n",
    "    else:\n",
    "        return 1"
   ]
  },
  {
   "cell_type": "markdown",
   "metadata": {},
   "source": [
    "Apply according to city fucntion"
   ]
  },
  {
   "cell_type": "code",
   "execution_count": 19,
   "metadata": {},
   "outputs": [
    {
     "data": {
      "text/plain": [
       "\"df['Date'] = pd.to_datetime(df['Date Attending'], format='%b %d, %Y at %I:%M %p')\\ndf['Date'] = df['Date'].dt.strftime('%Y-%m-%d')\\ndf['Date'] = pd.to_datetime(df['Date'], format='%Y-%m-%d')\""
      ]
     },
     "execution_count": 19,
     "metadata": {},
     "output_type": "execute_result"
    }
   ],
   "source": [
    "'''df['Date'] = pd.to_datetime(df['Date Attending'], format='%b %d, %Y at %I:%M %p')\n",
    "df['Date'] = df['Date'].dt.strftime('%Y-%m-%d')\n",
    "df['Date'] = pd.to_datetime(df['Date'], format='%Y-%m-%d')'''\n",
    "\n",
    "#date_attending = datetime.strptime(date_attending, \"%Y-%m-%dT%H:%M:%S\")\n",
    "    #date_attending = date_attending.strftime(\"%Y-%m-%d\")"
   ]
  },
  {
   "cell_type": "code",
   "execution_count": 20,
   "metadata": {},
   "outputs": [],
   "source": [
    "\n",
    "df['Date'] = pd.to_datetime(df['Date Attending'], format='%Y-%m-%dT%H:%M:%S')\n",
    "df['Date'] = df['Date'].dt.strftime('%Y-%m-%d')\n",
    "df['Date'] = pd.to_datetime(df['Date'], format='%Y-%m-%d')"
   ]
  },
  {
   "cell_type": "code",
   "execution_count": 21,
   "metadata": {},
   "outputs": [],
   "source": [
    "def season_based_on_city(df):\n",
    "    if df['City'] == 'Toronto':\n",
    "        return return_season_toronto(df['Date'])\n",
    "    elif df['City'] == 'Montreal':\n",
    "        return return_season_montreal(df['Date'])\n",
    "    else:\n",
    "        # Handle other cities or cases if needed\n",
    "        return None"
   ]
  },
  {
   "cell_type": "code",
   "execution_count": 22,
   "metadata": {},
   "outputs": [],
   "source": [
    "# Apply the custom function to create a new 'Season' column\n",
    "df['Season'] = df.apply(season_based_on_city, axis=1)"
   ]
  },
  {
   "cell_type": "markdown",
   "metadata": {},
   "source": [
    "#### Date"
   ]
  },
  {
   "cell_type": "code",
   "execution_count": 23,
   "metadata": {},
   "outputs": [],
   "source": [
    "df['Date'] = df['Date'].dt.strftime('%m/%d/%Y')\n",
    "#df['Date']"
   ]
  },
  {
   "cell_type": "markdown",
   "metadata": {},
   "source": [
    "#### Industry / Event"
   ]
  },
  {
   "cell_type": "code",
   "execution_count": 24,
   "metadata": {},
   "outputs": [],
   "source": [
    "def extractName(eventName):\n",
    "    if \"|\" in(eventName): # or \" | \" in(eventName):\n",
    "        #if \" | \" in(eventName):\n",
    "        #    split_result = eventName.split(' | ')\n",
    "        #else:\n",
    "        split_result = eventName.split('|')\n",
    "\n",
    "        eventNameBefore = split_result[0]\n",
    "        eventNameAfter = split_result[1]\n",
    "\n",
    "        if \"NotWorking to Networking\" in(eventNameBefore) or \"NotWorking2Networking\" in(eventNameBefore):\n",
    "            eventName = eventNameAfter\n",
    "        elif \"NotWorking to Networking\" in(eventNameAfter) or \"NotWorking2Networking\" in(eventNameAfter) or \"N2N Montreal\" in(eventNameAfter) or \"N2N\" in(eventNameAfter) or 'Not working to Networking Montreal' in(eventNameAfter) :\n",
    "            eventName = eventNameBefore\n",
    "\n",
    "        if 'Latinos in ' in eventName:\n",
    "            split_result = eventName.split('Latinos in ')\n",
    "            return split_result[1].strip()\n",
    "        else:\n",
    "            return eventName.strip()\n",
    "    else:\n",
    "        return eventName.strip()"
   ]
  },
  {
   "cell_type": "code",
   "execution_count": 25,
   "metadata": {},
   "outputs": [],
   "source": [
    "df['Industry / Event'] = df['Event Name'].apply(extractName)"
   ]
  },
  {
   "cell_type": "code",
   "execution_count": 26,
   "metadata": {},
   "outputs": [
    {
     "data": {
      "text/plain": [
       "Industry / Event\n",
       "Entrepreneurship           70\n",
       "Design & Graphic Design    41\n",
       "Sales                      23\n",
       "Fashion                    16\n",
       "Name: count, dtype: int64"
      ]
     },
     "execution_count": 26,
     "metadata": {},
     "output_type": "execute_result"
    }
   ],
   "source": [
    "df['Industry / Event'].value_counts()"
   ]
  },
  {
   "cell_type": "code",
   "execution_count": 27,
   "metadata": {},
   "outputs": [],
   "source": [
    "replacementsIndustryEvent = {\n",
    "    'Art &amp; Entertainment' : 'Art & Entertainment',\n",
    "    'Banca, Contabilidad &amp; Finanzas' : 'Banking, Finance & Insurance',\n",
    "    'Social Work &amp; Mental Health' : 'Social Work & Mental Health',\n",
    "    'Hospitality &amp; Tourism': 'Hospitality & Tourism',\n",
    "    'Social Work &amp; Mental Health': 'Social Work & Mental Health',\n",
    "    'Design &amp; Graphic Design' : 'Design & Graphic Design'\n",
    "}\n"
   ]
  },
  {
   "cell_type": "code",
   "execution_count": 28,
   "metadata": {},
   "outputs": [],
   "source": [
    "df['Industry / Event']=df['Industry / Event'].replace(replacementsIndustryEvent)"
   ]
  },
  {
   "cell_type": "code",
   "execution_count": 29,
   "metadata": {},
   "outputs": [
    {
     "data": {
      "text/plain": [
       "array(['Design & Graphic Design', 'Sales', 'Entrepreneurship', 'Fashion'],\n",
       "      dtype=object)"
      ]
     },
     "execution_count": 29,
     "metadata": {},
     "output_type": "execute_result"
    }
   ],
   "source": [
    "df['Industry / Event'].unique()"
   ]
  },
  {
   "cell_type": "markdown",
   "metadata": {},
   "source": [
    "#### Format"
   ]
  },
  {
   "cell_type": "code",
   "execution_count": 30,
   "metadata": {},
   "outputs": [],
   "source": [
    "def returnFormat(eventName):\n",
    "    return \"In Person\" if \"In Person\" in eventName else \"Online\"\n",
    "\n",
    "df['Format'] = df['Event Name'].apply(returnFormat)"
   ]
  },
  {
   "cell_type": "markdown",
   "metadata": {},
   "source": [
    "#### \\#"
   ]
  },
  {
   "cell_type": "code",
   "execution_count": 31,
   "metadata": {},
   "outputs": [
    {
     "data": {
      "text/plain": [
       "177"
      ]
     },
     "execution_count": 31,
     "metadata": {},
     "output_type": "execute_result"
    }
   ],
   "source": [
    "MAX_NUMBER"
   ]
  },
  {
   "cell_type": "code",
   "execution_count": 32,
   "metadata": {},
   "outputs": [],
   "source": [
    "# Create an empty list to store the counter values\n",
    "counter_values = []\n",
    "\n",
    "# Initialize variables to keep track of the previous date and city\n",
    "prev_date = None\n",
    "prev_city = None\n",
    "counter = 0\n",
    "\n",
    "# Iterate through the DataFrame rows\n",
    "for index, row in df.iterrows():\n",
    "    current_date = row['Date']\n",
    "    current_city = row['City']\n",
    "\n",
    "    # Check if either the date or city has changed from the previous row\n",
    "    if current_date != prev_date or current_city != prev_city:\n",
    "        counter += 1\n",
    "    counter_values.append(counter)\n",
    "\n",
    "    # Update the previous date and city values for the next iteration\n",
    "    prev_date = current_date\n",
    "    prev_city = current_city"
   ]
  },
  {
   "cell_type": "code",
   "execution_count": 33,
   "metadata": {},
   "outputs": [],
   "source": [
    "df['#'] = counter_values\n",
    "df['#'] = df['#'] + MAX_NUMBER"
   ]
  },
  {
   "cell_type": "markdown",
   "metadata": {},
   "source": [
    "#### Attendance\n"
   ]
  },
  {
   "cell_type": "code",
   "execution_count": 34,
   "metadata": {},
   "outputs": [],
   "source": [
    "df['Attendance'] = df['Attendee Status']"
   ]
  },
  {
   "cell_type": "code",
   "execution_count": 35,
   "metadata": {},
   "outputs": [
    {
     "data": {
      "text/plain": [
       "array(['Attending', 'Checked In', 'Not Attending'], dtype=object)"
      ]
     },
     "execution_count": 35,
     "metadata": {},
     "output_type": "execute_result"
    }
   ],
   "source": [
    "df['Attendance'].unique()"
   ]
  },
  {
   "cell_type": "markdown",
   "metadata": {},
   "source": [
    "#### Add columns"
   ]
  },
  {
   "cell_type": "code",
   "execution_count": 64,
   "metadata": {},
   "outputs": [],
   "source": [
    "def add_cols (df,field1, field2,result_field):\n",
    "    # Check if the columns exist in the DataFrame\n",
    "    if field1 in df.columns and field2 in df.columns:\n",
    "        # If both columns exist, perform the operations\n",
    "        df[field1] = df[field1].astype(str)\n",
    "        df[field2] = df[field2].astype(str)\n",
    "\n",
    "        df[field1].replace('nan','', inplace=True)\n",
    "        df[field2].replace('nan','', inplace=True)\n",
    "        \n",
    "        #df[field1].fillna('', inplace=True)\n",
    "        #df[field2].fillna('', inplace=True)\n",
    "\n",
    "        # Concatenate and strip\n",
    "        df[result_field] = (df[field1] +\n",
    "                                    df[field2]).str.strip()\n",
    "\n",
    "        df[result_field] = df[result_field].str.title()\n",
    "\n",
    "    elif field1 in df.columns:\n",
    "        df[result_field] = df[field1].astype(str)\n",
    "        df[result_field] = df[result_field].str.title()\n",
    "\n",
    "    elif field2 in df.columns:\n",
    "        df[result_field] = df[field2].astype(str)\n",
    "        df[result_field] = df[result_field].str.title()\n",
    "    else:\n",
    "        # Handle the case where one or both columns are missing\n",
    "        # You can choose to do nothing, create a default value, or perform any other desired action.\n",
    "        pass  # or do something else"
   ]
  },
  {
   "cell_type": "markdown",
   "metadata": {},
   "source": [
    "#### Country of Origin"
   ]
  },
  {
   "cell_type": "code",
   "execution_count": 65,
   "metadata": {},
   "outputs": [],
   "source": [
    "add_cols(df,'What country are you from in Latin America? (if applicable)','¿De qué país eres en América Latina? (si aplica)','Country of Origin')"
   ]
  },
  {
   "cell_type": "code",
   "execution_count": 38,
   "metadata": {},
   "outputs": [
    {
     "data": {
      "text/plain": [
       "\"# Check for missing values and replace them with an empty string\\ndf['What country are you from in Latin America? (if applicable)'].fillna('', inplace=True)\\ndf['¿De qué país eres en América Latina? (si aplica)'].fillna('', inplace=True)\\n\\n# Concatenate and strip\\ndf['Country of Origin'] = (df['What country are you from in Latin America? (if applicable)'] +\\n                            df['¿De qué país eres en América Latina? (si aplica)']).str.strip()\\n\\ndf['Country of Origin'] = df['Country of Origin'].str.title()\""
      ]
     },
     "execution_count": 38,
     "metadata": {},
     "output_type": "execute_result"
    }
   ],
   "source": [
    "'''# Check for missing values and replace them with an empty string\n",
    "df['What country are you from in Latin America? (if applicable)'].fillna('', inplace=True)\n",
    "df['¿De qué país eres en América Latina? (si aplica)'].fillna('', inplace=True)\n",
    "\n",
    "# Concatenate and strip\n",
    "df['Country of Origin'] = (df['What country are you from in Latin America? (if applicable)'] +\n",
    "                            df['¿De qué país eres en América Latina? (si aplica)']).str.strip()\n",
    "\n",
    "df['Country of Origin'] = df['Country of Origin'].str.title()'''"
   ]
  },
  {
   "cell_type": "code",
   "execution_count": 66,
   "metadata": {},
   "outputs": [],
   "source": [
    "# Define a dictionary for replacements\n",
    "replacements = {\n",
    "    '': np.nan,\n",
    "    'Canadá': 'Canada',\n",
    "    'Perú': 'Peru',\n",
    "    'España': 'Spain',\n",
    "    'México': 'Mexico',\n",
    "    'República Dominicana': 'Dominican Republic',\n",
    "    '-': np.nan,\n",
    "    'Not': np.nan,\n",
    "    'nan': np.nan,\n",
    "    'Alberta, British Columbia And Calgary.' : 'Canada',\n",
    "    'Brasil': 'Brazil',\n",
    "    'Amazonia' : 'Colombia',\n",
    "    'Dr': np.nan,\n",
    "    'Yes': np.nan,\n",
    "    'Spain/Colombia': 'Colombia',\n",
    "    'X' : np.nan,\n",
    "    'Na,India': np.nan,\n",
    "    'None (Spain)': np.nan,\n",
    "    'India':np.nan,\n",
    "    'South Africa':np.nan,\n",
    "    'Puebla, México' : 'Mexico',\n",
    "    'Ciudad De México' : 'Mexico',\n",
    "    'Coló Me La' : np.nan,\n",
    "    'Born In Canada.': np.nan,\n",
    "    'Mex': np.nan\n",
    "}"
   ]
  },
  {
   "cell_type": "code",
   "execution_count": 67,
   "metadata": {},
   "outputs": [],
   "source": [
    "df['Country of Origin']=df['Country of Origin'].replace(replacements)"
   ]
  },
  {
   "cell_type": "code",
   "execution_count": 68,
   "metadata": {},
   "outputs": [
    {
     "data": {
      "text/plain": [
       "array([nan, 'Colombia', 'Ecuador', 'Bolivia', 'Chile', 'Brazil', 'Canada',\n",
       "       'Mexico', 'Peru', 'Venezuela', 'Honduras', 'Costa Rica',\n",
       "       'Guatemala', 'Puerto Rico', 'Argentina'], dtype=object)"
      ]
     },
     "execution_count": 68,
     "metadata": {},
     "output_type": "execute_result"
    }
   ],
   "source": [
    "df['Country of Origin'].unique()"
   ]
  },
  {
   "cell_type": "markdown",
   "metadata": {},
   "source": [
    "#### Area of Expertise"
   ]
  },
  {
   "cell_type": "code",
   "execution_count": 42,
   "metadata": {},
   "outputs": [],
   "source": [
    "add_cols(df,'What area/subject do you specialize in? (in this industry)','¿En qué área/materia te especializas? (en esta industria)','Area of Expertise')"
   ]
  },
  {
   "cell_type": "code",
   "execution_count": 43,
   "metadata": {},
   "outputs": [
    {
     "data": {
      "text/plain": [
       "\"# Check for missing values and replace them with an empty string\\ndf['What area/subject do you specialize in? (in this industry)'].fillna('', inplace=True)\\ndf['¿En qué área/materia te especializas? (en esta industria)'].fillna('', inplace=True)\\n\\ndf['Area of Expertise'] = (df['What area/subject do you specialize in? (in this industry)'] +\\n                            df['¿En qué área/materia te especializas? (en esta industria)']).str.strip()\""
      ]
     },
     "execution_count": 43,
     "metadata": {},
     "output_type": "execute_result"
    }
   ],
   "source": [
    "'''# Check for missing values and replace them with an empty string\n",
    "df['What area/subject do you specialize in? (in this industry)'].fillna('', inplace=True)\n",
    "df['¿En qué área/materia te especializas? (en esta industria)'].fillna('', inplace=True)\n",
    "\n",
    "df['Area of Expertise'] = (df['What area/subject do you specialize in? (in this industry)'] +\n",
    "                            df['¿En qué área/materia te especializas? (en esta industria)']).str.strip()'''"
   ]
  },
  {
   "cell_type": "markdown",
   "metadata": {},
   "source": [
    "#### Employment Status"
   ]
  },
  {
   "cell_type": "code",
   "execution_count": 44,
   "metadata": {},
   "outputs": [],
   "source": [
    "add_cols(df,\"What\\'s your employment status?\",'¿Cuál es tu situación laboral?','Employment Status')"
   ]
  },
  {
   "cell_type": "code",
   "execution_count": 45,
   "metadata": {},
   "outputs": [
    {
     "data": {
      "text/plain": [
       "'# Check for missing values and replace them with an empty string\\ndf[\"What\\'s your employment status?\"].fillna(\\'\\', inplace=True)\\ndf[\\'¿Cuál es tu situación laboral?\\'].fillna(\\'\\', inplace=True)\\n\\ndf[\\'Employment Status\\'] = (df[\"What\\'s your employment status?\"] +\\n                            df[\\'¿Cuál es tu situación laboral?\\'])'"
      ]
     },
     "execution_count": 45,
     "metadata": {},
     "output_type": "execute_result"
    }
   ],
   "source": [
    "'''# Check for missing values and replace them with an empty string\n",
    "df[\"What\\'s your employment status?\"].fillna('', inplace=True)\n",
    "df['¿Cuál es tu situación laboral?'].fillna('', inplace=True)\n",
    "\n",
    "df['Employment Status'] = (df[\"What\\'s your employment status?\"] +\n",
    "                            df['¿Cuál es tu situación laboral?'])'''"
   ]
  },
  {
   "cell_type": "code",
   "execution_count": 46,
   "metadata": {},
   "outputs": [],
   "source": [
    "# Define a dictionary for replacements\n",
    "replacementsEmploymentStatus = {\n",
    "    'Empleado': 'Employed',\n",
    "    'Empleado en búsqueda de nuevas oportunidades': 'Employed and looking for opportunities',\n",
    "    'Desempleado y buscando oportunidades': 'Unemployed and looking for opportunities',\n",
    "    'Empleado y en búsqueda de oportunidades': 'Employed and looking for opportunities',\n",
    "    '': np.nan\n",
    "}"
   ]
  },
  {
   "cell_type": "code",
   "execution_count": 47,
   "metadata": {},
   "outputs": [],
   "source": [
    "df['Employment Status']=df['Employment Status'].replace(replacementsEmploymentStatus)"
   ]
  },
  {
   "cell_type": "code",
   "execution_count": 48,
   "metadata": {},
   "outputs": [],
   "source": [
    "df['Employment Status'] = df['Employment Status'].str.capitalize()"
   ]
  },
  {
   "cell_type": "code",
   "execution_count": 49,
   "metadata": {},
   "outputs": [
    {
     "data": {
      "text/plain": [
       "array(['Employed and looking for opportunities', 'Employed',\n",
       "       'Unemployed and looking for opportunities', nan], dtype=object)"
      ]
     },
     "execution_count": 49,
     "metadata": {},
     "output_type": "execute_result"
    }
   ],
   "source": [
    "df['Employment Status'].unique()"
   ]
  },
  {
   "cell_type": "markdown",
   "metadata": {},
   "source": [
    "#### Employer"
   ]
  },
  {
   "cell_type": "code",
   "execution_count": 50,
   "metadata": {},
   "outputs": [],
   "source": [
    "add_cols(df,'If employed, what company do you work for?','Si estás empleado, ¿para qué empresa trabajas?','Employer')"
   ]
  },
  {
   "cell_type": "code",
   "execution_count": 51,
   "metadata": {},
   "outputs": [
    {
     "data": {
      "text/plain": [
       "\"# Check for missing values and replace them with an empty string\\ndf['If employed, what company do you work for?'].fillna('', inplace=True)\\ndf['Si estás empleado, ¿para qué empresa trabajas?'].fillna('', inplace=True)\\n\\ndf['Employer'] = df['If employed, what company do you work for?'] + df['Si estás empleado, ¿para qué empresa trabajas?']\""
      ]
     },
     "execution_count": 51,
     "metadata": {},
     "output_type": "execute_result"
    }
   ],
   "source": [
    "'''# Check for missing values and replace them with an empty string\n",
    "df['If employed, what company do you work for?'].fillna('', inplace=True)\n",
    "df['Si estás empleado, ¿para qué empresa trabajas?'].fillna('', inplace=True)\n",
    "\n",
    "df['Employer'] = df['If employed, what company do you work for?'] + df['Si estás empleado, ¿para qué empresa trabajas?']'''"
   ]
  },
  {
   "cell_type": "markdown",
   "metadata": {},
   "source": [
    "#### Dream job"
   ]
  },
  {
   "cell_type": "code",
   "execution_count": 52,
   "metadata": {},
   "outputs": [],
   "source": [
    "add_cols(df,'What is your dream job in Canada?','¿Cuál es tu trabajo soñado en Canadá?','Dream Job')"
   ]
  },
  {
   "cell_type": "code",
   "execution_count": 53,
   "metadata": {},
   "outputs": [
    {
     "data": {
      "text/plain": [
       "\"# Check for missing values and replace them with an empty string\\ndf['What is your dream job in Canada?'].fillna('', inplace=True)\\ndf['¿Cuál es tu trabajo soñado en Canadá?'].fillna('', inplace=True)\\n\\ndf['Dream Job'] = df['What is your dream job in Canada?'] + df['¿Cuál es tu trabajo soñado en Canadá?']\""
      ]
     },
     "execution_count": 53,
     "metadata": {},
     "output_type": "execute_result"
    }
   ],
   "source": [
    "'''# Check for missing values and replace them with an empty string\n",
    "df['What is your dream job in Canada?'].fillna('', inplace=True)\n",
    "df['¿Cuál es tu trabajo soñado en Canadá?'].fillna('', inplace=True)\n",
    "\n",
    "df['Dream Job'] = df['What is your dream job in Canada?'] + df['¿Cuál es tu trabajo soñado en Canadá?']'''"
   ]
  },
  {
   "cell_type": "markdown",
   "metadata": {},
   "source": [
    "#### Linkedin\n"
   ]
  },
  {
   "cell_type": "code",
   "execution_count": 54,
   "metadata": {},
   "outputs": [],
   "source": [
    "add_cols(df,'Provide your LinkedIn if you want to connect with others in this community!',\n",
    "         '¡Proporciona tu LinkedIn si quieres conectarte con otros en esta comunidad!',\n",
    "         'Linkedin')"
   ]
  },
  {
   "cell_type": "code",
   "execution_count": 55,
   "metadata": {},
   "outputs": [
    {
     "data": {
      "text/plain": [
       "\"# Check for missing values and replace them with an empty string\\ndf['Provide your LinkedIn if you want to connect with others in this community!'].fillna('', inplace=True)\\ndf['¡Proporciona tu LinkedIn si quieres conectarte con otros en esta comunidad!'].fillna('', inplace=True)\\n\\ndf['Linkedin'] = df['Provide your LinkedIn if you want to connect with others in this community!'] + df['¡Proporciona tu LinkedIn si quieres conectarte con otros en esta comunidad!']\""
      ]
     },
     "execution_count": 55,
     "metadata": {},
     "output_type": "execute_result"
    }
   ],
   "source": [
    "'''# Check for missing values and replace them with an empty string\n",
    "df['Provide your LinkedIn if you want to connect with others in this community!'].fillna('', inplace=True)\n",
    "df['¡Proporciona tu LinkedIn si quieres conectarte con otros en esta comunidad!'].fillna('', inplace=True)\n",
    "\n",
    "df['Linkedin'] = df['Provide your LinkedIn if you want to connect with others in this community!'] + df['¡Proporciona tu LinkedIn si quieres conectarte con otros en esta comunidad!']'''"
   ]
  },
  {
   "cell_type": "markdown",
   "metadata": {},
   "source": [
    "#### Select and organize fields"
   ]
  },
  {
   "cell_type": "code",
   "execution_count": 56,
   "metadata": {},
   "outputs": [
    {
     "data": {
      "text/plain": [
       "Index(['Event Name', 'Date Attending', 'Attendee Status', 'Email',\n",
       "       'First Name', 'Last Name',\n",
       "       'What country are you from in Latin America? (if applicable)',\n",
       "       '¿De qué país eres en América Latina? (si aplica)',\n",
       "       'What area/subject do you specialize in? (in this industry)',\n",
       "       '¿En qué área/materia te especializas? (en esta industria)',\n",
       "       'What's your employment status?', '¿Cuál es tu situación laboral?',\n",
       "       'If employed, what company do you work for?',\n",
       "       'Si estás empleado, ¿para qué empresa trabajas?',\n",
       "       'What is your dream job in Canada?',\n",
       "       '¿Cuál es tu trabajo soñado en Canadá?',\n",
       "       'Provide your LinkedIn if you want to connect with others in this community!',\n",
       "       '¡Proporciona tu LinkedIn si quieres conectarte con otros en esta comunidad!',\n",
       "       'City', 'Date', 'Season', 'Industry / Event', 'Format', '#',\n",
       "       'Attendance', 'Country of Origin', 'Area of Expertise',\n",
       "       'Employment Status', 'Employer', 'Dream Job', 'Linkedin'],\n",
       "      dtype='object')"
      ]
     },
     "execution_count": 56,
     "metadata": {},
     "output_type": "execute_result"
    }
   ],
   "source": [
    "df.columns"
   ]
  },
  {
   "cell_type": "code",
   "execution_count": 57,
   "metadata": {},
   "outputs": [],
   "source": [
    "#df = df[['#','Date', 'City', 'Season', 'Industry / Event', 'Format','Attendance', 'Email', 'First Name', 'Last Name', 'Country of Origin', 'Area of Expertise', 'Employment Status', 'Employer', 'Dream Job', 'Linkedin']]\n",
    "df2 = df[['#','Date', 'City', 'Season', 'Industry / Event', 'Format', 'Attendance',  'Email', 'First Name', 'Last Name', 'Country of Origin', 'Area of Expertise', 'Employment Status', 'Employer', 'Dream Job', 'Linkedin']]"
   ]
  },
  {
   "cell_type": "code",
   "execution_count": 58,
   "metadata": {},
   "outputs": [
    {
     "data": {
      "text/html": [
       "<div>\n",
       "<style scoped>\n",
       "    .dataframe tbody tr th:only-of-type {\n",
       "        vertical-align: middle;\n",
       "    }\n",
       "\n",
       "    .dataframe tbody tr th {\n",
       "        vertical-align: top;\n",
       "    }\n",
       "\n",
       "    .dataframe thead th {\n",
       "        text-align: right;\n",
       "    }\n",
       "</style>\n",
       "<table border=\"1\" class=\"dataframe\">\n",
       "  <thead>\n",
       "    <tr style=\"text-align: right;\">\n",
       "      <th></th>\n",
       "      <th>#</th>\n",
       "      <th>Date</th>\n",
       "      <th>City</th>\n",
       "      <th>Season</th>\n",
       "      <th>Industry / Event</th>\n",
       "      <th>Format</th>\n",
       "      <th>Attendance</th>\n",
       "      <th>Email</th>\n",
       "      <th>First Name</th>\n",
       "      <th>Last Name</th>\n",
       "      <th>Country of Origin</th>\n",
       "      <th>Area of Expertise</th>\n",
       "      <th>Employment Status</th>\n",
       "      <th>Employer</th>\n",
       "      <th>Dream Job</th>\n",
       "      <th>Linkedin</th>\n",
       "    </tr>\n",
       "  </thead>\n",
       "  <tbody>\n",
       "    <tr>\n",
       "      <th>0</th>\n",
       "      <td>178</td>\n",
       "      <td>11/15/2023</td>\n",
       "      <td>Toronto</td>\n",
       "      <td>9</td>\n",
       "      <td>Design &amp; Graphic Design</td>\n",
       "      <td>In Person</td>\n",
       "      <td>Attending</td>\n",
       "      <td>nana_duran70@hotmail.com</td>\n",
       "      <td>Sandra</td>\n",
       "      <td>Duran</td>\n",
       "      <td>NaN</td>\n",
       "      <td>X</td>\n",
       "      <td>Employed and looking for opportunities</td>\n",
       "      <td>X</td>\n",
       "      <td>X</td>\n",
       "      <td>X</td>\n",
       "    </tr>\n",
       "    <tr>\n",
       "      <th>1</th>\n",
       "      <td>178</td>\n",
       "      <td>11/15/2023</td>\n",
       "      <td>Toronto</td>\n",
       "      <td>9</td>\n",
       "      <td>Design &amp; Graphic Design</td>\n",
       "      <td>In Person</td>\n",
       "      <td>Checked In</td>\n",
       "      <td>melcatster@gmail.com</td>\n",
       "      <td>Melissa</td>\n",
       "      <td>Mora</td>\n",
       "      <td>Colombia</td>\n",
       "      <td>Graphic Design Marketing</td>\n",
       "      <td>Employed</td>\n",
       "      <td>Kasian Architecture</td>\n",
       "      <td>Self Employment With Multiple Income Sources</td>\n",
       "      <td>Https://Www.Linkedin.Com/In/Melissamorat</td>\n",
       "    </tr>\n",
       "    <tr>\n",
       "      <th>2</th>\n",
       "      <td>178</td>\n",
       "      <td>11/15/2023</td>\n",
       "      <td>Toronto</td>\n",
       "      <td>9</td>\n",
       "      <td>Design &amp; Graphic Design</td>\n",
       "      <td>In Person</td>\n",
       "      <td>Checked In</td>\n",
       "      <td>melcatster@gmail.com</td>\n",
       "      <td>Melissa</td>\n",
       "      <td>Mora</td>\n",
       "      <td>Colombia</td>\n",
       "      <td>Graphic Design Marketing</td>\n",
       "      <td>Employed</td>\n",
       "      <td>Kasian Architecture</td>\n",
       "      <td>Self Employment With Multiple Income Sources</td>\n",
       "      <td>Https://Www.Linkedin.Com/In/Melissamorat</td>\n",
       "    </tr>\n",
       "    <tr>\n",
       "      <th>3</th>\n",
       "      <td>178</td>\n",
       "      <td>11/15/2023</td>\n",
       "      <td>Toronto</td>\n",
       "      <td>9</td>\n",
       "      <td>Design &amp; Graphic Design</td>\n",
       "      <td>In Person</td>\n",
       "      <td>Attending</td>\n",
       "      <td>sdpozodc@gmail.com</td>\n",
       "      <td>Stephanie</td>\n",
       "      <td>Pozo</td>\n",
       "      <td>Ecuador</td>\n",
       "      <td>Content And Brand Design And Digital Content</td>\n",
       "      <td>Unemployed and looking for opportunities</td>\n",
       "      <td></td>\n",
       "      <td>Have The Opportunity To Get Into The Industry</td>\n",
       "      <td>@Stephaniepozodelcorral</td>\n",
       "    </tr>\n",
       "    <tr>\n",
       "      <th>4</th>\n",
       "      <td>178</td>\n",
       "      <td>11/15/2023</td>\n",
       "      <td>Toronto</td>\n",
       "      <td>9</td>\n",
       "      <td>Design &amp; Graphic Design</td>\n",
       "      <td>In Person</td>\n",
       "      <td>Checked In</td>\n",
       "      <td>sergiodja1791@gmail.com</td>\n",
       "      <td>Sergio</td>\n",
       "      <td>Jimenez</td>\n",
       "      <td>Colombia</td>\n",
       "      <td>Graphic Design</td>\n",
       "      <td>Unemployed and looking for opportunities</td>\n",
       "      <td></td>\n",
       "      <td>Ux Ui</td>\n",
       "      <td></td>\n",
       "    </tr>\n",
       "    <tr>\n",
       "      <th>...</th>\n",
       "      <td>...</td>\n",
       "      <td>...</td>\n",
       "      <td>...</td>\n",
       "      <td>...</td>\n",
       "      <td>...</td>\n",
       "      <td>...</td>\n",
       "      <td>...</td>\n",
       "      <td>...</td>\n",
       "      <td>...</td>\n",
       "      <td>...</td>\n",
       "      <td>...</td>\n",
       "      <td>...</td>\n",
       "      <td>...</td>\n",
       "      <td>...</td>\n",
       "      <td>...</td>\n",
       "      <td>...</td>\n",
       "    </tr>\n",
       "    <tr>\n",
       "      <th>145</th>\n",
       "      <td>183</td>\n",
       "      <td>11/23/2023</td>\n",
       "      <td>Toronto</td>\n",
       "      <td>9</td>\n",
       "      <td>Fashion</td>\n",
       "      <td>In Person</td>\n",
       "      <td>Attending</td>\n",
       "      <td>licorneviolet18@gmail.com</td>\n",
       "      <td>Camila</td>\n",
       "      <td>Duque</td>\n",
       "      <td>Colombia</td>\n",
       "      <td>Print Design</td>\n",
       "      <td>Employed and looking for opportunities</td>\n",
       "      <td>Gertex</td>\n",
       "      <td>Print Designer</td>\n",
       "      <td>Https://Www.Linkedin.Com/In/Camila-Duque-B6640...</td>\n",
       "    </tr>\n",
       "    <tr>\n",
       "      <th>146</th>\n",
       "      <td>183</td>\n",
       "      <td>11/23/2023</td>\n",
       "      <td>Toronto</td>\n",
       "      <td>9</td>\n",
       "      <td>Fashion</td>\n",
       "      <td>In Person</td>\n",
       "      <td>Attending</td>\n",
       "      <td>samuelndias@gmail.com</td>\n",
       "      <td>Samuel</td>\n",
       "      <td>Dias</td>\n",
       "      <td>Brazil</td>\n",
       "      <td>Design</td>\n",
       "      <td>Employed and looking for opportunities</td>\n",
       "      <td>La</td>\n",
       "      <td>Designer</td>\n",
       "      <td></td>\n",
       "    </tr>\n",
       "    <tr>\n",
       "      <th>147</th>\n",
       "      <td>183</td>\n",
       "      <td>11/23/2023</td>\n",
       "      <td>Toronto</td>\n",
       "      <td>9</td>\n",
       "      <td>Fashion</td>\n",
       "      <td>In Person</td>\n",
       "      <td>Attending</td>\n",
       "      <td>juandelgado96@hotmail.es</td>\n",
       "      <td>Juan</td>\n",
       "      <td>Delgado</td>\n",
       "      <td>Ecuador</td>\n",
       "      <td>Fashion Y Beauty Photography</td>\n",
       "      <td>Employed and looking for opportunities</td>\n",
       "      <td>Starbucks</td>\n",
       "      <td>Photographer</td>\n",
       "      <td>Https://Www.Linkedin.Com/In/Juan-Diego-Delgado...</td>\n",
       "    </tr>\n",
       "    <tr>\n",
       "      <th>148</th>\n",
       "      <td>183</td>\n",
       "      <td>11/23/2023</td>\n",
       "      <td>Toronto</td>\n",
       "      <td>9</td>\n",
       "      <td>Fashion</td>\n",
       "      <td>In Person</td>\n",
       "      <td>Not Attending</td>\n",
       "      <td>linaibanezc@gmail.com</td>\n",
       "      <td>Lina</td>\n",
       "      <td>Ibáñez</td>\n",
       "      <td>NaN</td>\n",
       "      <td></td>\n",
       "      <td>NaN</td>\n",
       "      <td></td>\n",
       "      <td></td>\n",
       "      <td></td>\n",
       "    </tr>\n",
       "    <tr>\n",
       "      <th>149</th>\n",
       "      <td>183</td>\n",
       "      <td>11/23/2023</td>\n",
       "      <td>Toronto</td>\n",
       "      <td>9</td>\n",
       "      <td>Fashion</td>\n",
       "      <td>In Person</td>\n",
       "      <td>Not Attending</td>\n",
       "      <td>rojasveronica5@hotmail.com</td>\n",
       "      <td>Verónica</td>\n",
       "      <td>Rojas Márquez</td>\n",
       "      <td>NaN</td>\n",
       "      <td></td>\n",
       "      <td>NaN</td>\n",
       "      <td></td>\n",
       "      <td></td>\n",
       "      <td></td>\n",
       "    </tr>\n",
       "  </tbody>\n",
       "</table>\n",
       "<p>150 rows × 16 columns</p>\n",
       "</div>"
      ],
      "text/plain": [
       "       #        Date     City  Season         Industry / Event     Format  \\\n",
       "0    178  11/15/2023  Toronto       9  Design & Graphic Design  In Person   \n",
       "1    178  11/15/2023  Toronto       9  Design & Graphic Design  In Person   \n",
       "2    178  11/15/2023  Toronto       9  Design & Graphic Design  In Person   \n",
       "3    178  11/15/2023  Toronto       9  Design & Graphic Design  In Person   \n",
       "4    178  11/15/2023  Toronto       9  Design & Graphic Design  In Person   \n",
       "..   ...         ...      ...     ...                      ...        ...   \n",
       "145  183  11/23/2023  Toronto       9                  Fashion  In Person   \n",
       "146  183  11/23/2023  Toronto       9                  Fashion  In Person   \n",
       "147  183  11/23/2023  Toronto       9                  Fashion  In Person   \n",
       "148  183  11/23/2023  Toronto       9                  Fashion  In Person   \n",
       "149  183  11/23/2023  Toronto       9                  Fashion  In Person   \n",
       "\n",
       "        Attendance                       Email First Name       Last Name  \\\n",
       "0        Attending    nana_duran70@hotmail.com     Sandra           Duran   \n",
       "1       Checked In        melcatster@gmail.com    Melissa            Mora   \n",
       "2       Checked In        melcatster@gmail.com    Melissa            Mora   \n",
       "3        Attending          sdpozodc@gmail.com  Stephanie            Pozo   \n",
       "4       Checked In     sergiodja1791@gmail.com     Sergio         Jimenez   \n",
       "..             ...                         ...        ...             ...   \n",
       "145      Attending   licorneviolet18@gmail.com     Camila           Duque   \n",
       "146      Attending       samuelndias@gmail.com     Samuel            Dias   \n",
       "147      Attending    juandelgado96@hotmail.es       Juan         Delgado   \n",
       "148  Not Attending       linaibanezc@gmail.com       Lina        Ibáñez   \n",
       "149  Not Attending  rojasveronica5@hotmail.com  Verónica  Rojas Márquez   \n",
       "\n",
       "    Country of Origin                             Area of Expertise  \\\n",
       "0                 NaN                                             X   \n",
       "1            Colombia                      Graphic Design Marketing   \n",
       "2            Colombia                      Graphic Design Marketing   \n",
       "3             Ecuador  Content And Brand Design And Digital Content   \n",
       "4            Colombia                                Graphic Design   \n",
       "..                ...                                           ...   \n",
       "145          Colombia                                  Print Design   \n",
       "146            Brazil                                        Design   \n",
       "147           Ecuador                  Fashion Y Beauty Photography   \n",
       "148               NaN                                                 \n",
       "149               NaN                                                 \n",
       "\n",
       "                            Employment Status             Employer  \\\n",
       "0      Employed and looking for opportunities                    X   \n",
       "1                                    Employed  Kasian Architecture   \n",
       "2                                    Employed  Kasian Architecture   \n",
       "3    Unemployed and looking for opportunities                        \n",
       "4    Unemployed and looking for opportunities                        \n",
       "..                                        ...                  ...   \n",
       "145    Employed and looking for opportunities               Gertex   \n",
       "146    Employed and looking for opportunities                   La   \n",
       "147    Employed and looking for opportunities            Starbucks   \n",
       "148                                       NaN                        \n",
       "149                                       NaN                        \n",
       "\n",
       "                                         Dream Job  \\\n",
       "0                                                X   \n",
       "1     Self Employment With Multiple Income Sources   \n",
       "2     Self Employment With Multiple Income Sources   \n",
       "3    Have The Opportunity To Get Into The Industry   \n",
       "4                                            Ux Ui   \n",
       "..                                             ...   \n",
       "145                                 Print Designer   \n",
       "146                                       Designer   \n",
       "147                                   Photographer   \n",
       "148                                                  \n",
       "149                                                  \n",
       "\n",
       "                                              Linkedin  \n",
       "0                                                    X  \n",
       "1             Https://Www.Linkedin.Com/In/Melissamorat  \n",
       "2             Https://Www.Linkedin.Com/In/Melissamorat  \n",
       "3                              @Stephaniepozodelcorral  \n",
       "4                                                       \n",
       "..                                                 ...  \n",
       "145  Https://Www.Linkedin.Com/In/Camila-Duque-B6640...  \n",
       "146                                                     \n",
       "147  Https://Www.Linkedin.Com/In/Juan-Diego-Delgado...  \n",
       "148                                                     \n",
       "149                                                     \n",
       "\n",
       "[150 rows x 16 columns]"
      ]
     },
     "execution_count": 58,
     "metadata": {},
     "output_type": "execute_result"
    }
   ],
   "source": [
    "df2"
   ]
  },
  {
   "cell_type": "code",
   "execution_count": 59,
   "metadata": {},
   "outputs": [
    {
     "data": {
      "text/plain": [
       "16"
      ]
     },
     "execution_count": 59,
     "metadata": {},
     "output_type": "execute_result"
    }
   ],
   "source": [
    "len(df2.columns)"
   ]
  },
  {
   "cell_type": "code",
   "execution_count": 60,
   "metadata": {},
   "outputs": [
    {
     "data": {
      "text/plain": [
       "Index(['#', 'Date', 'City', 'Season', 'Industry / Event', 'Format',\n",
       "       'Attendance', 'Email', 'First Name', 'Last Name', 'Country of Origin',\n",
       "       'Area of Expertise', 'Employment Status', 'Employer', 'Dream Job',\n",
       "       'Linkedin'],\n",
       "      dtype='object')"
      ]
     },
     "execution_count": 60,
     "metadata": {},
     "output_type": "execute_result"
    }
   ],
   "source": [
    "df2.columns"
   ]
  },
  {
   "cell_type": "code",
   "execution_count": 61,
   "metadata": {},
   "outputs": [],
   "source": [
    "df2.to_excel('clean_file2.xlsx', index=False)"
   ]
  },
  {
   "cell_type": "code",
   "execution_count": 62,
   "metadata": {},
   "outputs": [
    {
     "data": {
      "text/plain": [
       "4994"
      ]
     },
     "execution_count": 62,
     "metadata": {},
     "output_type": "execute_result"
    }
   ],
   "source": [
    "dfToUpdate.shape[0]"
   ]
  },
  {
   "cell_type": "code",
   "execution_count": 63,
   "metadata": {},
   "outputs": [],
   "source": [
    "#set_with_dataframe(sheet_instance, df2, row=dfToUpdate.shape[0] + 2, include_column_header=False)"
   ]
  }
 ],
 "metadata": {
  "kernelspec": {
   "display_name": "Python 3",
   "language": "python",
   "name": "python3"
  },
  "language_info": {
   "codemirror_mode": {
    "name": "ipython",
    "version": 3
   },
   "file_extension": ".py",
   "mimetype": "text/x-python",
   "name": "python",
   "nbconvert_exporter": "python",
   "pygments_lexer": "ipython3",
   "version": "3.11.5"
  }
 },
 "nbformat": 4,
 "nbformat_minor": 2
}
