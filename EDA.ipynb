{
 "cells": [
  {
   "cell_type": "code",
   "execution_count": 3,
   "metadata": {},
   "outputs": [],
   "source": [
    "import gspread\n",
    "from oauth2client.service_account import ServiceAccountCredentials\n",
    "\n",
    "from df2gspread import df2gspread as d2g\n",
    "from gspread_dataframe import get_as_dataframe, set_with_dataframe"
   ]
  },
  {
   "cell_type": "code",
   "execution_count": 4,
   "metadata": {},
   "outputs": [],
   "source": [
    "import numpy as np\n",
    "import pandas as pd\n",
    "from datetime import datetime\n",
    "\n",
    "import plotly.express as px\n",
    "import matplotlib.pyplot as plt\n",
    "import seaborn as sns\n",
    "\n",
    "import os\n",
    "import json\n",
    "from decouple import config"
   ]
  },
  {
   "cell_type": "code",
   "execution_count": 5,
   "metadata": {},
   "outputs": [],
   "source": [
    "import geopandas as gpd"
   ]
  },
  {
   "cell_type": "markdown",
   "metadata": {},
   "source": [
    "## Read google sheets"
   ]
  },
  {
   "cell_type": "markdown",
   "metadata": {},
   "source": [
    "Define the scope"
   ]
  },
  {
   "cell_type": "code",
   "execution_count": 6,
   "metadata": {},
   "outputs": [],
   "source": [
    "# define the scope and credentials\n",
    "SCOPE = [\"https://spreadsheets.google.com/feeds\", \"https://www.googleapis.com/auth/drive\"]\n",
    "CREDENTIALS = json.loads(config('CRED_GCP'))\n"
   ]
  },
  {
   "cell_type": "markdown",
   "metadata": {},
   "source": [
    "Credentials"
   ]
  },
  {
   "cell_type": "code",
   "execution_count": 11,
   "metadata": {},
   "outputs": [],
   "source": [
    "# add credentials to the account\n",
    "#credentials = ServiceAccountCredentials.from_json_keyfile_name(API_FILE, SCOPE)\n",
    "credentials = ServiceAccountCredentials.from_json_keyfile_dict(CREDENTIALS, SCOPE)\n",
    "\n",
    "# authorize the clientsheet\n",
    "client = gspread.authorize(credentials)\n",
    "\n",
    "# get the instance of the Spreadsheet\n",
    "sheet = client.open('Copy of N2N - Database')\n",
    "\n",
    "# get the first sheet of the Spreadsheet\n",
    "sheet_instance = sheet.get_worksheet(0)"
   ]
  },
  {
   "cell_type": "code",
   "execution_count": 9,
   "metadata": {},
   "outputs": [],
   "source": []
  },
  {
   "cell_type": "code",
   "execution_count": 10,
   "metadata": {},
   "outputs": [
    {
     "name": "stdout",
     "output_type": "stream",
     "text": [
      "16\n",
      "4979\n"
     ]
    }
   ],
   "source": [
    "# get the total number of columns\n",
    "print(sheet_instance.col_count)\n",
    "print(sheet_instance.row_count)"
   ]
  },
  {
   "cell_type": "markdown",
   "metadata": {},
   "source": [
    "Database"
   ]
  },
  {
   "cell_type": "code",
   "execution_count": 11,
   "metadata": {},
   "outputs": [],
   "source": [
    "data = sheet_instance.get_all_values()\n",
    "df = pd.DataFrame(data[1:], columns=data[0])"
   ]
  },
  {
   "cell_type": "code",
   "execution_count": 12,
   "metadata": {},
   "outputs": [
    {
     "data": {
      "text/html": [
       "<div>\n",
       "<style scoped>\n",
       "    .dataframe tbody tr th:only-of-type {\n",
       "        vertical-align: middle;\n",
       "    }\n",
       "\n",
       "    .dataframe tbody tr th {\n",
       "        vertical-align: top;\n",
       "    }\n",
       "\n",
       "    .dataframe thead th {\n",
       "        text-align: right;\n",
       "    }\n",
       "</style>\n",
       "<table border=\"1\" class=\"dataframe\">\n",
       "  <thead>\n",
       "    <tr style=\"text-align: right;\">\n",
       "      <th></th>\n",
       "      <th>#</th>\n",
       "      <th>Date</th>\n",
       "      <th>City</th>\n",
       "      <th>Season</th>\n",
       "      <th>Industry / Event</th>\n",
       "      <th>Format</th>\n",
       "      <th>Attendance</th>\n",
       "      <th>Email</th>\n",
       "      <th>First Name</th>\n",
       "      <th>Last Name</th>\n",
       "      <th>Country of Origin</th>\n",
       "      <th>Area of Expertise</th>\n",
       "      <th>Employment Status</th>\n",
       "      <th>Employer</th>\n",
       "      <th>Dream Job</th>\n",
       "      <th>Linkedin</th>\n",
       "    </tr>\n",
       "  </thead>\n",
       "  <tbody>\n",
       "    <tr>\n",
       "      <th>0</th>\n",
       "      <td>1</td>\n",
       "      <td>January 14, 2021</td>\n",
       "      <td>Toronto</td>\n",
       "      <td>1</td>\n",
       "      <td>HR</td>\n",
       "      <td>Online</td>\n",
       "      <td>Checked In</td>\n",
       "      <td>fabysantanar@gmail.com</td>\n",
       "      <td>Fabiana</td>\n",
       "      <td>Santana</td>\n",
       "      <td>Venezuela</td>\n",
       "      <td>Employee Experience, Business Partner</td>\n",
       "      <td>Employed</td>\n",
       "      <td>Spin Master</td>\n",
       "      <td></td>\n",
       "      <td></td>\n",
       "    </tr>\n",
       "    <tr>\n",
       "      <th>1</th>\n",
       "      <td>1</td>\n",
       "      <td>January 14, 2021</td>\n",
       "      <td>Toronto</td>\n",
       "      <td>1</td>\n",
       "      <td>HR</td>\n",
       "      <td>Online</td>\n",
       "      <td>Checked In</td>\n",
       "      <td>davhd21@gmail.com</td>\n",
       "      <td>David</td>\n",
       "      <td>Herrera</td>\n",
       "      <td>Mexico</td>\n",
       "      <td>Talent</td>\n",
       "      <td>Employed</td>\n",
       "      <td>Korn Ferry</td>\n",
       "      <td></td>\n",
       "      <td></td>\n",
       "    </tr>\n",
       "    <tr>\n",
       "      <th>2</th>\n",
       "      <td>1</td>\n",
       "      <td>January 14, 2021</td>\n",
       "      <td>Toronto</td>\n",
       "      <td>1</td>\n",
       "      <td>HR</td>\n",
       "      <td>Online</td>\n",
       "      <td>Checked In</td>\n",
       "      <td>karla.cadario@wilsonhcg.com</td>\n",
       "      <td>Karla</td>\n",
       "      <td>Cadario Moreno</td>\n",
       "      <td>Bolivia</td>\n",
       "      <td>Reclutamiento y Seleccion</td>\n",
       "      <td>Employed</td>\n",
       "      <td>WilsonHCG</td>\n",
       "      <td></td>\n",
       "      <td></td>\n",
       "    </tr>\n",
       "    <tr>\n",
       "      <th>3</th>\n",
       "      <td>1</td>\n",
       "      <td>January 14, 2021</td>\n",
       "      <td>Toronto</td>\n",
       "      <td>1</td>\n",
       "      <td>HR</td>\n",
       "      <td>Online</td>\n",
       "      <td>Checked In</td>\n",
       "      <td>eri_mabu@hotmail.com</td>\n",
       "      <td>Erika</td>\n",
       "      <td>Martínez</td>\n",
       "      <td>Colombia</td>\n",
       "      <td>Recruiting</td>\n",
       "      <td>Employed</td>\n",
       "      <td>Accenture</td>\n",
       "      <td></td>\n",
       "      <td></td>\n",
       "    </tr>\n",
       "    <tr>\n",
       "      <th>4</th>\n",
       "      <td>1</td>\n",
       "      <td>January 14, 2021</td>\n",
       "      <td>Toronto</td>\n",
       "      <td>1</td>\n",
       "      <td>HR</td>\n",
       "      <td>Online</td>\n",
       "      <td>Checked In</td>\n",
       "      <td>padronalfredo@outlook.com</td>\n",
       "      <td>Alfredo</td>\n",
       "      <td>Padron</td>\n",
       "      <td>Venezuela</td>\n",
       "      <td>Tech</td>\n",
       "      <td>Employed</td>\n",
       "      <td>Scotiabank</td>\n",
       "      <td></td>\n",
       "      <td></td>\n",
       "    </tr>\n",
       "  </tbody>\n",
       "</table>\n",
       "</div>"
      ],
      "text/plain": [
       "   #              Date     City Season Industry / Event  Format  Attendance  \\\n",
       "0  1  January 14, 2021  Toronto      1               HR  Online  Checked In   \n",
       "1  1  January 14, 2021  Toronto      1               HR  Online  Checked In   \n",
       "2  1  January 14, 2021  Toronto      1               HR  Online  Checked In   \n",
       "3  1  January 14, 2021  Toronto      1               HR  Online  Checked In   \n",
       "4  1  January 14, 2021  Toronto      1               HR  Online  Checked In   \n",
       "\n",
       "                         Email First Name       Last Name Country of Origin  \\\n",
       "0       fabysantanar@gmail.com    Fabiana         Santana         Venezuela   \n",
       "1            davhd21@gmail.com      David         Herrera            Mexico   \n",
       "2  karla.cadario@wilsonhcg.com      Karla  Cadario Moreno           Bolivia   \n",
       "3         eri_mabu@hotmail.com      Erika       Martínez          Colombia   \n",
       "4    padronalfredo@outlook.com    Alfredo          Padron         Venezuela   \n",
       "\n",
       "                       Area of Expertise Employment Status     Employer  \\\n",
       "0  Employee Experience, Business Partner          Employed  Spin Master   \n",
       "1                                 Talent          Employed   Korn Ferry   \n",
       "2              Reclutamiento y Seleccion          Employed    WilsonHCG   \n",
       "3                             Recruiting          Employed    Accenture   \n",
       "4                                   Tech          Employed   Scotiabank   \n",
       "\n",
       "  Dream Job Linkedin  \n",
       "0                     \n",
       "1                     \n",
       "2                     \n",
       "3                     \n",
       "4                     "
      ]
     },
     "execution_count": 12,
     "metadata": {},
     "output_type": "execute_result"
    }
   ],
   "source": [
    "df.head()"
   ]
  },
  {
   "cell_type": "markdown",
   "metadata": {},
   "source": [
    "### Header"
   ]
  },
  {
   "cell_type": "code",
   "execution_count": 13,
   "metadata": {},
   "outputs": [
    {
     "data": {
      "text/plain": [
       "4978"
      ]
     },
     "execution_count": 13,
     "metadata": {},
     "output_type": "execute_result"
    }
   ],
   "source": [
    "total_registered = df['Attendance'].count()\n",
    "total_registered"
   ]
  },
  {
   "cell_type": "code",
   "execution_count": 14,
   "metadata": {},
   "outputs": [
    {
     "data": {
      "text/plain": [
       "1816"
      ]
     },
     "execution_count": 14,
     "metadata": {},
     "output_type": "execute_result"
    }
   ],
   "source": [
    "total_attendance = df[df['Attendance'] == 'Checked In']['Attendance'].count()\n",
    "total_attendance"
   ]
  },
  {
   "cell_type": "code",
   "execution_count": 15,
   "metadata": {},
   "outputs": [
    {
     "data": {
      "text/plain": [
       "'9'"
      ]
     },
     "execution_count": 15,
     "metadata": {},
     "output_type": "execute_result"
    }
   ],
   "source": [
    "toronto_season = df[df['City']=='Toronto']['Season'].max()\n",
    "toronto_season"
   ]
  },
  {
   "cell_type": "code",
   "execution_count": 16,
   "metadata": {},
   "outputs": [
    {
     "data": {
      "text/plain": [
       "'1'"
      ]
     },
     "execution_count": 16,
     "metadata": {},
     "output_type": "execute_result"
    }
   ],
   "source": [
    "montreal_season = df[df['City']=='Montreal']['Season'].max()\n",
    "montreal_season"
   ]
  },
  {
   "cell_type": "code",
   "execution_count": 17,
   "metadata": {},
   "outputs": [
    {
     "data": {
      "text/html": [
       "<div>\n",
       "<style scoped>\n",
       "    .dataframe tbody tr th:only-of-type {\n",
       "        vertical-align: middle;\n",
       "    }\n",
       "\n",
       "    .dataframe tbody tr th {\n",
       "        vertical-align: top;\n",
       "    }\n",
       "\n",
       "    .dataframe thead th {\n",
       "        text-align: right;\n",
       "    }\n",
       "</style>\n",
       "<table border=\"1\" class=\"dataframe\">\n",
       "  <thead>\n",
       "    <tr style=\"text-align: right;\">\n",
       "      <th></th>\n",
       "      <th>Date</th>\n",
       "      <th>Season</th>\n",
       "    </tr>\n",
       "  </thead>\n",
       "  <tbody>\n",
       "    <tr>\n",
       "      <th>3402</th>\n",
       "      <td>September 20, 2023</td>\n",
       "      <td>1</td>\n",
       "    </tr>\n",
       "    <tr>\n",
       "      <th>3403</th>\n",
       "      <td>September 20, 2023</td>\n",
       "      <td>1</td>\n",
       "    </tr>\n",
       "    <tr>\n",
       "      <th>3404</th>\n",
       "      <td>September 20, 2023</td>\n",
       "      <td>1</td>\n",
       "    </tr>\n",
       "    <tr>\n",
       "      <th>3405</th>\n",
       "      <td>September 20, 2023</td>\n",
       "      <td>1</td>\n",
       "    </tr>\n",
       "    <tr>\n",
       "      <th>3406</th>\n",
       "      <td>September 20, 2023</td>\n",
       "      <td>1</td>\n",
       "    </tr>\n",
       "    <tr>\n",
       "      <th>...</th>\n",
       "      <td>...</td>\n",
       "      <td>...</td>\n",
       "    </tr>\n",
       "    <tr>\n",
       "      <th>4742</th>\n",
       "      <td>November 9, 2023</td>\n",
       "      <td>1</td>\n",
       "    </tr>\n",
       "    <tr>\n",
       "      <th>4743</th>\n",
       "      <td>November 9, 2023</td>\n",
       "      <td>1</td>\n",
       "    </tr>\n",
       "    <tr>\n",
       "      <th>4744</th>\n",
       "      <td>November 9, 2023</td>\n",
       "      <td>1</td>\n",
       "    </tr>\n",
       "    <tr>\n",
       "      <th>4745</th>\n",
       "      <td>November 9, 2023</td>\n",
       "      <td>1</td>\n",
       "    </tr>\n",
       "    <tr>\n",
       "      <th>4746</th>\n",
       "      <td>November 9, 2023</td>\n",
       "      <td>1</td>\n",
       "    </tr>\n",
       "  </tbody>\n",
       "</table>\n",
       "<p>109 rows × 2 columns</p>\n",
       "</div>"
      ],
      "text/plain": [
       "                    Date Season\n",
       "3402  September 20, 2023      1\n",
       "3403  September 20, 2023      1\n",
       "3404  September 20, 2023      1\n",
       "3405  September 20, 2023      1\n",
       "3406  September 20, 2023      1\n",
       "...                  ...    ...\n",
       "4742    November 9, 2023      1\n",
       "4743    November 9, 2023      1\n",
       "4744    November 9, 2023      1\n",
       "4745    November 9, 2023      1\n",
       "4746    November 9, 2023      1\n",
       "\n",
       "[109 rows x 2 columns]"
      ]
     },
     "execution_count": 17,
     "metadata": {},
     "output_type": "execute_result"
    }
   ],
   "source": [
    "df[df['City']=='Montreal'][['Date','Season']]"
   ]
  },
  {
   "cell_type": "code",
   "execution_count": 18,
   "metadata": {},
   "outputs": [
    {
     "data": {
      "text/html": [
       "<div>\n",
       "<style scoped>\n",
       "    .dataframe tbody tr th:only-of-type {\n",
       "        vertical-align: middle;\n",
       "    }\n",
       "\n",
       "    .dataframe tbody tr th {\n",
       "        vertical-align: top;\n",
       "    }\n",
       "\n",
       "    .dataframe thead th {\n",
       "        text-align: right;\n",
       "    }\n",
       "</style>\n",
       "<table border=\"1\" class=\"dataframe\">\n",
       "  <thead>\n",
       "    <tr style=\"text-align: right;\">\n",
       "      <th></th>\n",
       "      <th>Date</th>\n",
       "      <th>Season</th>\n",
       "    </tr>\n",
       "  </thead>\n",
       "  <tbody>\n",
       "    <tr>\n",
       "      <th>3402</th>\n",
       "      <td>September 20, 2023</td>\n",
       "      <td>1</td>\n",
       "    </tr>\n",
       "    <tr>\n",
       "      <th>3403</th>\n",
       "      <td>September 20, 2023</td>\n",
       "      <td>1</td>\n",
       "    </tr>\n",
       "    <tr>\n",
       "      <th>3404</th>\n",
       "      <td>September 20, 2023</td>\n",
       "      <td>1</td>\n",
       "    </tr>\n",
       "    <tr>\n",
       "      <th>3405</th>\n",
       "      <td>September 20, 2023</td>\n",
       "      <td>1</td>\n",
       "    </tr>\n",
       "    <tr>\n",
       "      <th>3406</th>\n",
       "      <td>September 20, 2023</td>\n",
       "      <td>1</td>\n",
       "    </tr>\n",
       "    <tr>\n",
       "      <th>...</th>\n",
       "      <td>...</td>\n",
       "      <td>...</td>\n",
       "    </tr>\n",
       "    <tr>\n",
       "      <th>4742</th>\n",
       "      <td>November 9, 2023</td>\n",
       "      <td>1</td>\n",
       "    </tr>\n",
       "    <tr>\n",
       "      <th>4743</th>\n",
       "      <td>November 9, 2023</td>\n",
       "      <td>1</td>\n",
       "    </tr>\n",
       "    <tr>\n",
       "      <th>4744</th>\n",
       "      <td>November 9, 2023</td>\n",
       "      <td>1</td>\n",
       "    </tr>\n",
       "    <tr>\n",
       "      <th>4745</th>\n",
       "      <td>November 9, 2023</td>\n",
       "      <td>1</td>\n",
       "    </tr>\n",
       "    <tr>\n",
       "      <th>4746</th>\n",
       "      <td>November 9, 2023</td>\n",
       "      <td>1</td>\n",
       "    </tr>\n",
       "  </tbody>\n",
       "</table>\n",
       "<p>109 rows × 2 columns</p>\n",
       "</div>"
      ],
      "text/plain": [
       "                    Date Season\n",
       "3402  September 20, 2023      1\n",
       "3403  September 20, 2023      1\n",
       "3404  September 20, 2023      1\n",
       "3405  September 20, 2023      1\n",
       "3406  September 20, 2023      1\n",
       "...                  ...    ...\n",
       "4742    November 9, 2023      1\n",
       "4743    November 9, 2023      1\n",
       "4744    November 9, 2023      1\n",
       "4745    November 9, 2023      1\n",
       "4746    November 9, 2023      1\n",
       "\n",
       "[109 rows x 2 columns]"
      ]
     },
     "execution_count": 18,
     "metadata": {},
     "output_type": "execute_result"
    }
   ],
   "source": [
    "df.loc[df['City']=='Montreal',['Date','Season']]"
   ]
  },
  {
   "cell_type": "markdown",
   "metadata": {},
   "source": [
    "### Employment Status Attendees"
   ]
  },
  {
   "cell_type": "code",
   "execution_count": null,
   "metadata": {},
   "outputs": [],
   "source": []
  },
  {
   "cell_type": "code",
   "execution_count": 19,
   "metadata": {},
   "outputs": [
    {
     "data": {
      "text/plain": [
       "Employment Status\n",
       "Unemployed and looking for opportunities        1741\n",
       "Employed and looking for opportunities          1371\n",
       "Employed                                         829\n",
       "Employed and looking for opportunitiesnone        36\n",
       "Unemployed and looking for opportunitiesnone      32\n",
       "Employednone                                      24\n",
       "Nonenone                                          12\n",
       "Name: count, dtype: int64"
      ]
     },
     "execution_count": 19,
     "metadata": {},
     "output_type": "execute_result"
    }
   ],
   "source": [
    "filtered_df = df[(df['Employment Status']!='') &\n",
    "                 (df['Employment Status']!='Maternity Leave / Full-time Mom') &\n",
    "                 (df['Employment Status']!='Entrepreneur')\n",
    "                 ]\n",
    "employment_status = filtered_df['Employment Status'].value_counts()\n",
    "employment_status\n"
   ]
  },
  {
   "cell_type": "code",
   "execution_count": 20,
   "metadata": {},
   "outputs": [
    {
     "data": {
      "application/vnd.plotly.v1+json": {
       "config": {
        "plotlyServerURL": "https://plot.ly"
       },
       "data": [
        {
         "alignmentgroup": "True",
         "hovertemplate": "Employment Status=%{x}<br>Count=%{y}<extra></extra>",
         "legendgroup": "",
         "marker": {
          "color": "#636efa",
          "pattern": {
           "shape": ""
          }
         },
         "name": "",
         "offsetgroup": "",
         "orientation": "v",
         "showlegend": false,
         "textposition": "auto",
         "type": "bar",
         "x": [
          "Unemployed and looking for opportunities",
          "Employed and looking for opportunities",
          "Employed",
          "Employed and looking for opportunitiesnone",
          "Unemployed and looking for opportunitiesnone",
          "Employednone",
          "Nonenone"
         ],
         "xaxis": "x",
         "y": [
          1741,
          1371,
          829,
          36,
          32,
          24,
          12
         ],
         "yaxis": "y"
        }
       ],
       "layout": {
        "barmode": "relative",
        "legend": {
         "tracegroupgap": 0
        },
        "margin": {
         "t": 60
        },
        "template": {
         "data": {
          "bar": [
           {
            "error_x": {
             "color": "#2a3f5f"
            },
            "error_y": {
             "color": "#2a3f5f"
            },
            "marker": {
             "line": {
              "color": "#E5ECF6",
              "width": 0.5
             },
             "pattern": {
              "fillmode": "overlay",
              "size": 10,
              "solidity": 0.2
             }
            },
            "type": "bar"
           }
          ],
          "barpolar": [
           {
            "marker": {
             "line": {
              "color": "#E5ECF6",
              "width": 0.5
             },
             "pattern": {
              "fillmode": "overlay",
              "size": 10,
              "solidity": 0.2
             }
            },
            "type": "barpolar"
           }
          ],
          "carpet": [
           {
            "aaxis": {
             "endlinecolor": "#2a3f5f",
             "gridcolor": "white",
             "linecolor": "white",
             "minorgridcolor": "white",
             "startlinecolor": "#2a3f5f"
            },
            "baxis": {
             "endlinecolor": "#2a3f5f",
             "gridcolor": "white",
             "linecolor": "white",
             "minorgridcolor": "white",
             "startlinecolor": "#2a3f5f"
            },
            "type": "carpet"
           }
          ],
          "choropleth": [
           {
            "colorbar": {
             "outlinewidth": 0,
             "ticks": ""
            },
            "type": "choropleth"
           }
          ],
          "contour": [
           {
            "colorbar": {
             "outlinewidth": 0,
             "ticks": ""
            },
            "colorscale": [
             [
              0,
              "#0d0887"
             ],
             [
              0.1111111111111111,
              "#46039f"
             ],
             [
              0.2222222222222222,
              "#7201a8"
             ],
             [
              0.3333333333333333,
              "#9c179e"
             ],
             [
              0.4444444444444444,
              "#bd3786"
             ],
             [
              0.5555555555555556,
              "#d8576b"
             ],
             [
              0.6666666666666666,
              "#ed7953"
             ],
             [
              0.7777777777777778,
              "#fb9f3a"
             ],
             [
              0.8888888888888888,
              "#fdca26"
             ],
             [
              1,
              "#f0f921"
             ]
            ],
            "type": "contour"
           }
          ],
          "contourcarpet": [
           {
            "colorbar": {
             "outlinewidth": 0,
             "ticks": ""
            },
            "type": "contourcarpet"
           }
          ],
          "heatmap": [
           {
            "colorbar": {
             "outlinewidth": 0,
             "ticks": ""
            },
            "colorscale": [
             [
              0,
              "#0d0887"
             ],
             [
              0.1111111111111111,
              "#46039f"
             ],
             [
              0.2222222222222222,
              "#7201a8"
             ],
             [
              0.3333333333333333,
              "#9c179e"
             ],
             [
              0.4444444444444444,
              "#bd3786"
             ],
             [
              0.5555555555555556,
              "#d8576b"
             ],
             [
              0.6666666666666666,
              "#ed7953"
             ],
             [
              0.7777777777777778,
              "#fb9f3a"
             ],
             [
              0.8888888888888888,
              "#fdca26"
             ],
             [
              1,
              "#f0f921"
             ]
            ],
            "type": "heatmap"
           }
          ],
          "heatmapgl": [
           {
            "colorbar": {
             "outlinewidth": 0,
             "ticks": ""
            },
            "colorscale": [
             [
              0,
              "#0d0887"
             ],
             [
              0.1111111111111111,
              "#46039f"
             ],
             [
              0.2222222222222222,
              "#7201a8"
             ],
             [
              0.3333333333333333,
              "#9c179e"
             ],
             [
              0.4444444444444444,
              "#bd3786"
             ],
             [
              0.5555555555555556,
              "#d8576b"
             ],
             [
              0.6666666666666666,
              "#ed7953"
             ],
             [
              0.7777777777777778,
              "#fb9f3a"
             ],
             [
              0.8888888888888888,
              "#fdca26"
             ],
             [
              1,
              "#f0f921"
             ]
            ],
            "type": "heatmapgl"
           }
          ],
          "histogram": [
           {
            "marker": {
             "pattern": {
              "fillmode": "overlay",
              "size": 10,
              "solidity": 0.2
             }
            },
            "type": "histogram"
           }
          ],
          "histogram2d": [
           {
            "colorbar": {
             "outlinewidth": 0,
             "ticks": ""
            },
            "colorscale": [
             [
              0,
              "#0d0887"
             ],
             [
              0.1111111111111111,
              "#46039f"
             ],
             [
              0.2222222222222222,
              "#7201a8"
             ],
             [
              0.3333333333333333,
              "#9c179e"
             ],
             [
              0.4444444444444444,
              "#bd3786"
             ],
             [
              0.5555555555555556,
              "#d8576b"
             ],
             [
              0.6666666666666666,
              "#ed7953"
             ],
             [
              0.7777777777777778,
              "#fb9f3a"
             ],
             [
              0.8888888888888888,
              "#fdca26"
             ],
             [
              1,
              "#f0f921"
             ]
            ],
            "type": "histogram2d"
           }
          ],
          "histogram2dcontour": [
           {
            "colorbar": {
             "outlinewidth": 0,
             "ticks": ""
            },
            "colorscale": [
             [
              0,
              "#0d0887"
             ],
             [
              0.1111111111111111,
              "#46039f"
             ],
             [
              0.2222222222222222,
              "#7201a8"
             ],
             [
              0.3333333333333333,
              "#9c179e"
             ],
             [
              0.4444444444444444,
              "#bd3786"
             ],
             [
              0.5555555555555556,
              "#d8576b"
             ],
             [
              0.6666666666666666,
              "#ed7953"
             ],
             [
              0.7777777777777778,
              "#fb9f3a"
             ],
             [
              0.8888888888888888,
              "#fdca26"
             ],
             [
              1,
              "#f0f921"
             ]
            ],
            "type": "histogram2dcontour"
           }
          ],
          "mesh3d": [
           {
            "colorbar": {
             "outlinewidth": 0,
             "ticks": ""
            },
            "type": "mesh3d"
           }
          ],
          "parcoords": [
           {
            "line": {
             "colorbar": {
              "outlinewidth": 0,
              "ticks": ""
             }
            },
            "type": "parcoords"
           }
          ],
          "pie": [
           {
            "automargin": true,
            "type": "pie"
           }
          ],
          "scatter": [
           {
            "fillpattern": {
             "fillmode": "overlay",
             "size": 10,
             "solidity": 0.2
            },
            "type": "scatter"
           }
          ],
          "scatter3d": [
           {
            "line": {
             "colorbar": {
              "outlinewidth": 0,
              "ticks": ""
             }
            },
            "marker": {
             "colorbar": {
              "outlinewidth": 0,
              "ticks": ""
             }
            },
            "type": "scatter3d"
           }
          ],
          "scattercarpet": [
           {
            "marker": {
             "colorbar": {
              "outlinewidth": 0,
              "ticks": ""
             }
            },
            "type": "scattercarpet"
           }
          ],
          "scattergeo": [
           {
            "marker": {
             "colorbar": {
              "outlinewidth": 0,
              "ticks": ""
             }
            },
            "type": "scattergeo"
           }
          ],
          "scattergl": [
           {
            "marker": {
             "colorbar": {
              "outlinewidth": 0,
              "ticks": ""
             }
            },
            "type": "scattergl"
           }
          ],
          "scattermapbox": [
           {
            "marker": {
             "colorbar": {
              "outlinewidth": 0,
              "ticks": ""
             }
            },
            "type": "scattermapbox"
           }
          ],
          "scatterpolar": [
           {
            "marker": {
             "colorbar": {
              "outlinewidth": 0,
              "ticks": ""
             }
            },
            "type": "scatterpolar"
           }
          ],
          "scatterpolargl": [
           {
            "marker": {
             "colorbar": {
              "outlinewidth": 0,
              "ticks": ""
             }
            },
            "type": "scatterpolargl"
           }
          ],
          "scatterternary": [
           {
            "marker": {
             "colorbar": {
              "outlinewidth": 0,
              "ticks": ""
             }
            },
            "type": "scatterternary"
           }
          ],
          "surface": [
           {
            "colorbar": {
             "outlinewidth": 0,
             "ticks": ""
            },
            "colorscale": [
             [
              0,
              "#0d0887"
             ],
             [
              0.1111111111111111,
              "#46039f"
             ],
             [
              0.2222222222222222,
              "#7201a8"
             ],
             [
              0.3333333333333333,
              "#9c179e"
             ],
             [
              0.4444444444444444,
              "#bd3786"
             ],
             [
              0.5555555555555556,
              "#d8576b"
             ],
             [
              0.6666666666666666,
              "#ed7953"
             ],
             [
              0.7777777777777778,
              "#fb9f3a"
             ],
             [
              0.8888888888888888,
              "#fdca26"
             ],
             [
              1,
              "#f0f921"
             ]
            ],
            "type": "surface"
           }
          ],
          "table": [
           {
            "cells": {
             "fill": {
              "color": "#EBF0F8"
             },
             "line": {
              "color": "white"
             }
            },
            "header": {
             "fill": {
              "color": "#C8D4E3"
             },
             "line": {
              "color": "white"
             }
            },
            "type": "table"
           }
          ]
         },
         "layout": {
          "annotationdefaults": {
           "arrowcolor": "#2a3f5f",
           "arrowhead": 0,
           "arrowwidth": 1
          },
          "autotypenumbers": "strict",
          "coloraxis": {
           "colorbar": {
            "outlinewidth": 0,
            "ticks": ""
           }
          },
          "colorscale": {
           "diverging": [
            [
             0,
             "#8e0152"
            ],
            [
             0.1,
             "#c51b7d"
            ],
            [
             0.2,
             "#de77ae"
            ],
            [
             0.3,
             "#f1b6da"
            ],
            [
             0.4,
             "#fde0ef"
            ],
            [
             0.5,
             "#f7f7f7"
            ],
            [
             0.6,
             "#e6f5d0"
            ],
            [
             0.7,
             "#b8e186"
            ],
            [
             0.8,
             "#7fbc41"
            ],
            [
             0.9,
             "#4d9221"
            ],
            [
             1,
             "#276419"
            ]
           ],
           "sequential": [
            [
             0,
             "#0d0887"
            ],
            [
             0.1111111111111111,
             "#46039f"
            ],
            [
             0.2222222222222222,
             "#7201a8"
            ],
            [
             0.3333333333333333,
             "#9c179e"
            ],
            [
             0.4444444444444444,
             "#bd3786"
            ],
            [
             0.5555555555555556,
             "#d8576b"
            ],
            [
             0.6666666666666666,
             "#ed7953"
            ],
            [
             0.7777777777777778,
             "#fb9f3a"
            ],
            [
             0.8888888888888888,
             "#fdca26"
            ],
            [
             1,
             "#f0f921"
            ]
           ],
           "sequentialminus": [
            [
             0,
             "#0d0887"
            ],
            [
             0.1111111111111111,
             "#46039f"
            ],
            [
             0.2222222222222222,
             "#7201a8"
            ],
            [
             0.3333333333333333,
             "#9c179e"
            ],
            [
             0.4444444444444444,
             "#bd3786"
            ],
            [
             0.5555555555555556,
             "#d8576b"
            ],
            [
             0.6666666666666666,
             "#ed7953"
            ],
            [
             0.7777777777777778,
             "#fb9f3a"
            ],
            [
             0.8888888888888888,
             "#fdca26"
            ],
            [
             1,
             "#f0f921"
            ]
           ]
          },
          "colorway": [
           "#636efa",
           "#EF553B",
           "#00cc96",
           "#ab63fa",
           "#FFA15A",
           "#19d3f3",
           "#FF6692",
           "#B6E880",
           "#FF97FF",
           "#FECB52"
          ],
          "font": {
           "color": "#2a3f5f"
          },
          "geo": {
           "bgcolor": "white",
           "lakecolor": "white",
           "landcolor": "#E5ECF6",
           "showlakes": true,
           "showland": true,
           "subunitcolor": "white"
          },
          "hoverlabel": {
           "align": "left"
          },
          "hovermode": "closest",
          "mapbox": {
           "style": "light"
          },
          "paper_bgcolor": "white",
          "plot_bgcolor": "#E5ECF6",
          "polar": {
           "angularaxis": {
            "gridcolor": "white",
            "linecolor": "white",
            "ticks": ""
           },
           "bgcolor": "#E5ECF6",
           "radialaxis": {
            "gridcolor": "white",
            "linecolor": "white",
            "ticks": ""
           }
          },
          "scene": {
           "xaxis": {
            "backgroundcolor": "#E5ECF6",
            "gridcolor": "white",
            "gridwidth": 2,
            "linecolor": "white",
            "showbackground": true,
            "ticks": "",
            "zerolinecolor": "white"
           },
           "yaxis": {
            "backgroundcolor": "#E5ECF6",
            "gridcolor": "white",
            "gridwidth": 2,
            "linecolor": "white",
            "showbackground": true,
            "ticks": "",
            "zerolinecolor": "white"
           },
           "zaxis": {
            "backgroundcolor": "#E5ECF6",
            "gridcolor": "white",
            "gridwidth": 2,
            "linecolor": "white",
            "showbackground": true,
            "ticks": "",
            "zerolinecolor": "white"
           }
          },
          "shapedefaults": {
           "line": {
            "color": "#2a3f5f"
           }
          },
          "ternary": {
           "aaxis": {
            "gridcolor": "white",
            "linecolor": "white",
            "ticks": ""
           },
           "baxis": {
            "gridcolor": "white",
            "linecolor": "white",
            "ticks": ""
           },
           "bgcolor": "#E5ECF6",
           "caxis": {
            "gridcolor": "white",
            "linecolor": "white",
            "ticks": ""
           }
          },
          "title": {
           "x": 0.05
          },
          "xaxis": {
           "automargin": true,
           "gridcolor": "white",
           "linecolor": "white",
           "ticks": "",
           "title": {
            "standoff": 15
           },
           "zerolinecolor": "white",
           "zerolinewidth": 2
          },
          "yaxis": {
           "automargin": true,
           "gridcolor": "white",
           "linecolor": "white",
           "ticks": "",
           "title": {
            "standoff": 15
           },
           "zerolinecolor": "white",
           "zerolinewidth": 2
          }
         }
        },
        "xaxis": {
         "anchor": "y",
         "domain": [
          0,
          1
         ],
         "title": {
          "text": "Employment Status"
         }
        },
        "yaxis": {
         "anchor": "x",
         "domain": [
          0,
          1
         ],
         "title": {
          "text": "Count"
         }
        }
       }
      }
     },
     "metadata": {},
     "output_type": "display_data"
    }
   ],
   "source": [
    "fig = px.bar(x=employment_status.index, y=employment_status.values, labels={'x': 'Employment Status', 'y': 'Count'})\n",
    "fig.show()"
   ]
  },
  {
   "cell_type": "markdown",
   "metadata": {},
   "source": [
    "### Attendee's Countries"
   ]
  },
  {
   "cell_type": "code",
   "execution_count": 21,
   "metadata": {},
   "outputs": [
    {
     "data": {
      "text/plain": [
       "Country of Origin\n",
       "Colombia              1706\n",
       "Mexico                 485\n",
       "Venezuela              355\n",
       "Peru                   303\n",
       "Dominican Republic     198\n",
       "Ecuador                160\n",
       "Name: count, dtype: int64"
      ]
     },
     "execution_count": 21,
     "metadata": {},
     "output_type": "execute_result"
    }
   ],
   "source": [
    "filtered_df = df[df['Country of Origin']!='']\n",
    "top_6_countries = filtered_df['Country of Origin'].value_counts().nlargest(6)\n",
    "top_6_countries"
   ]
  },
  {
   "cell_type": "code",
   "execution_count": 22,
   "metadata": {},
   "outputs": [
    {
     "data": {
      "application/vnd.plotly.v1+json": {
       "config": {
        "plotlyServerURL": "https://plot.ly"
       },
       "data": [
        {
         "alignmentgroup": "True",
         "hovertemplate": "=%{x}<br>Employment Status=%{y}<extra></extra>",
         "legendgroup": "",
         "marker": {
          "color": "#636efa",
          "pattern": {
           "shape": ""
          }
         },
         "name": "",
         "offsetgroup": "",
         "orientation": "h",
         "showlegend": false,
         "textposition": "auto",
         "type": "bar",
         "x": [
          1706,
          485,
          355,
          303,
          198,
          160
         ],
         "xaxis": "x",
         "y": [
          "Colombia",
          "Mexico",
          "Venezuela",
          "Peru",
          "Dominican Republic",
          "Ecuador"
         ],
         "yaxis": "y"
        }
       ],
       "layout": {
        "barmode": "relative",
        "legend": {
         "tracegroupgap": 0
        },
        "margin": {
         "t": 60
        },
        "template": {
         "data": {
          "bar": [
           {
            "error_x": {
             "color": "#2a3f5f"
            },
            "error_y": {
             "color": "#2a3f5f"
            },
            "marker": {
             "line": {
              "color": "#E5ECF6",
              "width": 0.5
             },
             "pattern": {
              "fillmode": "overlay",
              "size": 10,
              "solidity": 0.2
             }
            },
            "type": "bar"
           }
          ],
          "barpolar": [
           {
            "marker": {
             "line": {
              "color": "#E5ECF6",
              "width": 0.5
             },
             "pattern": {
              "fillmode": "overlay",
              "size": 10,
              "solidity": 0.2
             }
            },
            "type": "barpolar"
           }
          ],
          "carpet": [
           {
            "aaxis": {
             "endlinecolor": "#2a3f5f",
             "gridcolor": "white",
             "linecolor": "white",
             "minorgridcolor": "white",
             "startlinecolor": "#2a3f5f"
            },
            "baxis": {
             "endlinecolor": "#2a3f5f",
             "gridcolor": "white",
             "linecolor": "white",
             "minorgridcolor": "white",
             "startlinecolor": "#2a3f5f"
            },
            "type": "carpet"
           }
          ],
          "choropleth": [
           {
            "colorbar": {
             "outlinewidth": 0,
             "ticks": ""
            },
            "type": "choropleth"
           }
          ],
          "contour": [
           {
            "colorbar": {
             "outlinewidth": 0,
             "ticks": ""
            },
            "colorscale": [
             [
              0,
              "#0d0887"
             ],
             [
              0.1111111111111111,
              "#46039f"
             ],
             [
              0.2222222222222222,
              "#7201a8"
             ],
             [
              0.3333333333333333,
              "#9c179e"
             ],
             [
              0.4444444444444444,
              "#bd3786"
             ],
             [
              0.5555555555555556,
              "#d8576b"
             ],
             [
              0.6666666666666666,
              "#ed7953"
             ],
             [
              0.7777777777777778,
              "#fb9f3a"
             ],
             [
              0.8888888888888888,
              "#fdca26"
             ],
             [
              1,
              "#f0f921"
             ]
            ],
            "type": "contour"
           }
          ],
          "contourcarpet": [
           {
            "colorbar": {
             "outlinewidth": 0,
             "ticks": ""
            },
            "type": "contourcarpet"
           }
          ],
          "heatmap": [
           {
            "colorbar": {
             "outlinewidth": 0,
             "ticks": ""
            },
            "colorscale": [
             [
              0,
              "#0d0887"
             ],
             [
              0.1111111111111111,
              "#46039f"
             ],
             [
              0.2222222222222222,
              "#7201a8"
             ],
             [
              0.3333333333333333,
              "#9c179e"
             ],
             [
              0.4444444444444444,
              "#bd3786"
             ],
             [
              0.5555555555555556,
              "#d8576b"
             ],
             [
              0.6666666666666666,
              "#ed7953"
             ],
             [
              0.7777777777777778,
              "#fb9f3a"
             ],
             [
              0.8888888888888888,
              "#fdca26"
             ],
             [
              1,
              "#f0f921"
             ]
            ],
            "type": "heatmap"
           }
          ],
          "heatmapgl": [
           {
            "colorbar": {
             "outlinewidth": 0,
             "ticks": ""
            },
            "colorscale": [
             [
              0,
              "#0d0887"
             ],
             [
              0.1111111111111111,
              "#46039f"
             ],
             [
              0.2222222222222222,
              "#7201a8"
             ],
             [
              0.3333333333333333,
              "#9c179e"
             ],
             [
              0.4444444444444444,
              "#bd3786"
             ],
             [
              0.5555555555555556,
              "#d8576b"
             ],
             [
              0.6666666666666666,
              "#ed7953"
             ],
             [
              0.7777777777777778,
              "#fb9f3a"
             ],
             [
              0.8888888888888888,
              "#fdca26"
             ],
             [
              1,
              "#f0f921"
             ]
            ],
            "type": "heatmapgl"
           }
          ],
          "histogram": [
           {
            "marker": {
             "pattern": {
              "fillmode": "overlay",
              "size": 10,
              "solidity": 0.2
             }
            },
            "type": "histogram"
           }
          ],
          "histogram2d": [
           {
            "colorbar": {
             "outlinewidth": 0,
             "ticks": ""
            },
            "colorscale": [
             [
              0,
              "#0d0887"
             ],
             [
              0.1111111111111111,
              "#46039f"
             ],
             [
              0.2222222222222222,
              "#7201a8"
             ],
             [
              0.3333333333333333,
              "#9c179e"
             ],
             [
              0.4444444444444444,
              "#bd3786"
             ],
             [
              0.5555555555555556,
              "#d8576b"
             ],
             [
              0.6666666666666666,
              "#ed7953"
             ],
             [
              0.7777777777777778,
              "#fb9f3a"
             ],
             [
              0.8888888888888888,
              "#fdca26"
             ],
             [
              1,
              "#f0f921"
             ]
            ],
            "type": "histogram2d"
           }
          ],
          "histogram2dcontour": [
           {
            "colorbar": {
             "outlinewidth": 0,
             "ticks": ""
            },
            "colorscale": [
             [
              0,
              "#0d0887"
             ],
             [
              0.1111111111111111,
              "#46039f"
             ],
             [
              0.2222222222222222,
              "#7201a8"
             ],
             [
              0.3333333333333333,
              "#9c179e"
             ],
             [
              0.4444444444444444,
              "#bd3786"
             ],
             [
              0.5555555555555556,
              "#d8576b"
             ],
             [
              0.6666666666666666,
              "#ed7953"
             ],
             [
              0.7777777777777778,
              "#fb9f3a"
             ],
             [
              0.8888888888888888,
              "#fdca26"
             ],
             [
              1,
              "#f0f921"
             ]
            ],
            "type": "histogram2dcontour"
           }
          ],
          "mesh3d": [
           {
            "colorbar": {
             "outlinewidth": 0,
             "ticks": ""
            },
            "type": "mesh3d"
           }
          ],
          "parcoords": [
           {
            "line": {
             "colorbar": {
              "outlinewidth": 0,
              "ticks": ""
             }
            },
            "type": "parcoords"
           }
          ],
          "pie": [
           {
            "automargin": true,
            "type": "pie"
           }
          ],
          "scatter": [
           {
            "fillpattern": {
             "fillmode": "overlay",
             "size": 10,
             "solidity": 0.2
            },
            "type": "scatter"
           }
          ],
          "scatter3d": [
           {
            "line": {
             "colorbar": {
              "outlinewidth": 0,
              "ticks": ""
             }
            },
            "marker": {
             "colorbar": {
              "outlinewidth": 0,
              "ticks": ""
             }
            },
            "type": "scatter3d"
           }
          ],
          "scattercarpet": [
           {
            "marker": {
             "colorbar": {
              "outlinewidth": 0,
              "ticks": ""
             }
            },
            "type": "scattercarpet"
           }
          ],
          "scattergeo": [
           {
            "marker": {
             "colorbar": {
              "outlinewidth": 0,
              "ticks": ""
             }
            },
            "type": "scattergeo"
           }
          ],
          "scattergl": [
           {
            "marker": {
             "colorbar": {
              "outlinewidth": 0,
              "ticks": ""
             }
            },
            "type": "scattergl"
           }
          ],
          "scattermapbox": [
           {
            "marker": {
             "colorbar": {
              "outlinewidth": 0,
              "ticks": ""
             }
            },
            "type": "scattermapbox"
           }
          ],
          "scatterpolar": [
           {
            "marker": {
             "colorbar": {
              "outlinewidth": 0,
              "ticks": ""
             }
            },
            "type": "scatterpolar"
           }
          ],
          "scatterpolargl": [
           {
            "marker": {
             "colorbar": {
              "outlinewidth": 0,
              "ticks": ""
             }
            },
            "type": "scatterpolargl"
           }
          ],
          "scatterternary": [
           {
            "marker": {
             "colorbar": {
              "outlinewidth": 0,
              "ticks": ""
             }
            },
            "type": "scatterternary"
           }
          ],
          "surface": [
           {
            "colorbar": {
             "outlinewidth": 0,
             "ticks": ""
            },
            "colorscale": [
             [
              0,
              "#0d0887"
             ],
             [
              0.1111111111111111,
              "#46039f"
             ],
             [
              0.2222222222222222,
              "#7201a8"
             ],
             [
              0.3333333333333333,
              "#9c179e"
             ],
             [
              0.4444444444444444,
              "#bd3786"
             ],
             [
              0.5555555555555556,
              "#d8576b"
             ],
             [
              0.6666666666666666,
              "#ed7953"
             ],
             [
              0.7777777777777778,
              "#fb9f3a"
             ],
             [
              0.8888888888888888,
              "#fdca26"
             ],
             [
              1,
              "#f0f921"
             ]
            ],
            "type": "surface"
           }
          ],
          "table": [
           {
            "cells": {
             "fill": {
              "color": "#EBF0F8"
             },
             "line": {
              "color": "white"
             }
            },
            "header": {
             "fill": {
              "color": "#C8D4E3"
             },
             "line": {
              "color": "white"
             }
            },
            "type": "table"
           }
          ]
         },
         "layout": {
          "annotationdefaults": {
           "arrowcolor": "#2a3f5f",
           "arrowhead": 0,
           "arrowwidth": 1
          },
          "autotypenumbers": "strict",
          "coloraxis": {
           "colorbar": {
            "outlinewidth": 0,
            "ticks": ""
           }
          },
          "colorscale": {
           "diverging": [
            [
             0,
             "#8e0152"
            ],
            [
             0.1,
             "#c51b7d"
            ],
            [
             0.2,
             "#de77ae"
            ],
            [
             0.3,
             "#f1b6da"
            ],
            [
             0.4,
             "#fde0ef"
            ],
            [
             0.5,
             "#f7f7f7"
            ],
            [
             0.6,
             "#e6f5d0"
            ],
            [
             0.7,
             "#b8e186"
            ],
            [
             0.8,
             "#7fbc41"
            ],
            [
             0.9,
             "#4d9221"
            ],
            [
             1,
             "#276419"
            ]
           ],
           "sequential": [
            [
             0,
             "#0d0887"
            ],
            [
             0.1111111111111111,
             "#46039f"
            ],
            [
             0.2222222222222222,
             "#7201a8"
            ],
            [
             0.3333333333333333,
             "#9c179e"
            ],
            [
             0.4444444444444444,
             "#bd3786"
            ],
            [
             0.5555555555555556,
             "#d8576b"
            ],
            [
             0.6666666666666666,
             "#ed7953"
            ],
            [
             0.7777777777777778,
             "#fb9f3a"
            ],
            [
             0.8888888888888888,
             "#fdca26"
            ],
            [
             1,
             "#f0f921"
            ]
           ],
           "sequentialminus": [
            [
             0,
             "#0d0887"
            ],
            [
             0.1111111111111111,
             "#46039f"
            ],
            [
             0.2222222222222222,
             "#7201a8"
            ],
            [
             0.3333333333333333,
             "#9c179e"
            ],
            [
             0.4444444444444444,
             "#bd3786"
            ],
            [
             0.5555555555555556,
             "#d8576b"
            ],
            [
             0.6666666666666666,
             "#ed7953"
            ],
            [
             0.7777777777777778,
             "#fb9f3a"
            ],
            [
             0.8888888888888888,
             "#fdca26"
            ],
            [
             1,
             "#f0f921"
            ]
           ]
          },
          "colorway": [
           "#636efa",
           "#EF553B",
           "#00cc96",
           "#ab63fa",
           "#FFA15A",
           "#19d3f3",
           "#FF6692",
           "#B6E880",
           "#FF97FF",
           "#FECB52"
          ],
          "font": {
           "color": "#2a3f5f"
          },
          "geo": {
           "bgcolor": "white",
           "lakecolor": "white",
           "landcolor": "#E5ECF6",
           "showlakes": true,
           "showland": true,
           "subunitcolor": "white"
          },
          "hoverlabel": {
           "align": "left"
          },
          "hovermode": "closest",
          "mapbox": {
           "style": "light"
          },
          "paper_bgcolor": "white",
          "plot_bgcolor": "#E5ECF6",
          "polar": {
           "angularaxis": {
            "gridcolor": "white",
            "linecolor": "white",
            "ticks": ""
           },
           "bgcolor": "#E5ECF6",
           "radialaxis": {
            "gridcolor": "white",
            "linecolor": "white",
            "ticks": ""
           }
          },
          "scene": {
           "xaxis": {
            "backgroundcolor": "#E5ECF6",
            "gridcolor": "white",
            "gridwidth": 2,
            "linecolor": "white",
            "showbackground": true,
            "ticks": "",
            "zerolinecolor": "white"
           },
           "yaxis": {
            "backgroundcolor": "#E5ECF6",
            "gridcolor": "white",
            "gridwidth": 2,
            "linecolor": "white",
            "showbackground": true,
            "ticks": "",
            "zerolinecolor": "white"
           },
           "zaxis": {
            "backgroundcolor": "#E5ECF6",
            "gridcolor": "white",
            "gridwidth": 2,
            "linecolor": "white",
            "showbackground": true,
            "ticks": "",
            "zerolinecolor": "white"
           }
          },
          "shapedefaults": {
           "line": {
            "color": "#2a3f5f"
           }
          },
          "ternary": {
           "aaxis": {
            "gridcolor": "white",
            "linecolor": "white",
            "ticks": ""
           },
           "baxis": {
            "gridcolor": "white",
            "linecolor": "white",
            "ticks": ""
           },
           "bgcolor": "#E5ECF6",
           "caxis": {
            "gridcolor": "white",
            "linecolor": "white",
            "ticks": ""
           }
          },
          "title": {
           "x": 0.05
          },
          "xaxis": {
           "automargin": true,
           "gridcolor": "white",
           "linecolor": "white",
           "ticks": "",
           "title": {
            "standoff": 15
           },
           "zerolinecolor": "white",
           "zerolinewidth": 2
          },
          "yaxis": {
           "automargin": true,
           "gridcolor": "white",
           "linecolor": "white",
           "ticks": "",
           "title": {
            "standoff": 15
           },
           "zerolinecolor": "white",
           "zerolinewidth": 2
          }
         }
        },
        "xaxis": {
         "anchor": "y",
         "domain": [
          0,
          1
         ],
         "title": {
          "text": ""
         }
        },
        "yaxis": {
         "anchor": "x",
         "domain": [
          0,
          1
         ],
         "title": {
          "text": "Employment Status"
         }
        }
       }
      }
     },
     "metadata": {},
     "output_type": "display_data"
    }
   ],
   "source": [
    "figure = px.bar(x=top_6_countries.values, y=top_6_countries.index, labels={'x': '', 'y': 'Employment Status'})\n",
    "figure.show()"
   ]
  },
  {
   "cell_type": "code",
   "execution_count": 23,
   "metadata": {},
   "outputs": [
    {
     "data": {
      "application/vnd.plotly.v1+json": {
       "config": {
        "plotlyServerURL": "https://plot.ly"
       },
       "data": [
        {
         "alignmentgroup": "True",
         "hovertemplate": "=%{x}<br>Employment Status=%{y}<extra></extra>",
         "legendgroup": "",
         "marker": {
          "color": "#636efa",
          "pattern": {
           "shape": ""
          }
         },
         "name": "",
         "offsetgroup": "",
         "orientation": "h",
         "showlegend": false,
         "textposition": "auto",
         "type": "bar",
         "x": [
          160,
          198,
          303,
          355,
          485,
          1706
         ],
         "xaxis": "x",
         "y": [
          "Ecuador",
          "Dominican Republic",
          "Peru",
          "Venezuela",
          "Mexico",
          "Colombia"
         ],
         "yaxis": "y"
        }
       ],
       "layout": {
        "barmode": "relative",
        "legend": {
         "tracegroupgap": 0
        },
        "margin": {
         "t": 60
        },
        "template": {
         "data": {
          "bar": [
           {
            "error_x": {
             "color": "#2a3f5f"
            },
            "error_y": {
             "color": "#2a3f5f"
            },
            "marker": {
             "line": {
              "color": "#E5ECF6",
              "width": 0.5
             },
             "pattern": {
              "fillmode": "overlay",
              "size": 10,
              "solidity": 0.2
             }
            },
            "type": "bar"
           }
          ],
          "barpolar": [
           {
            "marker": {
             "line": {
              "color": "#E5ECF6",
              "width": 0.5
             },
             "pattern": {
              "fillmode": "overlay",
              "size": 10,
              "solidity": 0.2
             }
            },
            "type": "barpolar"
           }
          ],
          "carpet": [
           {
            "aaxis": {
             "endlinecolor": "#2a3f5f",
             "gridcolor": "white",
             "linecolor": "white",
             "minorgridcolor": "white",
             "startlinecolor": "#2a3f5f"
            },
            "baxis": {
             "endlinecolor": "#2a3f5f",
             "gridcolor": "white",
             "linecolor": "white",
             "minorgridcolor": "white",
             "startlinecolor": "#2a3f5f"
            },
            "type": "carpet"
           }
          ],
          "choropleth": [
           {
            "colorbar": {
             "outlinewidth": 0,
             "ticks": ""
            },
            "type": "choropleth"
           }
          ],
          "contour": [
           {
            "colorbar": {
             "outlinewidth": 0,
             "ticks": ""
            },
            "colorscale": [
             [
              0,
              "#0d0887"
             ],
             [
              0.1111111111111111,
              "#46039f"
             ],
             [
              0.2222222222222222,
              "#7201a8"
             ],
             [
              0.3333333333333333,
              "#9c179e"
             ],
             [
              0.4444444444444444,
              "#bd3786"
             ],
             [
              0.5555555555555556,
              "#d8576b"
             ],
             [
              0.6666666666666666,
              "#ed7953"
             ],
             [
              0.7777777777777778,
              "#fb9f3a"
             ],
             [
              0.8888888888888888,
              "#fdca26"
             ],
             [
              1,
              "#f0f921"
             ]
            ],
            "type": "contour"
           }
          ],
          "contourcarpet": [
           {
            "colorbar": {
             "outlinewidth": 0,
             "ticks": ""
            },
            "type": "contourcarpet"
           }
          ],
          "heatmap": [
           {
            "colorbar": {
             "outlinewidth": 0,
             "ticks": ""
            },
            "colorscale": [
             [
              0,
              "#0d0887"
             ],
             [
              0.1111111111111111,
              "#46039f"
             ],
             [
              0.2222222222222222,
              "#7201a8"
             ],
             [
              0.3333333333333333,
              "#9c179e"
             ],
             [
              0.4444444444444444,
              "#bd3786"
             ],
             [
              0.5555555555555556,
              "#d8576b"
             ],
             [
              0.6666666666666666,
              "#ed7953"
             ],
             [
              0.7777777777777778,
              "#fb9f3a"
             ],
             [
              0.8888888888888888,
              "#fdca26"
             ],
             [
              1,
              "#f0f921"
             ]
            ],
            "type": "heatmap"
           }
          ],
          "heatmapgl": [
           {
            "colorbar": {
             "outlinewidth": 0,
             "ticks": ""
            },
            "colorscale": [
             [
              0,
              "#0d0887"
             ],
             [
              0.1111111111111111,
              "#46039f"
             ],
             [
              0.2222222222222222,
              "#7201a8"
             ],
             [
              0.3333333333333333,
              "#9c179e"
             ],
             [
              0.4444444444444444,
              "#bd3786"
             ],
             [
              0.5555555555555556,
              "#d8576b"
             ],
             [
              0.6666666666666666,
              "#ed7953"
             ],
             [
              0.7777777777777778,
              "#fb9f3a"
             ],
             [
              0.8888888888888888,
              "#fdca26"
             ],
             [
              1,
              "#f0f921"
             ]
            ],
            "type": "heatmapgl"
           }
          ],
          "histogram": [
           {
            "marker": {
             "pattern": {
              "fillmode": "overlay",
              "size": 10,
              "solidity": 0.2
             }
            },
            "type": "histogram"
           }
          ],
          "histogram2d": [
           {
            "colorbar": {
             "outlinewidth": 0,
             "ticks": ""
            },
            "colorscale": [
             [
              0,
              "#0d0887"
             ],
             [
              0.1111111111111111,
              "#46039f"
             ],
             [
              0.2222222222222222,
              "#7201a8"
             ],
             [
              0.3333333333333333,
              "#9c179e"
             ],
             [
              0.4444444444444444,
              "#bd3786"
             ],
             [
              0.5555555555555556,
              "#d8576b"
             ],
             [
              0.6666666666666666,
              "#ed7953"
             ],
             [
              0.7777777777777778,
              "#fb9f3a"
             ],
             [
              0.8888888888888888,
              "#fdca26"
             ],
             [
              1,
              "#f0f921"
             ]
            ],
            "type": "histogram2d"
           }
          ],
          "histogram2dcontour": [
           {
            "colorbar": {
             "outlinewidth": 0,
             "ticks": ""
            },
            "colorscale": [
             [
              0,
              "#0d0887"
             ],
             [
              0.1111111111111111,
              "#46039f"
             ],
             [
              0.2222222222222222,
              "#7201a8"
             ],
             [
              0.3333333333333333,
              "#9c179e"
             ],
             [
              0.4444444444444444,
              "#bd3786"
             ],
             [
              0.5555555555555556,
              "#d8576b"
             ],
             [
              0.6666666666666666,
              "#ed7953"
             ],
             [
              0.7777777777777778,
              "#fb9f3a"
             ],
             [
              0.8888888888888888,
              "#fdca26"
             ],
             [
              1,
              "#f0f921"
             ]
            ],
            "type": "histogram2dcontour"
           }
          ],
          "mesh3d": [
           {
            "colorbar": {
             "outlinewidth": 0,
             "ticks": ""
            },
            "type": "mesh3d"
           }
          ],
          "parcoords": [
           {
            "line": {
             "colorbar": {
              "outlinewidth": 0,
              "ticks": ""
             }
            },
            "type": "parcoords"
           }
          ],
          "pie": [
           {
            "automargin": true,
            "type": "pie"
           }
          ],
          "scatter": [
           {
            "fillpattern": {
             "fillmode": "overlay",
             "size": 10,
             "solidity": 0.2
            },
            "type": "scatter"
           }
          ],
          "scatter3d": [
           {
            "line": {
             "colorbar": {
              "outlinewidth": 0,
              "ticks": ""
             }
            },
            "marker": {
             "colorbar": {
              "outlinewidth": 0,
              "ticks": ""
             }
            },
            "type": "scatter3d"
           }
          ],
          "scattercarpet": [
           {
            "marker": {
             "colorbar": {
              "outlinewidth": 0,
              "ticks": ""
             }
            },
            "type": "scattercarpet"
           }
          ],
          "scattergeo": [
           {
            "marker": {
             "colorbar": {
              "outlinewidth": 0,
              "ticks": ""
             }
            },
            "type": "scattergeo"
           }
          ],
          "scattergl": [
           {
            "marker": {
             "colorbar": {
              "outlinewidth": 0,
              "ticks": ""
             }
            },
            "type": "scattergl"
           }
          ],
          "scattermapbox": [
           {
            "marker": {
             "colorbar": {
              "outlinewidth": 0,
              "ticks": ""
             }
            },
            "type": "scattermapbox"
           }
          ],
          "scatterpolar": [
           {
            "marker": {
             "colorbar": {
              "outlinewidth": 0,
              "ticks": ""
             }
            },
            "type": "scatterpolar"
           }
          ],
          "scatterpolargl": [
           {
            "marker": {
             "colorbar": {
              "outlinewidth": 0,
              "ticks": ""
             }
            },
            "type": "scatterpolargl"
           }
          ],
          "scatterternary": [
           {
            "marker": {
             "colorbar": {
              "outlinewidth": 0,
              "ticks": ""
             }
            },
            "type": "scatterternary"
           }
          ],
          "surface": [
           {
            "colorbar": {
             "outlinewidth": 0,
             "ticks": ""
            },
            "colorscale": [
             [
              0,
              "#0d0887"
             ],
             [
              0.1111111111111111,
              "#46039f"
             ],
             [
              0.2222222222222222,
              "#7201a8"
             ],
             [
              0.3333333333333333,
              "#9c179e"
             ],
             [
              0.4444444444444444,
              "#bd3786"
             ],
             [
              0.5555555555555556,
              "#d8576b"
             ],
             [
              0.6666666666666666,
              "#ed7953"
             ],
             [
              0.7777777777777778,
              "#fb9f3a"
             ],
             [
              0.8888888888888888,
              "#fdca26"
             ],
             [
              1,
              "#f0f921"
             ]
            ],
            "type": "surface"
           }
          ],
          "table": [
           {
            "cells": {
             "fill": {
              "color": "#EBF0F8"
             },
             "line": {
              "color": "white"
             }
            },
            "header": {
             "fill": {
              "color": "#C8D4E3"
             },
             "line": {
              "color": "white"
             }
            },
            "type": "table"
           }
          ]
         },
         "layout": {
          "annotationdefaults": {
           "arrowcolor": "#2a3f5f",
           "arrowhead": 0,
           "arrowwidth": 1
          },
          "autotypenumbers": "strict",
          "coloraxis": {
           "colorbar": {
            "outlinewidth": 0,
            "ticks": ""
           }
          },
          "colorscale": {
           "diverging": [
            [
             0,
             "#8e0152"
            ],
            [
             0.1,
             "#c51b7d"
            ],
            [
             0.2,
             "#de77ae"
            ],
            [
             0.3,
             "#f1b6da"
            ],
            [
             0.4,
             "#fde0ef"
            ],
            [
             0.5,
             "#f7f7f7"
            ],
            [
             0.6,
             "#e6f5d0"
            ],
            [
             0.7,
             "#b8e186"
            ],
            [
             0.8,
             "#7fbc41"
            ],
            [
             0.9,
             "#4d9221"
            ],
            [
             1,
             "#276419"
            ]
           ],
           "sequential": [
            [
             0,
             "#0d0887"
            ],
            [
             0.1111111111111111,
             "#46039f"
            ],
            [
             0.2222222222222222,
             "#7201a8"
            ],
            [
             0.3333333333333333,
             "#9c179e"
            ],
            [
             0.4444444444444444,
             "#bd3786"
            ],
            [
             0.5555555555555556,
             "#d8576b"
            ],
            [
             0.6666666666666666,
             "#ed7953"
            ],
            [
             0.7777777777777778,
             "#fb9f3a"
            ],
            [
             0.8888888888888888,
             "#fdca26"
            ],
            [
             1,
             "#f0f921"
            ]
           ],
           "sequentialminus": [
            [
             0,
             "#0d0887"
            ],
            [
             0.1111111111111111,
             "#46039f"
            ],
            [
             0.2222222222222222,
             "#7201a8"
            ],
            [
             0.3333333333333333,
             "#9c179e"
            ],
            [
             0.4444444444444444,
             "#bd3786"
            ],
            [
             0.5555555555555556,
             "#d8576b"
            ],
            [
             0.6666666666666666,
             "#ed7953"
            ],
            [
             0.7777777777777778,
             "#fb9f3a"
            ],
            [
             0.8888888888888888,
             "#fdca26"
            ],
            [
             1,
             "#f0f921"
            ]
           ]
          },
          "colorway": [
           "#636efa",
           "#EF553B",
           "#00cc96",
           "#ab63fa",
           "#FFA15A",
           "#19d3f3",
           "#FF6692",
           "#B6E880",
           "#FF97FF",
           "#FECB52"
          ],
          "font": {
           "color": "#2a3f5f"
          },
          "geo": {
           "bgcolor": "white",
           "lakecolor": "white",
           "landcolor": "#E5ECF6",
           "showlakes": true,
           "showland": true,
           "subunitcolor": "white"
          },
          "hoverlabel": {
           "align": "left"
          },
          "hovermode": "closest",
          "mapbox": {
           "style": "light"
          },
          "paper_bgcolor": "white",
          "plot_bgcolor": "#E5ECF6",
          "polar": {
           "angularaxis": {
            "gridcolor": "white",
            "linecolor": "white",
            "ticks": ""
           },
           "bgcolor": "#E5ECF6",
           "radialaxis": {
            "gridcolor": "white",
            "linecolor": "white",
            "ticks": ""
           }
          },
          "scene": {
           "xaxis": {
            "backgroundcolor": "#E5ECF6",
            "gridcolor": "white",
            "gridwidth": 2,
            "linecolor": "white",
            "showbackground": true,
            "ticks": "",
            "zerolinecolor": "white"
           },
           "yaxis": {
            "backgroundcolor": "#E5ECF6",
            "gridcolor": "white",
            "gridwidth": 2,
            "linecolor": "white",
            "showbackground": true,
            "ticks": "",
            "zerolinecolor": "white"
           },
           "zaxis": {
            "backgroundcolor": "#E5ECF6",
            "gridcolor": "white",
            "gridwidth": 2,
            "linecolor": "white",
            "showbackground": true,
            "ticks": "",
            "zerolinecolor": "white"
           }
          },
          "shapedefaults": {
           "line": {
            "color": "#2a3f5f"
           }
          },
          "ternary": {
           "aaxis": {
            "gridcolor": "white",
            "linecolor": "white",
            "ticks": ""
           },
           "baxis": {
            "gridcolor": "white",
            "linecolor": "white",
            "ticks": ""
           },
           "bgcolor": "#E5ECF6",
           "caxis": {
            "gridcolor": "white",
            "linecolor": "white",
            "ticks": ""
           }
          },
          "title": {
           "x": 0.05
          },
          "xaxis": {
           "automargin": true,
           "gridcolor": "white",
           "linecolor": "white",
           "ticks": "",
           "title": {
            "standoff": 15
           },
           "zerolinecolor": "white",
           "zerolinewidth": 2
          },
          "yaxis": {
           "automargin": true,
           "gridcolor": "white",
           "linecolor": "white",
           "ticks": "",
           "title": {
            "standoff": 15
           },
           "zerolinecolor": "white",
           "zerolinewidth": 2
          }
         }
        },
        "xaxis": {
         "anchor": "y",
         "domain": [
          0,
          1
         ],
         "title": {
          "text": ""
         }
        },
        "yaxis": {
         "anchor": "x",
         "domain": [
          0,
          1
         ],
         "title": {
          "text": "Employment Status"
         }
        }
       }
      }
     },
     "metadata": {},
     "output_type": "display_data"
    }
   ],
   "source": [
    "top_6_countries_sorted = top_6_countries.sort_values(ascending=True)\n",
    "\n",
    "figure = px.bar(x=top_6_countries_sorted.values, y=top_6_countries_sorted.index, labels={'x': '', 'y': 'Employment Status'})\n",
    "figure.show()"
   ]
  },
  {
   "cell_type": "code",
   "execution_count": 24,
   "metadata": {},
   "outputs": [
    {
     "data": {
      "text/plain": [
       "0          Venezuela\n",
       "1             Mexico\n",
       "2            Bolivia\n",
       "3           Colombia\n",
       "4          Venezuela\n",
       "            ...     \n",
       "4973    Colombianone\n",
       "4974        Perunone\n",
       "4975       Chilenone\n",
       "4976        Nonenone\n",
       "4977        Nonenone\n",
       "Name: Country of Origin, Length: 4978, dtype: object"
      ]
     },
     "execution_count": 24,
     "metadata": {},
     "output_type": "execute_result"
    }
   ],
   "source": [
    "df['Country of Origin']"
   ]
  },
  {
   "cell_type": "code",
   "execution_count": 25,
   "metadata": {},
   "outputs": [
    {
     "data": {
      "application/vnd.plotly.v1+json": {
       "config": {
        "plotlyServerURL": "https://plot.ly"
       },
       "data": [
        {
         "coloraxis": "coloraxis",
         "geo": "geo",
         "hovertemplate": "<b>%{hovertext}</b><br><br>name=%{location}<br>count=%{z}<extra></extra>",
         "hovertext": [
          "Colombia",
          "",
          "Mexico",
          "Venezuela",
          "Peru",
          "Dominican Republic",
          "Ecuador",
          "Chile",
          "Canada",
          "Honduras",
          "Guatemala",
          "Costa Rica",
          "Argentina",
          "Colombianone",
          "Bolivia",
          "Brazil",
          "El Salvador",
          "Cuba",
          "Mexiconone",
          "Panama",
          "Spain",
          "Nonenone",
          "United States",
          "Paraguay",
          "Nicaragua",
          "Ecuadornone",
          "Venezuelanone",
          "Puerto Rico",
          "Perunone",
          "Chilenone",
          "Uruguay",
          "Costa Ricanone",
          "Guyana",
          "Dominican Republicnone",
          "Canadanone",
          "Bolivianone",
          "Guatemalanone",
          "Born In Canada.None",
          "Mexnone",
          "Nanone",
          "Argentinanone",
          "Brazilnone",
          "Coló Me Lanone",
          "Ciudad De Méxiconone",
          "Puerto Riconone",
          "Morocco",
          "Iran",
          "argentina",
          "Hondurasnone",
          "Brasil",
          "Nigeria",
          "Africa",
          "Méxiconone"
         ],
         "locationmode": "country names",
         "locations": [
          "Colombia",
          "",
          "Mexico",
          "Venezuela",
          "Peru",
          "Dominican Republic",
          "Ecuador",
          "Chile",
          "Canada",
          "Honduras",
          "Guatemala",
          "Costa Rica",
          "Argentina",
          "Colombianone",
          "Bolivia",
          "Brazil",
          "El Salvador",
          "Cuba",
          "Mexiconone",
          "Panama",
          "Spain",
          "Nonenone",
          "United States",
          "Paraguay",
          "Nicaragua",
          "Ecuadornone",
          "Venezuelanone",
          "Puerto Rico",
          "Perunone",
          "Chilenone",
          "Uruguay",
          "Costa Ricanone",
          "Guyana",
          "Dominican Republicnone",
          "Canadanone",
          "Bolivianone",
          "Guatemalanone",
          "Born In Canada.None",
          "Mexnone",
          "Nanone",
          "Argentinanone",
          "Brazilnone",
          "Coló Me Lanone",
          "Ciudad De Méxiconone",
          "Puerto Riconone",
          "Morocco",
          "Iran",
          "argentina",
          "Hondurasnone",
          "Brasil",
          "Nigeria",
          "Africa",
          "Méxiconone"
         ],
         "name": "",
         "type": "choropleth",
         "z": [
          1706,
          1048,
          485,
          355,
          303,
          198,
          160,
          132,
          96,
          77,
          66,
          50,
          37,
          35,
          29,
          24,
          23,
          18,
          16,
          15,
          15,
          13,
          8,
          7,
          7,
          6,
          6,
          4,
          4,
          3,
          3,
          3,
          2,
          2,
          2,
          2,
          2,
          1,
          1,
          1,
          1,
          1,
          1,
          1,
          1,
          1,
          1,
          1,
          1,
          1,
          1,
          1,
          1
         ]
        }
       ],
       "layout": {
        "coloraxis": {
         "colorbar": {
          "title": {
           "text": "Attendants by country"
          }
         },
         "colorscale": [
          [
           0,
           "#fde725"
          ],
          [
           0.1111111111111111,
           "#b5de2b"
          ],
          [
           0.2222222222222222,
           "#6ece58"
          ],
          [
           0.3333333333333333,
           "#35b779"
          ],
          [
           0.4444444444444444,
           "#1f9e89"
          ],
          [
           0.5555555555555556,
           "#26828e"
          ],
          [
           0.6666666666666666,
           "#31688e"
          ],
          [
           0.7777777777777778,
           "#3e4989"
          ],
          [
           0.8888888888888888,
           "#482878"
          ],
          [
           1,
           "#440154"
          ]
         ]
        },
        "geo": {
         "center": {},
         "coastlinecolor": "RebeccaPurple",
         "domain": {
          "x": [
           0,
           1
          ],
          "y": [
           0,
           1
          ]
         },
         "landcolor": "LightGrey",
         "oceancolor": "LightBlue",
         "projection": {
          "type": "orthographic"
         },
         "showcoastlines": false,
         "showframe": false,
         "showland": true,
         "showocean": true
        },
        "legend": {
         "tracegroupgap": 0
        },
        "margin": {
         "t": 60
        },
        "template": {
         "data": {
          "bar": [
           {
            "error_x": {
             "color": "#2a3f5f"
            },
            "error_y": {
             "color": "#2a3f5f"
            },
            "marker": {
             "line": {
              "color": "#E5ECF6",
              "width": 0.5
             },
             "pattern": {
              "fillmode": "overlay",
              "size": 10,
              "solidity": 0.2
             }
            },
            "type": "bar"
           }
          ],
          "barpolar": [
           {
            "marker": {
             "line": {
              "color": "#E5ECF6",
              "width": 0.5
             },
             "pattern": {
              "fillmode": "overlay",
              "size": 10,
              "solidity": 0.2
             }
            },
            "type": "barpolar"
           }
          ],
          "carpet": [
           {
            "aaxis": {
             "endlinecolor": "#2a3f5f",
             "gridcolor": "white",
             "linecolor": "white",
             "minorgridcolor": "white",
             "startlinecolor": "#2a3f5f"
            },
            "baxis": {
             "endlinecolor": "#2a3f5f",
             "gridcolor": "white",
             "linecolor": "white",
             "minorgridcolor": "white",
             "startlinecolor": "#2a3f5f"
            },
            "type": "carpet"
           }
          ],
          "choropleth": [
           {
            "colorbar": {
             "outlinewidth": 0,
             "ticks": ""
            },
            "type": "choropleth"
           }
          ],
          "contour": [
           {
            "colorbar": {
             "outlinewidth": 0,
             "ticks": ""
            },
            "colorscale": [
             [
              0,
              "#0d0887"
             ],
             [
              0.1111111111111111,
              "#46039f"
             ],
             [
              0.2222222222222222,
              "#7201a8"
             ],
             [
              0.3333333333333333,
              "#9c179e"
             ],
             [
              0.4444444444444444,
              "#bd3786"
             ],
             [
              0.5555555555555556,
              "#d8576b"
             ],
             [
              0.6666666666666666,
              "#ed7953"
             ],
             [
              0.7777777777777778,
              "#fb9f3a"
             ],
             [
              0.8888888888888888,
              "#fdca26"
             ],
             [
              1,
              "#f0f921"
             ]
            ],
            "type": "contour"
           }
          ],
          "contourcarpet": [
           {
            "colorbar": {
             "outlinewidth": 0,
             "ticks": ""
            },
            "type": "contourcarpet"
           }
          ],
          "heatmap": [
           {
            "colorbar": {
             "outlinewidth": 0,
             "ticks": ""
            },
            "colorscale": [
             [
              0,
              "#0d0887"
             ],
             [
              0.1111111111111111,
              "#46039f"
             ],
             [
              0.2222222222222222,
              "#7201a8"
             ],
             [
              0.3333333333333333,
              "#9c179e"
             ],
             [
              0.4444444444444444,
              "#bd3786"
             ],
             [
              0.5555555555555556,
              "#d8576b"
             ],
             [
              0.6666666666666666,
              "#ed7953"
             ],
             [
              0.7777777777777778,
              "#fb9f3a"
             ],
             [
              0.8888888888888888,
              "#fdca26"
             ],
             [
              1,
              "#f0f921"
             ]
            ],
            "type": "heatmap"
           }
          ],
          "heatmapgl": [
           {
            "colorbar": {
             "outlinewidth": 0,
             "ticks": ""
            },
            "colorscale": [
             [
              0,
              "#0d0887"
             ],
             [
              0.1111111111111111,
              "#46039f"
             ],
             [
              0.2222222222222222,
              "#7201a8"
             ],
             [
              0.3333333333333333,
              "#9c179e"
             ],
             [
              0.4444444444444444,
              "#bd3786"
             ],
             [
              0.5555555555555556,
              "#d8576b"
             ],
             [
              0.6666666666666666,
              "#ed7953"
             ],
             [
              0.7777777777777778,
              "#fb9f3a"
             ],
             [
              0.8888888888888888,
              "#fdca26"
             ],
             [
              1,
              "#f0f921"
             ]
            ],
            "type": "heatmapgl"
           }
          ],
          "histogram": [
           {
            "marker": {
             "pattern": {
              "fillmode": "overlay",
              "size": 10,
              "solidity": 0.2
             }
            },
            "type": "histogram"
           }
          ],
          "histogram2d": [
           {
            "colorbar": {
             "outlinewidth": 0,
             "ticks": ""
            },
            "colorscale": [
             [
              0,
              "#0d0887"
             ],
             [
              0.1111111111111111,
              "#46039f"
             ],
             [
              0.2222222222222222,
              "#7201a8"
             ],
             [
              0.3333333333333333,
              "#9c179e"
             ],
             [
              0.4444444444444444,
              "#bd3786"
             ],
             [
              0.5555555555555556,
              "#d8576b"
             ],
             [
              0.6666666666666666,
              "#ed7953"
             ],
             [
              0.7777777777777778,
              "#fb9f3a"
             ],
             [
              0.8888888888888888,
              "#fdca26"
             ],
             [
              1,
              "#f0f921"
             ]
            ],
            "type": "histogram2d"
           }
          ],
          "histogram2dcontour": [
           {
            "colorbar": {
             "outlinewidth": 0,
             "ticks": ""
            },
            "colorscale": [
             [
              0,
              "#0d0887"
             ],
             [
              0.1111111111111111,
              "#46039f"
             ],
             [
              0.2222222222222222,
              "#7201a8"
             ],
             [
              0.3333333333333333,
              "#9c179e"
             ],
             [
              0.4444444444444444,
              "#bd3786"
             ],
             [
              0.5555555555555556,
              "#d8576b"
             ],
             [
              0.6666666666666666,
              "#ed7953"
             ],
             [
              0.7777777777777778,
              "#fb9f3a"
             ],
             [
              0.8888888888888888,
              "#fdca26"
             ],
             [
              1,
              "#f0f921"
             ]
            ],
            "type": "histogram2dcontour"
           }
          ],
          "mesh3d": [
           {
            "colorbar": {
             "outlinewidth": 0,
             "ticks": ""
            },
            "type": "mesh3d"
           }
          ],
          "parcoords": [
           {
            "line": {
             "colorbar": {
              "outlinewidth": 0,
              "ticks": ""
             }
            },
            "type": "parcoords"
           }
          ],
          "pie": [
           {
            "automargin": true,
            "type": "pie"
           }
          ],
          "scatter": [
           {
            "fillpattern": {
             "fillmode": "overlay",
             "size": 10,
             "solidity": 0.2
            },
            "type": "scatter"
           }
          ],
          "scatter3d": [
           {
            "line": {
             "colorbar": {
              "outlinewidth": 0,
              "ticks": ""
             }
            },
            "marker": {
             "colorbar": {
              "outlinewidth": 0,
              "ticks": ""
             }
            },
            "type": "scatter3d"
           }
          ],
          "scattercarpet": [
           {
            "marker": {
             "colorbar": {
              "outlinewidth": 0,
              "ticks": ""
             }
            },
            "type": "scattercarpet"
           }
          ],
          "scattergeo": [
           {
            "marker": {
             "colorbar": {
              "outlinewidth": 0,
              "ticks": ""
             }
            },
            "type": "scattergeo"
           }
          ],
          "scattergl": [
           {
            "marker": {
             "colorbar": {
              "outlinewidth": 0,
              "ticks": ""
             }
            },
            "type": "scattergl"
           }
          ],
          "scattermapbox": [
           {
            "marker": {
             "colorbar": {
              "outlinewidth": 0,
              "ticks": ""
             }
            },
            "type": "scattermapbox"
           }
          ],
          "scatterpolar": [
           {
            "marker": {
             "colorbar": {
              "outlinewidth": 0,
              "ticks": ""
             }
            },
            "type": "scatterpolar"
           }
          ],
          "scatterpolargl": [
           {
            "marker": {
             "colorbar": {
              "outlinewidth": 0,
              "ticks": ""
             }
            },
            "type": "scatterpolargl"
           }
          ],
          "scatterternary": [
           {
            "marker": {
             "colorbar": {
              "outlinewidth": 0,
              "ticks": ""
             }
            },
            "type": "scatterternary"
           }
          ],
          "surface": [
           {
            "colorbar": {
             "outlinewidth": 0,
             "ticks": ""
            },
            "colorscale": [
             [
              0,
              "#0d0887"
             ],
             [
              0.1111111111111111,
              "#46039f"
             ],
             [
              0.2222222222222222,
              "#7201a8"
             ],
             [
              0.3333333333333333,
              "#9c179e"
             ],
             [
              0.4444444444444444,
              "#bd3786"
             ],
             [
              0.5555555555555556,
              "#d8576b"
             ],
             [
              0.6666666666666666,
              "#ed7953"
             ],
             [
              0.7777777777777778,
              "#fb9f3a"
             ],
             [
              0.8888888888888888,
              "#fdca26"
             ],
             [
              1,
              "#f0f921"
             ]
            ],
            "type": "surface"
           }
          ],
          "table": [
           {
            "cells": {
             "fill": {
              "color": "#EBF0F8"
             },
             "line": {
              "color": "white"
             }
            },
            "header": {
             "fill": {
              "color": "#C8D4E3"
             },
             "line": {
              "color": "white"
             }
            },
            "type": "table"
           }
          ]
         },
         "layout": {
          "annotationdefaults": {
           "arrowcolor": "#2a3f5f",
           "arrowhead": 0,
           "arrowwidth": 1
          },
          "autotypenumbers": "strict",
          "coloraxis": {
           "colorbar": {
            "outlinewidth": 0,
            "ticks": ""
           }
          },
          "colorscale": {
           "diverging": [
            [
             0,
             "#8e0152"
            ],
            [
             0.1,
             "#c51b7d"
            ],
            [
             0.2,
             "#de77ae"
            ],
            [
             0.3,
             "#f1b6da"
            ],
            [
             0.4,
             "#fde0ef"
            ],
            [
             0.5,
             "#f7f7f7"
            ],
            [
             0.6,
             "#e6f5d0"
            ],
            [
             0.7,
             "#b8e186"
            ],
            [
             0.8,
             "#7fbc41"
            ],
            [
             0.9,
             "#4d9221"
            ],
            [
             1,
             "#276419"
            ]
           ],
           "sequential": [
            [
             0,
             "#0d0887"
            ],
            [
             0.1111111111111111,
             "#46039f"
            ],
            [
             0.2222222222222222,
             "#7201a8"
            ],
            [
             0.3333333333333333,
             "#9c179e"
            ],
            [
             0.4444444444444444,
             "#bd3786"
            ],
            [
             0.5555555555555556,
             "#d8576b"
            ],
            [
             0.6666666666666666,
             "#ed7953"
            ],
            [
             0.7777777777777778,
             "#fb9f3a"
            ],
            [
             0.8888888888888888,
             "#fdca26"
            ],
            [
             1,
             "#f0f921"
            ]
           ],
           "sequentialminus": [
            [
             0,
             "#0d0887"
            ],
            [
             0.1111111111111111,
             "#46039f"
            ],
            [
             0.2222222222222222,
             "#7201a8"
            ],
            [
             0.3333333333333333,
             "#9c179e"
            ],
            [
             0.4444444444444444,
             "#bd3786"
            ],
            [
             0.5555555555555556,
             "#d8576b"
            ],
            [
             0.6666666666666666,
             "#ed7953"
            ],
            [
             0.7777777777777778,
             "#fb9f3a"
            ],
            [
             0.8888888888888888,
             "#fdca26"
            ],
            [
             1,
             "#f0f921"
            ]
           ]
          },
          "colorway": [
           "#636efa",
           "#EF553B",
           "#00cc96",
           "#ab63fa",
           "#FFA15A",
           "#19d3f3",
           "#FF6692",
           "#B6E880",
           "#FF97FF",
           "#FECB52"
          ],
          "font": {
           "color": "#2a3f5f"
          },
          "geo": {
           "bgcolor": "white",
           "lakecolor": "white",
           "landcolor": "#E5ECF6",
           "showlakes": true,
           "showland": true,
           "subunitcolor": "white"
          },
          "hoverlabel": {
           "align": "left"
          },
          "hovermode": "closest",
          "mapbox": {
           "style": "light"
          },
          "paper_bgcolor": "white",
          "plot_bgcolor": "#E5ECF6",
          "polar": {
           "angularaxis": {
            "gridcolor": "white",
            "linecolor": "white",
            "ticks": ""
           },
           "bgcolor": "#E5ECF6",
           "radialaxis": {
            "gridcolor": "white",
            "linecolor": "white",
            "ticks": ""
           }
          },
          "scene": {
           "xaxis": {
            "backgroundcolor": "#E5ECF6",
            "gridcolor": "white",
            "gridwidth": 2,
            "linecolor": "white",
            "showbackground": true,
            "ticks": "",
            "zerolinecolor": "white"
           },
           "yaxis": {
            "backgroundcolor": "#E5ECF6",
            "gridcolor": "white",
            "gridwidth": 2,
            "linecolor": "white",
            "showbackground": true,
            "ticks": "",
            "zerolinecolor": "white"
           },
           "zaxis": {
            "backgroundcolor": "#E5ECF6",
            "gridcolor": "white",
            "gridwidth": 2,
            "linecolor": "white",
            "showbackground": true,
            "ticks": "",
            "zerolinecolor": "white"
           }
          },
          "shapedefaults": {
           "line": {
            "color": "#2a3f5f"
           }
          },
          "ternary": {
           "aaxis": {
            "gridcolor": "white",
            "linecolor": "white",
            "ticks": ""
           },
           "baxis": {
            "gridcolor": "white",
            "linecolor": "white",
            "ticks": ""
           },
           "bgcolor": "#E5ECF6",
           "caxis": {
            "gridcolor": "white",
            "linecolor": "white",
            "ticks": ""
           }
          },
          "title": {
           "x": 0.05
          },
          "xaxis": {
           "automargin": true,
           "gridcolor": "white",
           "linecolor": "white",
           "ticks": "",
           "title": {
            "standoff": 15
           },
           "zerolinecolor": "white",
           "zerolinewidth": 2
          },
          "yaxis": {
           "automargin": true,
           "gridcolor": "white",
           "linecolor": "white",
           "ticks": "",
           "title": {
            "standoff": 15
           },
           "zerolinecolor": "white",
           "zerolinewidth": 2
          }
         }
        }
       }
      }
     },
     "metadata": {},
     "output_type": "display_data"
    }
   ],
   "source": [
    "country_counts = df['Country of Origin'].value_counts().reset_index()\n",
    "country_counts.columns = ['name', 'count']\n",
    "\n",
    "fig5 = px.choropleth(\n",
    "    country_counts,\n",
    "    locations='name',\n",
    "    locationmode='country names',\n",
    "    color='count',\n",
    "    hover_name='name',\n",
    "    color_continuous_scale='Viridis_r',\n",
    "    #title='Estimate Smoking Prevalence by Country over the years',\n",
    ")\n",
    "fig5.update_geos(\n",
    "    showcoastlines=True,\n",
    "    coastlinecolor='RebeccaPurple',\n",
    "    showland=True,\n",
    "    landcolor='LightGrey',\n",
    "    showocean=True,\n",
    "    oceancolor='LightBlue',\n",
    "    projection_type='orthographic',\n",
    ")\n",
    "fig5.update_layout(\n",
    "    geo=dict(showframe=False, showcoastlines=False),\n",
    "    coloraxis_colorbar=dict(title='Attendants by country'),\n",
    ")\n",
    "fig5.show()"
   ]
  },
  {
   "cell_type": "code",
   "execution_count": 26,
   "metadata": {},
   "outputs": [
    {
     "name": "stderr",
     "output_type": "stream",
     "text": [
      "C:\\Users\\david\\AppData\\Local\\Temp\\ipykernel_3488\\3625389501.py:1: FutureWarning:\n",
      "\n",
      "The geopandas.dataset module is deprecated and will be removed in GeoPandas 1.0. You can get the original 'naturalearth_lowres' data from https://www.naturalearthdata.com/downloads/110m-cultural-vectors/.\n",
      "\n"
     ]
    },
    {
     "data": {
      "image/png": "[encoded data removed]",
      "text/plain": [
       "<Figure size 1500x1000 with 2 Axes>"
      ]
     },
     "metadata": {},
     "output_type": "display_data"
    }
   ],
   "source": [
    "world = gpd.read_file(gpd.datasets.get_path('naturalearth_lowres'))\n",
    "\n",
    "# Count the number of occurrences of each country in the DataFrame\n",
    "country_counts = df['Country of Origin'].value_counts().reset_index()\n",
    "country_counts.columns = ['name', 'count']\n",
    "\n",
    "# Merge the world shapefile with the country counts DataFrame\n",
    "world = world.merge(country_counts, how='left', left_on='name', right_on='name')\n",
    "\n",
    "# Plotting the map\n",
    "fig, ax = plt.subplots(1, 1, figsize=(15, 10))\n",
    "world.boundary.plot(ax=ax)\n",
    "world.plot(column='count', ax=ax, legend=True, legend_kwds={'label': \"Number of Countries\"})\n",
    "plt.show()"
   ]
  },
  {
   "cell_type": "markdown",
   "metadata": {},
   "source": [
    "### Pie charts"
   ]
  },
  {
   "cell_type": "code",
   "execution_count": 27,
   "metadata": {},
   "outputs": [
    {
     "data": {
      "text/plain": [
       "Index(['#', 'Date', 'City', 'Season', 'Industry / Event', 'Format',\n",
       "       'Attendance', 'Email', 'First Name', 'Last Name', 'Country of Origin',\n",
       "       'Area of Expertise', 'Employment Status', 'Employer', 'Dream Job',\n",
       "       'Linkedin'],\n",
       "      dtype='object')"
      ]
     },
     "execution_count": 27,
     "metadata": {},
     "output_type": "execute_result"
    }
   ],
   "source": [
    "df.columns"
   ]
  },
  {
   "cell_type": "code",
   "execution_count": 28,
   "metadata": {},
   "outputs": [
    {
     "data": {
      "application/vnd.plotly.v1+json": {
       "config": {
        "plotlyServerURL": "https://plot.ly"
       },
       "data": [
        {
         "domain": {
          "x": [
           0,
           1
          ],
          "y": [
           0,
           1
          ]
         },
         "hovertemplate": "Format=%{label}<extra></extra>",
         "labels": [
          "Online",
          "Online",
          "Online",
          "Online",
          "Online",
          "Online",
          "Online",
          "Online",
          "Online",
          "Online",
          "Online",
          "Online",
          "Online",
          "Online",
          "Online",
          "Online",
          "Online",
          "Online",
          "Online",
          "Online",
          "Online",
          "Online",
          "Online",
          "Online",
          "Online",
          "Online",
          "Online",
          "Online",
          "Online",
          "Online",
          "Online",
          "Online",
          "Online",
          "Online",
          "Online",
          "Online",
          "Online",
          "Online",
          "Online",
          "Online",
          "Online",
          "Online",
          "Online",
          "Online",
          "Online",
          "Online",
          "Online",
          "Online",
          "Online",
          "Online",
          "Online",
          "Online",
          "Online",
          "Online",
          "Online",
          "Online",
          "Online",
          "Online",
          "Online",
          "Online",
          "Online",
          "Online",
          "Online",
          "Online",
          "Online",
          "Online",
          "Online",
          "Online",
          "Online",
          "Online",
          "Online",
          "Online",
          "Online",
          "Online",
          "Online",
          "Online",
          "Online",
          "Online",
          "Online",
          "Online",
          "Online",
          "Online",
          "Online",
          "Online",
          "Online",
          "Online",
          "Online",
          "Online",
          "Online",
          "Online",
          "Online",
          "Online",
          "Online",
          "Online",
          "Online",
          "Online",
          "Online",
          "Online",
          "Online",
          "Online",
          "Online",
          "Online",
          "Online",
          "Online",
          "Online",
          "Online",
          "Online",
          "Online",
          "Online",
          "Online",
          "Online",
          "Online",
          "Online",
          "Online",
          "Online",
          "Online",
          "Online",
          "Online",
          "Online",
          "Online",
          "Online",
          "Online",
          "Online",
          "Online",
          "Online",
          "Online",
          "Online",
          "Online",
          "Online",
          "Online",
          "Online",
          "Online",
          "Online",
          "Online",
          "Online",
          "Online",
          "Online",
          "Online",
          "Online",
          "Online",
          "Online",
          "Online",
          "Online",
          "Online",
          "Online",
          "Online",
          "Online",
          "Online",
          "Online",
          "Online",
          "Online",
          "Online",
          "Online",
          "Online",
          "Online",
          "Online",
          "Online",
          "Online",
          "Online",
          "Online",
          "Online",
          "Online",
          "Online",
          "Online",
          "Online",
          "Online",
          "Online",
          "Online",
          "Online",
          "Online",
          "Online",
          "Online",
          "Online",
          "Online",
          "Online",
          "Online",
          "Online",
          "Online",
          "Online",
          "Online",
          "Online",
          "Online",
          "Online",
          "Online",
          "Online",
          "Online",
          "Online",
          "Online",
          "Online",
          "Online",
          "Online",
          "Online",
          "Online",
          "Online",
          "Online",
          "Online",
          "Online",
          "Online",
          "Online",
          "Online",
          "Online",
          "Online",
          "Online",
          "Online",
          "Online",
          "Online",
          "Online",
          "Online",
          "Online",
          "Online",
          "Online",
          "Online",
          "Online",
          "Online",
          "Online",
          "Online",
          "Online",
          "Online",
          "Online",
          "Online",
          "Online",
          "Online",
          "Online",
          "Online",
          "Online",
          "Online",
          "Online",
          "Online",
          "Online",
          "Online",
          "Online",
          "Online",
          "Online",
          "Online",
          "Online",
          "Online",
          "Online",
          "Online",
          "Online",
          "Online",
          "Online",
          "Online",
          "Online",
          "Online",
          "Online",
          "Online",
          "Online",
          "Online",
          "Online",
          "Online",
          "Online",
          "Online",
          "Online",
          "Online",
          "Online",
          "Online",
          "Online",
          "Online",
          "Online",
          "Online",
          "Online",
          "Online",
          "Online",
          "Online",
          "Online",
          "Online",
          "Online",
          "Online",
          "Online",
          "Online",
          "Online",
          "Online",
          "Online",
          "Online",
          "Online",
          "Online",
          "Online",
          "Online",
          "Online",
          "Online",
          "Online",
          "Online",
          "Online",
          "Online",
          "Online",
          "Online",
          "Online",
          "Online",
          "Online",
          "Online",
          "Online",
          "Online",
          "Online",
          "Online",
          "Online",
          "Online",
          "Online",
          "Online",
          "Online",
          "Online",
          "Online",
          "Online",
          "Online",
          "Online",
          "Online",
          "Online",
          "Online",
          "Online",
          "Online",
          "In Person",
          "In Person",
          "In Person",
          "In Person",
          "Online",
          "Online",
          "Online",
          "Online",
          "Online",
          "Online",
          "Online",
          "Online",
          "Online",
          "In Person",
          "Online",
          "Online",
          "Online",
          "Online",
          "Online",
          "Online",
          "Online",
          "Online",
          "Online",
          "Online",
          "Online",
          "Online",
          "Online",
          "Online",
          "Online",
          "Online",
          "Online",
          "Online",
          "Online",
          "Online",
          "Online",
          "Online",
          "Online",
          "Online",
          "In Person",
          "In Person",
          "In Person",
          "In Person",
          "In Person",
          "In Person",
          "In Person",
          "In Person",
          "Online",
          "Online",
          "Online",
          "Online",
          "Online",
          "Online",
          "Online",
          "Online",
          "Online",
          "Online",
          "Online",
          "Online",
          "Online",
          "Online",
          "Online",
          "Online",
          "Online",
          "Online",
          "Online",
          "Online",
          "Online",
          "Online",
          "Online",
          "In Person",
          "In Person",
          "In Person",
          "In Person",
          "In Person",
          "In Person",
          "In Person",
          "In Person",
          "In Person",
          "In Person",
          "In Person",
          "Online",
          "Online",
          "Online",
          "Online",
          "Online",
          "Online",
          "Online",
          "Online",
          "Online",
          "Online",
          "Online",
          "Online",
          "Online",
          "Online",
          "Online",
          "Online",
          "Online",
          "Online",
          "Online",
          "Online",
          "Online",
          "Online",
          "Online",
          "Online",
          "Online",
          "Online",
          "Online",
          "Online",
          "Online",
          "Online",
          "In Person",
          "In Person",
          "In Person",
          "In Person",
          "In Person",
          "In Person",
          "In Person",
          "In Person",
          "In Person",
          "In Person",
          "In Person",
          "In Person",
          "In Person",
          "In Person",
          "Online",
          "Online",
          "Online",
          "Online",
          "Online",
          "Online",
          "Online",
          "Online",
          "Online",
          "Online",
          "Online",
          "Online",
          "In Person",
          "In Person",
          "In Person",
          "In Person",
          "In Person",
          "In Person",
          "In Person",
          "In Person",
          "In Person",
          "In Person",
          "In Person",
          "In Person",
          "In Person",
          "In Person",
          "In Person",
          "In Person",
          "In Person",
          "In Person",
          "Online",
          "Online",
          "Online",
          "Online",
          "Online",
          "Online",
          "Online",
          "Online",
          "Online",
          "Online",
          "Online",
          "Online",
          "Online",
          "Online",
          "Online",
          "Online",
          "Online",
          "Online",
          "Online",
          "Online",
          "Online",
          "Online",
          "Online",
          "Online",
          "Online",
          "Online",
          "Online",
          "Online",
          "Online",
          "Online",
          "Online",
          "Online",
          "Online",
          "Online",
          "Online",
          "Online",
          "Online",
          "Online",
          "Online",
          "Online",
          "Online",
          "Online",
          "Online",
          "Online",
          "Online",
          "Online",
          "Online",
          "Online",
          "Online",
          "Online",
          "Online",
          "Online",
          "Online",
          "Online",
          "Online",
          "Online",
          "Online",
          "Online",
          "Online",
          "Online",
          "Online",
          "Online",
          "Online",
          "Online",
          "Online",
          "Online",
          "Online",
          "Online",
          "Online",
          "Online",
          "Online",
          "Online",
          "Online",
          "Online",
          "Online",
          "Online",
          "Online",
          "Online",
          "Online",
          "Online",
          "Online",
          "Online",
          "Online",
          "Online",
          "Online",
          "Online",
          "Online",
          "Online",
          "In Person",
          "In Person",
          "In Person",
          "In Person",
          "In Person",
          "In Person",
          "In Person",
          "In Person",
          "In Person",
          "In Person",
          "In Person",
          "In Person",
          "In Person",
          "In Person",
          "In Person",
          "In Person",
          "Online",
          "Online",
          "Online",
          "Online",
          "Online",
          "Online",
          "Online",
          "Online",
          "Online",
          "Online",
          "Online",
          "Online",
          "Online",
          "Online",
          "Online",
          "In Person",
          "In Person",
          "In Person",
          "In Person",
          "In Person",
          "In Person",
          "In Person",
          "In Person",
          "In Person",
          "In Person",
          "Online",
          "Online",
          "Online",
          "Online",
          "Online",
          "Online",
          "Online",
          "In Person",
          "In Person",
          "In Person",
          "In Person",
          "In Person",
          "In Person",
          "In Person",
          "In Person",
          "In Person",
          "In Person",
          "In Person",
          "Online",
          "Online",
          "Online",
          "Online",
          "Online",
          "Online",
          "Online",
          "Online",
          "Online",
          "In Person",
          "In Person",
          "In Person",
          "In Person",
          "In Person",
          "In Person",
          "In Person",
          "In Person",
          "Online",
          "Online",
          "Online",
          "Online",
          "Online",
          "Online",
          "Online",
          "Online",
          "Online",
          "Online",
          "Online",
          "Online",
          "Online",
          "Online",
          "Online",
          "Online",
          "Online",
          "Online",
          "In Person",
          "In Person",
          "In Person",
          "In Person",
          "In Person",
          "In Person",
          "In Person",
          "In Person",
          "In Person",
          "In Person",
          "In Person",
          "In Person",
          "In Person",
          "In Person",
          "In Person",
          "In Person",
          "In Person",
          "In Person",
          "Online",
          "Online",
          "Online",
          "Online",
          "Online",
          "Online",
          "Online",
          "Online",
          "Online",
          "Online",
          "Online",
          "In Person",
          "In Person",
          "In Person",
          "In Person",
          "In Person",
          "In Person",
          "In Person",
          "In Person",
          "In Person",
          "In Person",
          "In Person",
          "In Person",
          "In Person",
          "In Person",
          "In Person",
          "Online",
          "Online",
          "Online",
          "Online",
          "Online",
          "Online",
          "Online",
          "Online",
          "Online",
          "Online",
          "Online",
          "Online",
          "Online",
          "Online",
          "Online",
          "Online",
          "Online",
          "Online",
          "Online",
          "Online",
          "In Person",
          "In Person",
          "In Person",
          "In Person",
          "In Person",
          "In Person",
          "In Person",
          "In Person",
          "Online",
          "Online",
          "Online",
          "Online",
          "Online",
          "Online",
          "Online",
          "Online",
          "Online",
          "In Person",
          "In Person",
          "In Person",
          "In Person",
          "In Person",
          "In Person",
          "Online",
          "Online",
          "Online",
          "Online",
          "Online",
          "Online",
          "Online",
          "Online",
          "Online",
          "Online",
          "Online",
          "Online",
          "Online",
          "Online",
          "Online",
          "Online",
          "Online",
          "Online",
          "Online",
          "Online",
          "Online",
          "In Person",
          "In Person",
          "In Person",
          "In Person",
          "In Person",
          "In Person",
          "In Person",
          "In Person",
          "In Person",
          "In Person",
          "In Person",
          "In Person",
          "In Person",
          "In Person",
          "Online",
          "Online",
          "Online",
          "Online",
          "Online",
          "Online",
          "Online",
          "Online",
          "Online",
          "Online",
          "Online",
          "Online",
          "Online",
          "Online",
          "Online",
          "Online",
          "Online",
          "Online",
          "Online",
          "In Person",
          "In Person",
          "In Person",
          "In Person",
          "In Person",
          "In Person",
          "In Person",
          "In Person",
          "Online",
          "Online",
          "Online",
          "Online",
          "In Person",
          "In Person",
          "In Person",
          "In Person",
          "In Person",
          "In Person",
          "In Person",
          "Online",
          "Online",
          "Online",
          "Online",
          "Online",
          "Online",
          "Online",
          "Online",
          "Online",
          "Online",
          "Online",
          "Online",
          "Online",
          "Online",
          "Online",
          "Online",
          "In Person",
          "In Person",
          "In Person",
          "In Person",
          "In Person",
          "In Person",
          "In Person",
          "In Person",
          "In Person",
          "In Person",
          "In Person",
          "In Person",
          "In Person",
          "In Person",
          "In Person",
          "In Person",
          "Online",
          "Online",
          "Online",
          "Online",
          "Online",
          "In Person",
          "In Person",
          "In Person",
          "In Person",
          "In Person",
          "In Person",
          "In Person",
          "Online",
          "Online",
          "Online",
          "Online",
          "Online",
          "In Person",
          "In Person",
          "In Person",
          "In Person",
          "In Person",
          "In Person",
          "In Person",
          "In Person",
          "Online",
          "Online",
          "Online",
          "Online",
          "Online",
          "Online",
          "Online",
          "Online",
          "Online",
          "Online",
          "Online",
          "Online",
          "Online",
          "Online",
          "Online",
          "Online",
          "Online",
          "Online",
          "Online",
          "Online",
          "Online",
          "Online",
          "Online",
          "Online",
          "Online",
          "In Person",
          "In Person",
          "In Person",
          "In Person",
          "In Person",
          "In Person",
          "In Person",
          "In Person",
          "In Person",
          "In Person",
          "In Person",
          "In Person",
          "In Person",
          "In Person",
          "In Person",
          "In Person",
          "In Person",
          "Online",
          "Online",
          "Online",
          "Online",
          "Online",
          "Online",
          "Online",
          "Online",
          "Online",
          "Online",
          "Online",
          "Online",
          "Online",
          "Online",
          "Online",
          "In Person",
          "In Person",
          "In Person",
          "In Person",
          "In Person",
          "In Person",
          "In Person",
          "In Person",
          "Online",
          "Online",
          "Online",
          "Online",
          "In Person",
          "In Person",
          "In Person",
          "In Person",
          "In Person",
          "In Person",
          "In Person",
          "In Person",
          "In Person",
          "In Person",
          "In Person",
          "Online",
          "Online",
          "Online",
          "Online",
          "Online",
          "Online",
          "Online",
          "Online",
          "Online",
          "Online",
          "Online",
          "Online",
          "Online",
          "Online",
          "Online",
          "Online",
          "Online",
          "Online",
          "Online",
          "In Person",
          "In Person",
          "In Person",
          "In Person",
          "In Person",
          "In Person",
          "In Person",
          "In Person",
          "In Person",
          "In Person",
          "In Person",
          "In Person",
          "In Person",
          "In Person",
          "In Person",
          "In Person",
          "In Person",
          "In Person",
          "Online",
          "Online",
          "Online",
          "Online",
          "Online",
          "Online",
          "Online",
          "In Person",
          "In Person",
          "In Person",
          "In Person",
          "In Person",
          "In Person",
          "In Person",
          "In Person",
          "In Person",
          "In Person",
          "In Person",
          "In Person",
          "Online",
          "Online",
          "Online",
          "Online",
          "Online",
          "Online",
          "Online",
          "Online",
          "Online",
          "Online",
          "Online",
          "Online",
          "Online",
          "In Person",
          "In Person",
          "In Person",
          "In Person",
          "In Person",
          "In Person",
          "In Person",
          "In Person",
          "In Person",
          "In Person",
          "Online",
          "Online",
          "Online",
          "Online",
          "Online",
          "Online",
          "Online",
          "Online",
          "Online",
          "Online",
          "Online",
          "Online",
          "Online",
          "Online",
          "Online",
          "Online",
          "Online",
          "Online",
          "Online",
          "Online",
          "Online",
          "Online",
          "Online",
          "Online",
          "In Person",
          "In Person",
          "In Person",
          "In Person",
          "In Person",
          "In Person",
          "In Person",
          "In Person",
          "In Person",
          "In Person",
          "In Person",
          "In Person",
          "In Person",
          "In Person",
          "In Person",
          "In Person",
          "In Person",
          "In Person",
          "In Person",
          "In Person",
          "In Person",
          "In Person",
          "In Person",
          "In Person",
          "In Person",
          "In Person",
          "In Person",
          "In Person",
          "In Person",
          "In Person",
          "In Person",
          "Online",
          "Online",
          "Online",
          "Online",
          "In Person",
          "In Person",
          "In Person",
          "In Person",
          "In Person",
          "In Person",
          "In Person",
          "In Person",
          "In Person",
          "In Person",
          "In Person",
          "In Person",
          "In Person",
          "In Person",
          "In Person",
          "In Person",
          "In Person",
          "In Person",
          "Online",
          "Online",
          "Online",
          "Online",
          "Online",
          "Online",
          "Online",
          "Online",
          "Online",
          "Online",
          "Online",
          "Online",
          "Online",
          "Online",
          "Online",
          "Online",
          "Online",
          "Online",
          "Online",
          "Online",
          "Online",
          "Online",
          "Online",
          "Online",
          "Online",
          "Online",
          "Online",
          "Online",
          "Online",
          "Online",
          "Online",
          "Online",
          "Online",
          "Online",
          "Online",
          "Online",
          "Online",
          "Online",
          "Online",
          "Online",
          "Online",
          "Online",
          "Online",
          "Online",
          "Online",
          "Online",
          "Online",
          "Online",
          "Online",
          "Online",
          "Online",
          "Online",
          "Online",
          "Online",
          "Online",
          "In Person",
          "In Person",
          "In Person",
          "In Person",
          "In Person",
          "In Person",
          "In Person",
          "In Person",
          "In Person",
          "In Person",
          "In Person",
          "In Person",
          "In Person",
          "In Person",
          "In Person",
          "In Person",
          "In Person",
          "In Person",
          "In Person",
          "In Person",
          "In Person",
          "In Person",
          "In Person",
          "In Person",
          "In Person",
          "In Person",
          "In Person",
          "In Person",
          "In Person",
          "In Person",
          "In Person",
          "In Person",
          "In Person",
          "In Person",
          "Online",
          "Online",
          "Online",
          "Online",
          "Online",
          "Online",
          "Online",
          "Online",
          "Online",
          "Online",
          "Online",
          "Online",
          "Online",
          "Online",
          "Online",
          "Online",
          "Online",
          "Online",
          "Online",
          "Online",
          "Online",
          "Online",
          "Online",
          "Online",
          "Online",
          "Online",
          "Online",
          "Online",
          "Online",
          "Online",
          "In Person",
          "In Person",
          "In Person",
          "In Person",
          "In Person",
          "In Person",
          "In Person",
          "In Person",
          "In Person",
          "In Person",
          "In Person",
          "In Person",
          "In Person",
          "In Person",
          "In Person",
          "In Person",
          "In Person",
          "In Person",
          "In Person",
          "In Person",
          "In Person",
          "In Person",
          "In Person",
          "In Person",
          "In Person",
          "In Person",
          "In Person",
          "In Person",
          "In Person",
          "In Person",
          "In Person",
          "Online",
          "Online",
          "Online",
          "Online",
          "Online",
          "Online",
          "Online",
          "Online",
          "Online",
          "Online",
          "Online",
          "Online",
          "Online",
          "Online",
          "Online",
          "Online",
          "Online",
          "Online",
          "Online",
          "Online",
          "Online",
          "Online",
          "Online",
          "Online",
          "Online",
          "Online",
          "Online",
          "Online",
          "Online",
          "Online",
          "Online",
          "Online",
          "Online",
          "Online",
          "Online",
          "Online",
          "Online",
          "Online",
          "In Person",
          "In Person",
          "In Person",
          "In Person",
          "In Person",
          "In Person",
          "In Person",
          "In Person",
          "In Person",
          "In Person",
          "In Person",
          "In Person",
          "In Person",
          "In Person",
          "In Person",
          "In Person",
          "In Person",
          "In Person",
          "In Person",
          "In Person",
          "In Person",
          "In Person",
          "In Person",
          "In Person",
          "In Person",
          "In Person",
          "In Person",
          "In Person",
          "In Person",
          "In Person",
          "In Person",
          "In Person",
          "In Person",
          "Online",
          "Online",
          "Online",
          "Online",
          "Online",
          "Online",
          "Online",
          "Online",
          "Online",
          "Online",
          "Online",
          "Online",
          "Online",
          "Online",
          "Online",
          "Online",
          "Online",
          "Online",
          "Online",
          "Online",
          "Online",
          "Online",
          "Online",
          "Online",
          "Online",
          "Online",
          "Online",
          "Online",
          "Online",
          "Online",
          "Online",
          "Online",
          "Online",
          "In Person",
          "In Person",
          "In Person",
          "In Person",
          "In Person",
          "In Person",
          "In Person",
          "In Person",
          "In Person",
          "In Person",
          "In Person",
          "In Person",
          "In Person",
          "In Person",
          "In Person",
          "In Person",
          "In Person",
          "In Person",
          "In Person",
          "In Person",
          "In Person",
          "In Person",
          "In Person",
          "In Person",
          "In Person",
          "In Person",
          "In Person",
          "In Person",
          "Online",
          "Online",
          "Online",
          "Online",
          "Online",
          "Online",
          "Online",
          "Online",
          "Online",
          "Online",
          "Online",
          "Online",
          "Online",
          "Online",
          "Online",
          "Online",
          "Online",
          "Online",
          "Online",
          "Online",
          "Online",
          "Online",
          "Online",
          "Online",
          "Online",
          "Online",
          "Online",
          "Online",
          "Online",
          "Online",
          "In Person",
          "In Person",
          "In Person",
          "In Person",
          "In Person",
          "In Person",
          "In Person",
          "In Person",
          "In Person",
          "In Person",
          "In Person",
          "In Person",
          "In Person",
          "In Person",
          "In Person",
          "In Person",
          "In Person",
          "In Person",
          "In Person",
          "In Person",
          "In Person",
          "In Person",
          "In Person",
          "In Person",
          "In Person",
          "In Person",
          "In Person",
          "In Person",
          "In Person",
          "In Person",
          "In Person",
          "In Person",
          "Online",
          "Online",
          "Online",
          "Online",
          "Online",
          "Online",
          "Online",
          "Online",
          "Online",
          "Online",
          "Online",
          "Online",
          "Online",
          "Online",
          "Online",
          "Online",
          "Online",
          "Online",
          "Online",
          "Online",
          "Online",
          "Online",
          "Online",
          "Online",
          "Online",
          "Online",
          "Online",
          "Online",
          "Online",
          "Online",
          "Online",
          "Online",
          "Online",
          "Online",
          "Online",
          "Online",
          "Online",
          "Online",
          "Online",
          "Online",
          "Online",
          "Online",
          "Online",
          "Online",
          "Online",
          "In Person",
          "In Person",
          "In Person",
          "In Person",
          "In Person",
          "In Person",
          "In Person",
          "In Person",
          "In Person",
          "In Person",
          "In Person",
          "In Person",
          "In Person",
          "In Person",
          "In Person",
          "In Person",
          "In Person",
          "In Person",
          "In Person",
          "In Person",
          "In Person",
          "In Person",
          "In Person",
          "In Person",
          "In Person",
          "In Person",
          "In Person",
          "In Person",
          "In Person",
          "In Person",
          "In Person",
          "In Person",
          "In Person",
          "In Person",
          "In Person",
          "In Person",
          "In Person",
          "In Person",
          "In Person",
          "Online",
          "Online",
          "Online",
          "Online",
          "Online",
          "Online",
          "Online",
          "Online",
          "Online",
          "Online",
          "Online",
          "Online",
          "Online",
          "Online",
          "Online",
          "Online",
          "Online",
          "Online",
          "Online",
          "Online",
          "Online",
          "Online",
          "Online",
          "Online",
          "Online",
          "Online",
          "Online",
          "Online",
          "Online",
          "Online",
          "Online",
          "Online",
          "Online",
          "Online",
          "Online",
          "In Person",
          "In Person",
          "In Person",
          "In Person",
          "In Person",
          "In Person",
          "In Person",
          "In Person",
          "In Person",
          "In Person",
          "In Person",
          "In Person",
          "In Person",
          "In Person",
          "In Person",
          "In Person",
          "In Person",
          "In Person",
          "In Person",
          "In Person",
          "In Person",
          "In Person",
          "In Person",
          "In Person",
          "In Person",
          "In Person",
          "In Person",
          "In Person",
          "In Person",
          "In Person",
          "In Person",
          "Online",
          "Online",
          "Online",
          "Online",
          "Online",
          "Online",
          "Online",
          "Online",
          "Online",
          "Online",
          "Online",
          "Online",
          "Online",
          "Online",
          "Online",
          "Online",
          "Online",
          "Online",
          "Online",
          "Online",
          "Online",
          "Online",
          "In Person",
          "In Person",
          "In Person",
          "In Person",
          "In Person",
          "In Person",
          "In Person",
          "In Person",
          "In Person",
          "In Person",
          "In Person",
          "In Person",
          "In Person",
          "In Person",
          "In Person",
          "In Person",
          "In Person",
          "In Person",
          "In Person",
          "In Person",
          "In Person",
          "In Person",
          "In Person",
          "In Person",
          "In Person",
          "In Person",
          "In Person",
          "In Person",
          "In Person",
          "In Person",
          "In Person",
          "In Person",
          "In Person",
          "In Person",
          "In Person",
          "In Person",
          "In Person",
          "In Person",
          "In Person",
          "In Person",
          "In Person",
          "In Person",
          "In Person",
          "In Person",
          "In Person",
          "In Person",
          "In Person",
          "In Person",
          "In Person",
          "In Person",
          "In Person",
          "In Person",
          "In Person",
          "In Person",
          "In Person",
          "In Person",
          "In Person",
          "In Person",
          "In Person",
          "In Person",
          "In Person",
          "In Person",
          "In Person",
          "In Person",
          "In Person",
          "In Person",
          "In Person",
          "In Person",
          "In Person",
          "In Person",
          "In Person",
          "Online",
          "Online",
          "Online",
          "Online",
          "Online",
          "Online",
          "Online",
          "Online",
          "Online",
          "Online",
          "Online",
          "Online",
          "Online",
          "Online",
          "Online",
          "Online",
          "Online",
          "Online",
          "Online",
          "Online",
          "Online",
          "Online",
          "Online",
          "Online",
          "Online",
          "Online",
          "Online",
          "Online",
          "Online",
          "Online",
          "Online",
          "Online",
          "Online",
          "Online",
          "Online",
          "Online",
          "Online",
          "Online",
          "Online",
          "Online",
          "Online",
          "Online",
          "Online",
          "Online",
          "Online",
          "Online",
          "Online",
          "Online",
          "Online",
          "Online",
          "Online",
          "Online",
          "Online",
          "Online",
          "Online",
          "Online",
          "Online",
          "Online",
          "Online",
          "Online",
          "Online",
          "Online",
          "Online",
          "Online",
          "Online",
          "Online",
          "Online",
          "Online",
          "Online",
          "In Person",
          "In Person",
          "In Person",
          "In Person",
          "In Person",
          "In Person",
          "In Person",
          "In Person",
          "In Person",
          "In Person",
          "In Person",
          "In Person",
          "In Person",
          "In Person",
          "In Person",
          "In Person",
          "In Person",
          "In Person",
          "In Person",
          "In Person",
          "In Person",
          "In Person",
          "In Person",
          "In Person",
          "In Person",
          "In Person",
          "In Person",
          "In Person",
          "In Person",
          "In Person",
          "In Person",
          "In Person",
          "In Person",
          "In Person",
          "In Person",
          "Online",
          "Online",
          "Online",
          "Online",
          "Online",
          "Online",
          "Online",
          "Online",
          "Online",
          "Online",
          "Online",
          "Online",
          "Online",
          "Online",
          "Online",
          "Online",
          "Online",
          "Online",
          "Online",
          "Online",
          "Online",
          "Online",
          "Online",
          "Online",
          "Online",
          "Online",
          "Online",
          "Online",
          "Online",
          "Online",
          "Online",
          "In Person",
          "In Person",
          "In Person",
          "In Person",
          "In Person",
          "In Person",
          "In Person",
          "In Person",
          "In Person",
          "In Person",
          "In Person",
          "In Person",
          "In Person",
          "In Person",
          "In Person",
          "In Person",
          "In Person",
          "In Person",
          "In Person",
          "In Person",
          "In Person",
          "In Person",
          "In Person",
          "In Person",
          "In Person",
          "In Person",
          "In Person",
          "In Person",
          "In Person",
          "In Person",
          "In Person",
          "In Person",
          "In Person",
          "In Person",
          "Online",
          "Online",
          "Online",
          "Online",
          "Online",
          "Online",
          "Online",
          "Online",
          "Online",
          "Online",
          "Online",
          "Online",
          "Online",
          "Online",
          "In Person",
          "In Person",
          "In Person",
          "In Person",
          "In Person",
          "In Person",
          "In Person",
          "In Person",
          "In Person",
          "In Person",
          "In Person",
          "In Person",
          "In Person",
          "In Person",
          "In Person",
          "Online",
          "Online",
          "Online",
          "Online",
          "Online",
          "Online",
          "Online",
          "Online",
          "Online",
          "Online",
          "Online",
          "Online",
          "Online",
          "Online",
          "Online",
          "Online",
          "Online",
          "Online",
          "Online",
          "Online",
          "Online",
          "Online",
          "Online",
          "Online",
          "Online",
          "Online",
          "Online",
          "Online",
          "Online",
          "Online",
          "Online",
          "Online",
          "In Person",
          "In Person",
          "In Person",
          "In Person",
          "In Person",
          "In Person",
          "In Person",
          "In Person",
          "In Person",
          "In Person",
          "In Person",
          "In Person",
          "In Person",
          "In Person",
          "In Person",
          "In Person",
          "In Person",
          "In Person",
          "In Person",
          "In Person",
          "In Person",
          "In Person",
          "In Person",
          "In Person",
          "In Person",
          "In Person",
          "In Person",
          "In Person",
          "In Person",
          "In Person",
          "In Person",
          "Online",
          "Online",
          "Online",
          "Online",
          "Online",
          "Online",
          "Online",
          "Online",
          "Online",
          "Online",
          "Online",
          "Online",
          "Online",
          "Online",
          "Online",
          "Online",
          "Online",
          "Online",
          "Online",
          "Online",
          "Online",
          "Online",
          "Online",
          "Online",
          "Online",
          "Online",
          "Online",
          "Online",
          "Online",
          "Online",
          "Online",
          "Online",
          "In Person",
          "In Person",
          "In Person",
          "In Person",
          "In Person",
          "In Person",
          "In Person",
          "In Person",
          "In Person",
          "In Person",
          "In Person",
          "In Person",
          "In Person",
          "In Person",
          "In Person",
          "In Person",
          "In Person",
          "In Person",
          "In Person",
          "In Person",
          "In Person",
          "In Person",
          "In Person",
          "In Person",
          "In Person",
          "In Person",
          "In Person",
          "Online",
          "Online",
          "Online",
          "Online",
          "Online",
          "Online",
          "Online",
          "Online",
          "Online",
          "Online",
          "Online",
          "Online",
          "Online",
          "Online",
          "Online",
          "Online",
          "Online",
          "Online",
          "Online",
          "Online",
          "Online",
          "Online",
          "Online",
          "Online",
          "Online",
          "Online",
          "In Person",
          "In Person",
          "In Person",
          "In Person",
          "In Person",
          "In Person",
          "In Person",
          "In Person",
          "In Person",
          "In Person",
          "In Person",
          "In Person",
          "In Person",
          "In Person",
          "In Person",
          "In Person",
          "In Person",
          "In Person",
          "In Person",
          "In Person",
          "In Person",
          "In Person",
          "In Person",
          "In Person",
          "In Person",
          "In Person",
          "In Person",
          "In Person",
          "In Person",
          "Online",
          "Online",
          "Online",
          "Online",
          "Online",
          "Online",
          "Online",
          "Online",
          "Online",
          "Online",
          "Online",
          "Online",
          "Online",
          "Online",
          "Online",
          "Online",
          "Online",
          "In Person",
          "In Person",
          "In Person",
          "In Person",
          "In Person",
          "In Person",
          "In Person",
          "In Person",
          "In Person",
          "In Person",
          "In Person",
          "In Person",
          "In Person",
          "In Person",
          "In Person",
          "In Person",
          "In Person",
          "In Person",
          "In Person",
          "In Person",
          "In Person",
          "In Person",
          "In Person",
          "In Person",
          "In Person",
          "In Person",
          "In Person",
          "Online",
          "Online",
          "Online",
          "Online",
          "Online",
          "Online",
          "Online",
          "Online",
          "Online",
          "Online",
          "Online",
          "Online",
          "Online",
          "Online",
          "Online",
          "Online",
          "Online",
          "Online",
          "Online",
          "Online",
          "Online",
          "Online",
          "Online",
          "Online",
          "Online",
          "Online",
          "Online",
          "Online",
          "Online",
          "Online",
          "Online",
          "In Person",
          "In Person",
          "In Person",
          "In Person",
          "In Person",
          "In Person",
          "In Person",
          "In Person",
          "In Person",
          "In Person",
          "In Person",
          "In Person",
          "In Person",
          "In Person",
          "In Person",
          "In Person",
          "In Person",
          "In Person",
          "In Person",
          "In Person",
          "In Person",
          "In Person",
          "In Person",
          "In Person",
          "In Person",
          "In Person",
          "In Person",
          "In Person",
          "Online",
          "Online",
          "Online",
          "Online",
          "Online",
          "Online",
          "Online",
          "Online",
          "Online",
          "Online",
          "Online",
          "Online",
          "Online",
          "Online",
          "Online",
          "Online",
          "Online",
          "Online",
          "Online",
          "Online",
          "Online",
          "Online",
          "Online",
          "Online",
          "Online",
          "Online",
          "Online",
          "Online",
          "Online",
          "Online",
          "Online",
          "Online",
          "Online",
          "Online",
          "Online",
          "Online",
          "Online",
          "Online",
          "Online",
          "Online",
          "In Person",
          "In Person",
          "In Person",
          "In Person",
          "In Person",
          "In Person",
          "In Person",
          "In Person",
          "In Person",
          "In Person",
          "In Person",
          "In Person",
          "In Person",
          "In Person",
          "In Person",
          "In Person",
          "In Person",
          "In Person",
          "In Person",
          "In Person",
          "In Person",
          "In Person",
          "In Person",
          "In Person",
          "In Person",
          "In Person",
          "In Person",
          "In Person",
          "In Person",
          "In Person",
          "In Person",
          "In Person",
          "In Person",
          "In Person",
          "In Person",
          "In Person",
          "In Person",
          "In Person",
          "In Person",
          "In Person",
          "In Person",
          "In Person",
          "Online",
          "Online",
          "Online",
          "Online",
          "Online",
          "Online",
          "Online",
          "Online",
          "Online",
          "Online",
          "Online",
          "Online",
          "Online",
          "Online",
          "Online",
          "Online",
          "Online",
          "Online",
          "Online",
          "Online",
          "Online",
          "Online",
          "Online",
          "Online",
          "Online",
          "Online",
          "Online",
          "Online",
          "Online",
          "Online",
          "Online",
          "Online",
          "Online",
          "Online",
          "Online",
          "Online",
          "Online",
          "Online",
          "Online",
          "Online",
          "Online",
          "Online",
          "Online",
          "Online",
          "Online",
          "Online",
          "Online",
          "Online",
          "Online",
          "Online",
          "Online",
          "Online",
          "Online",
          "Online",
          "Online",
          "Online",
          "Online",
          "Online",
          "Online",
          "Online",
          "Online",
          "Online",
          "Online",
          "Online",
          "Online",
          "Online",
          "Online",
          "Online",
          "Online",
          "Online",
          "Online",
          "Online",
          "Online",
          "Online",
          "Online",
          "Online",
          "Online",
          "Online",
          "Online",
          "Online",
          "Online",
          "Online",
          "Online",
          "Online",
          "Online",
          "Online",
          "Online",
          "Online",
          "Online",
          "Online",
          "Online",
          "Online",
          "Online",
          "Online",
          "Online",
          "Online",
          "Online",
          "Online",
          "Online",
          "Online",
          "Online",
          "Online",
          "Online",
          "Online",
          "Online",
          "Online",
          "Online",
          "Online",
          "Online",
          "Online",
          "Online",
          "Online",
          "Online",
          "Online",
          "Online",
          "Online",
          "Online",
          "Online",
          "Online",
          "Online",
          "Online",
          "Online",
          "Online",
          "Online",
          "Online",
          "Online",
          "Online",
          "Online",
          "Online",
          "Online",
          "Online",
          "Online",
          "Online",
          "Online",
          "Online",
          "Online",
          "Online",
          "Online",
          "Online",
          "Online",
          "Online",
          "Online",
          "Online",
          "Online",
          "Online",
          "Online",
          "Online",
          "Online",
          "Online",
          "Online",
          "Online",
          "Online",
          "Online",
          "Online",
          "Online",
          "Online",
          "Online",
          "Online",
          "Online",
          "Online",
          "Online",
          "Online",
          "Online",
          "Online",
          "Online",
          "Online",
          "Online",
          "Online",
          "Online",
          "Online",
          "Online",
          "Online",
          "Online",
          "Online",
          "Online",
          "Online",
          "Online",
          "Online",
          "Online",
          "Online",
          "Online",
          "Online",
          "Online",
          "Online",
          "Online",
          "Online",
          "Online",
          "Online",
          "Online",
          "Online",
          "Online",
          "Online",
          "Online",
          "Online",
          "Online",
          "Online",
          "Online",
          "Online",
          "Online",
          "Online",
          "Online",
          "Online",
          "Online",
          "Online",
          "Online",
          "Online",
          "Online",
          "Online",
          "Online",
          "Online",
          "Online",
          "Online",
          "Online",
          "Online",
          "Online",
          "Online",
          "Online",
          "Online",
          "Online",
          "Online",
          "Online",
          "Online",
          "Online",
          "Online",
          "Online",
          "Online",
          "Online",
          "Online",
          "Online",
          "Online",
          "Online",
          "Online",
          "Online",
          "Online",
          "Online",
          "Online",
          "Online",
          "Online",
          "Online",
          "Online",
          "Online",
          "Online",
          "Online",
          "Online",
          "Online",
          "Online",
          "Online",
          "Online",
          "Online",
          "Online",
          "Online",
          "Online",
          "Online",
          "Online",
          "Online",
          "Online",
          "Online",
          "Online",
          "Online",
          "Online",
          "Online",
          "Online",
          "Online",
          "Online",
          "Online",
          "Online",
          "Online",
          "Online",
          "Online",
          "Online",
          "Online",
          "Online",
          "Online",
          "Online",
          "Online",
          "Online",
          "Online",
          "Online",
          "Online",
          "Online",
          "Online",
          "Online",
          "Online",
          "Online",
          "Online",
          "Online",
          "Online",
          "Online",
          "Online",
          "Online",
          "Online",
          "Online",
          "Online",
          "Online",
          "Online",
          "Online",
          "Online",
          "Online",
          "Online",
          "Online",
          "Online",
          "Online",
          "Online",
          "Online",
          "Online",
          "Online",
          "Online",
          "Online",
          "Online",
          "Online",
          "In Person",
          "In Person",
          "In Person",
          "In Person",
          "In Person",
          "In Person",
          "In Person",
          "In Person",
          "In Person",
          "In Person",
          "In Person",
          "In Person",
          "In Person",
          "In Person",
          "In Person",
          "In Person",
          "In Person",
          "In Person",
          "In Person",
          "In Person",
          "In Person",
          "In Person",
          "In Person",
          "In Person",
          "In Person",
          "In Person",
          "In Person",
          "In Person",
          "In Person",
          "In Person",
          "In Person",
          "In Person",
          "In Person",
          "In Person",
          "In Person",
          "In Person",
          "In Person",
          "In Person",
          "In Person",
          "In Person",
          "In Person",
          "In Person",
          "In Person",
          "In Person",
          "In Person",
          "In Person",
          "In Person",
          "In Person",
          "In Person",
          "In Person",
          "In Person",
          "In Person",
          "In Person",
          "In Person",
          "In Person",
          "In Person",
          "In Person",
          "In Person",
          "In Person",
          "In Person",
          "In Person",
          "In Person",
          "In Person",
          "In Person",
          "In Person",
          "In Person",
          "In Person",
          "In Person",
          "In Person",
          "In Person",
          "In Person",
          "In Person",
          "In Person",
          "In Person",
          "In Person",
          "In Person",
          "In Person",
          "In Person",
          "In Person",
          "In Person",
          "In Person",
          "In Person",
          "In Person",
          "In Person",
          "In Person",
          "In Person",
          "In Person",
          "In Person",
          "In Person",
          "In Person",
          "In Person",
          "In Person",
          "In Person",
          "In Person",
          "In Person",
          "In Person",
          "In Person",
          "In Person",
          "In Person",
          "Online",
          "Online",
          "Online",
          "Online",
          "Online",
          "Online",
          "Online",
          "Online",
          "Online",
          "Online",
          "Online",
          "Online",
          "Online",
          "Online",
          "Online",
          "Online",
          "Online",
          "Online",
          "Online",
          "Online",
          "Online",
          "Online",
          "Online",
          "Online",
          "Online",
          "Online",
          "Online",
          "Online",
          "Online",
          "Online",
          "Online",
          "Online",
          "Online",
          "Online",
          "Online",
          "Online",
          "Online",
          "Online",
          "Online",
          "Online",
          "Online",
          "Online",
          "Online",
          "Online",
          "Online",
          "Online",
          "Online",
          "Online",
          "Online",
          "Online",
          "Online",
          "Online",
          "Online",
          "Online",
          "Online",
          "Online",
          "Online",
          "Online",
          "Online",
          "Online",
          "Online",
          "Online",
          "Online",
          "Online",
          "Online",
          "Online",
          "Online",
          "Online",
          "Online",
          "Online",
          "Online",
          "Online",
          "Online",
          "Online",
          "Online",
          "Online",
          "Online",
          "Online",
          "Online",
          "Online",
          "Online",
          "Online",
          "Online",
          "Online",
          "Online",
          "Online",
          "Online",
          "Online",
          "Online",
          "Online",
          "Online",
          "Online",
          "Online",
          "Online",
          "Online",
          "Online",
          "Online",
          "Online",
          "Online",
          "Online",
          "Online",
          "Online",
          "Online",
          "Online",
          "Online",
          "Online",
          "Online",
          "Online",
          "Online",
          "Online",
          "Online",
          "Online",
          "Online",
          "Online",
          "Online",
          "Online",
          "Online",
          "Online",
          "Online",
          "Online",
          "Online",
          "Online",
          "Online",
          "Online",
          "Online",
          "Online",
          "Online",
          "Online",
          "Online",
          "Online",
          "Online",
          "Online",
          "Online",
          "Online",
          "Online",
          "Online",
          "Online",
          "Online",
          "Online",
          "Online",
          "Online",
          "Online",
          "Online",
          "Online",
          "Online",
          "Online",
          "Online",
          "Online",
          "Online",
          "Online",
          "Online",
          "Online",
          "Online",
          "Online",
          "Online",
          "Online",
          "Online",
          "Online",
          "Online",
          "Online",
          "Online",
          "Online",
          "Online",
          "Online",
          "Online",
          "Online",
          "Online",
          "Online",
          "Online",
          "Online",
          "Online",
          "Online",
          "Online",
          "Online",
          "Online",
          "Online",
          "Online",
          "Online",
          "Online",
          "Online",
          "Online",
          "Online",
          "Online",
          "Online",
          "Online",
          "Online",
          "Online",
          "Online",
          "Online",
          "Online",
          "Online",
          "Online",
          "Online",
          "Online",
          "Online",
          "Online",
          "Online",
          "Online",
          "Online",
          "Online",
          "Online",
          "Online",
          "Online",
          "Online",
          "Online",
          "Online",
          "Online",
          "Online",
          "Online",
          "Online",
          "Online",
          "Online",
          "Online",
          "Online",
          "Online",
          "Online",
          "Online",
          "Online",
          "Online",
          "Online",
          "Online",
          "Online",
          "Online",
          "Online",
          "Online",
          "Online",
          "Online",
          "Online",
          "Online",
          "Online",
          "Online",
          "Online",
          "Online",
          "Online",
          "Online",
          "Online",
          "Online",
          "Online",
          "Online",
          "Online",
          "Online",
          "Online",
          "Online",
          "Online",
          "Online",
          "Online",
          "Online",
          "Online",
          "Online",
          "Online",
          "Online",
          "Online",
          "Online",
          "Online",
          "Online",
          "Online",
          "Online",
          "Online",
          "Online",
          "Online",
          "Online",
          "Online",
          "Online",
          "Online",
          "Online",
          "Online",
          "Online",
          "Online",
          "Online",
          "Online",
          "Online",
          "Online",
          "Online",
          "Online",
          "Online",
          "Online",
          "Online",
          "Online",
          "Online",
          "Online",
          "Online",
          "Online",
          "Online",
          "Online",
          "Online",
          "Online",
          "Online",
          "Online",
          "Online",
          "Online",
          "Online",
          "Online",
          "Online",
          "Online",
          "Online",
          "Online",
          "Online",
          "Online",
          "Online",
          "Online",
          "Online",
          "Online",
          "Online",
          "Online",
          "Online",
          "Online",
          "Online",
          "Online",
          "Online",
          "Online",
          "Online",
          "Online",
          "Online",
          "Online",
          "Online",
          "Online",
          "Online",
          "Online",
          "Online",
          "Online",
          "Online",
          "Online",
          "Online",
          "Online",
          "Online",
          "Online",
          "Online",
          "Online",
          "Online",
          "Online",
          "Online",
          "Online",
          "Online",
          "Online",
          "Online",
          "Online",
          "Online",
          "Online",
          "Online",
          "Online",
          "Online",
          "Online",
          "Online",
          "Online",
          "Online",
          "Online",
          "Online",
          "Online",
          "Online",
          "Online",
          "Online",
          "Online",
          "Online",
          "Online",
          "Online",
          "Online",
          "Online",
          "Online",
          "Online",
          "Online",
          "Online",
          "Online",
          "Online",
          "Online",
          "Online",
          "Online",
          "Online",
          "Online",
          "Online",
          "Online",
          "Online",
          "Online",
          "Online",
          "Online",
          "Online",
          "Online",
          "Online",
          "Online",
          "Online",
          "Online",
          "Online",
          "Online",
          "Online",
          "Online",
          "Online",
          "Online",
          "Online",
          "Online",
          "Online",
          "Online",
          "Online",
          "Online",
          "Online",
          "Online",
          "Online",
          "Online",
          "Online",
          "Online",
          "Online",
          "Online",
          "Online",
          "Online",
          "Online",
          "Online",
          "Online",
          "Online",
          "Online",
          "Online",
          "Online",
          "Online",
          "Online",
          "Online",
          "Online",
          "Online",
          "Online",
          "Online",
          "Online",
          "Online",
          "Online",
          "Online",
          "Online",
          "Online",
          "Online",
          "Online",
          "Online",
          "Online",
          "Online",
          "Online",
          "Online",
          "Online",
          "Online",
          "Online",
          "Online",
          "Online",
          "Online",
          "Online",
          "Online",
          "Online",
          "Online",
          "Online",
          "Online",
          "Online",
          "Online",
          "Online",
          "Online",
          "Online",
          "Online",
          "Online",
          "Online",
          "Online",
          "Online",
          "Online",
          "Online",
          "Online",
          "Online",
          "Online",
          "Online",
          "Online",
          "Online",
          "Online",
          "Online",
          "Online",
          "Online",
          "Online",
          "Online",
          "Online",
          "Online",
          "Online",
          "Online",
          "Online",
          "Online",
          "Online",
          "Online",
          "Online",
          "Online",
          "Online",
          "Online",
          "Online",
          "Online",
          "Online",
          "Online",
          "Online",
          "Online",
          "Online",
          "Online",
          "Online",
          "Online",
          "Online",
          "Online",
          "Online",
          "Online",
          "Online",
          "Online",
          "Online",
          "Online",
          "Online",
          "Online",
          "Online",
          "Online",
          "Online",
          "Online",
          "Online",
          "Online",
          "Online",
          "Online",
          "Online",
          "Online",
          "Online",
          "Online",
          "Online",
          "Online",
          "Online",
          "Online",
          "Online",
          "Online",
          "Online",
          "Online",
          "Online",
          "Online",
          "Online",
          "Online",
          "Online",
          "Online",
          "Online",
          "Online",
          "Online",
          "Online",
          "Online",
          "Online",
          "Online",
          "Online",
          "Online",
          "Online",
          "Online",
          "Online",
          "Online",
          "Online",
          "Online",
          "Online",
          "Online",
          "Online",
          "Online",
          "Online",
          "Online",
          "Online",
          "Online",
          "Online",
          "Online",
          "Online",
          "Online",
          "Online",
          "Online",
          "Online",
          "Online",
          "Online",
          "Online",
          "Online",
          "Online",
          "Online",
          "Online",
          "Online",
          "Online",
          "Online",
          "Online",
          "Online",
          "Online",
          "Online",
          "Online",
          "Online",
          "Online",
          "Online",
          "Online",
          "Online",
          "Online",
          "Online",
          "Online",
          "Online",
          "Online",
          "Online",
          "Online",
          "Online",
          "Online",
          "Online",
          "Online",
          "Online",
          "Online",
          "Online",
          "Online",
          "Online",
          "Online",
          "Online",
          "Online",
          "Online",
          "Online",
          "Online",
          "Online",
          "Online",
          "Online",
          "Online",
          "Online",
          "Online",
          "Online",
          "Online",
          "Online",
          "Online",
          "Online",
          "Online",
          "Online",
          "Online",
          "Online",
          "Online",
          "Online",
          "Online",
          "Online",
          "Online",
          "Online",
          "Online",
          "Online",
          "Online",
          "Online",
          "Online",
          "Online",
          "Online",
          "Online",
          "Online",
          "Online",
          "Online",
          "Online",
          "Online",
          "Online",
          "Online",
          "Online",
          "Online",
          "Online",
          "Online",
          "Online",
          "Online",
          "Online",
          "Online",
          "Online",
          "Online",
          "Online",
          "Online",
          "Online",
          "Online",
          "Online",
          "Online",
          "Online",
          "Online",
          "Online",
          "Online",
          "Online",
          "Online",
          "Online",
          "Online",
          "Online",
          "Online",
          "Online",
          "Online",
          "Online",
          "Online",
          "Online",
          "Online",
          "Online",
          "Online",
          "Online",
          "Online",
          "Online",
          "Online",
          "Online",
          "Online",
          "Online",
          "Online",
          "Online",
          "Online",
          "Online",
          "Online",
          "Online",
          "Online",
          "Online",
          "Online",
          "Online",
          "Online",
          "Online",
          "Online",
          "Online",
          "Online",
          "Online",
          "In Person",
          "In Person",
          "In Person",
          "In Person",
          "In Person",
          "In Person",
          "In Person",
          "In Person",
          "In Person",
          "In Person",
          "In Person",
          "In Person",
          "In Person",
          "In Person",
          "In Person",
          "In Person",
          "In Person",
          "In Person",
          "In Person",
          "In Person",
          "In Person",
          "In Person",
          "In Person",
          "In Person",
          "In Person",
          "In Person",
          "In Person",
          "In Person",
          "In Person",
          "In Person",
          "In Person",
          "In Person",
          "In Person",
          "In Person",
          "In Person",
          "In Person",
          "In Person",
          "In Person",
          "In Person",
          "In Person",
          "In Person",
          "In Person",
          "In Person",
          "In Person",
          "In Person",
          "In Person",
          "In Person",
          "In Person",
          "In Person",
          "In Person",
          "In Person",
          "In Person",
          "In Person",
          "In Person",
          "In Person",
          "In Person",
          "In Person",
          "In Person",
          "In Person",
          "In Person",
          "Online",
          "Online",
          "Online",
          "Online",
          "Online",
          "Online",
          "Online",
          "Online",
          "Online",
          "Online",
          "Online",
          "Online",
          "In Person",
          "In Person",
          "In Person",
          "In Person",
          "In Person",
          "In Person",
          "In Person",
          "In Person",
          "In Person",
          "In Person",
          "In Person",
          "In Person",
          "In Person",
          "In Person",
          "In Person",
          "In Person",
          "In Person",
          "In Person",
          "In Person",
          "In Person",
          "In Person",
          "In Person",
          "In Person",
          "In Person",
          "In Person",
          "In Person",
          "In Person",
          "In Person",
          "In Person",
          "In Person",
          "In Person",
          "In Person",
          "In Person",
          "In Person",
          "In Person",
          "In Person",
          "In Person",
          "In Person",
          "In Person",
          "In Person",
          "In Person",
          "In Person",
          "In Person",
          "In Person",
          "In Person",
          "In Person",
          "In Person",
          "In Person",
          "In Person",
          "In Person",
          "In Person",
          "In Person",
          "In Person",
          "In Person",
          "In Person",
          "In Person",
          "In Person",
          "In Person",
          "In Person",
          "In Person",
          "In Person",
          "In Person",
          "In Person",
          "In Person",
          "In Person",
          "In Person",
          "In Person",
          "In Person",
          "In Person",
          "In Person",
          "In Person",
          "In Person",
          "In Person",
          "In Person",
          "In Person",
          "In Person",
          "In Person",
          "In Person",
          "In Person",
          "Online",
          "Online",
          "Online",
          "Online",
          "Online",
          "Online",
          "Online",
          "Online",
          "Online",
          "Online",
          "Online",
          "Online",
          "Online",
          "Online",
          "Online",
          "Online",
          "Online",
          "Online",
          "Online",
          "Online",
          "Online",
          "Online",
          "Online",
          "Online",
          "Online",
          "Online",
          "Online",
          "Online",
          "Online",
          "Online",
          "Online",
          "Online",
          "Online",
          "Online",
          "Online",
          "Online",
          "Online",
          "Online",
          "Online",
          "Online",
          "Online",
          "Online",
          "Online",
          "Online",
          "Online",
          "Online",
          "Online",
          "Online",
          "Online",
          "Online",
          "Online",
          "Online",
          "Online",
          "Online",
          "Online",
          "Online",
          "Online",
          "Online",
          "Online",
          "Online",
          "Online",
          "Online",
          "Online",
          "Online",
          "Online",
          "Online",
          "Online",
          "Online",
          "Online",
          "Online",
          "Online",
          "Online",
          "Online",
          "Online",
          "Online",
          "Online",
          "Online",
          "Online",
          "Online",
          "Online",
          "Online",
          "Online",
          "Online",
          "Online",
          "Online",
          "Online",
          "Online",
          "Online",
          "Online",
          "Online",
          "Online",
          "Online",
          "Online",
          "Online",
          "Online",
          "Online",
          "Online",
          "Online",
          "Online",
          "Online",
          "Online",
          "Online",
          "Online",
          "Online",
          "Online",
          "Online",
          "Online",
          "Online",
          "Online",
          "Online",
          "Online",
          "Online",
          "Online",
          "Online",
          "In Person",
          "In Person",
          "In Person",
          "In Person",
          "In Person",
          "In Person",
          "In Person",
          "In Person",
          "In Person",
          "In Person",
          "In Person",
          "In Person",
          "In Person",
          "In Person",
          "In Person",
          "In Person",
          "In Person",
          "In Person",
          "In Person",
          "In Person",
          "In Person",
          "In Person",
          "In Person",
          "In Person",
          "In Person",
          "In Person",
          "In Person",
          "In Person",
          "In Person",
          "In Person",
          "In Person",
          "In Person",
          "In Person",
          "In Person",
          "In Person",
          "In Person",
          "In Person",
          "In Person",
          "In Person",
          "In Person",
          "In Person",
          "In Person",
          "In Person",
          "In Person",
          "In Person",
          "In Person",
          "In Person",
          "In Person",
          "In Person",
          "In Person",
          "In Person",
          "In Person",
          "Online",
          "Online",
          "Online",
          "Online",
          "Online",
          "Online",
          "Online",
          "Online",
          "In Person",
          "In Person",
          "In Person",
          "In Person",
          "In Person",
          "In Person",
          "In Person",
          "In Person",
          "In Person",
          "In Person",
          "In Person",
          "In Person",
          "In Person",
          "In Person",
          "In Person",
          "In Person",
          "In Person",
          "In Person",
          "In Person",
          "In Person",
          "In Person",
          "In Person",
          "In Person",
          "In Person",
          "In Person",
          "In Person",
          "In Person",
          "In Person",
          "In Person",
          "In Person",
          "In Person",
          "In Person",
          "In Person",
          "In Person",
          "In Person",
          "In Person",
          "In Person",
          "In Person",
          "In Person",
          "In Person",
          "In Person",
          "In Person",
          "In Person",
          "In Person",
          "In Person",
          "In Person",
          "In Person",
          "In Person",
          "In Person",
          "In Person",
          "In Person",
          "In Person",
          "In Person",
          "In Person",
          "In Person",
          "In Person",
          "In Person",
          "In Person",
          "In Person",
          "In Person",
          "In Person",
          "In Person",
          "In Person",
          "In Person",
          "In Person",
          "In Person",
          "In Person",
          "In Person",
          "In Person",
          "In Person",
          "In Person",
          "In Person",
          "In Person",
          "Online",
          "Online",
          "Online",
          "Online",
          "Online",
          "Online",
          "Online",
          "Online",
          "Online",
          "Online",
          "Online",
          "Online",
          "Online",
          "Online",
          "Online",
          "Online",
          "Online",
          "Online",
          "Online",
          "Online",
          "Online",
          "Online",
          "Online",
          "Online",
          "Online",
          "Online",
          "Online",
          "Online",
          "Online",
          "Online",
          "Online",
          "Online",
          "Online",
          "Online",
          "Online",
          "Online",
          "Online",
          "Online",
          "Online",
          "Online",
          "Online",
          "Online",
          "Online",
          "Online",
          "Online",
          "Online",
          "Online",
          "Online",
          "Online",
          "Online",
          "Online",
          "Online",
          "Online",
          "Online",
          "Online",
          "Online",
          "Online",
          "Online",
          "Online",
          "Online",
          "Online",
          "Online",
          "Online",
          "Online",
          "Online",
          "Online",
          "Online",
          "Online",
          "Online",
          "Online",
          "Online",
          "Online",
          "Online",
          "Online",
          "Online",
          "Online",
          "Online",
          "Online",
          "Online",
          "Online",
          "Online",
          "Online",
          "Online",
          "Online",
          "Online",
          "Online",
          "Online",
          "Online",
          "Online",
          "Online",
          "Online",
          "Online",
          "Online",
          "Online",
          "Online",
          "Online",
          "Online",
          "Online",
          "Online",
          "Online",
          "Online",
          "Online",
          "Online",
          "Online",
          "Online",
          "In Person",
          "In Person",
          "In Person",
          "In Person",
          "In Person",
          "In Person",
          "In Person",
          "In Person",
          "In Person",
          "In Person",
          "In Person",
          "In Person",
          "In Person",
          "In Person",
          "In Person",
          "In Person",
          "In Person",
          "In Person",
          "In Person",
          "In Person",
          "In Person",
          "In Person",
          "In Person",
          "In Person",
          "In Person",
          "In Person",
          "In Person",
          "In Person",
          "In Person",
          "In Person",
          "In Person",
          "In Person",
          "In Person",
          "In Person",
          "In Person",
          "In Person",
          "In Person",
          "In Person",
          "In Person",
          "In Person",
          "In Person",
          "In Person",
          "In Person",
          "In Person",
          "In Person",
          "In Person",
          "In Person",
          "In Person",
          "In Person",
          "In Person",
          "In Person",
          "In Person",
          "In Person",
          "Online",
          "Online",
          "Online",
          "Online",
          "Online",
          "Online",
          "Online",
          "Online",
          "Online",
          "In Person",
          "In Person",
          "In Person",
          "In Person",
          "In Person",
          "In Person",
          "In Person",
          "In Person",
          "In Person",
          "In Person",
          "In Person",
          "In Person",
          "In Person",
          "In Person",
          "In Person",
          "In Person",
          "In Person",
          "In Person",
          "In Person",
          "In Person",
          "In Person",
          "In Person",
          "In Person",
          "In Person",
          "In Person",
          "In Person",
          "In Person",
          "In Person",
          "In Person",
          "In Person",
          "In Person",
          "In Person",
          "In Person",
          "In Person",
          "In Person",
          "In Person",
          "In Person",
          "In Person",
          "In Person",
          "In Person",
          "In Person",
          "In Person",
          "In Person",
          "In Person",
          "In Person",
          "In Person",
          "In Person",
          "In Person",
          "In Person",
          "In Person",
          "In Person",
          "In Person",
          "In Person",
          "In Person",
          "In Person",
          "In Person",
          "In Person",
          "In Person",
          "In Person",
          "In Person",
          "In Person",
          "In Person",
          "In Person",
          "In Person",
          "Online",
          "Online",
          "Online",
          "Online",
          "Online",
          "Online",
          "Online",
          "Online",
          "Online",
          "Online",
          "Online",
          "Online",
          "Online",
          "Online",
          "Online",
          "Online",
          "Online",
          "Online",
          "Online",
          "Online",
          "Online",
          "Online",
          "Online",
          "Online",
          "Online",
          "Online",
          "Online",
          "Online",
          "Online",
          "Online",
          "Online",
          "Online",
          "Online",
          "Online",
          "Online",
          "Online",
          "Online",
          "Online",
          "Online",
          "Online",
          "Online",
          "Online",
          "Online",
          "Online",
          "Online",
          "Online",
          "Online",
          "Online",
          "Online",
          "Online",
          "Online",
          "Online",
          "Online",
          "Online",
          "Online",
          "Online",
          "Online",
          "Online",
          "Online",
          "Online",
          "Online",
          "Online",
          "Online",
          "Online",
          "Online",
          "Online",
          "Online",
          "Online",
          "Online",
          "Online",
          "Online",
          "Online",
          "Online",
          "Online",
          "Online",
          "Online",
          "Online",
          "Online",
          "Online",
          "Online",
          "Online",
          "Online",
          "Online",
          "Online",
          "Online",
          "Online",
          "Online",
          "Online",
          "Online",
          "Online",
          "Online",
          "Online",
          "Online",
          "In Person",
          "In Person",
          "In Person",
          "In Person",
          "In Person",
          "In Person",
          "In Person",
          "In Person",
          "In Person",
          "In Person",
          "In Person",
          "In Person",
          "In Person",
          "In Person",
          "In Person",
          "In Person",
          "In Person",
          "In Person",
          "In Person",
          "In Person",
          "In Person",
          "In Person",
          "In Person",
          "In Person",
          "In Person",
          "In Person",
          "In Person",
          "In Person",
          "In Person",
          "In Person",
          "In Person",
          "In Person",
          "In Person",
          "In Person",
          "In Person",
          "In Person",
          "In Person",
          "In Person",
          "In Person",
          "In Person",
          "In Person",
          "In Person",
          "In Person",
          "In Person",
          "In Person",
          "In Person",
          "In Person",
          "In Person",
          "In Person",
          "In Person",
          "In Person",
          "In Person",
          "In Person",
          "In Person",
          "In Person",
          "In Person",
          "In Person",
          "In Person",
          "In Person",
          "In Person",
          "In Person",
          "In Person",
          "Online",
          "Online",
          "Online",
          "Online",
          "In Person",
          "In Person",
          "In Person",
          "In Person",
          "In Person",
          "In Person",
          "In Person",
          "In Person",
          "In Person",
          "In Person",
          "In Person",
          "In Person",
          "In Person",
          "In Person",
          "In Person",
          "In Person",
          "In Person",
          "In Person",
          "In Person",
          "In Person",
          "In Person",
          "In Person",
          "In Person",
          "In Person",
          "In Person",
          "In Person",
          "In Person",
          "In Person",
          "In Person",
          "In Person",
          "In Person",
          "In Person",
          "In Person",
          "In Person",
          "In Person",
          "In Person",
          "In Person",
          "In Person",
          "In Person",
          "In Person",
          "In Person",
          "In Person",
          "In Person",
          "In Person",
          "In Person",
          "In Person",
          "In Person",
          "In Person",
          "In Person",
          "In Person",
          "In Person",
          "In Person",
          "In Person",
          "In Person",
          "In Person",
          "In Person",
          "In Person",
          "In Person",
          "In Person",
          "In Person",
          "Online",
          "Online",
          "Online",
          "Online",
          "Online",
          "Online",
          "Online",
          "Online",
          "Online",
          "Online",
          "Online",
          "Online",
          "Online",
          "Online",
          "Online",
          "Online",
          "Online",
          "Online",
          "Online",
          "Online",
          "Online",
          "Online",
          "Online",
          "Online",
          "Online",
          "Online",
          "Online",
          "Online",
          "Online",
          "Online",
          "Online",
          "Online",
          "Online",
          "Online",
          "Online",
          "Online",
          "Online",
          "Online",
          "Online",
          "Online",
          "Online",
          "Online",
          "Online",
          "Online",
          "Online",
          "Online",
          "Online",
          "Online",
          "Online",
          "Online",
          "Online",
          "Online",
          "Online",
          "Online",
          "Online",
          "Online",
          "Online",
          "Online",
          "Online",
          "Online",
          "Online",
          "Online",
          "In Person",
          "In Person",
          "In Person",
          "In Person",
          "In Person",
          "In Person",
          "In Person",
          "In Person",
          "In Person",
          "In Person",
          "In Person",
          "In Person",
          "In Person",
          "In Person",
          "In Person",
          "In Person",
          "In Person",
          "In Person",
          "In Person",
          "In Person",
          "In Person",
          "In Person",
          "In Person",
          "In Person",
          "In Person",
          "In Person",
          "In Person",
          "In Person",
          "In Person",
          "In Person",
          "In Person",
          "In Person",
          "In Person",
          "In Person",
          "In Person",
          "In Person",
          "In Person",
          "In Person",
          "In Person",
          "In Person",
          "In Person",
          "In Person",
          "In Person",
          "In Person",
          "In Person",
          "In Person",
          "In Person",
          "In Person",
          "In Person",
          "In Person",
          "In Person",
          "Online",
          "Online",
          "Online",
          "Online",
          "Online",
          "Online",
          "Online",
          "In Person",
          "In Person",
          "In Person",
          "In Person",
          "In Person",
          "In Person",
          "In Person",
          "In Person",
          "In Person",
          "In Person",
          "In Person",
          "In Person",
          "In Person",
          "In Person",
          "In Person",
          "In Person",
          "In Person",
          "In Person",
          "In Person",
          "In Person",
          "In Person",
          "In Person",
          "In Person",
          "In Person",
          "In Person",
          "In Person",
          "In Person",
          "In Person",
          "In Person",
          "In Person",
          "In Person",
          "In Person",
          "In Person",
          "In Person",
          "In Person",
          "Online",
          "Online",
          "Online",
          "Online",
          "Online",
          "Online",
          "Online",
          "Online",
          "Online",
          "Online",
          "Online",
          "Online",
          "Online",
          "Online",
          "Online",
          "Online",
          "Online",
          "Online",
          "Online",
          "Online",
          "Online",
          "Online",
          "Online",
          "Online",
          "Online",
          "Online",
          "Online",
          "Online",
          "Online",
          "Online",
          "Online",
          "Online",
          "Online",
          "Online",
          "Online",
          "Online",
          "Online",
          "Online",
          "Online",
          "Online",
          "Online",
          "Online",
          "Online",
          "Online",
          "Online",
          "Online",
          "Online",
          "Online",
          "Online",
          "Online",
          "Online",
          "Online",
          "Online",
          "Online",
          "Online",
          "Online",
          "Online",
          "Online",
          "Online",
          "Online",
          "Online",
          "Online",
          "Online",
          "Online",
          "Online",
          "Online",
          "Online",
          "Online",
          "Online",
          "Online",
          "Online",
          "Online",
          "Online",
          "Online",
          "Online",
          "Online",
          "Online",
          "Online",
          "Online",
          "Online",
          "Online",
          "Online",
          "Online",
          "Online",
          "Online",
          "Online",
          "Online",
          "Online",
          "Online",
          "Online",
          "Online",
          "Online",
          "Online",
          "Online",
          "Online",
          "Online",
          "Online",
          "Online",
          "Online",
          "Online",
          "Online",
          "Online",
          "Online",
          "In Person",
          "In Person",
          "In Person",
          "In Person",
          "In Person",
          "In Person",
          "In Person",
          "In Person",
          "In Person",
          "In Person",
          "In Person",
          "In Person",
          "In Person",
          "In Person",
          "In Person",
          "In Person",
          "In Person",
          "In Person",
          "In Person",
          "In Person",
          "In Person",
          "In Person",
          "In Person",
          "In Person",
          "In Person",
          "In Person",
          "In Person",
          "In Person",
          "In Person",
          "In Person",
          "In Person",
          "In Person",
          "In Person",
          "In Person",
          "In Person",
          "Online",
          "Online",
          "In Person",
          "In Person",
          "In Person",
          "In Person",
          "In Person",
          "In Person",
          "In Person",
          "In Person",
          "In Person",
          "In Person",
          "In Person",
          "In Person",
          "In Person",
          "In Person",
          "In Person",
          "In Person",
          "In Person",
          "In Person",
          "In Person",
          "In Person",
          "In Person",
          "In Person",
          "In Person",
          "In Person",
          "In Person",
          "In Person",
          "In Person",
          "In Person",
          "In Person",
          "In Person",
          "In Person",
          "In Person",
          "In Person",
          "In Person",
          "In Person",
          "In Person",
          "In Person",
          "In Person",
          "In Person",
          "In Person",
          "In Person",
          "In Person",
          "In Person",
          "In Person",
          "In Person",
          "In Person",
          "In Person",
          "In Person",
          "In Person",
          "In Person",
          "In Person",
          "In Person",
          "In Person",
          "In Person",
          "In Person",
          "In Person",
          "In Person",
          "In Person",
          "In Person",
          "In Person",
          "In Person",
          "In Person",
          "In Person",
          "In Person",
          "In Person",
          "In Person",
          "In Person",
          "In Person",
          "In Person",
          "In Person",
          "In Person",
          "In Person",
          "In Person",
          "In Person",
          "In Person",
          "In Person",
          "In Person",
          "In Person",
          "In Person",
          "In Person",
          "In Person",
          "In Person",
          "In Person",
          "In Person",
          "In Person",
          "In Person",
          "In Person",
          "In Person",
          "In Person",
          "In Person",
          "In Person",
          "In Person",
          "In Person",
          "In Person",
          "In Person",
          "In Person",
          "In Person",
          "In Person",
          "In Person",
          "In Person",
          "In Person",
          "In Person",
          "In Person",
          "In Person",
          "In Person",
          "In Person",
          "In Person",
          "In Person",
          "Online",
          "Online",
          "Online",
          "Online",
          "Online",
          "Online",
          "Online",
          "Online",
          "Online",
          "Online",
          "Online",
          "Online",
          "Online",
          "Online",
          "Online",
          "Online",
          "Online",
          "Online",
          "Online",
          "Online",
          "Online",
          "Online",
          "Online",
          "Online",
          "Online",
          "Online",
          "Online",
          "Online",
          "Online",
          "Online",
          "Online",
          "Online",
          "Online",
          "Online",
          "Online",
          "Online",
          "Online",
          "Online",
          "Online",
          "Online",
          "Online",
          "Online",
          "Online",
          "In Person",
          "In Person",
          "In Person",
          "In Person",
          "In Person",
          "In Person",
          "Online",
          "Online",
          "Online",
          "Online",
          "Online",
          "Online",
          "Online",
          "Online",
          "Online",
          "Online",
          "Online",
          "Online",
          "Online",
          "Online",
          "Online",
          "Online",
          "Online",
          "Online",
          "Online",
          "Online",
          "Online",
          "Online",
          "Online",
          "Online",
          "In Person",
          "In Person",
          "In Person",
          "In Person",
          "In Person",
          "In Person",
          "In Person",
          "In Person",
          "In Person",
          "In Person",
          "In Person",
          "In Person",
          "In Person",
          "In Person",
          "In Person",
          "In Person",
          "In Person",
          "In Person",
          "In Person",
          "In Person",
          "In Person",
          "In Person",
          "In Person",
          "In Person",
          "In Person",
          "In Person",
          "In Person",
          "In Person",
          "In Person",
          "In Person",
          "In Person",
          "In Person",
          "In Person",
          "In Person",
          "In Person",
          "In Person",
          "In Person",
          "In Person",
          "In Person",
          "In Person",
          "In Person",
          "In Person",
          "In Person",
          "In Person",
          "In Person",
          "In Person",
          "In Person",
          "In Person",
          "In Person",
          "In Person",
          "In Person",
          "In Person",
          "In Person",
          "In Person",
          "In Person",
          "In Person",
          "In Person",
          "In Person",
          "In Person",
          "Online",
          "Online",
          "Online",
          "Online",
          "Online",
          "Online",
          "Online",
          "Online",
          "Online",
          "Online",
          "Online",
          "Online",
          "Online",
          "Online",
          "Online",
          "Online",
          "Online",
          "In Person",
          "In Person",
          "In Person",
          "In Person",
          "In Person",
          "In Person",
          "In Person",
          "In Person",
          "In Person",
          "In Person",
          "In Person",
          "In Person",
          "In Person",
          "In Person",
          "In Person",
          "In Person",
          "In Person",
          "In Person",
          "In Person",
          "In Person",
          "In Person",
          "In Person",
          "In Person",
          "In Person",
          "In Person",
          "In Person",
          "In Person",
          "In Person",
          "In Person",
          "In Person",
          "In Person",
          "In Person",
          "In Person",
          "In Person",
          "In Person",
          "In Person",
          "In Person",
          "In Person",
          "In Person",
          "In Person",
          "In Person",
          "In Person",
          "In Person",
          "In Person",
          "In Person",
          "In Person",
          "In Person",
          "In Person",
          "In Person",
          "In Person",
          "In Person",
          "In Person",
          "In Person",
          "In Person",
          "In Person",
          "In Person",
          "In Person",
          "In Person",
          "In Person",
          "In Person",
          "In Person",
          "In Person",
          "In Person",
          "In Person",
          "In Person",
          "In Person",
          "In Person",
          "In Person",
          "In Person",
          "In Person",
          "In Person",
          "In Person",
          "In Person",
          "In Person",
          "In Person",
          "In Person",
          "In Person",
          "In Person",
          "In Person",
          "In Person",
          "In Person",
          "In Person",
          "In Person",
          "In Person",
          "In Person",
          "In Person",
          "In Person",
          "In Person",
          "In Person",
          "In Person",
          "In Person",
          "In Person",
          "In Person",
          "In Person",
          "In Person",
          "In Person",
          "In Person",
          "In Person",
          "In Person",
          "In Person",
          "Online",
          "Online",
          "Online",
          "Online",
          "Online",
          "Online",
          "Online",
          "Online",
          "Online",
          "Online",
          "Online",
          "Online",
          "Online",
          "Online",
          "Online",
          "Online",
          "Online",
          "Online",
          "Online",
          "Online",
          "Online",
          "Online",
          "Online",
          "Online",
          "Online",
          "Online",
          "Online",
          "Online",
          "Online",
          "Online",
          "Online",
          "Online",
          "Online",
          "Online",
          "Online",
          "Online",
          "Online",
          "Online",
          "Online",
          "Online",
          "Online",
          "Online",
          "Online",
          "Online",
          "Online",
          "Online",
          "Online",
          "Online",
          "Online",
          "Online",
          "Online",
          "Online",
          "Online",
          "Online",
          "Online",
          "Online",
          "Online",
          "Online",
          "Online",
          "Online",
          "Online",
          "Online",
          "Online",
          "Online",
          "In Person",
          "In Person",
          "In Person",
          "In Person",
          "In Person",
          "In Person",
          "In Person",
          "In Person",
          "In Person",
          "In Person",
          "In Person",
          "In Person",
          "In Person",
          "In Person",
          "In Person",
          "In Person",
          "In Person",
          "In Person",
          "In Person",
          "In Person",
          "In Person",
          "In Person",
          "In Person",
          "In Person",
          "In Person",
          "In Person",
          "In Person",
          "In Person",
          "In Person",
          "In Person",
          "In Person",
          "In Person",
          "In Person",
          "In Person",
          "In Person",
          "In Person",
          "In Person",
          "In Person",
          "In Person",
          "In Person",
          "In Person",
          "In Person",
          "In Person",
          "In Person",
          "In Person",
          "In Person",
          "In Person",
          "In Person",
          "In Person",
          "In Person",
          "In Person",
          "In Person",
          "In Person",
          "In Person",
          "Online",
          "Online",
          "Online",
          "Online",
          "Online",
          "Online",
          "Online",
          "Online",
          "Online",
          "Online",
          "Online",
          "Online",
          "Online",
          "Online",
          "Online",
          "Online",
          "Online",
          "Online"
         ],
         "legendgroup": "",
         "name": "",
         "showlegend": true,
         "type": "pie"
        }
       ],
       "layout": {
        "legend": {
         "tracegroupgap": 0
        },
        "template": {
         "data": {
          "bar": [
           {
            "error_x": {
             "color": "#2a3f5f"
            },
            "error_y": {
             "color": "#2a3f5f"
            },
            "marker": {
             "line": {
              "color": "#E5ECF6",
              "width": 0.5
             },
             "pattern": {
              "fillmode": "overlay",
              "size": 10,
              "solidity": 0.2
             }
            },
            "type": "bar"
           }
          ],
          "barpolar": [
           {
            "marker": {
             "line": {
              "color": "#E5ECF6",
              "width": 0.5
             },
             "pattern": {
              "fillmode": "overlay",
              "size": 10,
              "solidity": 0.2
             }
            },
            "type": "barpolar"
           }
          ],
          "carpet": [
           {
            "aaxis": {
             "endlinecolor": "#2a3f5f",
             "gridcolor": "white",
             "linecolor": "white",
             "minorgridcolor": "white",
             "startlinecolor": "#2a3f5f"
            },
            "baxis": {
             "endlinecolor": "#2a3f5f",
             "gridcolor": "white",
             "linecolor": "white",
             "minorgridcolor": "white",
             "startlinecolor": "#2a3f5f"
            },
            "type": "carpet"
           }
          ],
          "choropleth": [
           {
            "colorbar": {
             "outlinewidth": 0,
             "ticks": ""
            },
            "type": "choropleth"
           }
          ],
          "contour": [
           {
            "colorbar": {
             "outlinewidth": 0,
             "ticks": ""
            },
            "colorscale": [
             [
              0,
              "#0d0887"
             ],
             [
              0.1111111111111111,
              "#46039f"
             ],
             [
              0.2222222222222222,
              "#7201a8"
             ],
             [
              0.3333333333333333,
              "#9c179e"
             ],
             [
              0.4444444444444444,
              "#bd3786"
             ],
             [
              0.5555555555555556,
              "#d8576b"
             ],
             [
              0.6666666666666666,
              "#ed7953"
             ],
             [
              0.7777777777777778,
              "#fb9f3a"
             ],
             [
              0.8888888888888888,
              "#fdca26"
             ],
             [
              1,
              "#f0f921"
             ]
            ],
            "type": "contour"
           }
          ],
          "contourcarpet": [
           {
            "colorbar": {
             "outlinewidth": 0,
             "ticks": ""
            },
            "type": "contourcarpet"
           }
          ],
          "heatmap": [
           {
            "colorbar": {
             "outlinewidth": 0,
             "ticks": ""
            },
            "colorscale": [
             [
              0,
              "#0d0887"
             ],
             [
              0.1111111111111111,
              "#46039f"
             ],
             [
              0.2222222222222222,
              "#7201a8"
             ],
             [
              0.3333333333333333,
              "#9c179e"
             ],
             [
              0.4444444444444444,
              "#bd3786"
             ],
             [
              0.5555555555555556,
              "#d8576b"
             ],
             [
              0.6666666666666666,
              "#ed7953"
             ],
             [
              0.7777777777777778,
              "#fb9f3a"
             ],
             [
              0.8888888888888888,
              "#fdca26"
             ],
             [
              1,
              "#f0f921"
             ]
            ],
            "type": "heatmap"
           }
          ],
          "heatmapgl": [
           {
            "colorbar": {
             "outlinewidth": 0,
             "ticks": ""
            },
            "colorscale": [
             [
              0,
              "#0d0887"
             ],
             [
              0.1111111111111111,
              "#46039f"
             ],
             [
              0.2222222222222222,
              "#7201a8"
             ],
             [
              0.3333333333333333,
              "#9c179e"
             ],
             [
              0.4444444444444444,
              "#bd3786"
             ],
             [
              0.5555555555555556,
              "#d8576b"
             ],
             [
              0.6666666666666666,
              "#ed7953"
             ],
             [
              0.7777777777777778,
              "#fb9f3a"
             ],
             [
              0.8888888888888888,
              "#fdca26"
             ],
             [
              1,
              "#f0f921"
             ]
            ],
            "type": "heatmapgl"
           }
          ],
          "histogram": [
           {
            "marker": {
             "pattern": {
              "fillmode": "overlay",
              "size": 10,
              "solidity": 0.2
             }
            },
            "type": "histogram"
           }
          ],
          "histogram2d": [
           {
            "colorbar": {
             "outlinewidth": 0,
             "ticks": ""
            },
            "colorscale": [
             [
              0,
              "#0d0887"
             ],
             [
              0.1111111111111111,
              "#46039f"
             ],
             [
              0.2222222222222222,
              "#7201a8"
             ],
             [
              0.3333333333333333,
              "#9c179e"
             ],
             [
              0.4444444444444444,
              "#bd3786"
             ],
             [
              0.5555555555555556,
              "#d8576b"
             ],
             [
              0.6666666666666666,
              "#ed7953"
             ],
             [
              0.7777777777777778,
              "#fb9f3a"
             ],
             [
              0.8888888888888888,
              "#fdca26"
             ],
             [
              1,
              "#f0f921"
             ]
            ],
            "type": "histogram2d"
           }
          ],
          "histogram2dcontour": [
           {
            "colorbar": {
             "outlinewidth": 0,
             "ticks": ""
            },
            "colorscale": [
             [
              0,
              "#0d0887"
             ],
             [
              0.1111111111111111,
              "#46039f"
             ],
             [
              0.2222222222222222,
              "#7201a8"
             ],
             [
              0.3333333333333333,
              "#9c179e"
             ],
             [
              0.4444444444444444,
              "#bd3786"
             ],
             [
              0.5555555555555556,
              "#d8576b"
             ],
             [
              0.6666666666666666,
              "#ed7953"
             ],
             [
              0.7777777777777778,
              "#fb9f3a"
             ],
             [
              0.8888888888888888,
              "#fdca26"
             ],
             [
              1,
              "#f0f921"
             ]
            ],
            "type": "histogram2dcontour"
           }
          ],
          "mesh3d": [
           {
            "colorbar": {
             "outlinewidth": 0,
             "ticks": ""
            },
            "type": "mesh3d"
           }
          ],
          "parcoords": [
           {
            "line": {
             "colorbar": {
              "outlinewidth": 0,
              "ticks": ""
             }
            },
            "type": "parcoords"
           }
          ],
          "pie": [
           {
            "automargin": true,
            "type": "pie"
           }
          ],
          "scatter": [
           {
            "fillpattern": {
             "fillmode": "overlay",
             "size": 10,
             "solidity": 0.2
            },
            "type": "scatter"
           }
          ],
          "scatter3d": [
           {
            "line": {
             "colorbar": {
              "outlinewidth": 0,
              "ticks": ""
             }
            },
            "marker": {
             "colorbar": {
              "outlinewidth": 0,
              "ticks": ""
             }
            },
            "type": "scatter3d"
           }
          ],
          "scattercarpet": [
           {
            "marker": {
             "colorbar": {
              "outlinewidth": 0,
              "ticks": ""
             }
            },
            "type": "scattercarpet"
           }
          ],
          "scattergeo": [
           {
            "marker": {
             "colorbar": {
              "outlinewidth": 0,
              "ticks": ""
             }
            },
            "type": "scattergeo"
           }
          ],
          "scattergl": [
           {
            "marker": {
             "colorbar": {
              "outlinewidth": 0,
              "ticks": ""
             }
            },
            "type": "scattergl"
           }
          ],
          "scattermapbox": [
           {
            "marker": {
             "colorbar": {
              "outlinewidth": 0,
              "ticks": ""
             }
            },
            "type": "scattermapbox"
           }
          ],
          "scatterpolar": [
           {
            "marker": {
             "colorbar": {
              "outlinewidth": 0,
              "ticks": ""
             }
            },
            "type": "scatterpolar"
           }
          ],
          "scatterpolargl": [
           {
            "marker": {
             "colorbar": {
              "outlinewidth": 0,
              "ticks": ""
             }
            },
            "type": "scatterpolargl"
           }
          ],
          "scatterternary": [
           {
            "marker": {
             "colorbar": {
              "outlinewidth": 0,
              "ticks": ""
             }
            },
            "type": "scatterternary"
           }
          ],
          "surface": [
           {
            "colorbar": {
             "outlinewidth": 0,
             "ticks": ""
            },
            "colorscale": [
             [
              0,
              "#0d0887"
             ],
             [
              0.1111111111111111,
              "#46039f"
             ],
             [
              0.2222222222222222,
              "#7201a8"
             ],
             [
              0.3333333333333333,
              "#9c179e"
             ],
             [
              0.4444444444444444,
              "#bd3786"
             ],
             [
              0.5555555555555556,
              "#d8576b"
             ],
             [
              0.6666666666666666,
              "#ed7953"
             ],
             [
              0.7777777777777778,
              "#fb9f3a"
             ],
             [
              0.8888888888888888,
              "#fdca26"
             ],
             [
              1,
              "#f0f921"
             ]
            ],
            "type": "surface"
           }
          ],
          "table": [
           {
            "cells": {
             "fill": {
              "color": "#EBF0F8"
             },
             "line": {
              "color": "white"
             }
            },
            "header": {
             "fill": {
              "color": "#C8D4E3"
             },
             "line": {
              "color": "white"
             }
            },
            "type": "table"
           }
          ]
         },
         "layout": {
          "annotationdefaults": {
           "arrowcolor": "#2a3f5f",
           "arrowhead": 0,
           "arrowwidth": 1
          },
          "autotypenumbers": "strict",
          "coloraxis": {
           "colorbar": {
            "outlinewidth": 0,
            "ticks": ""
           }
          },
          "colorscale": {
           "diverging": [
            [
             0,
             "#8e0152"
            ],
            [
             0.1,
             "#c51b7d"
            ],
            [
             0.2,
             "#de77ae"
            ],
            [
             0.3,
             "#f1b6da"
            ],
            [
             0.4,
             "#fde0ef"
            ],
            [
             0.5,
             "#f7f7f7"
            ],
            [
             0.6,
             "#e6f5d0"
            ],
            [
             0.7,
             "#b8e186"
            ],
            [
             0.8,
             "#7fbc41"
            ],
            [
             0.9,
             "#4d9221"
            ],
            [
             1,
             "#276419"
            ]
           ],
           "sequential": [
            [
             0,
             "#0d0887"
            ],
            [
             0.1111111111111111,
             "#46039f"
            ],
            [
             0.2222222222222222,
             "#7201a8"
            ],
            [
             0.3333333333333333,
             "#9c179e"
            ],
            [
             0.4444444444444444,
             "#bd3786"
            ],
            [
             0.5555555555555556,
             "#d8576b"
            ],
            [
             0.6666666666666666,
             "#ed7953"
            ],
            [
             0.7777777777777778,
             "#fb9f3a"
            ],
            [
             0.8888888888888888,
             "#fdca26"
            ],
            [
             1,
             "#f0f921"
            ]
           ],
           "sequentialminus": [
            [
             0,
             "#0d0887"
            ],
            [
             0.1111111111111111,
             "#46039f"
            ],
            [
             0.2222222222222222,
             "#7201a8"
            ],
            [
             0.3333333333333333,
             "#9c179e"
            ],
            [
             0.4444444444444444,
             "#bd3786"
            ],
            [
             0.5555555555555556,
             "#d8576b"
            ],
            [
             0.6666666666666666,
             "#ed7953"
            ],
            [
             0.7777777777777778,
             "#fb9f3a"
            ],
            [
             0.8888888888888888,
             "#fdca26"
            ],
            [
             1,
             "#f0f921"
            ]
           ]
          },
          "colorway": [
           "#636efa",
           "#EF553B",
           "#00cc96",
           "#ab63fa",
           "#FFA15A",
           "#19d3f3",
           "#FF6692",
           "#B6E880",
           "#FF97FF",
           "#FECB52"
          ],
          "font": {
           "color": "#2a3f5f"
          },
          "geo": {
           "bgcolor": "white",
           "lakecolor": "white",
           "landcolor": "#E5ECF6",
           "showlakes": true,
           "showland": true,
           "subunitcolor": "white"
          },
          "hoverlabel": {
           "align": "left"
          },
          "hovermode": "closest",
          "mapbox": {
           "style": "light"
          },
          "paper_bgcolor": "white",
          "plot_bgcolor": "#E5ECF6",
          "polar": {
           "angularaxis": {
            "gridcolor": "white",
            "linecolor": "white",
            "ticks": ""
           },
           "bgcolor": "#E5ECF6",
           "radialaxis": {
            "gridcolor": "white",
            "linecolor": "white",
            "ticks": ""
           }
          },
          "scene": {
           "xaxis": {
            "backgroundcolor": "#E5ECF6",
            "gridcolor": "white",
            "gridwidth": 2,
            "linecolor": "white",
            "showbackground": true,
            "ticks": "",
            "zerolinecolor": "white"
           },
           "yaxis": {
            "backgroundcolor": "#E5ECF6",
            "gridcolor": "white",
            "gridwidth": 2,
            "linecolor": "white",
            "showbackground": true,
            "ticks": "",
            "zerolinecolor": "white"
           },
           "zaxis": {
            "backgroundcolor": "#E5ECF6",
            "gridcolor": "white",
            "gridwidth": 2,
            "linecolor": "white",
            "showbackground": true,
            "ticks": "",
            "zerolinecolor": "white"
           }
          },
          "shapedefaults": {
           "line": {
            "color": "#2a3f5f"
           }
          },
          "ternary": {
           "aaxis": {
            "gridcolor": "white",
            "linecolor": "white",
            "ticks": ""
           },
           "baxis": {
            "gridcolor": "white",
            "linecolor": "white",
            "ticks": ""
           },
           "bgcolor": "#E5ECF6",
           "caxis": {
            "gridcolor": "white",
            "linecolor": "white",
            "ticks": ""
           }
          },
          "title": {
           "x": 0.05
          },
          "xaxis": {
           "automargin": true,
           "gridcolor": "white",
           "linecolor": "white",
           "ticks": "",
           "title": {
            "standoff": 15
           },
           "zerolinecolor": "white",
           "zerolinewidth": 2
          },
          "yaxis": {
           "automargin": true,
           "gridcolor": "white",
           "linecolor": "white",
           "ticks": "",
           "title": {
            "standoff": 15
           },
           "zerolinecolor": "white",
           "zerolinewidth": 2
          }
         }
        },
        "title": {
         "text": "Attendees by Event mode"
        }
       }
      }
     },
     "metadata": {},
     "output_type": "display_data"
    }
   ],
   "source": [
    "figure = px.pie(df, names='Format', title='Attendees by Event mode')\n",
    "figure.show()"
   ]
  },
  {
   "cell_type": "code",
   "execution_count": 29,
   "metadata": {},
   "outputs": [
    {
     "data": {
      "application/vnd.plotly.v1+json": {
       "config": {
        "plotlyServerURL": "https://plot.ly"
       },
       "data": [
        {
         "domain": {
          "x": [
           0,
           1
          ],
          "y": [
           0,
           1
          ]
         },
         "hovertemplate": "City=%{label}<extra></extra>",
         "labels": [
          "Toronto",
          "Toronto",
          "Toronto",
          "Toronto",
          "Toronto",
          "Toronto",
          "Toronto",
          "Toronto",
          "Toronto",
          "Toronto",
          "Toronto",
          "Toronto",
          "Toronto",
          "Toronto",
          "Toronto",
          "Toronto",
          "Toronto",
          "Toronto",
          "Toronto",
          "Toronto",
          "Toronto",
          "Toronto",
          "Toronto",
          "Toronto",
          "Toronto",
          "Toronto",
          "Toronto",
          "Toronto",
          "Toronto",
          "Toronto",
          "Toronto",
          "Toronto",
          "Toronto",
          "Toronto",
          "Toronto",
          "Toronto",
          "Toronto",
          "Toronto",
          "Toronto",
          "Toronto",
          "Toronto",
          "Toronto",
          "Toronto",
          "Toronto",
          "Toronto",
          "Toronto",
          "Toronto",
          "Toronto",
          "Toronto",
          "Toronto",
          "Toronto",
          "Toronto",
          "Toronto",
          "Toronto",
          "Toronto",
          "Toronto",
          "Toronto",
          "Toronto",
          "Toronto",
          "Toronto",
          "Toronto",
          "Toronto",
          "Toronto",
          "Toronto",
          "Toronto",
          "Toronto",
          "Toronto",
          "Toronto",
          "Toronto",
          "Toronto",
          "Toronto",
          "Toronto",
          "Toronto",
          "Toronto",
          "Toronto",
          "Toronto",
          "Toronto",
          "Toronto",
          "Toronto",
          "Toronto",
          "Toronto",
          "Toronto",
          "Toronto",
          "Toronto",
          "Toronto",
          "Toronto",
          "Toronto",
          "Toronto",
          "Toronto",
          "Toronto",
          "Toronto",
          "Toronto",
          "Toronto",
          "Toronto",
          "Toronto",
          "Toronto",
          "Toronto",
          "Toronto",
          "Toronto",
          "Toronto",
          "Toronto",
          "Toronto",
          "Toronto",
          "Toronto",
          "Toronto",
          "Toronto",
          "Toronto",
          "Toronto",
          "Toronto",
          "Toronto",
          "Toronto",
          "Toronto",
          "Toronto",
          "Toronto",
          "Toronto",
          "Toronto",
          "Toronto",
          "Toronto",
          "Toronto",
          "Toronto",
          "Toronto",
          "Toronto",
          "Toronto",
          "Toronto",
          "Toronto",
          "Toronto",
          "Toronto",
          "Toronto",
          "Toronto",
          "Toronto",
          "Toronto",
          "Toronto",
          "Toronto",
          "Toronto",
          "Toronto",
          "Toronto",
          "Toronto",
          "Toronto",
          "Toronto",
          "Toronto",
          "Toronto",
          "Toronto",
          "Toronto",
          "Toronto",
          "Toronto",
          "Toronto",
          "Toronto",
          "Toronto",
          "Toronto",
          "Toronto",
          "Toronto",
          "Toronto",
          "Toronto",
          "Toronto",
          "Toronto",
          "Toronto",
          "Toronto",
          "Toronto",
          "Toronto",
          "Toronto",
          "Toronto",
          "Toronto",
          "Toronto",
          "Toronto",
          "Toronto",
          "Toronto",
          "Toronto",
          "Toronto",
          "Toronto",
          "Toronto",
          "Toronto",
          "Toronto",
          "Toronto",
          "Toronto",
          "Toronto",
          "Toronto",
          "Toronto",
          "Toronto",
          "Toronto",
          "Toronto",
          "Toronto",
          "Toronto",
          "Toronto",
          "Toronto",
          "Toronto",
          "Toronto",
          "Toronto",
          "Toronto",
          "Toronto",
          "Toronto",
          "Toronto",
          "Toronto",
          "Toronto",
          "Toronto",
          "Toronto",
          "Toronto",
          "Toronto",
          "Toronto",
          "Toronto",
          "Toronto",
          "Toronto",
          "Toronto",
          "Toronto",
          "Toronto",
          "Toronto",
          "Toronto",
          "Toronto",
          "Toronto",
          "Toronto",
          "Toronto",
          "Toronto",
          "Toronto",
          "Toronto",
          "Toronto",
          "Toronto",
          "Toronto",
          "Toronto",
          "Toronto",
          "Toronto",
          "Toronto",
          "Toronto",
          "Toronto",
          "Toronto",
          "Toronto",
          "Toronto",
          "Toronto",
          "Toronto",
          "Toronto",
          "Toronto",
          "Toronto",
          "Toronto",
          "Toronto",
          "Toronto",
          "Toronto",
          "Toronto",
          "Toronto",
          "Toronto",
          "Toronto",
          "Toronto",
          "Toronto",
          "Toronto",
          "Toronto",
          "Toronto",
          "Toronto",
          "Toronto",
          "Toronto",
          "Toronto",
          "Toronto",
          "Toronto",
          "Toronto",
          "Toronto",
          "Toronto",
          "Toronto",
          "Toronto",
          "Toronto",
          "Toronto",
          "Toronto",
          "Toronto",
          "Toronto",
          "Toronto",
          "Toronto",
          "Toronto",
          "Toronto",
          "Toronto",
          "Toronto",
          "Toronto",
          "Toronto",
          "Toronto",
          "Toronto",
          "Toronto",
          "Toronto",
          "Toronto",
          "Toronto",
          "Toronto",
          "Toronto",
          "Toronto",
          "Toronto",
          "Toronto",
          "Toronto",
          "Toronto",
          "Toronto",
          "Toronto",
          "Toronto",
          "Toronto",
          "Toronto",
          "Toronto",
          "Toronto",
          "Toronto",
          "Toronto",
          "Toronto",
          "Toronto",
          "Toronto",
          "Toronto",
          "Toronto",
          "Toronto",
          "Toronto",
          "Toronto",
          "Toronto",
          "Toronto",
          "Toronto",
          "Toronto",
          "Toronto",
          "Toronto",
          "Toronto",
          "Toronto",
          "Toronto",
          "Toronto",
          "Toronto",
          "Toronto",
          "Toronto",
          "Toronto",
          "Toronto",
          "Toronto",
          "Toronto",
          "Toronto",
          "Toronto",
          "Toronto",
          "Toronto",
          "Toronto",
          "Toronto",
          "Toronto",
          "Toronto",
          "Toronto",
          "Toronto",
          "Toronto",
          "Toronto",
          "Toronto",
          "Toronto",
          "Toronto",
          "Toronto",
          "Toronto",
          "Toronto",
          "Toronto",
          "Toronto",
          "Toronto",
          "Toronto",
          "Toronto",
          "Toronto",
          "Toronto",
          "Toronto",
          "Toronto",
          "Toronto",
          "Toronto",
          "Toronto",
          "Toronto",
          "Toronto",
          "Toronto",
          "Toronto",
          "Toronto",
          "Toronto",
          "Toronto",
          "Toronto",
          "Toronto",
          "Toronto",
          "Toronto",
          "Toronto",
          "Toronto",
          "Toronto",
          "Toronto",
          "Toronto",
          "Toronto",
          "Toronto",
          "Toronto",
          "Toronto",
          "Toronto",
          "Toronto",
          "Toronto",
          "Toronto",
          "Toronto",
          "Toronto",
          "Toronto",
          "Toronto",
          "Toronto",
          "Toronto",
          "Toronto",
          "Toronto",
          "Toronto",
          "Toronto",
          "Toronto",
          "Toronto",
          "Toronto",
          "Toronto",
          "Toronto",
          "Toronto",
          "Toronto",
          "Toronto",
          "Toronto",
          "Toronto",
          "Toronto",
          "Toronto",
          "Toronto",
          "Toronto",
          "Toronto",
          "Toronto",
          "Toronto",
          "Toronto",
          "Toronto",
          "Toronto",
          "Toronto",
          "Toronto",
          "Toronto",
          "Toronto",
          "Toronto",
          "Toronto",
          "Toronto",
          "Toronto",
          "Toronto",
          "Toronto",
          "Toronto",
          "Toronto",
          "Toronto",
          "Toronto",
          "Toronto",
          "Toronto",
          "Toronto",
          "Toronto",
          "Toronto",
          "Toronto",
          "Toronto",
          "Toronto",
          "Toronto",
          "Toronto",
          "Toronto",
          "Toronto",
          "Toronto",
          "Toronto",
          "Toronto",
          "Toronto",
          "Toronto",
          "Toronto",
          "Toronto",
          "Toronto",
          "Toronto",
          "Toronto",
          "Toronto",
          "Toronto",
          "Toronto",
          "Toronto",
          "Toronto",
          "Toronto",
          "Toronto",
          "Toronto",
          "Toronto",
          "Toronto",
          "Toronto",
          "Toronto",
          "Toronto",
          "Toronto",
          "Toronto",
          "Toronto",
          "Toronto",
          "Toronto",
          "Toronto",
          "Toronto",
          "Toronto",
          "Toronto",
          "Toronto",
          "Toronto",
          "Toronto",
          "Toronto",
          "Toronto",
          "Toronto",
          "Toronto",
          "Toronto",
          "Toronto",
          "Toronto",
          "Toronto",
          "Toronto",
          "Toronto",
          "Toronto",
          "Toronto",
          "Toronto",
          "Toronto",
          "Toronto",
          "Toronto",
          "Toronto",
          "Toronto",
          "Toronto",
          "Toronto",
          "Toronto",
          "Toronto",
          "Toronto",
          "Toronto",
          "Toronto",
          "Toronto",
          "Toronto",
          "Toronto",
          "Toronto",
          "Toronto",
          "Toronto",
          "Toronto",
          "Toronto",
          "Toronto",
          "Toronto",
          "Toronto",
          "Toronto",
          "Toronto",
          "Toronto",
          "Toronto",
          "Toronto",
          "Toronto",
          "Toronto",
          "Toronto",
          "Toronto",
          "Toronto",
          "Toronto",
          "Toronto",
          "Toronto",
          "Toronto",
          "Toronto",
          "Toronto",
          "Toronto",
          "Toronto",
          "Toronto",
          "Toronto",
          "Toronto",
          "Toronto",
          "Toronto",
          "Toronto",
          "Toronto",
          "Toronto",
          "Toronto",
          "Toronto",
          "Toronto",
          "Toronto",
          "Toronto",
          "Toronto",
          "Toronto",
          "Toronto",
          "Toronto",
          "Toronto",
          "Toronto",
          "Toronto",
          "Toronto",
          "Toronto",
          "Toronto",
          "Toronto",
          "Toronto",
          "Toronto",
          "Toronto",
          "Toronto",
          "Toronto",
          "Toronto",
          "Toronto",
          "Toronto",
          "Toronto",
          "Toronto",
          "Toronto",
          "Toronto",
          "Toronto",
          "Toronto",
          "Toronto",
          "Toronto",
          "Toronto",
          "Toronto",
          "Toronto",
          "Toronto",
          "Toronto",
          "Toronto",
          "Toronto",
          "Toronto",
          "Toronto",
          "Toronto",
          "Toronto",
          "Toronto",
          "Toronto",
          "Toronto",
          "Toronto",
          "Toronto",
          "Toronto",
          "Toronto",
          "Toronto",
          "Toronto",
          "Toronto",
          "Toronto",
          "Toronto",
          "Toronto",
          "Toronto",
          "Toronto",
          "Toronto",
          "Toronto",
          "Toronto",
          "Toronto",
          "Toronto",
          "Toronto",
          "Toronto",
          "Toronto",
          "Toronto",
          "Toronto",
          "Toronto",
          "Toronto",
          "Toronto",
          "Toronto",
          "Toronto",
          "Toronto",
          "Toronto",
          "Toronto",
          "Toronto",
          "Toronto",
          "Toronto",
          "Toronto",
          "Toronto",
          "Toronto",
          "Toronto",
          "Toronto",
          "Toronto",
          "Toronto",
          "Toronto",
          "Toronto",
          "Toronto",
          "Toronto",
          "Toronto",
          "Toronto",
          "Toronto",
          "Toronto",
          "Toronto",
          "Toronto",
          "Toronto",
          "Toronto",
          "Toronto",
          "Toronto",
          "Toronto",
          "Toronto",
          "Toronto",
          "Toronto",
          "Toronto",
          "Toronto",
          "Toronto",
          "Toronto",
          "Toronto",
          "Toronto",
          "Toronto",
          "Toronto",
          "Toronto",
          "Toronto",
          "Toronto",
          "Toronto",
          "Toronto",
          "Toronto",
          "Toronto",
          "Toronto",
          "Toronto",
          "Toronto",
          "Toronto",
          "Toronto",
          "Toronto",
          "Toronto",
          "Toronto",
          "Toronto",
          "Toronto",
          "Toronto",
          "Toronto",
          "Toronto",
          "Toronto",
          "Toronto",
          "Toronto",
          "Toronto",
          "Toronto",
          "Toronto",
          "Toronto",
          "Toronto",
          "Toronto",
          "Toronto",
          "Toronto",
          "Toronto",
          "Toronto",
          "Toronto",
          "Toronto",
          "Toronto",
          "Toronto",
          "Toronto",
          "Toronto",
          "Toronto",
          "Toronto",
          "Toronto",
          "Toronto",
          "Toronto",
          "Toronto",
          "Toronto",
          "Toronto",
          "Toronto",
          "Toronto",
          "Toronto",
          "Toronto",
          "Toronto",
          "Toronto",
          "Toronto",
          "Toronto",
          "Toronto",
          "Toronto",
          "Toronto",
          "Toronto",
          "Toronto",
          "Toronto",
          "Toronto",
          "Toronto",
          "Toronto",
          "Toronto",
          "Toronto",
          "Toronto",
          "Toronto",
          "Toronto",
          "Toronto",
          "Toronto",
          "Toronto",
          "Toronto",
          "Toronto",
          "Toronto",
          "Toronto",
          "Toronto",
          "Toronto",
          "Toronto",
          "Toronto",
          "Toronto",
          "Toronto",
          "Toronto",
          "Toronto",
          "Toronto",
          "Toronto",
          "Toronto",
          "Toronto",
          "Toronto",
          "Toronto",
          "Toronto",
          "Toronto",
          "Toronto",
          "Toronto",
          "Toronto",
          "Toronto",
          "Toronto",
          "Toronto",
          "Toronto",
          "Toronto",
          "Toronto",
          "Toronto",
          "Toronto",
          "Toronto",
          "Toronto",
          "Toronto",
          "Toronto",
          "Toronto",
          "Toronto",
          "Toronto",
          "Toronto",
          "Toronto",
          "Toronto",
          "Toronto",
          "Toronto",
          "Toronto",
          "Toronto",
          "Toronto",
          "Toronto",
          "Toronto",
          "Toronto",
          "Toronto",
          "Toronto",
          "Toronto",
          "Toronto",
          "Toronto",
          "Toronto",
          "Toronto",
          "Toronto",
          "Toronto",
          "Toronto",
          "Toronto",
          "Toronto",
          "Toronto",
          "Toronto",
          "Toronto",
          "Toronto",
          "Toronto",
          "Toronto",
          "Toronto",
          "Toronto",
          "Toronto",
          "Toronto",
          "Toronto",
          "Toronto",
          "Toronto",
          "Toronto",
          "Toronto",
          "Toronto",
          "Toronto",
          "Toronto",
          "Toronto",
          "Toronto",
          "Toronto",
          "Toronto",
          "Toronto",
          "Toronto",
          "Toronto",
          "Toronto",
          "Toronto",
          "Toronto",
          "Toronto",
          "Toronto",
          "Toronto",
          "Toronto",
          "Toronto",
          "Toronto",
          "Toronto",
          "Toronto",
          "Toronto",
          "Toronto",
          "Toronto",
          "Toronto",
          "Toronto",
          "Toronto",
          "Toronto",
          "Toronto",
          "Toronto",
          "Toronto",
          "Toronto",
          "Toronto",
          "Toronto",
          "Toronto",
          "Toronto",
          "Toronto",
          "Toronto",
          "Toronto",
          "Toronto",
          "Toronto",
          "Toronto",
          "Toronto",
          "Toronto",
          "Toronto",
          "Toronto",
          "Toronto",
          "Toronto",
          "Toronto",
          "Toronto",
          "Toronto",
          "Toronto",
          "Toronto",
          "Toronto",
          "Toronto",
          "Toronto",
          "Toronto",
          "Toronto",
          "Toronto",
          "Toronto",
          "Toronto",
          "Toronto",
          "Toronto",
          "Toronto",
          "Toronto",
          "Toronto",
          "Toronto",
          "Toronto",
          "Toronto",
          "Toronto",
          "Toronto",
          "Toronto",
          "Toronto",
          "Toronto",
          "Toronto",
          "Toronto",
          "Toronto",
          "Toronto",
          "Toronto",
          "Toronto",
          "Toronto",
          "Toronto",
          "Toronto",
          "Toronto",
          "Toronto",
          "Toronto",
          "Toronto",
          "Toronto",
          "Toronto",
          "Toronto",
          "Toronto",
          "Toronto",
          "Toronto",
          "Toronto",
          "Toronto",
          "Toronto",
          "Toronto",
          "Toronto",
          "Toronto",
          "Toronto",
          "Toronto",
          "Toronto",
          "Toronto",
          "Toronto",
          "Toronto",
          "Toronto",
          "Toronto",
          "Toronto",
          "Toronto",
          "Toronto",
          "Toronto",
          "Toronto",
          "Toronto",
          "Toronto",
          "Toronto",
          "Toronto",
          "Toronto",
          "Toronto",
          "Toronto",
          "Toronto",
          "Toronto",
          "Toronto",
          "Toronto",
          "Toronto",
          "Toronto",
          "Toronto",
          "Toronto",
          "Toronto",
          "Toronto",
          "Toronto",
          "Toronto",
          "Toronto",
          "Toronto",
          "Toronto",
          "Toronto",
          "Toronto",
          "Toronto",
          "Toronto",
          "Toronto",
          "Toronto",
          "Toronto",
          "Toronto",
          "Toronto",
          "Toronto",
          "Toronto",
          "Toronto",
          "Toronto",
          "Toronto",
          "Toronto",
          "Toronto",
          "Toronto",
          "Toronto",
          "Toronto",
          "Toronto",
          "Toronto",
          "Toronto",
          "Toronto",
          "Toronto",
          "Toronto",
          "Toronto",
          "Toronto",
          "Toronto",
          "Toronto",
          "Toronto",
          "Toronto",
          "Toronto",
          "Toronto",
          "Toronto",
          "Toronto",
          "Toronto",
          "Toronto",
          "Toronto",
          "Toronto",
          "Toronto",
          "Toronto",
          "Toronto",
          "Toronto",
          "Toronto",
          "Toronto",
          "Toronto",
          "Toronto",
          "Toronto",
          "Toronto",
          "Toronto",
          "Toronto",
          "Toronto",
          "Toronto",
          "Toronto",
          "Toronto",
          "Toronto",
          "Toronto",
          "Toronto",
          "Toronto",
          "Toronto",
          "Toronto",
          "Toronto",
          "Toronto",
          "Toronto",
          "Toronto",
          "Toronto",
          "Toronto",
          "Toronto",
          "Toronto",
          "Toronto",
          "Toronto",
          "Toronto",
          "Toronto",
          "Toronto",
          "Toronto",
          "Toronto",
          "Toronto",
          "Toronto",
          "Toronto",
          "Toronto",
          "Toronto",
          "Toronto",
          "Toronto",
          "Toronto",
          "Toronto",
          "Toronto",
          "Toronto",
          "Toronto",
          "Toronto",
          "Toronto",
          "Toronto",
          "Toronto",
          "Toronto",
          "Toronto",
          "Toronto",
          "Toronto",
          "Toronto",
          "Toronto",
          "Toronto",
          "Toronto",
          "Toronto",
          "Toronto",
          "Toronto",
          "Toronto",
          "Toronto",
          "Toronto",
          "Toronto",
          "Toronto",
          "Toronto",
          "Toronto",
          "Toronto",
          "Toronto",
          "Toronto",
          "Toronto",
          "Toronto",
          "Toronto",
          "Toronto",
          "Toronto",
          "Toronto",
          "Toronto",
          "Toronto",
          "Toronto",
          "Toronto",
          "Toronto",
          "Toronto",
          "Toronto",
          "Toronto",
          "Toronto",
          "Toronto",
          "Toronto",
          "Toronto",
          "Toronto",
          "Toronto",
          "Toronto",
          "Toronto",
          "Toronto",
          "Toronto",
          "Toronto",
          "Toronto",
          "Toronto",
          "Toronto",
          "Toronto",
          "Toronto",
          "Toronto",
          "Toronto",
          "Toronto",
          "Toronto",
          "Toronto",
          "Toronto",
          "Toronto",
          "Toronto",
          "Toronto",
          "Toronto",
          "Toronto",
          "Toronto",
          "Toronto",
          "Toronto",
          "Toronto",
          "Toronto",
          "Toronto",
          "Toronto",
          "Toronto",
          "Toronto",
          "Toronto",
          "Toronto",
          "Toronto",
          "Toronto",
          "Toronto",
          "Toronto",
          "Toronto",
          "Toronto",
          "Toronto",
          "Toronto",
          "Toronto",
          "Toronto",
          "Toronto",
          "Toronto",
          "Toronto",
          "Toronto",
          "Toronto",
          "Toronto",
          "Toronto",
          "Toronto",
          "Toronto",
          "Toronto",
          "Toronto",
          "Toronto",
          "Toronto",
          "Toronto",
          "Toronto",
          "Toronto",
          "Toronto",
          "Toronto",
          "Toronto",
          "Toronto",
          "Toronto",
          "Toronto",
          "Toronto",
          "Toronto",
          "Toronto",
          "Toronto",
          "Toronto",
          "Toronto",
          "Toronto",
          "Toronto",
          "Toronto",
          "Toronto",
          "Toronto",
          "Toronto",
          "Toronto",
          "Toronto",
          "Toronto",
          "Toronto",
          "Toronto",
          "Toronto",
          "Toronto",
          "Toronto",
          "Toronto",
          "Toronto",
          "Toronto",
          "Toronto",
          "Toronto",
          "Toronto",
          "Toronto",
          "Toronto",
          "Toronto",
          "Toronto",
          "Toronto",
          "Toronto",
          "Toronto",
          "Toronto",
          "Toronto",
          "Toronto",
          "Toronto",
          "Toronto",
          "Toronto",
          "Toronto",
          "Toronto",
          "Toronto",
          "Toronto",
          "Toronto",
          "Toronto",
          "Toronto",
          "Toronto",
          "Toronto",
          "Toronto",
          "Toronto",
          "Toronto",
          "Toronto",
          "Toronto",
          "Toronto",
          "Toronto",
          "Toronto",
          "Toronto",
          "Toronto",
          "Toronto",
          "Toronto",
          "Toronto",
          "Toronto",
          "Toronto",
          "Toronto",
          "Toronto",
          "Toronto",
          "Toronto",
          "Toronto",
          "Toronto",
          "Toronto",
          "Toronto",
          "Toronto",
          "Toronto",
          "Toronto",
          "Toronto",
          "Toronto",
          "Toronto",
          "Toronto",
          "Toronto",
          "Toronto",
          "Toronto",
          "Toronto",
          "Toronto",
          "Toronto",
          "Toronto",
          "Toronto",
          "Toronto",
          "Toronto",
          "Toronto",
          "Toronto",
          "Toronto",
          "Toronto",
          "Toronto",
          "Toronto",
          "Toronto",
          "Toronto",
          "Toronto",
          "Toronto",
          "Toronto",
          "Toronto",
          "Toronto",
          "Toronto",
          "Toronto",
          "Toronto",
          "Toronto",
          "Toronto",
          "Toronto",
          "Toronto",
          "Toronto",
          "Toronto",
          "Toronto",
          "Toronto",
          "Toronto",
          "Toronto",
          "Toronto",
          "Toronto",
          "Toronto",
          "Toronto",
          "Toronto",
          "Toronto",
          "Toronto",
          "Toronto",
          "Toronto",
          "Toronto",
          "Toronto",
          "Toronto",
          "Toronto",
          "Toronto",
          "Toronto",
          "Toronto",
          "Toronto",
          "Toronto",
          "Toronto",
          "Toronto",
          "Toronto",
          "Toronto",
          "Toronto",
          "Toronto",
          "Toronto",
          "Toronto",
          "Toronto",
          "Toronto",
          "Toronto",
          "Toronto",
          "Toronto",
          "Toronto",
          "Toronto",
          "Toronto",
          "Toronto",
          "Toronto",
          "Toronto",
          "Toronto",
          "Toronto",
          "Toronto",
          "Toronto",
          "Toronto",
          "Toronto",
          "Toronto",
          "Toronto",
          "Toronto",
          "Toronto",
          "Toronto",
          "Toronto",
          "Toronto",
          "Toronto",
          "Toronto",
          "Toronto",
          "Toronto",
          "Toronto",
          "Toronto",
          "Toronto",
          "Toronto",
          "Toronto",
          "Toronto",
          "Toronto",
          "Toronto",
          "Toronto",
          "Toronto",
          "Toronto",
          "Toronto",
          "Toronto",
          "Toronto",
          "Toronto",
          "Toronto",
          "Toronto",
          "Toronto",
          "Toronto",
          "Toronto",
          "Toronto",
          "Toronto",
          "Toronto",
          "Toronto",
          "Toronto",
          "Toronto",
          "Toronto",
          "Toronto",
          "Toronto",
          "Toronto",
          "Toronto",
          "Toronto",
          "Toronto",
          "Toronto",
          "Toronto",
          "Toronto",
          "Toronto",
          "Toronto",
          "Toronto",
          "Toronto",
          "Toronto",
          "Toronto",
          "Toronto",
          "Toronto",
          "Toronto",
          "Toronto",
          "Toronto",
          "Toronto",
          "Toronto",
          "Toronto",
          "Toronto",
          "Toronto",
          "Toronto",
          "Toronto",
          "Toronto",
          "Toronto",
          "Toronto",
          "Toronto",
          "Toronto",
          "Toronto",
          "Toronto",
          "Toronto",
          "Toronto",
          "Toronto",
          "Toronto",
          "Toronto",
          "Toronto",
          "Toronto",
          "Toronto",
          "Toronto",
          "Toronto",
          "Toronto",
          "Toronto",
          "Toronto",
          "Toronto",
          "Toronto",
          "Toronto",
          "Toronto",
          "Toronto",
          "Toronto",
          "Toronto",
          "Toronto",
          "Toronto",
          "Toronto",
          "Toronto",
          "Toronto",
          "Toronto",
          "Toronto",
          "Toronto",
          "Toronto",
          "Toronto",
          "Toronto",
          "Toronto",
          "Toronto",
          "Toronto",
          "Toronto",
          "Toronto",
          "Toronto",
          "Toronto",
          "Toronto",
          "Toronto",
          "Toronto",
          "Toronto",
          "Toronto",
          "Toronto",
          "Toronto",
          "Toronto",
          "Toronto",
          "Toronto",
          "Toronto",
          "Toronto",
          "Toronto",
          "Toronto",
          "Toronto",
          "Toronto",
          "Toronto",
          "Toronto",
          "Toronto",
          "Toronto",
          "Toronto",
          "Toronto",
          "Toronto",
          "Toronto",
          "Toronto",
          "Toronto",
          "Toronto",
          "Toronto",
          "Toronto",
          "Toronto",
          "Toronto",
          "Toronto",
          "Toronto",
          "Toronto",
          "Toronto",
          "Toronto",
          "Toronto",
          "Toronto",
          "Toronto",
          "Toronto",
          "Toronto",
          "Toronto",
          "Toronto",
          "Toronto",
          "Toronto",
          "Toronto",
          "Toronto",
          "Toronto",
          "Toronto",
          "Toronto",
          "Toronto",
          "Toronto",
          "Toronto",
          "Toronto",
          "Toronto",
          "Toronto",
          "Toronto",
          "Toronto",
          "Toronto",
          "Toronto",
          "Toronto",
          "Toronto",
          "Toronto",
          "Toronto",
          "Toronto",
          "Toronto",
          "Toronto",
          "Toronto",
          "Toronto",
          "Toronto",
          "Toronto",
          "Toronto",
          "Toronto",
          "Toronto",
          "Toronto",
          "Toronto",
          "Toronto",
          "Toronto",
          "Toronto",
          "Toronto",
          "Toronto",
          "Toronto",
          "Toronto",
          "Toronto",
          "Toronto",
          "Toronto",
          "Toronto",
          "Toronto",
          "Toronto",
          "Toronto",
          "Toronto",
          "Toronto",
          "Toronto",
          "Toronto",
          "Toronto",
          "Toronto",
          "Toronto",
          "Toronto",
          "Toronto",
          "Toronto",
          "Toronto",
          "Toronto",
          "Toronto",
          "Toronto",
          "Toronto",
          "Toronto",
          "Toronto",
          "Toronto",
          "Toronto",
          "Toronto",
          "Toronto",
          "Toronto",
          "Toronto",
          "Toronto",
          "Toronto",
          "Toronto",
          "Toronto",
          "Toronto",
          "Toronto",
          "Toronto",
          "Toronto",
          "Toronto",
          "Toronto",
          "Toronto",
          "Toronto",
          "Toronto",
          "Toronto",
          "Toronto",
          "Toronto",
          "Toronto",
          "Toronto",
          "Toronto",
          "Toronto",
          "Toronto",
          "Toronto",
          "Toronto",
          "Toronto",
          "Toronto",
          "Toronto",
          "Toronto",
          "Toronto",
          "Toronto",
          "Toronto",
          "Toronto",
          "Toronto",
          "Toronto",
          "Toronto",
          "Toronto",
          "Toronto",
          "Toronto",
          "Toronto",
          "Toronto",
          "Toronto",
          "Toronto",
          "Toronto",
          "Toronto",
          "Toronto",
          "Toronto",
          "Toronto",
          "Toronto",
          "Toronto",
          "Toronto",
          "Toronto",
          "Toronto",
          "Toronto",
          "Toronto",
          "Toronto",
          "Toronto",
          "Toronto",
          "Toronto",
          "Toronto",
          "Toronto",
          "Toronto",
          "Toronto",
          "Toronto",
          "Toronto",
          "Toronto",
          "Toronto",
          "Toronto",
          "Toronto",
          "Toronto",
          "Toronto",
          "Toronto",
          "Toronto",
          "Toronto",
          "Toronto",
          "Toronto",
          "Toronto",
          "Toronto",
          "Toronto",
          "Toronto",
          "Toronto",
          "Toronto",
          "Toronto",
          "Toronto",
          "Toronto",
          "Toronto",
          "Toronto",
          "Toronto",
          "Toronto",
          "Toronto",
          "Toronto",
          "Toronto",
          "Toronto",
          "Toronto",
          "Toronto",
          "Toronto",
          "Toronto",
          "Toronto",
          "Toronto",
          "Toronto",
          "Toronto",
          "Toronto",
          "Toronto",
          "Toronto",
          "Toronto",
          "Toronto",
          "Toronto",
          "Toronto",
          "Toronto",
          "Toronto",
          "Toronto",
          "Toronto",
          "Toronto",
          "Toronto",
          "Toronto",
          "Toronto",
          "Toronto",
          "Toronto",
          "Toronto",
          "Toronto",
          "Toronto",
          "Toronto",
          "Toronto",
          "Toronto",
          "Toronto",
          "Toronto",
          "Toronto",
          "Toronto",
          "Toronto",
          "Toronto",
          "Toronto",
          "Toronto",
          "Toronto",
          "Toronto",
          "Toronto",
          "Toronto",
          "Toronto",
          "Toronto",
          "Toronto",
          "Toronto",
          "Toronto",
          "Toronto",
          "Toronto",
          "Toronto",
          "Toronto",
          "Toronto",
          "Toronto",
          "Toronto",
          "Toronto",
          "Toronto",
          "Toronto",
          "Toronto",
          "Toronto",
          "Toronto",
          "Toronto",
          "Toronto",
          "Toronto",
          "Toronto",
          "Toronto",
          "Toronto",
          "Toronto",
          "Toronto",
          "Toronto",
          "Toronto",
          "Toronto",
          "Toronto",
          "Toronto",
          "Toronto",
          "Toronto",
          "Toronto",
          "Toronto",
          "Toronto",
          "Toronto",
          "Toronto",
          "Toronto",
          "Toronto",
          "Toronto",
          "Toronto",
          "Toronto",
          "Toronto",
          "Toronto",
          "Toronto",
          "Toronto",
          "Toronto",
          "Toronto",
          "Toronto",
          "Toronto",
          "Toronto",
          "Toronto",
          "Toronto",
          "Toronto",
          "Toronto",
          "Toronto",
          "Toronto",
          "Toronto",
          "Toronto",
          "Toronto",
          "Toronto",
          "Toronto",
          "Toronto",
          "Toronto",
          "Toronto",
          "Toronto",
          "Toronto",
          "Toronto",
          "Toronto",
          "Toronto",
          "Toronto",
          "Toronto",
          "Toronto",
          "Toronto",
          "Toronto",
          "Toronto",
          "Toronto",
          "Toronto",
          "Toronto",
          "Toronto",
          "Toronto",
          "Toronto",
          "Toronto",
          "Toronto",
          "Toronto",
          "Toronto",
          "Toronto",
          "Toronto",
          "Toronto",
          "Toronto",
          "Toronto",
          "Toronto",
          "Toronto",
          "Toronto",
          "Toronto",
          "Toronto",
          "Toronto",
          "Toronto",
          "Toronto",
          "Toronto",
          "Toronto",
          "Toronto",
          "Toronto",
          "Toronto",
          "Toronto",
          "Toronto",
          "Toronto",
          "Toronto",
          "Toronto",
          "Toronto",
          "Toronto",
          "Toronto",
          "Toronto",
          "Toronto",
          "Toronto",
          "Toronto",
          "Toronto",
          "Toronto",
          "Toronto",
          "Toronto",
          "Toronto",
          "Toronto",
          "Toronto",
          "Toronto",
          "Toronto",
          "Toronto",
          "Toronto",
          "Toronto",
          "Toronto",
          "Toronto",
          "Toronto",
          "Toronto",
          "Toronto",
          "Toronto",
          "Toronto",
          "Toronto",
          "Toronto",
          "Toronto",
          "Toronto",
          "Toronto",
          "Toronto",
          "Toronto",
          "Toronto",
          "Toronto",
          "Toronto",
          "Toronto",
          "Toronto",
          "Toronto",
          "Toronto",
          "Toronto",
          "Toronto",
          "Toronto",
          "Toronto",
          "Toronto",
          "Toronto",
          "Toronto",
          "Toronto",
          "Toronto",
          "Toronto",
          "Toronto",
          "Toronto",
          "Toronto",
          "Toronto",
          "Toronto",
          "Toronto",
          "Toronto",
          "Toronto",
          "Toronto",
          "Toronto",
          "Toronto",
          "Toronto",
          "Toronto",
          "Toronto",
          "Toronto",
          "Toronto",
          "Toronto",
          "Toronto",
          "Toronto",
          "Toronto",
          "Toronto",
          "Toronto",
          "Toronto",
          "Toronto",
          "Toronto",
          "Toronto",
          "Toronto",
          "Toronto",
          "Toronto",
          "Toronto",
          "Toronto",
          "Toronto",
          "Toronto",
          "Toronto",
          "Toronto",
          "Toronto",
          "Toronto",
          "Toronto",
          "Toronto",
          "Toronto",
          "Toronto",
          "Toronto",
          "Toronto",
          "Toronto",
          "Toronto",
          "Toronto",
          "Toronto",
          "Toronto",
          "Toronto",
          "Toronto",
          "Toronto",
          "Toronto",
          "Toronto",
          "Toronto",
          "Toronto",
          "Toronto",
          "Toronto",
          "Toronto",
          "Toronto",
          "Toronto",
          "Toronto",
          "Toronto",
          "Toronto",
          "Toronto",
          "Toronto",
          "Toronto",
          "Toronto",
          "Toronto",
          "Toronto",
          "Toronto",
          "Toronto",
          "Toronto",
          "Toronto",
          "Toronto",
          "Toronto",
          "Toronto",
          "Toronto",
          "Toronto",
          "Toronto",
          "Toronto",
          "Toronto",
          "Toronto",
          "Toronto",
          "Toronto",
          "Toronto",
          "Toronto",
          "Toronto",
          "Toronto",
          "Toronto",
          "Toronto",
          "Toronto",
          "Toronto",
          "Toronto",
          "Toronto",
          "Toronto",
          "Toronto",
          "Toronto",
          "Toronto",
          "Toronto",
          "Toronto",
          "Toronto",
          "Toronto",
          "Toronto",
          "Toronto",
          "Toronto",
          "Toronto",
          "Toronto",
          "Toronto",
          "Toronto",
          "Toronto",
          "Toronto",
          "Toronto",
          "Toronto",
          "Toronto",
          "Toronto",
          "Toronto",
          "Toronto",
          "Toronto",
          "Toronto",
          "Toronto",
          "Toronto",
          "Toronto",
          "Toronto",
          "Toronto",
          "Toronto",
          "Toronto",
          "Toronto",
          "Toronto",
          "Toronto",
          "Toronto",
          "Toronto",
          "Toronto",
          "Toronto",
          "Toronto",
          "Toronto",
          "Toronto",
          "Toronto",
          "Toronto",
          "Toronto",
          "Toronto",
          "Toronto",
          "Toronto",
          "Toronto",
          "Toronto",
          "Toronto",
          "Toronto",
          "Toronto",
          "Toronto",
          "Toronto",
          "Toronto",
          "Toronto",
          "Toronto",
          "Toronto",
          "Toronto",
          "Toronto",
          "Toronto",
          "Toronto",
          "Toronto",
          "Toronto",
          "Toronto",
          "Toronto",
          "Toronto",
          "Toronto",
          "Toronto",
          "Toronto",
          "Toronto",
          "Toronto",
          "Toronto",
          "Toronto",
          "Toronto",
          "Toronto",
          "Toronto",
          "Toronto",
          "Toronto",
          "Toronto",
          "Toronto",
          "Toronto",
          "Toronto",
          "Toronto",
          "Toronto",
          "Toronto",
          "Toronto",
          "Toronto",
          "Toronto",
          "Toronto",
          "Toronto",
          "Toronto",
          "Toronto",
          "Toronto",
          "Toronto",
          "Toronto",
          "Toronto",
          "Toronto",
          "Toronto",
          "Toronto",
          "Toronto",
          "Toronto",
          "Toronto",
          "Toronto",
          "Toronto",
          "Toronto",
          "Toronto",
          "Toronto",
          "Toronto",
          "Toronto",
          "Toronto",
          "Toronto",
          "Toronto",
          "Toronto",
          "Toronto",
          "Toronto",
          "Toronto",
          "Toronto",
          "Toronto",
          "Toronto",
          "Toronto",
          "Toronto",
          "Toronto",
          "Toronto",
          "Toronto",
          "Toronto",
          "Toronto",
          "Toronto",
          "Toronto",
          "Toronto",
          "Toronto",
          "Toronto",
          "Toronto",
          "Toronto",
          "Toronto",
          "Toronto",
          "Toronto",
          "Toronto",
          "Toronto",
          "Toronto",
          "Toronto",
          "Toronto",
          "Toronto",
          "Toronto",
          "Toronto",
          "Toronto",
          "Toronto",
          "Toronto",
          "Toronto",
          "Toronto",
          "Toronto",
          "Toronto",
          "Toronto",
          "Toronto",
          "Toronto",
          "Toronto",
          "Toronto",
          "Toronto",
          "Toronto",
          "Toronto",
          "Toronto",
          "Toronto",
          "Toronto",
          "Toronto",
          "Toronto",
          "Toronto",
          "Toronto",
          "Toronto",
          "Toronto",
          "Toronto",
          "Toronto",
          "Toronto",
          "Toronto",
          "Toronto",
          "Toronto",
          "Toronto",
          "Toronto",
          "Toronto",
          "Toronto",
          "Toronto",
          "Toronto",
          "Toronto",
          "Toronto",
          "Toronto",
          "Toronto",
          "Toronto",
          "Toronto",
          "Toronto",
          "Toronto",
          "Toronto",
          "Toronto",
          "Toronto",
          "Toronto",
          "Toronto",
          "Toronto",
          "Toronto",
          "Toronto",
          "Toronto",
          "Toronto",
          "Toronto",
          "Toronto",
          "Toronto",
          "Toronto",
          "Toronto",
          "Toronto",
          "Toronto",
          "Toronto",
          "Toronto",
          "Toronto",
          "Toronto",
          "Toronto",
          "Toronto",
          "Toronto",
          "Toronto",
          "Toronto",
          "Toronto",
          "Toronto",
          "Toronto",
          "Toronto",
          "Toronto",
          "Toronto",
          "Toronto",
          "Toronto",
          "Toronto",
          "Toronto",
          "Toronto",
          "Toronto",
          "Toronto",
          "Toronto",
          "Toronto",
          "Toronto",
          "Toronto",
          "Toronto",
          "Toronto",
          "Toronto",
          "Toronto",
          "Toronto",
          "Toronto",
          "Toronto",
          "Toronto",
          "Toronto",
          "Toronto",
          "Toronto",
          "Toronto",
          "Toronto",
          "Toronto",
          "Toronto",
          "Toronto",
          "Toronto",
          "Toronto",
          "Toronto",
          "Toronto",
          "Toronto",
          "Toronto",
          "Toronto",
          "Toronto",
          "Toronto",
          "Toronto",
          "Toronto",
          "Toronto",
          "Toronto",
          "Toronto",
          "Toronto",
          "Toronto",
          "Toronto",
          "Toronto",
          "Toronto",
          "Toronto",
          "Toronto",
          "Toronto",
          "Toronto",
          "Toronto",
          "Toronto",
          "Toronto",
          "Toronto",
          "Toronto",
          "Toronto",
          "Toronto",
          "Toronto",
          "Toronto",
          "Toronto",
          "Toronto",
          "Toronto",
          "Toronto",
          "Toronto",
          "Toronto",
          "Toronto",
          "Toronto",
          "Toronto",
          "Toronto",
          "Toronto",
          "Toronto",
          "Toronto",
          "Toronto",
          "Toronto",
          "Toronto",
          "Toronto",
          "Toronto",
          "Toronto",
          "Toronto",
          "Toronto",
          "Toronto",
          "Toronto",
          "Toronto",
          "Toronto",
          "Toronto",
          "Toronto",
          "Toronto",
          "Toronto",
          "Toronto",
          "Toronto",
          "Toronto",
          "Toronto",
          "Toronto",
          "Toronto",
          "Toronto",
          "Toronto",
          "Toronto",
          "Toronto",
          "Toronto",
          "Toronto",
          "Toronto",
          "Toronto",
          "Toronto",
          "Toronto",
          "Toronto",
          "Toronto",
          "Toronto",
          "Toronto",
          "Toronto",
          "Toronto",
          "Toronto",
          "Toronto",
          "Toronto",
          "Toronto",
          "Toronto",
          "Toronto",
          "Toronto",
          "Toronto",
          "Toronto",
          "Toronto",
          "Toronto",
          "Toronto",
          "Toronto",
          "Toronto",
          "Toronto",
          "Toronto",
          "Toronto",
          "Toronto",
          "Toronto",
          "Toronto",
          "Toronto",
          "Toronto",
          "Toronto",
          "Toronto",
          "Toronto",
          "Toronto",
          "Toronto",
          "Toronto",
          "Toronto",
          "Toronto",
          "Toronto",
          "Toronto",
          "Toronto",
          "Toronto",
          "Toronto",
          "Toronto",
          "Toronto",
          "Toronto",
          "Toronto",
          "Toronto",
          "Toronto",
          "Toronto",
          "Toronto",
          "Toronto",
          "Toronto",
          "Toronto",
          "Toronto",
          "Toronto",
          "Toronto",
          "Toronto",
          "Toronto",
          "Toronto",
          "Toronto",
          "Toronto",
          "Toronto",
          "Toronto",
          "Toronto",
          "Toronto",
          "Toronto",
          "Toronto",
          "Toronto",
          "Toronto",
          "Toronto",
          "Toronto",
          "Toronto",
          "Toronto",
          "Toronto",
          "Toronto",
          "Toronto",
          "Toronto",
          "Toronto",
          "Toronto",
          "Toronto",
          "Toronto",
          "Toronto",
          "Toronto",
          "Toronto",
          "Toronto",
          "Toronto",
          "Toronto",
          "Toronto",
          "Toronto",
          "Toronto",
          "Toronto",
          "Toronto",
          "Toronto",
          "Toronto",
          "Toronto",
          "Toronto",
          "Toronto",
          "Toronto",
          "Toronto",
          "Toronto",
          "Toronto",
          "Toronto",
          "Toronto",
          "Toronto",
          "Toronto",
          "Toronto",
          "Toronto",
          "Toronto",
          "Toronto",
          "Toronto",
          "Toronto",
          "Toronto",
          "Toronto",
          "Toronto",
          "Toronto",
          "Toronto",
          "Toronto",
          "Toronto",
          "Toronto",
          "Toronto",
          "Toronto",
          "Toronto",
          "Toronto",
          "Toronto",
          "Toronto",
          "Toronto",
          "Toronto",
          "Toronto",
          "Toronto",
          "Toronto",
          "Toronto",
          "Toronto",
          "Toronto",
          "Toronto",
          "Toronto",
          "Toronto",
          "Toronto",
          "Toronto",
          "Toronto",
          "Toronto",
          "Toronto",
          "Toronto",
          "Toronto",
          "Toronto",
          "Toronto",
          "Toronto",
          "Toronto",
          "Toronto",
          "Toronto",
          "Toronto",
          "Toronto",
          "Toronto",
          "Toronto",
          "Toronto",
          "Toronto",
          "Toronto",
          "Toronto",
          "Toronto",
          "Toronto",
          "Toronto",
          "Toronto",
          "Toronto",
          "Toronto",
          "Toronto",
          "Toronto",
          "Toronto",
          "Toronto",
          "Toronto",
          "Toronto",
          "Toronto",
          "Toronto",
          "Toronto",
          "Toronto",
          "Toronto",
          "Toronto",
          "Toronto",
          "Toronto",
          "Toronto",
          "Toronto",
          "Toronto",
          "Toronto",
          "Toronto",
          "Toronto",
          "Toronto",
          "Toronto",
          "Toronto",
          "Toronto",
          "Toronto",
          "Toronto",
          "Toronto",
          "Toronto",
          "Toronto",
          "Toronto",
          "Toronto",
          "Toronto",
          "Toronto",
          "Toronto",
          "Toronto",
          "Toronto",
          "Toronto",
          "Toronto",
          "Toronto",
          "Toronto",
          "Toronto",
          "Toronto",
          "Toronto",
          "Toronto",
          "Toronto",
          "Toronto",
          "Toronto",
          "Toronto",
          "Toronto",
          "Toronto",
          "Toronto",
          "Toronto",
          "Toronto",
          "Toronto",
          "Toronto",
          "Toronto",
          "Toronto",
          "Toronto",
          "Toronto",
          "Toronto",
          "Toronto",
          "Toronto",
          "Toronto",
          "Toronto",
          "Toronto",
          "Toronto",
          "Toronto",
          "Toronto",
          "Toronto",
          "Toronto",
          "Toronto",
          "Toronto",
          "Toronto",
          "Toronto",
          "Toronto",
          "Toronto",
          "Toronto",
          "Toronto",
          "Toronto",
          "Toronto",
          "Toronto",
          "Toronto",
          "Toronto",
          "Toronto",
          "Toronto",
          "Toronto",
          "Toronto",
          "Toronto",
          "Toronto",
          "Toronto",
          "Toronto",
          "Toronto",
          "Toronto",
          "Toronto",
          "Toronto",
          "Toronto",
          "Toronto",
          "Toronto",
          "Toronto",
          "Toronto",
          "Toronto",
          "Toronto",
          "Toronto",
          "Toronto",
          "Toronto",
          "Toronto",
          "Toronto",
          "Toronto",
          "Toronto",
          "Toronto",
          "Toronto",
          "Toronto",
          "Toronto",
          "Toronto",
          "Toronto",
          "Toronto",
          "Toronto",
          "Toronto",
          "Toronto",
          "Toronto",
          "Toronto",
          "Toronto",
          "Toronto",
          "Toronto",
          "Toronto",
          "Toronto",
          "Toronto",
          "Toronto",
          "Toronto",
          "Toronto",
          "Toronto",
          "Toronto",
          "Toronto",
          "Toronto",
          "Toronto",
          "Toronto",
          "Toronto",
          "Toronto",
          "Toronto",
          "Toronto",
          "Toronto",
          "Toronto",
          "Toronto",
          "Toronto",
          "Toronto",
          "Toronto",
          "Toronto",
          "Toronto",
          "Toronto",
          "Toronto",
          "Toronto",
          "Toronto",
          "Toronto",
          "Toronto",
          "Toronto",
          "Toronto",
          "Toronto",
          "Toronto",
          "Toronto",
          "Toronto",
          "Toronto",
          "Toronto",
          "Toronto",
          "Toronto",
          "Toronto",
          "Toronto",
          "Toronto",
          "Toronto",
          "Toronto",
          "Toronto",
          "Toronto",
          "Toronto",
          "Toronto",
          "Toronto",
          "Toronto",
          "Toronto",
          "Toronto",
          "Toronto",
          "Toronto",
          "Toronto",
          "Toronto",
          "Toronto",
          "Toronto",
          "Toronto",
          "Toronto",
          "Toronto",
          "Toronto",
          "Toronto",
          "Toronto",
          "Toronto",
          "Toronto",
          "Toronto",
          "Toronto",
          "Toronto",
          "Toronto",
          "Toronto",
          "Toronto",
          "Toronto",
          "Toronto",
          "Toronto",
          "Toronto",
          "Toronto",
          "Toronto",
          "Toronto",
          "Toronto",
          "Toronto",
          "Toronto",
          "Toronto",
          "Toronto",
          "Toronto",
          "Toronto",
          "Toronto",
          "Toronto",
          "Toronto",
          "Toronto",
          "Toronto",
          "Toronto",
          "Toronto",
          "Toronto",
          "Toronto",
          "Toronto",
          "Toronto",
          "Toronto",
          "Toronto",
          "Toronto",
          "Toronto",
          "Toronto",
          "Toronto",
          "Toronto",
          "Toronto",
          "Toronto",
          "Toronto",
          "Toronto",
          "Toronto",
          "Toronto",
          "Toronto",
          "Toronto",
          "Toronto",
          "Toronto",
          "Toronto",
          "Toronto",
          "Toronto",
          "Toronto",
          "Toronto",
          "Toronto",
          "Toronto",
          "Toronto",
          "Toronto",
          "Toronto",
          "Toronto",
          "Toronto",
          "Toronto",
          "Toronto",
          "Toronto",
          "Toronto",
          "Toronto",
          "Toronto",
          "Toronto",
          "Toronto",
          "Toronto",
          "Toronto",
          "Toronto",
          "Toronto",
          "Toronto",
          "Toronto",
          "Toronto",
          "Toronto",
          "Toronto",
          "Toronto",
          "Toronto",
          "Toronto",
          "Toronto",
          "Toronto",
          "Toronto",
          "Toronto",
          "Toronto",
          "Toronto",
          "Toronto",
          "Toronto",
          "Toronto",
          "Toronto",
          "Toronto",
          "Toronto",
          "Toronto",
          "Toronto",
          "Toronto",
          "Toronto",
          "Toronto",
          "Toronto",
          "Toronto",
          "Toronto",
          "Toronto",
          "Toronto",
          "Toronto",
          "Toronto",
          "Toronto",
          "Toronto",
          "Toronto",
          "Toronto",
          "Toronto",
          "Toronto",
          "Toronto",
          "Toronto",
          "Toronto",
          "Toronto",
          "Toronto",
          "Toronto",
          "Toronto",
          "Toronto",
          "Toronto",
          "Toronto",
          "Toronto",
          "Toronto",
          "Toronto",
          "Toronto",
          "Toronto",
          "Toronto",
          "Toronto",
          "Toronto",
          "Toronto",
          "Toronto",
          "Toronto",
          "Toronto",
          "Toronto",
          "Toronto",
          "Toronto",
          "Toronto",
          "Toronto",
          "Toronto",
          "Toronto",
          "Toronto",
          "Toronto",
          "Toronto",
          "Toronto",
          "Toronto",
          "Toronto",
          "Toronto",
          "Toronto",
          "Toronto",
          "Toronto",
          "Toronto",
          "Toronto",
          "Toronto",
          "Toronto",
          "Toronto",
          "Toronto",
          "Toronto",
          "Toronto",
          "Toronto",
          "Toronto",
          "Toronto",
          "Toronto",
          "Toronto",
          "Toronto",
          "Toronto",
          "Toronto",
          "Toronto",
          "Toronto",
          "Toronto",
          "Toronto",
          "Toronto",
          "Toronto",
          "Toronto",
          "Toronto",
          "Toronto",
          "Toronto",
          "Toronto",
          "Toronto",
          "Toronto",
          "Toronto",
          "Toronto",
          "Toronto",
          "Toronto",
          "Toronto",
          "Toronto",
          "Toronto",
          "Toronto",
          "Toronto",
          "Toronto",
          "Toronto",
          "Toronto",
          "Toronto",
          "Toronto",
          "Toronto",
          "Toronto",
          "Toronto",
          "Toronto",
          "Toronto",
          "Toronto",
          "Toronto",
          "Toronto",
          "Toronto",
          "Toronto",
          "Toronto",
          "Toronto",
          "Toronto",
          "Toronto",
          "Toronto",
          "Toronto",
          "Toronto",
          "Toronto",
          "Toronto",
          "Toronto",
          "Toronto",
          "Toronto",
          "Toronto",
          "Toronto",
          "Toronto",
          "Toronto",
          "Toronto",
          "Toronto",
          "Toronto",
          "Toronto",
          "Toronto",
          "Toronto",
          "Toronto",
          "Toronto",
          "Toronto",
          "Toronto",
          "Toronto",
          "Toronto",
          "Toronto",
          "Toronto",
          "Toronto",
          "Toronto",
          "Toronto",
          "Toronto",
          "Toronto",
          "Toronto",
          "Toronto",
          "Toronto",
          "Toronto",
          "Toronto",
          "Toronto",
          "Toronto",
          "Toronto",
          "Toronto",
          "Toronto",
          "Toronto",
          "Toronto",
          "Toronto",
          "Toronto",
          "Toronto",
          "Toronto",
          "Toronto",
          "Toronto",
          "Toronto",
          "Toronto",
          "Toronto",
          "Toronto",
          "Toronto",
          "Toronto",
          "Toronto",
          "Toronto",
          "Toronto",
          "Toronto",
          "Toronto",
          "Toronto",
          "Toronto",
          "Toronto",
          "Toronto",
          "Toronto",
          "Toronto",
          "Toronto",
          "Toronto",
          "Toronto",
          "Toronto",
          "Toronto",
          "Toronto",
          "Toronto",
          "Toronto",
          "Toronto",
          "Toronto",
          "Toronto",
          "Toronto",
          "Toronto",
          "Toronto",
          "Toronto",
          "Toronto",
          "Toronto",
          "Toronto",
          "Toronto",
          "Toronto",
          "Toronto",
          "Toronto",
          "Toronto",
          "Toronto",
          "Toronto",
          "Toronto",
          "Toronto",
          "Toronto",
          "Toronto",
          "Toronto",
          "Toronto",
          "Toronto",
          "Toronto",
          "Toronto",
          "Toronto",
          "Toronto",
          "Toronto",
          "Toronto",
          "Toronto",
          "Toronto",
          "Toronto",
          "Toronto",
          "Toronto",
          "Toronto",
          "Toronto",
          "Toronto",
          "Toronto",
          "Toronto",
          "Toronto",
          "Toronto",
          "Toronto",
          "Toronto",
          "Toronto",
          "Toronto",
          "Toronto",
          "Toronto",
          "Toronto",
          "Toronto",
          "Toronto",
          "Toronto",
          "Toronto",
          "Toronto",
          "Toronto",
          "Toronto",
          "Toronto",
          "Toronto",
          "Toronto",
          "Toronto",
          "Toronto",
          "Toronto",
          "Toronto",
          "Toronto",
          "Toronto",
          "Toronto",
          "Toronto",
          "Toronto",
          "Toronto",
          "Toronto",
          "Toronto",
          "Toronto",
          "Toronto",
          "Toronto",
          "Toronto",
          "Toronto",
          "Toronto",
          "Toronto",
          "Toronto",
          "Toronto",
          "Toronto",
          "Toronto",
          "Toronto",
          "Toronto",
          "Toronto",
          "Toronto",
          "Toronto",
          "Toronto",
          "Toronto",
          "Toronto",
          "Toronto",
          "Toronto",
          "Toronto",
          "Toronto",
          "Toronto",
          "Toronto",
          "Toronto",
          "Toronto",
          "Toronto",
          "Toronto",
          "Toronto",
          "Toronto",
          "Toronto",
          "Toronto",
          "Toronto",
          "Toronto",
          "Toronto",
          "Toronto",
          "Toronto",
          "Toronto",
          "Toronto",
          "Toronto",
          "Toronto",
          "Toronto",
          "Toronto",
          "Toronto",
          "Toronto",
          "Toronto",
          "Toronto",
          "Toronto",
          "Toronto",
          "Toronto",
          "Toronto",
          "Toronto",
          "Toronto",
          "Toronto",
          "Toronto",
          "Toronto",
          "Toronto",
          "Toronto",
          "Toronto",
          "Toronto",
          "Toronto",
          "Toronto",
          "Toronto",
          "Toronto",
          "Toronto",
          "Toronto",
          "Toronto",
          "Toronto",
          "Toronto",
          "Toronto",
          "Toronto",
          "Toronto",
          "Toronto",
          "Toronto",
          "Toronto",
          "Toronto",
          "Toronto",
          "Toronto",
          "Toronto",
          "Toronto",
          "Toronto",
          "Toronto",
          "Toronto",
          "Toronto",
          "Toronto",
          "Toronto",
          "Toronto",
          "Toronto",
          "Toronto",
          "Toronto",
          "Toronto",
          "Toronto",
          "Toronto",
          "Toronto",
          "Toronto",
          "Toronto",
          "Toronto",
          "Toronto",
          "Toronto",
          "Toronto",
          "Toronto",
          "Toronto",
          "Toronto",
          "Toronto",
          "Toronto",
          "Toronto",
          "Toronto",
          "Toronto",
          "Toronto",
          "Toronto",
          "Toronto",
          "Toronto",
          "Toronto",
          "Toronto",
          "Toronto",
          "Toronto",
          "Toronto",
          "Toronto",
          "Toronto",
          "Toronto",
          "Toronto",
          "Toronto",
          "Toronto",
          "Toronto",
          "Toronto",
          "Toronto",
          "Toronto",
          "Toronto",
          "Toronto",
          "Toronto",
          "Toronto",
          "Toronto",
          "Toronto",
          "Toronto",
          "Toronto",
          "Toronto",
          "Toronto",
          "Toronto",
          "Toronto",
          "Toronto",
          "Toronto",
          "Toronto",
          "Toronto",
          "Toronto",
          "Toronto",
          "Toronto",
          "Toronto",
          "Toronto",
          "Toronto",
          "Toronto",
          "Toronto",
          "Toronto",
          "Toronto",
          "Toronto",
          "Toronto",
          "Toronto",
          "Toronto",
          "Toronto",
          "Toronto",
          "Toronto",
          "Toronto",
          "Toronto",
          "Toronto",
          "Toronto",
          "Toronto",
          "Toronto",
          "Toronto",
          "Toronto",
          "Toronto",
          "Toronto",
          "Toronto",
          "Toronto",
          "Toronto",
          "Toronto",
          "Toronto",
          "Toronto",
          "Toronto",
          "Toronto",
          "Toronto",
          "Toronto",
          "Toronto",
          "Toronto",
          "Toronto",
          "Toronto",
          "Toronto",
          "Toronto",
          "Toronto",
          "Toronto",
          "Toronto",
          "Toronto",
          "Toronto",
          "Toronto",
          "Toronto",
          "Toronto",
          "Toronto",
          "Toronto",
          "Toronto",
          "Toronto",
          "Toronto",
          "Toronto",
          "Toronto",
          "Toronto",
          "Toronto",
          "Toronto",
          "Toronto",
          "Toronto",
          "Toronto",
          "Toronto",
          "Toronto",
          "Toronto",
          "Toronto",
          "Toronto",
          "Toronto",
          "Toronto",
          "Toronto",
          "Toronto",
          "Toronto",
          "Toronto",
          "Toronto",
          "Toronto",
          "Toronto",
          "Toronto",
          "Toronto",
          "Toronto",
          "Toronto",
          "Toronto",
          "Toronto",
          "Toronto",
          "Toronto",
          "Toronto",
          "Toronto",
          "Toronto",
          "Toronto",
          "Toronto",
          "Toronto",
          "Toronto",
          "Toronto",
          "Toronto",
          "Toronto",
          "Toronto",
          "Toronto",
          "Toronto",
          "Toronto",
          "Toronto",
          "Toronto",
          "Toronto",
          "Toronto",
          "Toronto",
          "Toronto",
          "Toronto",
          "Toronto",
          "Toronto",
          "Toronto",
          "Toronto",
          "Toronto",
          "Toronto",
          "Toronto",
          "Toronto",
          "Toronto",
          "Toronto",
          "Toronto",
          "Toronto",
          "Toronto",
          "Toronto",
          "Toronto",
          "Toronto",
          "Toronto",
          "Toronto",
          "Toronto",
          "Toronto",
          "Toronto",
          "Toronto",
          "Toronto",
          "Toronto",
          "Toronto",
          "Toronto",
          "Toronto",
          "Toronto",
          "Toronto",
          "Toronto",
          "Toronto",
          "Toronto",
          "Toronto",
          "Toronto",
          "Toronto",
          "Toronto",
          "Toronto",
          "Toronto",
          "Toronto",
          "Toronto",
          "Toronto",
          "Toronto",
          "Toronto",
          "Toronto",
          "Toronto",
          "Toronto",
          "Toronto",
          "Toronto",
          "Toronto",
          "Toronto",
          "Toronto",
          "Toronto",
          "Toronto",
          "Toronto",
          "Toronto",
          "Toronto",
          "Toronto",
          "Toronto",
          "Toronto",
          "Toronto",
          "Toronto",
          "Toronto",
          "Toronto",
          "Toronto",
          "Toronto",
          "Toronto",
          "Toronto",
          "Toronto",
          "Toronto",
          "Toronto",
          "Toronto",
          "Toronto",
          "Toronto",
          "Toronto",
          "Toronto",
          "Toronto",
          "Toronto",
          "Toronto",
          "Toronto",
          "Toronto",
          "Toronto",
          "Toronto",
          "Toronto",
          "Toronto",
          "Toronto",
          "Toronto",
          "Toronto",
          "Toronto",
          "Toronto",
          "Toronto",
          "Toronto",
          "Toronto",
          "Toronto",
          "Toronto",
          "Toronto",
          "Toronto",
          "Toronto",
          "Toronto",
          "Toronto",
          "Toronto",
          "Toronto",
          "Toronto",
          "Toronto",
          "Toronto",
          "Toronto",
          "Toronto",
          "Toronto",
          "Toronto",
          "Toronto",
          "Toronto",
          "Toronto",
          "Toronto",
          "Toronto",
          "Toronto",
          "Toronto",
          "Toronto",
          "Toronto",
          "Toronto",
          "Toronto",
          "Toronto",
          "Toronto",
          "Toronto",
          "Toronto",
          "Toronto",
          "Toronto",
          "Toronto",
          "Toronto",
          "Toronto",
          "Toronto",
          "Toronto",
          "Toronto",
          "Toronto",
          "Toronto",
          "Toronto",
          "Toronto",
          "Toronto",
          "Toronto",
          "Toronto",
          "Toronto",
          "Toronto",
          "Toronto",
          "Toronto",
          "Toronto",
          "Toronto",
          "Toronto",
          "Toronto",
          "Toronto",
          "Toronto",
          "Toronto",
          "Toronto",
          "Toronto",
          "Toronto",
          "Toronto",
          "Toronto",
          "Toronto",
          "Toronto",
          "Toronto",
          "Toronto",
          "Toronto",
          "Toronto",
          "Toronto",
          "Toronto",
          "Toronto",
          "Toronto",
          "Toronto",
          "Toronto",
          "Toronto",
          "Toronto",
          "Toronto",
          "Toronto",
          "Toronto",
          "Toronto",
          "Toronto",
          "Toronto",
          "Toronto",
          "Toronto",
          "Toronto",
          "Toronto",
          "Toronto",
          "Toronto",
          "Toronto",
          "Toronto",
          "Toronto",
          "Toronto",
          "Toronto",
          "Toronto",
          "Toronto",
          "Toronto",
          "Toronto",
          "Toronto",
          "Toronto",
          "Toronto",
          "Toronto",
          "Toronto",
          "Toronto",
          "Toronto",
          "Toronto",
          "Toronto",
          "Toronto",
          "Toronto",
          "Toronto",
          "Toronto",
          "Toronto",
          "Toronto",
          "Toronto",
          "Toronto",
          "Toronto",
          "Toronto",
          "Toronto",
          "Toronto",
          "Toronto",
          "Toronto",
          "Toronto",
          "Toronto",
          "Toronto",
          "Toronto",
          "Toronto",
          "Toronto",
          "Toronto",
          "Toronto",
          "Toronto",
          "Toronto",
          "Toronto",
          "Toronto",
          "Toronto",
          "Toronto",
          "Toronto",
          "Toronto",
          "Toronto",
          "Toronto",
          "Toronto",
          "Toronto",
          "Toronto",
          "Toronto",
          "Toronto",
          "Toronto",
          "Toronto",
          "Toronto",
          "Toronto",
          "Toronto",
          "Toronto",
          "Montreal",
          "Montreal",
          "Montreal",
          "Montreal",
          "Montreal",
          "Montreal",
          "Montreal",
          "Montreal",
          "Montreal",
          "Montreal",
          "Montreal",
          "Montreal",
          "Toronto",
          "Toronto",
          "Toronto",
          "Toronto",
          "Toronto",
          "Toronto",
          "Toronto",
          "Toronto",
          "Toronto",
          "Toronto",
          "Toronto",
          "Toronto",
          "Toronto",
          "Toronto",
          "Toronto",
          "Toronto",
          "Toronto",
          "Toronto",
          "Toronto",
          "Toronto",
          "Toronto",
          "Toronto",
          "Toronto",
          "Toronto",
          "Toronto",
          "Toronto",
          "Toronto",
          "Toronto",
          "Toronto",
          "Toronto",
          "Toronto",
          "Toronto",
          "Toronto",
          "Toronto",
          "Toronto",
          "Toronto",
          "Toronto",
          "Toronto",
          "Toronto",
          "Toronto",
          "Toronto",
          "Toronto",
          "Toronto",
          "Toronto",
          "Toronto",
          "Toronto",
          "Toronto",
          "Toronto",
          "Toronto",
          "Toronto",
          "Toronto",
          "Toronto",
          "Toronto",
          "Toronto",
          "Toronto",
          "Toronto",
          "Toronto",
          "Toronto",
          "Toronto",
          "Toronto",
          "Toronto",
          "Toronto",
          "Montreal",
          "Montreal",
          "Montreal",
          "Montreal",
          "Montreal",
          "Montreal",
          "Montreal",
          "Montreal",
          "Montreal",
          "Montreal",
          "Montreal",
          "Montreal",
          "Montreal",
          "Montreal",
          "Montreal",
          "Montreal",
          "Montreal",
          "Toronto",
          "Toronto",
          "Toronto",
          "Toronto",
          "Toronto",
          "Toronto",
          "Toronto",
          "Toronto",
          "Toronto",
          "Toronto",
          "Toronto",
          "Toronto",
          "Toronto",
          "Toronto",
          "Toronto",
          "Toronto",
          "Toronto",
          "Toronto",
          "Toronto",
          "Toronto",
          "Toronto",
          "Toronto",
          "Toronto",
          "Toronto",
          "Toronto",
          "Toronto",
          "Toronto",
          "Toronto",
          "Toronto",
          "Toronto",
          "Toronto",
          "Toronto",
          "Toronto",
          "Toronto",
          "Toronto",
          "Toronto",
          "Toronto",
          "Toronto",
          "Toronto",
          "Toronto",
          "Toronto",
          "Toronto",
          "Toronto",
          "Toronto",
          "Toronto",
          "Toronto",
          "Toronto",
          "Toronto",
          "Toronto",
          "Toronto",
          "Toronto",
          "Toronto",
          "Toronto",
          "Toronto",
          "Toronto",
          "Toronto",
          "Toronto",
          "Toronto",
          "Toronto",
          "Toronto",
          "Toronto",
          "Toronto",
          "Toronto",
          "Toronto",
          "Toronto",
          "Toronto",
          "Toronto",
          "Toronto",
          "Toronto",
          "Toronto",
          "Toronto",
          "Toronto",
          "Toronto",
          "Toronto",
          "Toronto",
          "Toronto",
          "Toronto",
          "Toronto",
          "Toronto",
          "Toronto",
          "Toronto",
          "Toronto",
          "Toronto",
          "Toronto",
          "Toronto",
          "Toronto",
          "Toronto",
          "Toronto",
          "Toronto",
          "Toronto",
          "Toronto",
          "Toronto",
          "Toronto",
          "Toronto",
          "Toronto",
          "Toronto",
          "Toronto",
          "Toronto",
          "Toronto",
          "Toronto",
          "Toronto",
          "Toronto",
          "Toronto",
          "Toronto",
          "Toronto",
          "Toronto",
          "Toronto",
          "Toronto",
          "Toronto",
          "Toronto",
          "Toronto",
          "Toronto",
          "Toronto",
          "Toronto",
          "Toronto",
          "Toronto",
          "Toronto",
          "Toronto",
          "Toronto",
          "Toronto",
          "Toronto",
          "Toronto",
          "Toronto",
          "Toronto",
          "Toronto",
          "Toronto",
          "Toronto",
          "Toronto",
          "Toronto",
          "Toronto",
          "Toronto",
          "Toronto",
          "Toronto",
          "Toronto",
          "Toronto",
          "Toronto",
          "Toronto",
          "Toronto",
          "Toronto",
          "Toronto",
          "Toronto",
          "Toronto",
          "Toronto",
          "Toronto",
          "Toronto",
          "Toronto",
          "Toronto",
          "Toronto",
          "Toronto",
          "Toronto",
          "Toronto",
          "Toronto",
          "Toronto",
          "Toronto",
          "Toronto",
          "Toronto",
          "Toronto",
          "Toronto",
          "Toronto",
          "Toronto",
          "Toronto",
          "Toronto",
          "Toronto",
          "Toronto",
          "Toronto",
          "Toronto",
          "Montreal",
          "Montreal",
          "Montreal",
          "Montreal",
          "Montreal",
          "Montreal",
          "Montreal",
          "Montreal",
          "Toronto",
          "Toronto",
          "Toronto",
          "Toronto",
          "Toronto",
          "Toronto",
          "Toronto",
          "Toronto",
          "Toronto",
          "Toronto",
          "Toronto",
          "Toronto",
          "Toronto",
          "Toronto",
          "Toronto",
          "Toronto",
          "Toronto",
          "Toronto",
          "Toronto",
          "Toronto",
          "Toronto",
          "Toronto",
          "Toronto",
          "Toronto",
          "Toronto",
          "Toronto",
          "Toronto",
          "Toronto",
          "Toronto",
          "Toronto",
          "Toronto",
          "Toronto",
          "Toronto",
          "Toronto",
          "Toronto",
          "Toronto",
          "Toronto",
          "Toronto",
          "Toronto",
          "Toronto",
          "Toronto",
          "Toronto",
          "Toronto",
          "Toronto",
          "Toronto",
          "Toronto",
          "Toronto",
          "Toronto",
          "Toronto",
          "Toronto",
          "Toronto",
          "Toronto",
          "Toronto",
          "Toronto",
          "Toronto",
          "Toronto",
          "Toronto",
          "Toronto",
          "Toronto",
          "Toronto",
          "Toronto",
          "Montreal",
          "Montreal",
          "Montreal",
          "Montreal",
          "Montreal",
          "Montreal",
          "Montreal",
          "Montreal",
          "Montreal",
          "Montreal",
          "Montreal",
          "Montreal",
          "Toronto",
          "Toronto",
          "Toronto",
          "Toronto",
          "Toronto",
          "Toronto",
          "Toronto",
          "Toronto",
          "Toronto",
          "Toronto",
          "Toronto",
          "Toronto",
          "Toronto",
          "Toronto",
          "Toronto",
          "Toronto",
          "Toronto",
          "Toronto",
          "Toronto",
          "Toronto",
          "Toronto",
          "Toronto",
          "Toronto",
          "Toronto",
          "Toronto",
          "Toronto",
          "Toronto",
          "Toronto",
          "Toronto",
          "Toronto",
          "Toronto",
          "Toronto",
          "Toronto",
          "Toronto",
          "Toronto",
          "Toronto",
          "Toronto",
          "Toronto",
          "Toronto",
          "Toronto",
          "Toronto",
          "Toronto",
          "Toronto",
          "Toronto",
          "Toronto",
          "Toronto",
          "Toronto",
          "Toronto",
          "Toronto",
          "Toronto",
          "Toronto",
          "Toronto",
          "Toronto",
          "Toronto",
          "Toronto",
          "Toronto",
          "Toronto",
          "Toronto",
          "Toronto",
          "Toronto",
          "Toronto",
          "Toronto",
          "Toronto",
          "Toronto",
          "Toronto",
          "Toronto",
          "Toronto",
          "Toronto",
          "Toronto",
          "Toronto",
          "Toronto",
          "Toronto",
          "Toronto",
          "Toronto",
          "Toronto",
          "Toronto",
          "Toronto",
          "Toronto",
          "Toronto",
          "Toronto",
          "Toronto",
          "Toronto",
          "Toronto",
          "Toronto",
          "Toronto",
          "Toronto",
          "Toronto",
          "Toronto",
          "Toronto",
          "Toronto",
          "Toronto",
          "Toronto",
          "Toronto",
          "Toronto",
          "Toronto",
          "Toronto",
          "Toronto",
          "Toronto",
          "Toronto",
          "Toronto",
          "Toronto",
          "Toronto",
          "Toronto",
          "Toronto",
          "Toronto",
          "Toronto",
          "Toronto",
          "Toronto",
          "Toronto",
          "Toronto",
          "Toronto",
          "Toronto",
          "Toronto",
          "Toronto",
          "Toronto",
          "Toronto",
          "Toronto",
          "Toronto",
          "Toronto",
          "Toronto",
          "Toronto",
          "Toronto",
          "Toronto",
          "Toronto",
          "Toronto",
          "Toronto",
          "Toronto",
          "Toronto",
          "Toronto",
          "Toronto",
          "Toronto",
          "Toronto",
          "Toronto",
          "Toronto",
          "Toronto",
          "Toronto",
          "Toronto",
          "Toronto",
          "Toronto",
          "Toronto",
          "Toronto",
          "Toronto",
          "Toronto",
          "Toronto",
          "Toronto",
          "Toronto",
          "Toronto",
          "Toronto",
          "Toronto",
          "Toronto",
          "Toronto",
          "Toronto",
          "Toronto",
          "Toronto",
          "Toronto",
          "Toronto",
          "Toronto",
          "Toronto",
          "Montreal",
          "Montreal",
          "Montreal",
          "Montreal",
          "Montreal",
          "Montreal",
          "Montreal",
          "Montreal",
          "Montreal",
          "Toronto",
          "Toronto",
          "Toronto",
          "Toronto",
          "Toronto",
          "Toronto",
          "Toronto",
          "Toronto",
          "Toronto",
          "Toronto",
          "Toronto",
          "Toronto",
          "Toronto",
          "Toronto",
          "Toronto",
          "Toronto",
          "Toronto",
          "Toronto",
          "Toronto",
          "Toronto",
          "Toronto",
          "Toronto",
          "Toronto",
          "Toronto",
          "Toronto",
          "Toronto",
          "Toronto",
          "Toronto",
          "Toronto",
          "Toronto",
          "Toronto",
          "Toronto",
          "Toronto",
          "Toronto",
          "Toronto",
          "Toronto",
          "Toronto",
          "Toronto",
          "Toronto",
          "Toronto",
          "Toronto",
          "Toronto",
          "Toronto",
          "Toronto",
          "Toronto",
          "Toronto",
          "Toronto",
          "Toronto",
          "Toronto",
          "Toronto",
          "Toronto",
          "Toronto",
          "Toronto",
          "Toronto",
          "Toronto",
          "Toronto",
          "Toronto",
          "Toronto",
          "Toronto",
          "Toronto",
          "Montreal",
          "Montreal",
          "Montreal",
          "Montreal",
          "Toronto",
          "Toronto",
          "Toronto",
          "Toronto",
          "Toronto",
          "Toronto",
          "Toronto",
          "Toronto",
          "Toronto",
          "Toronto",
          "Toronto",
          "Toronto",
          "Toronto",
          "Toronto",
          "Toronto",
          "Toronto",
          "Toronto",
          "Toronto",
          "Toronto",
          "Toronto",
          "Toronto",
          "Toronto",
          "Toronto",
          "Toronto",
          "Toronto",
          "Toronto",
          "Toronto",
          "Toronto",
          "Toronto",
          "Toronto",
          "Toronto",
          "Toronto",
          "Toronto",
          "Toronto",
          "Toronto",
          "Toronto",
          "Toronto",
          "Toronto",
          "Toronto",
          "Toronto",
          "Toronto",
          "Toronto",
          "Toronto",
          "Toronto",
          "Toronto",
          "Toronto",
          "Toronto",
          "Toronto",
          "Toronto",
          "Toronto",
          "Toronto",
          "Toronto",
          "Toronto",
          "Toronto",
          "Toronto",
          "Toronto",
          "Toronto",
          "Toronto",
          "Toronto",
          "Toronto",
          "Toronto",
          "Toronto",
          "Toronto",
          "Toronto",
          "Toronto",
          "Toronto",
          "Toronto",
          "Toronto",
          "Toronto",
          "Toronto",
          "Toronto",
          "Toronto",
          "Toronto",
          "Toronto",
          "Toronto",
          "Toronto",
          "Toronto",
          "Toronto",
          "Toronto",
          "Toronto",
          "Toronto",
          "Toronto",
          "Toronto",
          "Toronto",
          "Toronto",
          "Toronto",
          "Toronto",
          "Toronto",
          "Toronto",
          "Toronto",
          "Toronto",
          "Toronto",
          "Toronto",
          "Toronto",
          "Toronto",
          "Toronto",
          "Toronto",
          "Toronto",
          "Toronto",
          "Toronto",
          "Toronto",
          "Toronto",
          "Toronto",
          "Toronto",
          "Toronto",
          "Toronto",
          "Toronto",
          "Toronto",
          "Toronto",
          "Toronto",
          "Toronto",
          "Toronto",
          "Toronto",
          "Toronto",
          "Toronto",
          "Toronto",
          "Toronto",
          "Toronto",
          "Toronto",
          "Toronto",
          "Toronto",
          "Toronto",
          "Toronto",
          "Toronto",
          "Toronto",
          "Toronto",
          "Toronto",
          "Toronto",
          "Toronto",
          "Toronto",
          "Toronto",
          "Toronto",
          "Toronto",
          "Toronto",
          "Toronto",
          "Toronto",
          "Toronto",
          "Toronto",
          "Toronto",
          "Toronto",
          "Toronto",
          "Toronto",
          "Toronto",
          "Toronto",
          "Toronto",
          "Toronto",
          "Toronto",
          "Toronto",
          "Toronto",
          "Toronto",
          "Toronto",
          "Toronto",
          "Toronto",
          "Toronto",
          "Toronto",
          "Montreal",
          "Montreal",
          "Montreal",
          "Montreal",
          "Toronto",
          "Toronto",
          "Toronto",
          "Toronto",
          "Toronto",
          "Toronto",
          "Toronto",
          "Toronto",
          "Toronto",
          "Toronto",
          "Toronto",
          "Toronto",
          "Toronto",
          "Toronto",
          "Toronto",
          "Toronto",
          "Toronto",
          "Toronto",
          "Toronto",
          "Toronto",
          "Toronto",
          "Toronto",
          "Toronto",
          "Toronto",
          "Toronto",
          "Toronto",
          "Toronto",
          "Toronto",
          "Toronto",
          "Toronto",
          "Toronto",
          "Toronto",
          "Toronto",
          "Toronto",
          "Toronto",
          "Toronto",
          "Toronto",
          "Toronto",
          "Toronto",
          "Toronto",
          "Toronto",
          "Toronto",
          "Toronto",
          "Toronto",
          "Toronto",
          "Toronto",
          "Toronto",
          "Toronto",
          "Toronto",
          "Toronto",
          "Toronto",
          "Toronto",
          "Toronto",
          "Montreal",
          "Montreal",
          "Montreal",
          "Montreal",
          "Montreal",
          "Montreal",
          "Montreal",
          "Toronto",
          "Toronto",
          "Toronto",
          "Toronto",
          "Toronto",
          "Toronto",
          "Toronto",
          "Toronto",
          "Toronto",
          "Toronto",
          "Toronto",
          "Toronto",
          "Toronto",
          "Toronto",
          "Toronto",
          "Toronto",
          "Toronto",
          "Toronto",
          "Toronto",
          "Toronto",
          "Toronto",
          "Toronto",
          "Toronto",
          "Toronto",
          "Toronto",
          "Toronto",
          "Toronto",
          "Toronto",
          "Toronto",
          "Toronto",
          "Toronto",
          "Toronto",
          "Toronto",
          "Toronto",
          "Toronto",
          "Toronto",
          "Toronto",
          "Toronto",
          "Toronto",
          "Toronto",
          "Toronto",
          "Toronto",
          "Toronto",
          "Toronto",
          "Toronto",
          "Toronto",
          "Toronto",
          "Toronto",
          "Toronto",
          "Toronto",
          "Toronto",
          "Toronto",
          "Toronto",
          "Toronto",
          "Toronto",
          "Toronto",
          "Toronto",
          "Toronto",
          "Toronto",
          "Toronto",
          "Toronto",
          "Toronto",
          "Toronto",
          "Toronto",
          "Toronto",
          "Toronto",
          "Toronto",
          "Toronto",
          "Toronto",
          "Toronto",
          "Toronto",
          "Toronto",
          "Toronto",
          "Toronto",
          "Toronto",
          "Toronto",
          "Toronto",
          "Toronto",
          "Toronto",
          "Toronto",
          "Toronto",
          "Toronto",
          "Toronto",
          "Toronto",
          "Toronto",
          "Toronto",
          "Toronto",
          "Toronto",
          "Toronto",
          "Toronto",
          "Toronto",
          "Toronto",
          "Toronto",
          "Toronto",
          "Toronto",
          "Toronto",
          "Toronto",
          "Toronto",
          "Toronto",
          "Toronto",
          "Toronto",
          "Toronto",
          "Toronto",
          "Toronto",
          "Toronto",
          "Toronto",
          "Toronto",
          "Toronto",
          "Toronto",
          "Toronto",
          "Toronto",
          "Toronto",
          "Toronto",
          "Montreal",
          "Montreal",
          "Montreal",
          "Montreal",
          "Montreal",
          "Montreal",
          "Montreal",
          "Toronto",
          "Toronto",
          "Toronto",
          "Toronto",
          "Toronto",
          "Toronto",
          "Toronto",
          "Toronto",
          "Toronto",
          "Toronto",
          "Toronto",
          "Toronto",
          "Toronto",
          "Toronto",
          "Toronto",
          "Toronto",
          "Toronto",
          "Toronto",
          "Toronto",
          "Toronto",
          "Toronto",
          "Toronto",
          "Toronto",
          "Toronto",
          "Toronto",
          "Toronto",
          "Toronto",
          "Toronto",
          "Toronto",
          "Toronto",
          "Toronto",
          "Toronto",
          "Montreal",
          "Montreal",
          "Montreal",
          "Toronto",
          "Toronto",
          "Toronto",
          "Toronto",
          "Toronto",
          "Toronto",
          "Toronto",
          "Toronto",
          "Toronto",
          "Toronto",
          "Toronto",
          "Toronto",
          "Toronto",
          "Toronto",
          "Toronto",
          "Toronto",
          "Toronto",
          "Toronto",
          "Toronto",
          "Toronto",
          "Toronto",
          "Toronto",
          "Toronto",
          "Toronto",
          "Toronto",
          "Toronto",
          "Toronto",
          "Toronto",
          "Toronto",
          "Toronto",
          "Toronto",
          "Toronto",
          "Toronto",
          "Toronto",
          "Toronto",
          "Toronto",
          "Toronto",
          "Toronto",
          "Toronto",
          "Toronto",
          "Toronto",
          "Toronto",
          "Toronto",
          "Toronto",
          "Toronto",
          "Toronto",
          "Toronto",
          "Toronto",
          "Toronto",
          "Toronto",
          "Toronto",
          "Toronto",
          "Toronto",
          "Toronto",
          "Toronto",
          "Toronto",
          "Toronto",
          "Toronto",
          "Toronto",
          "Toronto",
          "Toronto",
          "Toronto",
          "Toronto",
          "Toronto",
          "Toronto",
          "Toronto",
          "Toronto",
          "Toronto",
          "Toronto",
          "Toronto",
          "Toronto",
          "Toronto",
          "Toronto",
          "Toronto",
          "Toronto",
          "Toronto",
          "Toronto",
          "Toronto",
          "Toronto",
          "Toronto",
          "Toronto",
          "Toronto",
          "Toronto",
          "Toronto",
          "Toronto",
          "Toronto",
          "Toronto",
          "Toronto",
          "Toronto",
          "Toronto",
          "Toronto",
          "Toronto",
          "Toronto",
          "Toronto",
          "Toronto",
          "Toronto",
          "Toronto",
          "Toronto",
          "Toronto",
          "Toronto",
          "Toronto",
          "Toronto",
          "Toronto",
          "Toronto",
          "Toronto",
          "Toronto",
          "Toronto",
          "Toronto",
          "Toronto",
          "Toronto",
          "Toronto",
          "Toronto",
          "Toronto",
          "Toronto",
          "Toronto",
          "Toronto",
          "Toronto",
          "Toronto",
          "Toronto",
          "Toronto",
          "Toronto",
          "Toronto",
          "Toronto",
          "Toronto",
          "Toronto",
          "Toronto",
          "Toronto",
          "Toronto",
          "Toronto",
          "Toronto",
          "Toronto",
          "Toronto",
          "Toronto",
          "Toronto",
          "Toronto",
          "Toronto",
          "Toronto",
          "Toronto",
          "Montreal",
          "Montreal",
          "Toronto",
          "Toronto",
          "Toronto",
          "Toronto",
          "Toronto",
          "Toronto",
          "Toronto",
          "Toronto",
          "Toronto",
          "Toronto",
          "Toronto",
          "Toronto",
          "Toronto",
          "Toronto",
          "Toronto",
          "Toronto",
          "Toronto",
          "Toronto",
          "Toronto",
          "Toronto",
          "Toronto",
          "Toronto",
          "Toronto",
          "Toronto",
          "Toronto",
          "Toronto",
          "Toronto",
          "Toronto",
          "Toronto",
          "Toronto",
          "Toronto",
          "Toronto",
          "Toronto",
          "Toronto",
          "Toronto",
          "Toronto",
          "Toronto",
          "Toronto",
          "Toronto",
          "Toronto",
          "Toronto",
          "Toronto",
          "Toronto",
          "Toronto",
          "Toronto",
          "Toronto",
          "Toronto",
          "Toronto",
          "Toronto",
          "Toronto",
          "Toronto",
          "Toronto",
          "Toronto",
          "Toronto",
          "Toronto",
          "Toronto",
          "Toronto",
          "Montreal",
          "Montreal",
          "Montreal",
          "Montreal",
          "Montreal",
          "Montreal",
          "Montreal",
          "Toronto",
          "Toronto",
          "Toronto",
          "Toronto",
          "Toronto",
          "Toronto",
          "Toronto",
          "Toronto",
          "Toronto",
          "Toronto",
          "Toronto",
          "Toronto",
          "Toronto",
          "Toronto",
          "Toronto",
          "Toronto",
          "Toronto",
          "Toronto",
          "Toronto",
          "Toronto",
          "Toronto",
          "Toronto",
          "Toronto",
          "Toronto",
          "Toronto",
          "Toronto",
          "Toronto",
          "Toronto",
          "Toronto",
          "Toronto",
          "Toronto",
          "Toronto",
          "Toronto",
          "Toronto",
          "Toronto",
          "Toronto",
          "Toronto",
          "Toronto",
          "Toronto",
          "Toronto",
          "Toronto",
          "Toronto",
          "Toronto",
          "Toronto",
          "Toronto",
          "Toronto",
          "Toronto",
          "Toronto",
          "Toronto",
          "Toronto",
          "Toronto",
          "Toronto",
          "Toronto",
          "Toronto",
          "Toronto",
          "Toronto",
          "Toronto",
          "Toronto",
          "Toronto",
          "Toronto",
          "Toronto",
          "Toronto",
          "Toronto",
          "Toronto",
          "Toronto",
          "Toronto",
          "Toronto",
          "Toronto",
          "Toronto",
          "Toronto",
          "Toronto",
          "Toronto",
          "Toronto",
          "Toronto",
          "Toronto",
          "Toronto",
          "Toronto",
          "Toronto",
          "Toronto",
          "Toronto",
          "Toronto",
          "Montreal",
          "Montreal",
          "Montreal",
          "Montreal",
          "Montreal",
          "Montreal",
          "Montreal",
          "Montreal",
          "Montreal",
          "Montreal",
          "Montreal",
          "Montreal",
          "Toronto",
          "Toronto",
          "Toronto",
          "Toronto",
          "Toronto",
          "Toronto",
          "Toronto",
          "Toronto",
          "Toronto",
          "Toronto",
          "Toronto",
          "Toronto",
          "Toronto",
          "Toronto",
          "Toronto",
          "Toronto",
          "Toronto",
          "Toronto",
          "Toronto",
          "Toronto",
          "Toronto",
          "Toronto",
          "Toronto",
          "Toronto",
          "Toronto",
          "Toronto",
          "Toronto",
          "Toronto",
          "Toronto",
          "Toronto",
          "Toronto",
          "Toronto",
          "Toronto",
          "Toronto",
          "Toronto",
          "Toronto",
          "Toronto",
          "Toronto",
          "Toronto",
          "Toronto",
          "Toronto",
          "Toronto",
          "Toronto",
          "Toronto",
          "Toronto",
          "Toronto",
          "Toronto",
          "Toronto",
          "Toronto",
          "Toronto",
          "Toronto",
          "Toronto",
          "Toronto",
          "Toronto",
          "Toronto",
          "Toronto",
          "Toronto",
          "Toronto",
          "Toronto",
          "Toronto",
          "Toronto",
          "Toronto",
          "Toronto",
          "Toronto",
          "Toronto",
          "Toronto",
          "Toronto",
          "Toronto",
          "Toronto",
          "Toronto",
          "Toronto",
          "Toronto",
          "Toronto",
          "Toronto",
          "Toronto",
          "Toronto",
          "Toronto",
          "Toronto",
          "Toronto",
          "Toronto",
          "Toronto",
          "Toronto",
          "Toronto",
          "Toronto",
          "Toronto",
          "Toronto",
          "Toronto",
          "Toronto",
          "Toronto",
          "Toronto",
          "Toronto",
          "Toronto",
          "Toronto",
          "Toronto",
          "Toronto",
          "Toronto",
          "Toronto",
          "Toronto",
          "Toronto",
          "Toronto",
          "Montreal",
          "Montreal",
          "Montreal",
          "Montreal",
          "Montreal",
          "Toronto",
          "Toronto",
          "Toronto",
          "Toronto",
          "Toronto",
          "Toronto",
          "Toronto",
          "Toronto",
          "Toronto",
          "Toronto",
          "Toronto",
          "Toronto",
          "Toronto",
          "Toronto",
          "Toronto",
          "Toronto",
          "Toronto",
          "Toronto",
          "Toronto",
          "Toronto",
          "Toronto",
          "Toronto",
          "Toronto",
          "Toronto",
          "Toronto",
          "Toronto",
          "Toronto",
          "Toronto",
          "Toronto",
          "Toronto",
          "Toronto",
          "Toronto",
          "Toronto",
          "Toronto",
          "Toronto",
          "Toronto",
          "Toronto",
          "Toronto",
          "Toronto",
          "Toronto",
          "Toronto",
          "Toronto",
          "Toronto",
          "Toronto",
          "Toronto",
          "Toronto",
          "Toronto",
          "Toronto",
          "Toronto",
          "Toronto",
          "Toronto",
          "Toronto",
          "Toronto",
          "Toronto",
          "Toronto",
          "Toronto",
          "Toronto",
          "Toronto",
          "Toronto",
          "Toronto",
          "Toronto",
          "Toronto",
          "Toronto",
          "Toronto",
          "Toronto",
          "Toronto",
          "Toronto",
          "Toronto",
          "Toronto",
          "Toronto",
          "Toronto",
          "Toronto",
          "Toronto",
          "Toronto",
          "Toronto",
          "Toronto",
          "Toronto",
          "Toronto",
          "Toronto",
          "Toronto",
          "Toronto",
          "Toronto",
          "Toronto",
          "Toronto",
          "Toronto",
          "Toronto",
          "Toronto",
          "Toronto",
          "Toronto",
          "Toronto",
          "Toronto",
          "Toronto",
          "Toronto",
          "Toronto",
          "Toronto",
          "Toronto",
          "Toronto",
          "Toronto",
          "Toronto",
          "Toronto",
          "Toronto",
          "Toronto",
          "Toronto",
          "Toronto",
          "Toronto",
          "Toronto",
          "Toronto",
          "Toronto",
          "Toronto",
          "Toronto",
          "Toronto",
          "Toronto",
          "Toronto",
          "Toronto",
          "Toronto",
          "Toronto",
          "Toronto",
          "Toronto",
          "Toronto",
          "Toronto",
          "Toronto",
          "Toronto",
          "Toronto",
          "Toronto",
          "Toronto",
          "Toronto",
          "Toronto",
          "Toronto",
          "Toronto",
          "Toronto",
          "Toronto",
          "Toronto",
          "Toronto",
          "Toronto",
          "Toronto",
          "Toronto",
          "Toronto",
          "Toronto",
          "Toronto",
          "Toronto",
          "Toronto",
          "Toronto",
          "Toronto",
          "Toronto",
          "Toronto",
          "Toronto",
          "Toronto",
          "Toronto",
          "Toronto",
          "Toronto",
          "Toronto",
          "Toronto",
          "Toronto",
          "Toronto",
          "Toronto",
          "Toronto",
          "Toronto",
          "Toronto",
          "Toronto",
          "Toronto",
          "Toronto",
          "Toronto",
          "Toronto",
          "Toronto",
          "Toronto",
          "Toronto",
          "Toronto",
          "Toronto",
          "Toronto",
          "Toronto",
          "Toronto",
          "Toronto",
          "Toronto",
          "Toronto",
          "Toronto",
          "Toronto",
          "Toronto",
          "Toronto",
          "Toronto",
          "Toronto",
          "Toronto",
          "Toronto",
          "Toronto",
          "Toronto",
          "Toronto",
          "Toronto",
          "Toronto",
          "Toronto",
          "Toronto",
          "Toronto",
          "Toronto",
          "Toronto",
          "Toronto",
          "Toronto",
          "Toronto",
          "Toronto",
          "Toronto",
          "Toronto",
          "Toronto",
          "Toronto",
          "Toronto",
          "Toronto",
          "Toronto",
          "Toronto",
          "Toronto",
          "Toronto",
          "Toronto",
          "Toronto",
          "Toronto",
          "Toronto",
          "Toronto",
          "Toronto",
          "Toronto",
          "Toronto",
          "Toronto",
          "Toronto",
          "Toronto",
          "Toronto",
          "Toronto",
          "Toronto",
          "Toronto",
          "Toronto",
          "Toronto",
          "Toronto",
          "Toronto",
          "Toronto",
          "Toronto",
          "Toronto",
          "Toronto",
          "Toronto",
          "Toronto"
         ],
         "legendgroup": "",
         "name": "",
         "showlegend": true,
         "type": "pie"
        }
       ],
       "layout": {
        "legend": {
         "tracegroupgap": 0
        },
        "template": {
         "data": {
          "bar": [
           {
            "error_x": {
             "color": "#2a3f5f"
            },
            "error_y": {
             "color": "#2a3f5f"
            },
            "marker": {
             "line": {
              "color": "#E5ECF6",
              "width": 0.5
             },
             "pattern": {
              "fillmode": "overlay",
              "size": 10,
              "solidity": 0.2
             }
            },
            "type": "bar"
           }
          ],
          "barpolar": [
           {
            "marker": {
             "line": {
              "color": "#E5ECF6",
              "width": 0.5
             },
             "pattern": {
              "fillmode": "overlay",
              "size": 10,
              "solidity": 0.2
             }
            },
            "type": "barpolar"
           }
          ],
          "carpet": [
           {
            "aaxis": {
             "endlinecolor": "#2a3f5f",
             "gridcolor": "white",
             "linecolor": "white",
             "minorgridcolor": "white",
             "startlinecolor": "#2a3f5f"
            },
            "baxis": {
             "endlinecolor": "#2a3f5f",
             "gridcolor": "white",
             "linecolor": "white",
             "minorgridcolor": "white",
             "startlinecolor": "#2a3f5f"
            },
            "type": "carpet"
           }
          ],
          "choropleth": [
           {
            "colorbar": {
             "outlinewidth": 0,
             "ticks": ""
            },
            "type": "choropleth"
           }
          ],
          "contour": [
           {
            "colorbar": {
             "outlinewidth": 0,
             "ticks": ""
            },
            "colorscale": [
             [
              0,
              "#0d0887"
             ],
             [
              0.1111111111111111,
              "#46039f"
             ],
             [
              0.2222222222222222,
              "#7201a8"
             ],
             [
              0.3333333333333333,
              "#9c179e"
             ],
             [
              0.4444444444444444,
              "#bd3786"
             ],
             [
              0.5555555555555556,
              "#d8576b"
             ],
             [
              0.6666666666666666,
              "#ed7953"
             ],
             [
              0.7777777777777778,
              "#fb9f3a"
             ],
             [
              0.8888888888888888,
              "#fdca26"
             ],
             [
              1,
              "#f0f921"
             ]
            ],
            "type": "contour"
           }
          ],
          "contourcarpet": [
           {
            "colorbar": {
             "outlinewidth": 0,
             "ticks": ""
            },
            "type": "contourcarpet"
           }
          ],
          "heatmap": [
           {
            "colorbar": {
             "outlinewidth": 0,
             "ticks": ""
            },
            "colorscale": [
             [
              0,
              "#0d0887"
             ],
             [
              0.1111111111111111,
              "#46039f"
             ],
             [
              0.2222222222222222,
              "#7201a8"
             ],
             [
              0.3333333333333333,
              "#9c179e"
             ],
             [
              0.4444444444444444,
              "#bd3786"
             ],
             [
              0.5555555555555556,
              "#d8576b"
             ],
             [
              0.6666666666666666,
              "#ed7953"
             ],
             [
              0.7777777777777778,
              "#fb9f3a"
             ],
             [
              0.8888888888888888,
              "#fdca26"
             ],
             [
              1,
              "#f0f921"
             ]
            ],
            "type": "heatmap"
           }
          ],
          "heatmapgl": [
           {
            "colorbar": {
             "outlinewidth": 0,
             "ticks": ""
            },
            "colorscale": [
             [
              0,
              "#0d0887"
             ],
             [
              0.1111111111111111,
              "#46039f"
             ],
             [
              0.2222222222222222,
              "#7201a8"
             ],
             [
              0.3333333333333333,
              "#9c179e"
             ],
             [
              0.4444444444444444,
              "#bd3786"
             ],
             [
              0.5555555555555556,
              "#d8576b"
             ],
             [
              0.6666666666666666,
              "#ed7953"
             ],
             [
              0.7777777777777778,
              "#fb9f3a"
             ],
             [
              0.8888888888888888,
              "#fdca26"
             ],
             [
              1,
              "#f0f921"
             ]
            ],
            "type": "heatmapgl"
           }
          ],
          "histogram": [
           {
            "marker": {
             "pattern": {
              "fillmode": "overlay",
              "size": 10,
              "solidity": 0.2
             }
            },
            "type": "histogram"
           }
          ],
          "histogram2d": [
           {
            "colorbar": {
             "outlinewidth": 0,
             "ticks": ""
            },
            "colorscale": [
             [
              0,
              "#0d0887"
             ],
             [
              0.1111111111111111,
              "#46039f"
             ],
             [
              0.2222222222222222,
              "#7201a8"
             ],
             [
              0.3333333333333333,
              "#9c179e"
             ],
             [
              0.4444444444444444,
              "#bd3786"
             ],
             [
              0.5555555555555556,
              "#d8576b"
             ],
             [
              0.6666666666666666,
              "#ed7953"
             ],
             [
              0.7777777777777778,
              "#fb9f3a"
             ],
             [
              0.8888888888888888,
              "#fdca26"
             ],
             [
              1,
              "#f0f921"
             ]
            ],
            "type": "histogram2d"
           }
          ],
          "histogram2dcontour": [
           {
            "colorbar": {
             "outlinewidth": 0,
             "ticks": ""
            },
            "colorscale": [
             [
              0,
              "#0d0887"
             ],
             [
              0.1111111111111111,
              "#46039f"
             ],
             [
              0.2222222222222222,
              "#7201a8"
             ],
             [
              0.3333333333333333,
              "#9c179e"
             ],
             [
              0.4444444444444444,
              "#bd3786"
             ],
             [
              0.5555555555555556,
              "#d8576b"
             ],
             [
              0.6666666666666666,
              "#ed7953"
             ],
             [
              0.7777777777777778,
              "#fb9f3a"
             ],
             [
              0.8888888888888888,
              "#fdca26"
             ],
             [
              1,
              "#f0f921"
             ]
            ],
            "type": "histogram2dcontour"
           }
          ],
          "mesh3d": [
           {
            "colorbar": {
             "outlinewidth": 0,
             "ticks": ""
            },
            "type": "mesh3d"
           }
          ],
          "parcoords": [
           {
            "line": {
             "colorbar": {
              "outlinewidth": 0,
              "ticks": ""
             }
            },
            "type": "parcoords"
           }
          ],
          "pie": [
           {
            "automargin": true,
            "type": "pie"
           }
          ],
          "scatter": [
           {
            "fillpattern": {
             "fillmode": "overlay",
             "size": 10,
             "solidity": 0.2
            },
            "type": "scatter"
           }
          ],
          "scatter3d": [
           {
            "line": {
             "colorbar": {
              "outlinewidth": 0,
              "ticks": ""
             }
            },
            "marker": {
             "colorbar": {
              "outlinewidth": 0,
              "ticks": ""
             }
            },
            "type": "scatter3d"
           }
          ],
          "scattercarpet": [
           {
            "marker": {
             "colorbar": {
              "outlinewidth": 0,
              "ticks": ""
             }
            },
            "type": "scattercarpet"
           }
          ],
          "scattergeo": [
           {
            "marker": {
             "colorbar": {
              "outlinewidth": 0,
              "ticks": ""
             }
            },
            "type": "scattergeo"
           }
          ],
          "scattergl": [
           {
            "marker": {
             "colorbar": {
              "outlinewidth": 0,
              "ticks": ""
             }
            },
            "type": "scattergl"
           }
          ],
          "scattermapbox": [
           {
            "marker": {
             "colorbar": {
              "outlinewidth": 0,
              "ticks": ""
             }
            },
            "type": "scattermapbox"
           }
          ],
          "scatterpolar": [
           {
            "marker": {
             "colorbar": {
              "outlinewidth": 0,
              "ticks": ""
             }
            },
            "type": "scatterpolar"
           }
          ],
          "scatterpolargl": [
           {
            "marker": {
             "colorbar": {
              "outlinewidth": 0,
              "ticks": ""
             }
            },
            "type": "scatterpolargl"
           }
          ],
          "scatterternary": [
           {
            "marker": {
             "colorbar": {
              "outlinewidth": 0,
              "ticks": ""
             }
            },
            "type": "scatterternary"
           }
          ],
          "surface": [
           {
            "colorbar": {
             "outlinewidth": 0,
             "ticks": ""
            },
            "colorscale": [
             [
              0,
              "#0d0887"
             ],
             [
              0.1111111111111111,
              "#46039f"
             ],
             [
              0.2222222222222222,
              "#7201a8"
             ],
             [
              0.3333333333333333,
              "#9c179e"
             ],
             [
              0.4444444444444444,
              "#bd3786"
             ],
             [
              0.5555555555555556,
              "#d8576b"
             ],
             [
              0.6666666666666666,
              "#ed7953"
             ],
             [
              0.7777777777777778,
              "#fb9f3a"
             ],
             [
              0.8888888888888888,
              "#fdca26"
             ],
             [
              1,
              "#f0f921"
             ]
            ],
            "type": "surface"
           }
          ],
          "table": [
           {
            "cells": {
             "fill": {
              "color": "#EBF0F8"
             },
             "line": {
              "color": "white"
             }
            },
            "header": {
             "fill": {
              "color": "#C8D4E3"
             },
             "line": {
              "color": "white"
             }
            },
            "type": "table"
           }
          ]
         },
         "layout": {
          "annotationdefaults": {
           "arrowcolor": "#2a3f5f",
           "arrowhead": 0,
           "arrowwidth": 1
          },
          "autotypenumbers": "strict",
          "coloraxis": {
           "colorbar": {
            "outlinewidth": 0,
            "ticks": ""
           }
          },
          "colorscale": {
           "diverging": [
            [
             0,
             "#8e0152"
            ],
            [
             0.1,
             "#c51b7d"
            ],
            [
             0.2,
             "#de77ae"
            ],
            [
             0.3,
             "#f1b6da"
            ],
            [
             0.4,
             "#fde0ef"
            ],
            [
             0.5,
             "#f7f7f7"
            ],
            [
             0.6,
             "#e6f5d0"
            ],
            [
             0.7,
             "#b8e186"
            ],
            [
             0.8,
             "#7fbc41"
            ],
            [
             0.9,
             "#4d9221"
            ],
            [
             1,
             "#276419"
            ]
           ],
           "sequential": [
            [
             0,
             "#0d0887"
            ],
            [
             0.1111111111111111,
             "#46039f"
            ],
            [
             0.2222222222222222,
             "#7201a8"
            ],
            [
             0.3333333333333333,
             "#9c179e"
            ],
            [
             0.4444444444444444,
             "#bd3786"
            ],
            [
             0.5555555555555556,
             "#d8576b"
            ],
            [
             0.6666666666666666,
             "#ed7953"
            ],
            [
             0.7777777777777778,
             "#fb9f3a"
            ],
            [
             0.8888888888888888,
             "#fdca26"
            ],
            [
             1,
             "#f0f921"
            ]
           ],
           "sequentialminus": [
            [
             0,
             "#0d0887"
            ],
            [
             0.1111111111111111,
             "#46039f"
            ],
            [
             0.2222222222222222,
             "#7201a8"
            ],
            [
             0.3333333333333333,
             "#9c179e"
            ],
            [
             0.4444444444444444,
             "#bd3786"
            ],
            [
             0.5555555555555556,
             "#d8576b"
            ],
            [
             0.6666666666666666,
             "#ed7953"
            ],
            [
             0.7777777777777778,
             "#fb9f3a"
            ],
            [
             0.8888888888888888,
             "#fdca26"
            ],
            [
             1,
             "#f0f921"
            ]
           ]
          },
          "colorway": [
           "#636efa",
           "#EF553B",
           "#00cc96",
           "#ab63fa",
           "#FFA15A",
           "#19d3f3",
           "#FF6692",
           "#B6E880",
           "#FF97FF",
           "#FECB52"
          ],
          "font": {
           "color": "#2a3f5f"
          },
          "geo": {
           "bgcolor": "white",
           "lakecolor": "white",
           "landcolor": "#E5ECF6",
           "showlakes": true,
           "showland": true,
           "subunitcolor": "white"
          },
          "hoverlabel": {
           "align": "left"
          },
          "hovermode": "closest",
          "mapbox": {
           "style": "light"
          },
          "paper_bgcolor": "white",
          "plot_bgcolor": "#E5ECF6",
          "polar": {
           "angularaxis": {
            "gridcolor": "white",
            "linecolor": "white",
            "ticks": ""
           },
           "bgcolor": "#E5ECF6",
           "radialaxis": {
            "gridcolor": "white",
            "linecolor": "white",
            "ticks": ""
           }
          },
          "scene": {
           "xaxis": {
            "backgroundcolor": "#E5ECF6",
            "gridcolor": "white",
            "gridwidth": 2,
            "linecolor": "white",
            "showbackground": true,
            "ticks": "",
            "zerolinecolor": "white"
           },
           "yaxis": {
            "backgroundcolor": "#E5ECF6",
            "gridcolor": "white",
            "gridwidth": 2,
            "linecolor": "white",
            "showbackground": true,
            "ticks": "",
            "zerolinecolor": "white"
           },
           "zaxis": {
            "backgroundcolor": "#E5ECF6",
            "gridcolor": "white",
            "gridwidth": 2,
            "linecolor": "white",
            "showbackground": true,
            "ticks": "",
            "zerolinecolor": "white"
           }
          },
          "shapedefaults": {
           "line": {
            "color": "#2a3f5f"
           }
          },
          "ternary": {
           "aaxis": {
            "gridcolor": "white",
            "linecolor": "white",
            "ticks": ""
           },
           "baxis": {
            "gridcolor": "white",
            "linecolor": "white",
            "ticks": ""
           },
           "bgcolor": "#E5ECF6",
           "caxis": {
            "gridcolor": "white",
            "linecolor": "white",
            "ticks": ""
           }
          },
          "title": {
           "x": 0.05
          },
          "xaxis": {
           "automargin": true,
           "gridcolor": "white",
           "linecolor": "white",
           "ticks": "",
           "title": {
            "standoff": 15
           },
           "zerolinecolor": "white",
           "zerolinewidth": 2
          },
          "yaxis": {
           "automargin": true,
           "gridcolor": "white",
           "linecolor": "white",
           "ticks": "",
           "title": {
            "standoff": 15
           },
           "zerolinecolor": "white",
           "zerolinewidth": 2
          }
         }
        },
        "title": {
         "text": "Attendees by City"
        }
       }
      }
     },
     "metadata": {},
     "output_type": "display_data"
    }
   ],
   "source": [
    "figure = px.pie(df, names='City', title='Attendees by City')\n",
    "figure.show()"
   ]
  },
  {
   "cell_type": "markdown",
   "metadata": {},
   "source": [
    "### Notworking to Networking Over Time"
   ]
  },
  {
   "cell_type": "code",
   "execution_count": 30,
   "metadata": {},
   "outputs": [
    {
     "data": {
      "text/plain": [
       "Index(['#', 'Date', 'City', 'Season', 'Industry / Event', 'Format',\n",
       "       'Attendance', 'Email', 'First Name', 'Last Name', 'Country of Origin',\n",
       "       'Area of Expertise', 'Employment Status', 'Employer', 'Dream Job',\n",
       "       'Linkedin'],\n",
       "      dtype='object')"
      ]
     },
     "execution_count": 30,
     "metadata": {},
     "output_type": "execute_result"
    }
   ],
   "source": [
    "df.columns"
   ]
  },
  {
   "cell_type": "code",
   "execution_count": 31,
   "metadata": {},
   "outputs": [],
   "source": [
    "df['Date'] = pd.to_datetime(df['Date'])"
   ]
  },
  {
   "cell_type": "code",
   "execution_count": 32,
   "metadata": {},
   "outputs": [],
   "source": [
    "attendance_grouped = df.groupby(['Date', 'Attendance']).size().reset_index(name='count')\n",
    "attendance_grouped.loc[attendance_grouped['Attendance'] == 'Attending', 'Attendance'] = 'Not Attending'\n"
   ]
  },
  {
   "cell_type": "code",
   "execution_count": 33,
   "metadata": {},
   "outputs": [],
   "source": [
    "attendance_grouped['cumulative_count'] = attendance_grouped.groupby('Attendance')['count'].cumsum()"
   ]
  },
  {
   "cell_type": "code",
   "execution_count": 34,
   "metadata": {},
   "outputs": [],
   "source": [
    "attendance_grouped['total_count'] = attendance_grouped['count'].cumsum()\n"
   ]
  },
  {
   "cell_type": "code",
   "execution_count": 35,
   "metadata": {},
   "outputs": [
    {
     "data": {
      "text/html": [
       "<div>\n",
       "<style scoped>\n",
       "    .dataframe tbody tr th:only-of-type {\n",
       "        vertical-align: middle;\n",
       "    }\n",
       "\n",
       "    .dataframe tbody tr th {\n",
       "        vertical-align: top;\n",
       "    }\n",
       "\n",
       "    .dataframe thead th {\n",
       "        text-align: right;\n",
       "    }\n",
       "</style>\n",
       "<table border=\"1\" class=\"dataframe\">\n",
       "  <thead>\n",
       "    <tr style=\"text-align: right;\">\n",
       "      <th></th>\n",
       "      <th>Date</th>\n",
       "      <th>Attendance</th>\n",
       "      <th>count</th>\n",
       "      <th>cumulative_count</th>\n",
       "      <th>total_count</th>\n",
       "    </tr>\n",
       "  </thead>\n",
       "  <tbody>\n",
       "    <tr>\n",
       "      <th>0</th>\n",
       "      <td>2021-01-14</td>\n",
       "      <td>Checked In</td>\n",
       "      <td>10</td>\n",
       "      <td>10</td>\n",
       "      <td>10</td>\n",
       "    </tr>\n",
       "    <tr>\n",
       "      <th>1</th>\n",
       "      <td>2021-01-21</td>\n",
       "      <td>Checked In</td>\n",
       "      <td>17</td>\n",
       "      <td>27</td>\n",
       "      <td>27</td>\n",
       "    </tr>\n",
       "    <tr>\n",
       "      <th>2</th>\n",
       "      <td>2021-01-30</td>\n",
       "      <td>Checked In</td>\n",
       "      <td>22</td>\n",
       "      <td>49</td>\n",
       "      <td>49</td>\n",
       "    </tr>\n",
       "    <tr>\n",
       "      <th>3</th>\n",
       "      <td>2021-02-04</td>\n",
       "      <td>Checked In</td>\n",
       "      <td>22</td>\n",
       "      <td>71</td>\n",
       "      <td>71</td>\n",
       "    </tr>\n",
       "    <tr>\n",
       "      <th>4</th>\n",
       "      <td>2021-02-09</td>\n",
       "      <td>Checked In</td>\n",
       "      <td>25</td>\n",
       "      <td>96</td>\n",
       "      <td>96</td>\n",
       "    </tr>\n",
       "    <tr>\n",
       "      <th>...</th>\n",
       "      <td>...</td>\n",
       "      <td>...</td>\n",
       "      <td>...</td>\n",
       "      <td>...</td>\n",
       "      <td>...</td>\n",
       "    </tr>\n",
       "    <tr>\n",
       "      <th>253</th>\n",
       "      <td>2023-11-23</td>\n",
       "      <td>Not Attending</td>\n",
       "      <td>3</td>\n",
       "      <td>3145</td>\n",
       "      <td>4958</td>\n",
       "    </tr>\n",
       "    <tr>\n",
       "      <th>254</th>\n",
       "      <td>2023-11-23</td>\n",
       "      <td>Not Attending</td>\n",
       "      <td>2</td>\n",
       "      <td>3147</td>\n",
       "      <td>4960</td>\n",
       "    </tr>\n",
       "    <tr>\n",
       "      <th>255</th>\n",
       "      <td>2023-11-27</td>\n",
       "      <td>Not Attending</td>\n",
       "      <td>13</td>\n",
       "      <td>3160</td>\n",
       "      <td>4973</td>\n",
       "    </tr>\n",
       "    <tr>\n",
       "      <th>256</th>\n",
       "      <td>2023-11-27</td>\n",
       "      <td>Checked In</td>\n",
       "      <td>3</td>\n",
       "      <td>1816</td>\n",
       "      <td>4976</td>\n",
       "    </tr>\n",
       "    <tr>\n",
       "      <th>257</th>\n",
       "      <td>2023-11-27</td>\n",
       "      <td>Not Attending</td>\n",
       "      <td>2</td>\n",
       "      <td>3162</td>\n",
       "      <td>4978</td>\n",
       "    </tr>\n",
       "  </tbody>\n",
       "</table>\n",
       "<p>258 rows × 5 columns</p>\n",
       "</div>"
      ],
      "text/plain": [
       "          Date     Attendance  count  cumulative_count  total_count\n",
       "0   2021-01-14     Checked In     10                10           10\n",
       "1   2021-01-21     Checked In     17                27           27\n",
       "2   2021-01-30     Checked In     22                49           49\n",
       "3   2021-02-04     Checked In     22                71           71\n",
       "4   2021-02-09     Checked In     25                96           96\n",
       "..         ...            ...    ...               ...          ...\n",
       "253 2023-11-23  Not Attending      3              3145         4958\n",
       "254 2023-11-23  Not Attending      2              3147         4960\n",
       "255 2023-11-27  Not Attending     13              3160         4973\n",
       "256 2023-11-27     Checked In      3              1816         4976\n",
       "257 2023-11-27  Not Attending      2              3162         4978\n",
       "\n",
       "[258 rows x 5 columns]"
      ]
     },
     "execution_count": 35,
     "metadata": {},
     "output_type": "execute_result"
    }
   ],
   "source": [
    "attendance_grouped"
   ]
  },
  {
   "cell_type": "code",
   "execution_count": 36,
   "metadata": {},
   "outputs": [
    {
     "data": {
      "application/vnd.plotly.v1+json": {
       "config": {
        "plotlyServerURL": "https://plot.ly"
       },
       "data": [
        {
         "hovertemplate": "Attendance=Checked In<br>Date=%{x}<br>count=%{y}<extra></extra>",
         "legendgroup": "Checked In",
         "line": {
          "color": "#636efa",
          "dash": "solid"
         },
         "marker": {
          "symbol": "circle"
         },
         "mode": "markers+lines",
         "name": "Checked In",
         "orientation": "v",
         "showlegend": true,
         "type": "scatter",
         "x": [
          "2021-01-14T00:00:00",
          "2021-01-21T00:00:00",
          "2021-01-30T00:00:00",
          "2021-02-04T00:00:00",
          "2021-02-09T00:00:00",
          "2021-02-18T00:00:00",
          "2021-02-25T00:00:00",
          "2021-03-04T00:00:00",
          "2021-04-15T00:00:00",
          "2021-04-22T00:00:00",
          "2021-04-29T00:00:00",
          "2021-05-06T00:00:00",
          "2021-05-13T00:00:00",
          "2021-05-20T00:00:00",
          "2021-05-27T00:00:00",
          "2021-06-10T00:00:00",
          "2021-10-26T00:00:00",
          "2021-10-28T00:00:00",
          "2021-11-01T00:00:00",
          "2021-11-04T00:00:00",
          "2021-11-08T00:00:00",
          "2021-11-11T00:00:00",
          "2021-11-15T00:00:00",
          "2021-11-18T00:00:00",
          "2021-11-22T00:00:00",
          "2021-11-25T00:00:00",
          "2021-11-29T00:00:00",
          "2021-12-02T00:00:00",
          "2021-12-09T00:00:00",
          "2022-02-17T00:00:00",
          "2022-02-28T00:00:00",
          "2022-03-03T00:00:00",
          "2022-03-07T00:00:00",
          "2022-03-14T00:00:00",
          "2022-03-21T00:00:00",
          "2022-03-28T00:00:00",
          "2022-04-04T00:00:00",
          "2022-05-30T00:00:00",
          "2022-06-02T00:00:00",
          "2022-06-06T00:00:00",
          "2022-06-13T00:00:00",
          "2022-06-20T00:00:00",
          "2022-06-27T00:00:00",
          "2022-07-04T00:00:00",
          "2022-07-11T00:00:00",
          "2022-07-18T00:00:00",
          "2022-09-12T00:00:00",
          "2022-09-19T00:00:00",
          "2022-09-26T00:00:00",
          "2022-10-03T00:00:00",
          "2022-10-17T00:00:00",
          "2022-10-24T00:00:00",
          "2022-10-31T00:00:00",
          "2023-01-30T00:00:00",
          "2023-02-02T00:00:00",
          "2023-02-06T00:00:00",
          "2023-02-13T00:00:00",
          "2023-02-21T00:00:00",
          "2023-02-27T00:00:00",
          "2023-03-06T00:00:00",
          "2023-03-07T00:00:00",
          "2023-03-13T00:00:00",
          "2023-03-20T00:00:00",
          "2023-03-23T00:00:00",
          "2023-04-06T00:00:00",
          "2023-05-01T00:00:00",
          "2023-05-08T00:00:00",
          "2023-05-15T00:00:00",
          "2023-05-23T00:00:00",
          "2023-05-29T00:00:00",
          "2023-06-05T00:00:00",
          "2023-06-12T00:00:00",
          "2023-06-19T00:00:00",
          "2023-06-26T00:00:00",
          "2023-07-17T00:00:00",
          "2023-07-26T00:00:00",
          "2023-08-23T00:00:00",
          "2023-08-28T00:00:00",
          "2023-09-11T00:00:00",
          "2023-09-12T00:00:00",
          "2023-09-18T00:00:00",
          "2023-09-19T00:00:00",
          "2023-09-20T00:00:00",
          "2023-09-21T00:00:00",
          "2023-09-25T00:00:00",
          "2023-09-26T00:00:00",
          "2023-09-27T00:00:00",
          "2023-09-28T00:00:00",
          "2023-10-02T00:00:00",
          "2023-10-03T00:00:00",
          "2023-10-04T00:00:00",
          "2023-10-05T00:00:00",
          "2023-10-09T00:00:00",
          "2023-10-10T00:00:00",
          "2023-10-11T00:00:00",
          "2023-10-12T00:00:00",
          "2023-10-16T00:00:00",
          "2023-10-17T00:00:00",
          "2023-10-18T00:00:00",
          "2023-10-19T00:00:00",
          "2023-10-23T00:00:00",
          "2023-10-24T00:00:00",
          "2023-10-25T00:00:00",
          "2023-10-26T00:00:00",
          "2023-10-30T00:00:00",
          "2023-10-31T00:00:00",
          "2023-11-01T00:00:00",
          "2023-11-02T00:00:00",
          "2023-11-06T00:00:00",
          "2023-11-07T00:00:00",
          "2023-11-08T00:00:00",
          "2023-11-09T00:00:00",
          "2023-11-13T00:00:00",
          "2023-11-15T00:00:00",
          "2023-11-16T00:00:00",
          "2023-11-20T00:00:00",
          "2023-11-21T00:00:00",
          "2023-11-22T00:00:00",
          "2023-11-27T00:00:00"
         ],
         "xaxis": "x",
         "y": [
          10,
          17,
          22,
          22,
          25,
          10,
          35,
          21,
          22,
          20,
          9,
          9,
          3,
          24,
          16,
          20,
          24,
          4,
          9,
          1,
          24,
          8,
          23,
          11,
          30,
          14,
          12,
          10,
          8,
          61,
          27,
          16,
          7,
          7,
          4,
          6,
          9,
          7,
          10,
          16,
          4,
          15,
          12,
          3,
          7,
          3,
          14,
          9,
          1,
          4,
          4,
          2,
          1,
          2,
          1,
          4,
          4,
          2,
          4,
          3,
          6,
          3,
          3,
          7,
          23,
          6,
          2,
          3,
          15,
          9,
          2,
          1,
          2,
          4,
          32,
          45,
          4,
          24,
          47,
          33,
          32,
          32,
          53,
          61,
          32,
          30,
          32,
          50,
          17,
          33,
          34,
          4,
          22,
          11,
          27,
          28,
          14,
          12,
          33,
          18,
          9,
          25,
          10,
          34,
          8,
          9,
          12,
          12,
          12,
          1,
          11,
          37,
          17,
          19,
          4,
          5,
          2,
          8,
          3
         ],
         "yaxis": "y"
        },
        {
         "hovertemplate": "Attendance=Not Attending<br>Date=%{x}<br>count=%{y}<extra></extra>",
         "legendgroup": "Not Attending",
         "line": {
          "color": "#EF553B",
          "dash": "solid"
         },
         "marker": {
          "symbol": "circle"
         },
         "mode": "markers+lines",
         "name": "Not Attending",
         "orientation": "v",
         "showlegend": true,
         "type": "scatter",
         "x": [
          "2022-03-14T00:00:00",
          "2022-03-17T00:00:00",
          "2022-03-21T00:00:00",
          "2022-03-24T00:00:00",
          "2022-03-28T00:00:00",
          "2022-03-31T00:00:00",
          "2022-04-04T00:00:00",
          "2022-04-07T00:00:00",
          "2022-04-14T00:00:00",
          "2022-05-30T00:00:00",
          "2022-06-02T00:00:00",
          "2022-06-06T00:00:00",
          "2022-06-09T00:00:00",
          "2022-06-13T00:00:00",
          "2022-06-16T00:00:00",
          "2022-06-20T00:00:00",
          "2022-06-23T00:00:00",
          "2022-06-27T00:00:00",
          "2022-06-30T00:00:00",
          "2022-07-04T00:00:00",
          "2022-07-07T00:00:00",
          "2022-07-11T00:00:00",
          "2022-07-14T00:00:00",
          "2022-07-18T00:00:00",
          "2022-07-21T00:00:00",
          "2022-07-25T00:00:00",
          "2022-07-28T00:00:00",
          "2022-09-12T00:00:00",
          "2022-09-15T00:00:00",
          "2022-09-19T00:00:00",
          "2022-09-22T00:00:00",
          "2022-09-26T00:00:00",
          "2022-09-29T00:00:00",
          "2022-10-03T00:00:00",
          "2022-10-06T00:00:00",
          "2022-10-11T00:00:00",
          "2022-10-13T00:00:00",
          "2022-10-17T00:00:00",
          "2022-10-20T00:00:00",
          "2022-10-24T00:00:00",
          "2022-10-27T00:00:00",
          "2022-10-31T00:00:00",
          "2022-11-03T00:00:00",
          "2022-11-07T00:00:00",
          "2023-01-30T00:00:00",
          "2023-02-02T00:00:00",
          "2023-02-06T00:00:00",
          "2023-02-09T00:00:00",
          "2023-02-13T00:00:00",
          "2023-02-16T00:00:00",
          "2023-02-21T00:00:00",
          "2023-02-23T00:00:00",
          "2023-02-27T00:00:00",
          "2023-03-02T00:00:00",
          "2023-03-06T00:00:00",
          "2023-03-07T00:00:00",
          "2023-03-09T00:00:00",
          "2023-03-13T00:00:00",
          "2023-03-16T00:00:00",
          "2023-03-20T00:00:00",
          "2023-03-23T00:00:00",
          "2023-03-30T00:00:00",
          "2023-04-06T00:00:00",
          "2023-05-01T00:00:00",
          "2023-05-04T00:00:00",
          "2023-05-08T00:00:00",
          "2023-05-11T00:00:00",
          "2023-05-15T00:00:00",
          "2023-05-18T00:00:00",
          "2023-05-23T00:00:00",
          "2023-05-25T00:00:00",
          "2023-05-29T00:00:00",
          "2023-06-01T00:00:00",
          "2023-06-05T00:00:00",
          "2023-06-08T00:00:00",
          "2023-06-12T00:00:00",
          "2023-06-15T00:00:00",
          "2023-06-19T00:00:00",
          "2023-06-22T00:00:00",
          "2023-06-26T00:00:00",
          "2023-06-29T00:00:00",
          "2023-07-17T00:00:00",
          "2023-07-26T00:00:00",
          "2023-08-23T00:00:00",
          "2023-08-28T00:00:00",
          "2023-09-11T00:00:00",
          "2023-09-12T00:00:00",
          "2023-09-18T00:00:00",
          "2023-09-19T00:00:00",
          "2023-09-20T00:00:00",
          "2023-09-21T00:00:00",
          "2023-09-25T00:00:00",
          "2023-09-26T00:00:00",
          "2023-09-27T00:00:00",
          "2023-09-28T00:00:00",
          "2023-10-02T00:00:00",
          "2023-10-03T00:00:00",
          "2023-10-04T00:00:00",
          "2023-10-05T00:00:00",
          "2023-10-09T00:00:00",
          "2023-10-10T00:00:00",
          "2023-10-11T00:00:00",
          "2023-10-12T00:00:00",
          "2023-10-16T00:00:00",
          "2023-10-17T00:00:00",
          "2023-10-18T00:00:00",
          "2023-10-19T00:00:00",
          "2023-10-23T00:00:00",
          "2023-10-24T00:00:00",
          "2023-10-25T00:00:00",
          "2023-10-26T00:00:00",
          "2023-10-30T00:00:00",
          "2023-10-30T00:00:00",
          "2023-10-31T00:00:00",
          "2023-11-01T00:00:00",
          "2023-11-01T00:00:00",
          "2023-11-02T00:00:00",
          "2023-11-02T00:00:00",
          "2023-11-06T00:00:00",
          "2023-11-06T00:00:00",
          "2023-11-07T00:00:00",
          "2023-11-08T00:00:00",
          "2023-11-08T00:00:00",
          "2023-11-09T00:00:00",
          "2023-11-13T00:00:00",
          "2023-11-13T00:00:00",
          "2023-11-15T00:00:00",
          "2023-11-15T00:00:00",
          "2023-11-16T00:00:00",
          "2023-11-16T00:00:00",
          "2023-11-20T00:00:00",
          "2023-11-20T00:00:00",
          "2023-11-21T00:00:00",
          "2023-11-22T00:00:00",
          "2023-11-22T00:00:00",
          "2023-11-23T00:00:00",
          "2023-11-23T00:00:00",
          "2023-11-27T00:00:00",
          "2023-11-27T00:00:00"
         ],
         "xaxis": "x",
         "y": [
          1,
          10,
          3,
          11,
          3,
          8,
          9,
          12,
          6,
          4,
          5,
          4,
          8,
          5,
          6,
          6,
          14,
          7,
          8,
          1,
          7,
          9,
          16,
          2,
          7,
          5,
          8,
          11,
          17,
          6,
          8,
          3,
          11,
          15,
          18,
          7,
          12,
          9,
          10,
          22,
          31,
          3,
          18,
          16,
          37,
          33,
          26,
          31,
          34,
          33,
          31,
          28,
          26,
          32,
          28,
          8,
          39,
          32,
          31,
          19,
          3,
          61,
          13,
          27,
          35,
          29,
          34,
          11,
          15,
          17,
          31,
          23,
          27,
          24,
          29,
          16,
          27,
          29,
          28,
          36,
          42,
          278,
          54,
          27,
          207,
          137,
          83,
          33,
          29,
          19,
          18,
          21,
          31,
          28,
          23,
          27,
          28,
          28,
          60,
          37,
          23,
          39,
          32,
          22,
          14,
          25,
          17,
          35,
          34,
          27,
          30,
          10,
          1,
          9,
          12,
          4,
          15,
          1,
          11,
          1,
          16,
          14,
          3,
          30,
          14,
          1,
          19,
          3,
          16,
          3,
          15,
          1,
          9,
          34,
          7,
          3,
          2,
          13,
          2
         ],
         "yaxis": "y"
        }
       ],
       "layout": {
        "legend": {
         "title": {
          "text": "Attendance"
         },
         "tracegroupgap": 0
        },
        "template": {
         "data": {
          "bar": [
           {
            "error_x": {
             "color": "#2a3f5f"
            },
            "error_y": {
             "color": "#2a3f5f"
            },
            "marker": {
             "line": {
              "color": "#E5ECF6",
              "width": 0.5
             },
             "pattern": {
              "fillmode": "overlay",
              "size": 10,
              "solidity": 0.2
             }
            },
            "type": "bar"
           }
          ],
          "barpolar": [
           {
            "marker": {
             "line": {
              "color": "#E5ECF6",
              "width": 0.5
             },
             "pattern": {
              "fillmode": "overlay",
              "size": 10,
              "solidity": 0.2
             }
            },
            "type": "barpolar"
           }
          ],
          "carpet": [
           {
            "aaxis": {
             "endlinecolor": "#2a3f5f",
             "gridcolor": "white",
             "linecolor": "white",
             "minorgridcolor": "white",
             "startlinecolor": "#2a3f5f"
            },
            "baxis": {
             "endlinecolor": "#2a3f5f",
             "gridcolor": "white",
             "linecolor": "white",
             "minorgridcolor": "white",
             "startlinecolor": "#2a3f5f"
            },
            "type": "carpet"
           }
          ],
          "choropleth": [
           {
            "colorbar": {
             "outlinewidth": 0,
             "ticks": ""
            },
            "type": "choropleth"
           }
          ],
          "contour": [
           {
            "colorbar": {
             "outlinewidth": 0,
             "ticks": ""
            },
            "colorscale": [
             [
              0,
              "#0d0887"
             ],
             [
              0.1111111111111111,
              "#46039f"
             ],
             [
              0.2222222222222222,
              "#7201a8"
             ],
             [
              0.3333333333333333,
              "#9c179e"
             ],
             [
              0.4444444444444444,
              "#bd3786"
             ],
             [
              0.5555555555555556,
              "#d8576b"
             ],
             [
              0.6666666666666666,
              "#ed7953"
             ],
             [
              0.7777777777777778,
              "#fb9f3a"
             ],
             [
              0.8888888888888888,
              "#fdca26"
             ],
             [
              1,
              "#f0f921"
             ]
            ],
            "type": "contour"
           }
          ],
          "contourcarpet": [
           {
            "colorbar": {
             "outlinewidth": 0,
             "ticks": ""
            },
            "type": "contourcarpet"
           }
          ],
          "heatmap": [
           {
            "colorbar": {
             "outlinewidth": 0,
             "ticks": ""
            },
            "colorscale": [
             [
              0,
              "#0d0887"
             ],
             [
              0.1111111111111111,
              "#46039f"
             ],
             [
              0.2222222222222222,
              "#7201a8"
             ],
             [
              0.3333333333333333,
              "#9c179e"
             ],
             [
              0.4444444444444444,
              "#bd3786"
             ],
             [
              0.5555555555555556,
              "#d8576b"
             ],
             [
              0.6666666666666666,
              "#ed7953"
             ],
             [
              0.7777777777777778,
              "#fb9f3a"
             ],
             [
              0.8888888888888888,
              "#fdca26"
             ],
             [
              1,
              "#f0f921"
             ]
            ],
            "type": "heatmap"
           }
          ],
          "heatmapgl": [
           {
            "colorbar": {
             "outlinewidth": 0,
             "ticks": ""
            },
            "colorscale": [
             [
              0,
              "#0d0887"
             ],
             [
              0.1111111111111111,
              "#46039f"
             ],
             [
              0.2222222222222222,
              "#7201a8"
             ],
             [
              0.3333333333333333,
              "#9c179e"
             ],
             [
              0.4444444444444444,
              "#bd3786"
             ],
             [
              0.5555555555555556,
              "#d8576b"
             ],
             [
              0.6666666666666666,
              "#ed7953"
             ],
             [
              0.7777777777777778,
              "#fb9f3a"
             ],
             [
              0.8888888888888888,
              "#fdca26"
             ],
             [
              1,
              "#f0f921"
             ]
            ],
            "type": "heatmapgl"
           }
          ],
          "histogram": [
           {
            "marker": {
             "pattern": {
              "fillmode": "overlay",
              "size": 10,
              "solidity": 0.2
             }
            },
            "type": "histogram"
           }
          ],
          "histogram2d": [
           {
            "colorbar": {
             "outlinewidth": 0,
             "ticks": ""
            },
            "colorscale": [
             [
              0,
              "#0d0887"
             ],
             [
              0.1111111111111111,
              "#46039f"
             ],
             [
              0.2222222222222222,
              "#7201a8"
             ],
             [
              0.3333333333333333,
              "#9c179e"
             ],
             [
              0.4444444444444444,
              "#bd3786"
             ],
             [
              0.5555555555555556,
              "#d8576b"
             ],
             [
              0.6666666666666666,
              "#ed7953"
             ],
             [
              0.7777777777777778,
              "#fb9f3a"
             ],
             [
              0.8888888888888888,
              "#fdca26"
             ],
             [
              1,
              "#f0f921"
             ]
            ],
            "type": "histogram2d"
           }
          ],
          "histogram2dcontour": [
           {
            "colorbar": {
             "outlinewidth": 0,
             "ticks": ""
            },
            "colorscale": [
             [
              0,
              "#0d0887"
             ],
             [
              0.1111111111111111,
              "#46039f"
             ],
             [
              0.2222222222222222,
              "#7201a8"
             ],
             [
              0.3333333333333333,
              "#9c179e"
             ],
             [
              0.4444444444444444,
              "#bd3786"
             ],
             [
              0.5555555555555556,
              "#d8576b"
             ],
             [
              0.6666666666666666,
              "#ed7953"
             ],
             [
              0.7777777777777778,
              "#fb9f3a"
             ],
             [
              0.8888888888888888,
              "#fdca26"
             ],
             [
              1,
              "#f0f921"
             ]
            ],
            "type": "histogram2dcontour"
           }
          ],
          "mesh3d": [
           {
            "colorbar": {
             "outlinewidth": 0,
             "ticks": ""
            },
            "type": "mesh3d"
           }
          ],
          "parcoords": [
           {
            "line": {
             "colorbar": {
              "outlinewidth": 0,
              "ticks": ""
             }
            },
            "type": "parcoords"
           }
          ],
          "pie": [
           {
            "automargin": true,
            "type": "pie"
           }
          ],
          "scatter": [
           {
            "fillpattern": {
             "fillmode": "overlay",
             "size": 10,
             "solidity": 0.2
            },
            "type": "scatter"
           }
          ],
          "scatter3d": [
           {
            "line": {
             "colorbar": {
              "outlinewidth": 0,
              "ticks": ""
             }
            },
            "marker": {
             "colorbar": {
              "outlinewidth": 0,
              "ticks": ""
             }
            },
            "type": "scatter3d"
           }
          ],
          "scattercarpet": [
           {
            "marker": {
             "colorbar": {
              "outlinewidth": 0,
              "ticks": ""
             }
            },
            "type": "scattercarpet"
           }
          ],
          "scattergeo": [
           {
            "marker": {
             "colorbar": {
              "outlinewidth": 0,
              "ticks": ""
             }
            },
            "type": "scattergeo"
           }
          ],
          "scattergl": [
           {
            "marker": {
             "colorbar": {
              "outlinewidth": 0,
              "ticks": ""
             }
            },
            "type": "scattergl"
           }
          ],
          "scattermapbox": [
           {
            "marker": {
             "colorbar": {
              "outlinewidth": 0,
              "ticks": ""
             }
            },
            "type": "scattermapbox"
           }
          ],
          "scatterpolar": [
           {
            "marker": {
             "colorbar": {
              "outlinewidth": 0,
              "ticks": ""
             }
            },
            "type": "scatterpolar"
           }
          ],
          "scatterpolargl": [
           {
            "marker": {
             "colorbar": {
              "outlinewidth": 0,
              "ticks": ""
             }
            },
            "type": "scatterpolargl"
           }
          ],
          "scatterternary": [
           {
            "marker": {
             "colorbar": {
              "outlinewidth": 0,
              "ticks": ""
             }
            },
            "type": "scatterternary"
           }
          ],
          "surface": [
           {
            "colorbar": {
             "outlinewidth": 0,
             "ticks": ""
            },
            "colorscale": [
             [
              0,
              "#0d0887"
             ],
             [
              0.1111111111111111,
              "#46039f"
             ],
             [
              0.2222222222222222,
              "#7201a8"
             ],
             [
              0.3333333333333333,
              "#9c179e"
             ],
             [
              0.4444444444444444,
              "#bd3786"
             ],
             [
              0.5555555555555556,
              "#d8576b"
             ],
             [
              0.6666666666666666,
              "#ed7953"
             ],
             [
              0.7777777777777778,
              "#fb9f3a"
             ],
             [
              0.8888888888888888,
              "#fdca26"
             ],
             [
              1,
              "#f0f921"
             ]
            ],
            "type": "surface"
           }
          ],
          "table": [
           {
            "cells": {
             "fill": {
              "color": "#EBF0F8"
             },
             "line": {
              "color": "white"
             }
            },
            "header": {
             "fill": {
              "color": "#C8D4E3"
             },
             "line": {
              "color": "white"
             }
            },
            "type": "table"
           }
          ]
         },
         "layout": {
          "annotationdefaults": {
           "arrowcolor": "#2a3f5f",
           "arrowhead": 0,
           "arrowwidth": 1
          },
          "autotypenumbers": "strict",
          "coloraxis": {
           "colorbar": {
            "outlinewidth": 0,
            "ticks": ""
           }
          },
          "colorscale": {
           "diverging": [
            [
             0,
             "#8e0152"
            ],
            [
             0.1,
             "#c51b7d"
            ],
            [
             0.2,
             "#de77ae"
            ],
            [
             0.3,
             "#f1b6da"
            ],
            [
             0.4,
             "#fde0ef"
            ],
            [
             0.5,
             "#f7f7f7"
            ],
            [
             0.6,
             "#e6f5d0"
            ],
            [
             0.7,
             "#b8e186"
            ],
            [
             0.8,
             "#7fbc41"
            ],
            [
             0.9,
             "#4d9221"
            ],
            [
             1,
             "#276419"
            ]
           ],
           "sequential": [
            [
             0,
             "#0d0887"
            ],
            [
             0.1111111111111111,
             "#46039f"
            ],
            [
             0.2222222222222222,
             "#7201a8"
            ],
            [
             0.3333333333333333,
             "#9c179e"
            ],
            [
             0.4444444444444444,
             "#bd3786"
            ],
            [
             0.5555555555555556,
             "#d8576b"
            ],
            [
             0.6666666666666666,
             "#ed7953"
            ],
            [
             0.7777777777777778,
             "#fb9f3a"
            ],
            [
             0.8888888888888888,
             "#fdca26"
            ],
            [
             1,
             "#f0f921"
            ]
           ],
           "sequentialminus": [
            [
             0,
             "#0d0887"
            ],
            [
             0.1111111111111111,
             "#46039f"
            ],
            [
             0.2222222222222222,
             "#7201a8"
            ],
            [
             0.3333333333333333,
             "#9c179e"
            ],
            [
             0.4444444444444444,
             "#bd3786"
            ],
            [
             0.5555555555555556,
             "#d8576b"
            ],
            [
             0.6666666666666666,
             "#ed7953"
            ],
            [
             0.7777777777777778,
             "#fb9f3a"
            ],
            [
             0.8888888888888888,
             "#fdca26"
            ],
            [
             1,
             "#f0f921"
            ]
           ]
          },
          "colorway": [
           "#636efa",
           "#EF553B",
           "#00cc96",
           "#ab63fa",
           "#FFA15A",
           "#19d3f3",
           "#FF6692",
           "#B6E880",
           "#FF97FF",
           "#FECB52"
          ],
          "font": {
           "color": "#2a3f5f"
          },
          "geo": {
           "bgcolor": "white",
           "lakecolor": "white",
           "landcolor": "#E5ECF6",
           "showlakes": true,
           "showland": true,
           "subunitcolor": "white"
          },
          "hoverlabel": {
           "align": "left"
          },
          "hovermode": "closest",
          "mapbox": {
           "style": "light"
          },
          "paper_bgcolor": "white",
          "plot_bgcolor": "#E5ECF6",
          "polar": {
           "angularaxis": {
            "gridcolor": "white",
            "linecolor": "white",
            "ticks": ""
           },
           "bgcolor": "#E5ECF6",
           "radialaxis": {
            "gridcolor": "white",
            "linecolor": "white",
            "ticks": ""
           }
          },
          "scene": {
           "xaxis": {
            "backgroundcolor": "#E5ECF6",
            "gridcolor": "white",
            "gridwidth": 2,
            "linecolor": "white",
            "showbackground": true,
            "ticks": "",
            "zerolinecolor": "white"
           },
           "yaxis": {
            "backgroundcolor": "#E5ECF6",
            "gridcolor": "white",
            "gridwidth": 2,
            "linecolor": "white",
            "showbackground": true,
            "ticks": "",
            "zerolinecolor": "white"
           },
           "zaxis": {
            "backgroundcolor": "#E5ECF6",
            "gridcolor": "white",
            "gridwidth": 2,
            "linecolor": "white",
            "showbackground": true,
            "ticks": "",
            "zerolinecolor": "white"
           }
          },
          "shapedefaults": {
           "line": {
            "color": "#2a3f5f"
           }
          },
          "ternary": {
           "aaxis": {
            "gridcolor": "white",
            "linecolor": "white",
            "ticks": ""
           },
           "baxis": {
            "gridcolor": "white",
            "linecolor": "white",
            "ticks": ""
           },
           "bgcolor": "#E5ECF6",
           "caxis": {
            "gridcolor": "white",
            "linecolor": "white",
            "ticks": ""
           }
          },
          "title": {
           "x": 0.05
          },
          "xaxis": {
           "automargin": true,
           "gridcolor": "white",
           "linecolor": "white",
           "ticks": "",
           "title": {
            "standoff": 15
           },
           "zerolinecolor": "white",
           "zerolinewidth": 2
          },
          "yaxis": {
           "automargin": true,
           "gridcolor": "white",
           "linecolor": "white",
           "ticks": "",
           "title": {
            "standoff": 15
           },
           "zerolinecolor": "white",
           "zerolinewidth": 2
          }
         }
        },
        "title": {
         "text": "Attendance Count Over Time"
        },
        "xaxis": {
         "anchor": "y",
         "domain": [
          0,
          1
         ],
         "title": {
          "text": "Date"
         }
        },
        "yaxis": {
         "anchor": "x",
         "domain": [
          0,
          1
         ],
         "title": {
          "text": "count"
         }
        }
       }
      }
     },
     "metadata": {},
     "output_type": "display_data"
    }
   ],
   "source": [
    "# Creating a line plot using Plotly Express\n",
    "fig = px.line(attendance_grouped, x='Date', y='count', color='Attendance', markers=True, title='Attendance Count Over Time')\n",
    "fig.show()\n"
   ]
  },
  {
   "cell_type": "code",
   "execution_count": 37,
   "metadata": {},
   "outputs": [
    {
     "data": {
      "application/vnd.plotly.v1+json": {
       "config": {
        "plotlyServerURL": "https://plot.ly"
       },
       "data": [
        {
         "hovertemplate": "Date=%{x}<br>total_count=%{y}<extra></extra>",
         "legendgroup": "",
         "line": {
          "color": "#636efa",
          "dash": "solid"
         },
         "marker": {
          "symbol": "circle"
         },
         "mode": "markers+lines",
         "name": "",
         "orientation": "v",
         "showlegend": false,
         "type": "scatter",
         "x": [
          "2021-01-14T00:00:00",
          "2021-01-21T00:00:00",
          "2021-01-30T00:00:00",
          "2021-02-04T00:00:00",
          "2021-02-09T00:00:00",
          "2021-02-18T00:00:00",
          "2021-02-25T00:00:00",
          "2021-03-04T00:00:00",
          "2021-04-15T00:00:00",
          "2021-04-22T00:00:00",
          "2021-04-29T00:00:00",
          "2021-05-06T00:00:00",
          "2021-05-13T00:00:00",
          "2021-05-20T00:00:00",
          "2021-05-27T00:00:00",
          "2021-06-10T00:00:00",
          "2021-10-26T00:00:00",
          "2021-10-28T00:00:00",
          "2021-11-01T00:00:00",
          "2021-11-04T00:00:00",
          "2021-11-08T00:00:00",
          "2021-11-11T00:00:00",
          "2021-11-15T00:00:00",
          "2021-11-18T00:00:00",
          "2021-11-22T00:00:00",
          "2021-11-25T00:00:00",
          "2021-11-29T00:00:00",
          "2021-12-02T00:00:00",
          "2021-12-09T00:00:00",
          "2022-02-17T00:00:00",
          "2022-02-28T00:00:00",
          "2022-03-03T00:00:00",
          "2022-03-07T00:00:00",
          "2022-03-14T00:00:00",
          "2022-03-14T00:00:00",
          "2022-03-17T00:00:00",
          "2022-03-21T00:00:00",
          "2022-03-21T00:00:00",
          "2022-03-24T00:00:00",
          "2022-03-28T00:00:00",
          "2022-03-28T00:00:00",
          "2022-03-31T00:00:00",
          "2022-04-04T00:00:00",
          "2022-04-04T00:00:00",
          "2022-04-07T00:00:00",
          "2022-04-14T00:00:00",
          "2022-05-30T00:00:00",
          "2022-05-30T00:00:00",
          "2022-06-02T00:00:00",
          "2022-06-02T00:00:00",
          "2022-06-06T00:00:00",
          "2022-06-06T00:00:00",
          "2022-06-09T00:00:00",
          "2022-06-13T00:00:00",
          "2022-06-13T00:00:00",
          "2022-06-16T00:00:00",
          "2022-06-20T00:00:00",
          "2022-06-20T00:00:00",
          "2022-06-23T00:00:00",
          "2022-06-27T00:00:00",
          "2022-06-27T00:00:00",
          "2022-06-30T00:00:00",
          "2022-07-04T00:00:00",
          "2022-07-04T00:00:00",
          "2022-07-07T00:00:00",
          "2022-07-11T00:00:00",
          "2022-07-11T00:00:00",
          "2022-07-14T00:00:00",
          "2022-07-18T00:00:00",
          "2022-07-18T00:00:00",
          "2022-07-21T00:00:00",
          "2022-07-25T00:00:00",
          "2022-07-28T00:00:00",
          "2022-09-12T00:00:00",
          "2022-09-12T00:00:00",
          "2022-09-15T00:00:00",
          "2022-09-19T00:00:00",
          "2022-09-19T00:00:00",
          "2022-09-22T00:00:00",
          "2022-09-26T00:00:00",
          "2022-09-26T00:00:00",
          "2022-09-29T00:00:00",
          "2022-10-03T00:00:00",
          "2022-10-03T00:00:00",
          "2022-10-06T00:00:00",
          "2022-10-11T00:00:00",
          "2022-10-13T00:00:00",
          "2022-10-17T00:00:00",
          "2022-10-17T00:00:00",
          "2022-10-20T00:00:00",
          "2022-10-24T00:00:00",
          "2022-10-24T00:00:00",
          "2022-10-27T00:00:00",
          "2022-10-31T00:00:00",
          "2022-10-31T00:00:00",
          "2022-11-03T00:00:00",
          "2022-11-07T00:00:00",
          "2023-01-30T00:00:00",
          "2023-01-30T00:00:00",
          "2023-02-02T00:00:00",
          "2023-02-02T00:00:00",
          "2023-02-06T00:00:00",
          "2023-02-06T00:00:00",
          "2023-02-09T00:00:00",
          "2023-02-13T00:00:00",
          "2023-02-13T00:00:00",
          "2023-02-16T00:00:00",
          "2023-02-21T00:00:00",
          "2023-02-21T00:00:00",
          "2023-02-23T00:00:00",
          "2023-02-27T00:00:00",
          "2023-02-27T00:00:00",
          "2023-03-02T00:00:00",
          "2023-03-06T00:00:00",
          "2023-03-06T00:00:00",
          "2023-03-07T00:00:00",
          "2023-03-07T00:00:00",
          "2023-03-09T00:00:00",
          "2023-03-13T00:00:00",
          "2023-03-13T00:00:00",
          "2023-03-16T00:00:00",
          "2023-03-20T00:00:00",
          "2023-03-20T00:00:00",
          "2023-03-23T00:00:00",
          "2023-03-23T00:00:00",
          "2023-03-30T00:00:00",
          "2023-04-06T00:00:00",
          "2023-04-06T00:00:00",
          "2023-05-01T00:00:00",
          "2023-05-01T00:00:00",
          "2023-05-04T00:00:00",
          "2023-05-08T00:00:00",
          "2023-05-08T00:00:00",
          "2023-05-11T00:00:00",
          "2023-05-15T00:00:00",
          "2023-05-15T00:00:00",
          "2023-05-18T00:00:00",
          "2023-05-23T00:00:00",
          "2023-05-23T00:00:00",
          "2023-05-25T00:00:00",
          "2023-05-29T00:00:00",
          "2023-05-29T00:00:00",
          "2023-06-01T00:00:00",
          "2023-06-05T00:00:00",
          "2023-06-05T00:00:00",
          "2023-06-08T00:00:00",
          "2023-06-12T00:00:00",
          "2023-06-12T00:00:00",
          "2023-06-15T00:00:00",
          "2023-06-19T00:00:00",
          "2023-06-19T00:00:00",
          "2023-06-22T00:00:00",
          "2023-06-26T00:00:00",
          "2023-06-26T00:00:00",
          "2023-06-29T00:00:00",
          "2023-07-17T00:00:00",
          "2023-07-17T00:00:00",
          "2023-07-26T00:00:00",
          "2023-07-26T00:00:00",
          "2023-08-23T00:00:00",
          "2023-08-23T00:00:00",
          "2023-08-28T00:00:00",
          "2023-08-28T00:00:00",
          "2023-09-11T00:00:00",
          "2023-09-11T00:00:00",
          "2023-09-12T00:00:00",
          "2023-09-12T00:00:00",
          "2023-09-18T00:00:00",
          "2023-09-18T00:00:00",
          "2023-09-19T00:00:00",
          "2023-09-19T00:00:00",
          "2023-09-20T00:00:00",
          "2023-09-20T00:00:00",
          "2023-09-21T00:00:00",
          "2023-09-21T00:00:00",
          "2023-09-25T00:00:00",
          "2023-09-25T00:00:00",
          "2023-09-26T00:00:00",
          "2023-09-26T00:00:00",
          "2023-09-27T00:00:00",
          "2023-09-27T00:00:00",
          "2023-09-28T00:00:00",
          "2023-09-28T00:00:00",
          "2023-10-02T00:00:00",
          "2023-10-02T00:00:00",
          "2023-10-03T00:00:00",
          "2023-10-03T00:00:00",
          "2023-10-04T00:00:00",
          "2023-10-04T00:00:00",
          "2023-10-05T00:00:00",
          "2023-10-05T00:00:00",
          "2023-10-09T00:00:00",
          "2023-10-09T00:00:00",
          "2023-10-10T00:00:00",
          "2023-10-10T00:00:00",
          "2023-10-11T00:00:00",
          "2023-10-11T00:00:00",
          "2023-10-12T00:00:00",
          "2023-10-12T00:00:00",
          "2023-10-16T00:00:00",
          "2023-10-16T00:00:00",
          "2023-10-17T00:00:00",
          "2023-10-17T00:00:00",
          "2023-10-18T00:00:00",
          "2023-10-18T00:00:00",
          "2023-10-19T00:00:00",
          "2023-10-19T00:00:00",
          "2023-10-23T00:00:00",
          "2023-10-23T00:00:00",
          "2023-10-24T00:00:00",
          "2023-10-24T00:00:00",
          "2023-10-25T00:00:00",
          "2023-10-25T00:00:00",
          "2023-10-26T00:00:00",
          "2023-10-26T00:00:00",
          "2023-10-30T00:00:00",
          "2023-10-30T00:00:00",
          "2023-10-30T00:00:00",
          "2023-10-31T00:00:00",
          "2023-10-31T00:00:00",
          "2023-11-01T00:00:00",
          "2023-11-01T00:00:00",
          "2023-11-01T00:00:00",
          "2023-11-02T00:00:00",
          "2023-11-02T00:00:00",
          "2023-11-02T00:00:00",
          "2023-11-06T00:00:00",
          "2023-11-06T00:00:00",
          "2023-11-06T00:00:00",
          "2023-11-07T00:00:00",
          "2023-11-07T00:00:00",
          "2023-11-08T00:00:00",
          "2023-11-08T00:00:00",
          "2023-11-08T00:00:00",
          "2023-11-09T00:00:00",
          "2023-11-09T00:00:00",
          "2023-11-13T00:00:00",
          "2023-11-13T00:00:00",
          "2023-11-13T00:00:00",
          "2023-11-15T00:00:00",
          "2023-11-15T00:00:00",
          "2023-11-15T00:00:00",
          "2023-11-16T00:00:00",
          "2023-11-16T00:00:00",
          "2023-11-16T00:00:00",
          "2023-11-20T00:00:00",
          "2023-11-20T00:00:00",
          "2023-11-20T00:00:00",
          "2023-11-21T00:00:00",
          "2023-11-21T00:00:00",
          "2023-11-22T00:00:00",
          "2023-11-22T00:00:00",
          "2023-11-22T00:00:00",
          "2023-11-23T00:00:00",
          "2023-11-23T00:00:00",
          "2023-11-27T00:00:00",
          "2023-11-27T00:00:00",
          "2023-11-27T00:00:00"
         ],
         "xaxis": "x",
         "y": [
          10,
          27,
          49,
          71,
          96,
          106,
          141,
          162,
          184,
          204,
          213,
          222,
          225,
          249,
          265,
          285,
          309,
          313,
          322,
          323,
          347,
          355,
          378,
          389,
          419,
          433,
          445,
          455,
          463,
          524,
          551,
          567,
          574,
          575,
          582,
          592,
          595,
          599,
          610,
          613,
          619,
          627,
          636,
          645,
          657,
          663,
          667,
          674,
          679,
          689,
          693,
          709,
          717,
          722,
          726,
          732,
          738,
          753,
          767,
          774,
          786,
          794,
          795,
          798,
          805,
          814,
          821,
          837,
          839,
          842,
          849,
          854,
          862,
          873,
          887,
          904,
          910,
          919,
          927,
          930,
          931,
          942,
          957,
          961,
          979,
          986,
          998,
          1007,
          1011,
          1021,
          1043,
          1045,
          1076,
          1079,
          1080,
          1098,
          1114,
          1151,
          1153,
          1186,
          1187,
          1213,
          1217,
          1248,
          1282,
          1286,
          1319,
          1350,
          1352,
          1380,
          1406,
          1410,
          1442,
          1470,
          1473,
          1481,
          1487,
          1526,
          1558,
          1561,
          1592,
          1611,
          1614,
          1617,
          1624,
          1685,
          1698,
          1721,
          1748,
          1754,
          1789,
          1818,
          1820,
          1854,
          1865,
          1868,
          1883,
          1900,
          1915,
          1946,
          1969,
          1978,
          2005,
          2029,
          2031,
          2060,
          2076,
          2077,
          2104,
          2133,
          2135,
          2163,
          2199,
          2203,
          2245,
          2523,
          2555,
          2609,
          2654,
          2681,
          2685,
          2892,
          2916,
          3053,
          3100,
          3183,
          3216,
          3249,
          3281,
          3310,
          3342,
          3361,
          3414,
          3432,
          3493,
          3514,
          3546,
          3577,
          3607,
          3635,
          3667,
          3690,
          3740,
          3767,
          3784,
          3812,
          3845,
          3873,
          3907,
          3967,
          3971,
          4008,
          4030,
          4053,
          4064,
          4103,
          4130,
          4162,
          4190,
          4212,
          4226,
          4240,
          4252,
          4277,
          4310,
          4327,
          4345,
          4380,
          4389,
          4423,
          4448,
          4475,
          4485,
          4515,
          4549,
          4559,
          4567,
          4568,
          4577,
          4586,
          4598,
          4610,
          4614,
          4629,
          4641,
          4642,
          4653,
          4665,
          4666,
          4682,
          4683,
          4697,
          4708,
          4711,
          4741,
          4778,
          4792,
          4809,
          4810,
          4829,
          4848,
          4851,
          4867,
          4871,
          4874,
          4889,
          4894,
          4895,
          4904,
          4906,
          4940,
          4948,
          4955,
          4958,
          4960,
          4973,
          4976,
          4978
         ],
         "yaxis": "y"
        }
       ],
       "layout": {
        "legend": {
         "tracegroupgap": 0
        },
        "template": {
         "data": {
          "bar": [
           {
            "error_x": {
             "color": "#2a3f5f"
            },
            "error_y": {
             "color": "#2a3f5f"
            },
            "marker": {
             "line": {
              "color": "#E5ECF6",
              "width": 0.5
             },
             "pattern": {
              "fillmode": "overlay",
              "size": 10,
              "solidity": 0.2
             }
            },
            "type": "bar"
           }
          ],
          "barpolar": [
           {
            "marker": {
             "line": {
              "color": "#E5ECF6",
              "width": 0.5
             },
             "pattern": {
              "fillmode": "overlay",
              "size": 10,
              "solidity": 0.2
             }
            },
            "type": "barpolar"
           }
          ],
          "carpet": [
           {
            "aaxis": {
             "endlinecolor": "#2a3f5f",
             "gridcolor": "white",
             "linecolor": "white",
             "minorgridcolor": "white",
             "startlinecolor": "#2a3f5f"
            },
            "baxis": {
             "endlinecolor": "#2a3f5f",
             "gridcolor": "white",
             "linecolor": "white",
             "minorgridcolor": "white",
             "startlinecolor": "#2a3f5f"
            },
            "type": "carpet"
           }
          ],
          "choropleth": [
           {
            "colorbar": {
             "outlinewidth": 0,
             "ticks": ""
            },
            "type": "choropleth"
           }
          ],
          "contour": [
           {
            "colorbar": {
             "outlinewidth": 0,
             "ticks": ""
            },
            "colorscale": [
             [
              0,
              "#0d0887"
             ],
             [
              0.1111111111111111,
              "#46039f"
             ],
             [
              0.2222222222222222,
              "#7201a8"
             ],
             [
              0.3333333333333333,
              "#9c179e"
             ],
             [
              0.4444444444444444,
              "#bd3786"
             ],
             [
              0.5555555555555556,
              "#d8576b"
             ],
             [
              0.6666666666666666,
              "#ed7953"
             ],
             [
              0.7777777777777778,
              "#fb9f3a"
             ],
             [
              0.8888888888888888,
              "#fdca26"
             ],
             [
              1,
              "#f0f921"
             ]
            ],
            "type": "contour"
           }
          ],
          "contourcarpet": [
           {
            "colorbar": {
             "outlinewidth": 0,
             "ticks": ""
            },
            "type": "contourcarpet"
           }
          ],
          "heatmap": [
           {
            "colorbar": {
             "outlinewidth": 0,
             "ticks": ""
            },
            "colorscale": [
             [
              0,
              "#0d0887"
             ],
             [
              0.1111111111111111,
              "#46039f"
             ],
             [
              0.2222222222222222,
              "#7201a8"
             ],
             [
              0.3333333333333333,
              "#9c179e"
             ],
             [
              0.4444444444444444,
              "#bd3786"
             ],
             [
              0.5555555555555556,
              "#d8576b"
             ],
             [
              0.6666666666666666,
              "#ed7953"
             ],
             [
              0.7777777777777778,
              "#fb9f3a"
             ],
             [
              0.8888888888888888,
              "#fdca26"
             ],
             [
              1,
              "#f0f921"
             ]
            ],
            "type": "heatmap"
           }
          ],
          "heatmapgl": [
           {
            "colorbar": {
             "outlinewidth": 0,
             "ticks": ""
            },
            "colorscale": [
             [
              0,
              "#0d0887"
             ],
             [
              0.1111111111111111,
              "#46039f"
             ],
             [
              0.2222222222222222,
              "#7201a8"
             ],
             [
              0.3333333333333333,
              "#9c179e"
             ],
             [
              0.4444444444444444,
              "#bd3786"
             ],
             [
              0.5555555555555556,
              "#d8576b"
             ],
             [
              0.6666666666666666,
              "#ed7953"
             ],
             [
              0.7777777777777778,
              "#fb9f3a"
             ],
             [
              0.8888888888888888,
              "#fdca26"
             ],
             [
              1,
              "#f0f921"
             ]
            ],
            "type": "heatmapgl"
           }
          ],
          "histogram": [
           {
            "marker": {
             "pattern": {
              "fillmode": "overlay",
              "size": 10,
              "solidity": 0.2
             }
            },
            "type": "histogram"
           }
          ],
          "histogram2d": [
           {
            "colorbar": {
             "outlinewidth": 0,
             "ticks": ""
            },
            "colorscale": [
             [
              0,
              "#0d0887"
             ],
             [
              0.1111111111111111,
              "#46039f"
             ],
             [
              0.2222222222222222,
              "#7201a8"
             ],
             [
              0.3333333333333333,
              "#9c179e"
             ],
             [
              0.4444444444444444,
              "#bd3786"
             ],
             [
              0.5555555555555556,
              "#d8576b"
             ],
             [
              0.6666666666666666,
              "#ed7953"
             ],
             [
              0.7777777777777778,
              "#fb9f3a"
             ],
             [
              0.8888888888888888,
              "#fdca26"
             ],
             [
              1,
              "#f0f921"
             ]
            ],
            "type": "histogram2d"
           }
          ],
          "histogram2dcontour": [
           {
            "colorbar": {
             "outlinewidth": 0,
             "ticks": ""
            },
            "colorscale": [
             [
              0,
              "#0d0887"
             ],
             [
              0.1111111111111111,
              "#46039f"
             ],
             [
              0.2222222222222222,
              "#7201a8"
             ],
             [
              0.3333333333333333,
              "#9c179e"
             ],
             [
              0.4444444444444444,
              "#bd3786"
             ],
             [
              0.5555555555555556,
              "#d8576b"
             ],
             [
              0.6666666666666666,
              "#ed7953"
             ],
             [
              0.7777777777777778,
              "#fb9f3a"
             ],
             [
              0.8888888888888888,
              "#fdca26"
             ],
             [
              1,
              "#f0f921"
             ]
            ],
            "type": "histogram2dcontour"
           }
          ],
          "mesh3d": [
           {
            "colorbar": {
             "outlinewidth": 0,
             "ticks": ""
            },
            "type": "mesh3d"
           }
          ],
          "parcoords": [
           {
            "line": {
             "colorbar": {
              "outlinewidth": 0,
              "ticks": ""
             }
            },
            "type": "parcoords"
           }
          ],
          "pie": [
           {
            "automargin": true,
            "type": "pie"
           }
          ],
          "scatter": [
           {
            "fillpattern": {
             "fillmode": "overlay",
             "size": 10,
             "solidity": 0.2
            },
            "type": "scatter"
           }
          ],
          "scatter3d": [
           {
            "line": {
             "colorbar": {
              "outlinewidth": 0,
              "ticks": ""
             }
            },
            "marker": {
             "colorbar": {
              "outlinewidth": 0,
              "ticks": ""
             }
            },
            "type": "scatter3d"
           }
          ],
          "scattercarpet": [
           {
            "marker": {
             "colorbar": {
              "outlinewidth": 0,
              "ticks": ""
             }
            },
            "type": "scattercarpet"
           }
          ],
          "scattergeo": [
           {
            "marker": {
             "colorbar": {
              "outlinewidth": 0,
              "ticks": ""
             }
            },
            "type": "scattergeo"
           }
          ],
          "scattergl": [
           {
            "marker": {
             "colorbar": {
              "outlinewidth": 0,
              "ticks": ""
             }
            },
            "type": "scattergl"
           }
          ],
          "scattermapbox": [
           {
            "marker": {
             "colorbar": {
              "outlinewidth": 0,
              "ticks": ""
             }
            },
            "type": "scattermapbox"
           }
          ],
          "scatterpolar": [
           {
            "marker": {
             "colorbar": {
              "outlinewidth": 0,
              "ticks": ""
             }
            },
            "type": "scatterpolar"
           }
          ],
          "scatterpolargl": [
           {
            "marker": {
             "colorbar": {
              "outlinewidth": 0,
              "ticks": ""
             }
            },
            "type": "scatterpolargl"
           }
          ],
          "scatterternary": [
           {
            "marker": {
             "colorbar": {
              "outlinewidth": 0,
              "ticks": ""
             }
            },
            "type": "scatterternary"
           }
          ],
          "surface": [
           {
            "colorbar": {
             "outlinewidth": 0,
             "ticks": ""
            },
            "colorscale": [
             [
              0,
              "#0d0887"
             ],
             [
              0.1111111111111111,
              "#46039f"
             ],
             [
              0.2222222222222222,
              "#7201a8"
             ],
             [
              0.3333333333333333,
              "#9c179e"
             ],
             [
              0.4444444444444444,
              "#bd3786"
             ],
             [
              0.5555555555555556,
              "#d8576b"
             ],
             [
              0.6666666666666666,
              "#ed7953"
             ],
             [
              0.7777777777777778,
              "#fb9f3a"
             ],
             [
              0.8888888888888888,
              "#fdca26"
             ],
             [
              1,
              "#f0f921"
             ]
            ],
            "type": "surface"
           }
          ],
          "table": [
           {
            "cells": {
             "fill": {
              "color": "#EBF0F8"
             },
             "line": {
              "color": "white"
             }
            },
            "header": {
             "fill": {
              "color": "#C8D4E3"
             },
             "line": {
              "color": "white"
             }
            },
            "type": "table"
           }
          ]
         },
         "layout": {
          "annotationdefaults": {
           "arrowcolor": "#2a3f5f",
           "arrowhead": 0,
           "arrowwidth": 1
          },
          "autotypenumbers": "strict",
          "coloraxis": {
           "colorbar": {
            "outlinewidth": 0,
            "ticks": ""
           }
          },
          "colorscale": {
           "diverging": [
            [
             0,
             "#8e0152"
            ],
            [
             0.1,
             "#c51b7d"
            ],
            [
             0.2,
             "#de77ae"
            ],
            [
             0.3,
             "#f1b6da"
            ],
            [
             0.4,
             "#fde0ef"
            ],
            [
             0.5,
             "#f7f7f7"
            ],
            [
             0.6,
             "#e6f5d0"
            ],
            [
             0.7,
             "#b8e186"
            ],
            [
             0.8,
             "#7fbc41"
            ],
            [
             0.9,
             "#4d9221"
            ],
            [
             1,
             "#276419"
            ]
           ],
           "sequential": [
            [
             0,
             "#0d0887"
            ],
            [
             0.1111111111111111,
             "#46039f"
            ],
            [
             0.2222222222222222,
             "#7201a8"
            ],
            [
             0.3333333333333333,
             "#9c179e"
            ],
            [
             0.4444444444444444,
             "#bd3786"
            ],
            [
             0.5555555555555556,
             "#d8576b"
            ],
            [
             0.6666666666666666,
             "#ed7953"
            ],
            [
             0.7777777777777778,
             "#fb9f3a"
            ],
            [
             0.8888888888888888,
             "#fdca26"
            ],
            [
             1,
             "#f0f921"
            ]
           ],
           "sequentialminus": [
            [
             0,
             "#0d0887"
            ],
            [
             0.1111111111111111,
             "#46039f"
            ],
            [
             0.2222222222222222,
             "#7201a8"
            ],
            [
             0.3333333333333333,
             "#9c179e"
            ],
            [
             0.4444444444444444,
             "#bd3786"
            ],
            [
             0.5555555555555556,
             "#d8576b"
            ],
            [
             0.6666666666666666,
             "#ed7953"
            ],
            [
             0.7777777777777778,
             "#fb9f3a"
            ],
            [
             0.8888888888888888,
             "#fdca26"
            ],
            [
             1,
             "#f0f921"
            ]
           ]
          },
          "colorway": [
           "#636efa",
           "#EF553B",
           "#00cc96",
           "#ab63fa",
           "#FFA15A",
           "#19d3f3",
           "#FF6692",
           "#B6E880",
           "#FF97FF",
           "#FECB52"
          ],
          "font": {
           "color": "#2a3f5f"
          },
          "geo": {
           "bgcolor": "white",
           "lakecolor": "white",
           "landcolor": "#E5ECF6",
           "showlakes": true,
           "showland": true,
           "subunitcolor": "white"
          },
          "hoverlabel": {
           "align": "left"
          },
          "hovermode": "closest",
          "mapbox": {
           "style": "light"
          },
          "paper_bgcolor": "white",
          "plot_bgcolor": "#E5ECF6",
          "polar": {
           "angularaxis": {
            "gridcolor": "white",
            "linecolor": "white",
            "ticks": ""
           },
           "bgcolor": "#E5ECF6",
           "radialaxis": {
            "gridcolor": "white",
            "linecolor": "white",
            "ticks": ""
           }
          },
          "scene": {
           "xaxis": {
            "backgroundcolor": "#E5ECF6",
            "gridcolor": "white",
            "gridwidth": 2,
            "linecolor": "white",
            "showbackground": true,
            "ticks": "",
            "zerolinecolor": "white"
           },
           "yaxis": {
            "backgroundcolor": "#E5ECF6",
            "gridcolor": "white",
            "gridwidth": 2,
            "linecolor": "white",
            "showbackground": true,
            "ticks": "",
            "zerolinecolor": "white"
           },
           "zaxis": {
            "backgroundcolor": "#E5ECF6",
            "gridcolor": "white",
            "gridwidth": 2,
            "linecolor": "white",
            "showbackground": true,
            "ticks": "",
            "zerolinecolor": "white"
           }
          },
          "shapedefaults": {
           "line": {
            "color": "#2a3f5f"
           }
          },
          "ternary": {
           "aaxis": {
            "gridcolor": "white",
            "linecolor": "white",
            "ticks": ""
           },
           "baxis": {
            "gridcolor": "white",
            "linecolor": "white",
            "ticks": ""
           },
           "bgcolor": "#E5ECF6",
           "caxis": {
            "gridcolor": "white",
            "linecolor": "white",
            "ticks": ""
           }
          },
          "title": {
           "x": 0.05
          },
          "xaxis": {
           "automargin": true,
           "gridcolor": "white",
           "linecolor": "white",
           "ticks": "",
           "title": {
            "standoff": 15
           },
           "zerolinecolor": "white",
           "zerolinewidth": 2
          },
          "yaxis": {
           "automargin": true,
           "gridcolor": "white",
           "linecolor": "white",
           "ticks": "",
           "title": {
            "standoff": 15
           },
           "zerolinecolor": "white",
           "zerolinewidth": 2
          }
         }
        },
        "title": {
         "text": "Attendance Count Over Time"
        },
        "xaxis": {
         "anchor": "y",
         "domain": [
          0,
          1
         ],
         "title": {
          "text": "Date"
         }
        },
        "yaxis": {
         "anchor": "x",
         "domain": [
          0,
          1
         ],
         "title": {
          "text": "total_count"
         }
        }
       }
      }
     },
     "metadata": {},
     "output_type": "display_data"
    }
   ],
   "source": [
    "fig = px.line(attendance_grouped, x='Date', y= 'total_count', markers=True, title='Attendance Count Over Time')\n",
    "fig.show()"
   ]
  },
  {
   "cell_type": "code",
   "execution_count": 38,
   "metadata": {},
   "outputs": [
    {
     "data": {
      "application/vnd.plotly.v1+json": {
       "config": {
        "plotlyServerURL": "https://plot.ly"
       },
       "data": [
        {
         "hovertemplate": "Attendance=Checked In<br>variable=count<br>Date=%{x}<br>value=%{y}<extra></extra>",
         "legendgroup": "Checked In",
         "line": {
          "color": "#636efa",
          "dash": "solid"
         },
         "marker": {
          "symbol": "circle"
         },
         "mode": "markers+lines",
         "name": "Checked In",
         "orientation": "v",
         "showlegend": true,
         "type": "scatter",
         "x": [
          "2021-01-14T00:00:00",
          "2021-01-21T00:00:00",
          "2021-01-30T00:00:00",
          "2021-02-04T00:00:00",
          "2021-02-09T00:00:00",
          "2021-02-18T00:00:00",
          "2021-02-25T00:00:00",
          "2021-03-04T00:00:00",
          "2021-04-15T00:00:00",
          "2021-04-22T00:00:00",
          "2021-04-29T00:00:00",
          "2021-05-06T00:00:00",
          "2021-05-13T00:00:00",
          "2021-05-20T00:00:00",
          "2021-05-27T00:00:00",
          "2021-06-10T00:00:00",
          "2021-10-26T00:00:00",
          "2021-10-28T00:00:00",
          "2021-11-01T00:00:00",
          "2021-11-04T00:00:00",
          "2021-11-08T00:00:00",
          "2021-11-11T00:00:00",
          "2021-11-15T00:00:00",
          "2021-11-18T00:00:00",
          "2021-11-22T00:00:00",
          "2021-11-25T00:00:00",
          "2021-11-29T00:00:00",
          "2021-12-02T00:00:00",
          "2021-12-09T00:00:00",
          "2022-02-17T00:00:00",
          "2022-02-28T00:00:00",
          "2022-03-03T00:00:00",
          "2022-03-07T00:00:00",
          "2022-03-14T00:00:00",
          "2022-03-21T00:00:00",
          "2022-03-28T00:00:00",
          "2022-04-04T00:00:00",
          "2022-05-30T00:00:00",
          "2022-06-02T00:00:00",
          "2022-06-06T00:00:00",
          "2022-06-13T00:00:00",
          "2022-06-20T00:00:00",
          "2022-06-27T00:00:00",
          "2022-07-04T00:00:00",
          "2022-07-11T00:00:00",
          "2022-07-18T00:00:00",
          "2022-09-12T00:00:00",
          "2022-09-19T00:00:00",
          "2022-09-26T00:00:00",
          "2022-10-03T00:00:00",
          "2022-10-17T00:00:00",
          "2022-10-24T00:00:00",
          "2022-10-31T00:00:00",
          "2023-01-30T00:00:00",
          "2023-02-02T00:00:00",
          "2023-02-06T00:00:00",
          "2023-02-13T00:00:00",
          "2023-02-21T00:00:00",
          "2023-02-27T00:00:00",
          "2023-03-06T00:00:00",
          "2023-03-07T00:00:00",
          "2023-03-13T00:00:00",
          "2023-03-20T00:00:00",
          "2023-03-23T00:00:00",
          "2023-04-06T00:00:00",
          "2023-05-01T00:00:00",
          "2023-05-08T00:00:00",
          "2023-05-15T00:00:00",
          "2023-05-23T00:00:00",
          "2023-05-29T00:00:00",
          "2023-06-05T00:00:00",
          "2023-06-12T00:00:00",
          "2023-06-19T00:00:00",
          "2023-06-26T00:00:00",
          "2023-07-17T00:00:00",
          "2023-07-26T00:00:00",
          "2023-08-23T00:00:00",
          "2023-08-28T00:00:00",
          "2023-09-11T00:00:00",
          "2023-09-12T00:00:00",
          "2023-09-18T00:00:00",
          "2023-09-19T00:00:00",
          "2023-09-20T00:00:00",
          "2023-09-21T00:00:00",
          "2023-09-25T00:00:00",
          "2023-09-26T00:00:00",
          "2023-09-27T00:00:00",
          "2023-09-28T00:00:00",
          "2023-10-02T00:00:00",
          "2023-10-03T00:00:00",
          "2023-10-04T00:00:00",
          "2023-10-05T00:00:00",
          "2023-10-09T00:00:00",
          "2023-10-10T00:00:00",
          "2023-10-11T00:00:00",
          "2023-10-12T00:00:00",
          "2023-10-16T00:00:00",
          "2023-10-17T00:00:00",
          "2023-10-18T00:00:00",
          "2023-10-19T00:00:00",
          "2023-10-23T00:00:00",
          "2023-10-24T00:00:00",
          "2023-10-25T00:00:00",
          "2023-10-26T00:00:00",
          "2023-10-30T00:00:00",
          "2023-10-31T00:00:00",
          "2023-11-01T00:00:00",
          "2023-11-02T00:00:00",
          "2023-11-06T00:00:00",
          "2023-11-07T00:00:00",
          "2023-11-08T00:00:00",
          "2023-11-09T00:00:00",
          "2023-11-13T00:00:00",
          "2023-11-15T00:00:00",
          "2023-11-16T00:00:00",
          "2023-11-20T00:00:00",
          "2023-11-21T00:00:00",
          "2023-11-22T00:00:00",
          "2023-11-27T00:00:00"
         ],
         "xaxis": "x",
         "y": [
          10,
          17,
          22,
          22,
          25,
          10,
          35,
          21,
          22,
          20,
          9,
          9,
          3,
          24,
          16,
          20,
          24,
          4,
          9,
          1,
          24,
          8,
          23,
          11,
          30,
          14,
          12,
          10,
          8,
          61,
          27,
          16,
          7,
          7,
          4,
          6,
          9,
          7,
          10,
          16,
          4,
          15,
          12,
          3,
          7,
          3,
          14,
          9,
          1,
          4,
          4,
          2,
          1,
          2,
          1,
          4,
          4,
          2,
          4,
          3,
          6,
          3,
          3,
          7,
          23,
          6,
          2,
          3,
          15,
          9,
          2,
          1,
          2,
          4,
          32,
          45,
          4,
          24,
          47,
          33,
          32,
          32,
          53,
          61,
          32,
          30,
          32,
          50,
          17,
          33,
          34,
          4,
          22,
          11,
          27,
          28,
          14,
          12,
          33,
          18,
          9,
          25,
          10,
          34,
          8,
          9,
          12,
          12,
          12,
          1,
          11,
          37,
          17,
          19,
          4,
          5,
          2,
          8,
          3
         ],
         "yaxis": "y"
        },
        {
         "hovertemplate": "Attendance=Checked In<br>variable=total_count<br>Date=%{x}<br>value=%{y}<extra></extra>",
         "legendgroup": "Checked In",
         "line": {
          "color": "#636efa",
          "dash": "solid"
         },
         "marker": {
          "symbol": "circle"
         },
         "mode": "markers+lines",
         "name": "Checked In",
         "orientation": "v",
         "showlegend": false,
         "type": "scatter",
         "x": [
          "2021-01-14T00:00:00",
          "2021-01-21T00:00:00",
          "2021-01-30T00:00:00",
          "2021-02-04T00:00:00",
          "2021-02-09T00:00:00",
          "2021-02-18T00:00:00",
          "2021-02-25T00:00:00",
          "2021-03-04T00:00:00",
          "2021-04-15T00:00:00",
          "2021-04-22T00:00:00",
          "2021-04-29T00:00:00",
          "2021-05-06T00:00:00",
          "2021-05-13T00:00:00",
          "2021-05-20T00:00:00",
          "2021-05-27T00:00:00",
          "2021-06-10T00:00:00",
          "2021-10-26T00:00:00",
          "2021-10-28T00:00:00",
          "2021-11-01T00:00:00",
          "2021-11-04T00:00:00",
          "2021-11-08T00:00:00",
          "2021-11-11T00:00:00",
          "2021-11-15T00:00:00",
          "2021-11-18T00:00:00",
          "2021-11-22T00:00:00",
          "2021-11-25T00:00:00",
          "2021-11-29T00:00:00",
          "2021-12-02T00:00:00",
          "2021-12-09T00:00:00",
          "2022-02-17T00:00:00",
          "2022-02-28T00:00:00",
          "2022-03-03T00:00:00",
          "2022-03-07T00:00:00",
          "2022-03-14T00:00:00",
          "2022-03-21T00:00:00",
          "2022-03-28T00:00:00",
          "2022-04-04T00:00:00",
          "2022-05-30T00:00:00",
          "2022-06-02T00:00:00",
          "2022-06-06T00:00:00",
          "2022-06-13T00:00:00",
          "2022-06-20T00:00:00",
          "2022-06-27T00:00:00",
          "2022-07-04T00:00:00",
          "2022-07-11T00:00:00",
          "2022-07-18T00:00:00",
          "2022-09-12T00:00:00",
          "2022-09-19T00:00:00",
          "2022-09-26T00:00:00",
          "2022-10-03T00:00:00",
          "2022-10-17T00:00:00",
          "2022-10-24T00:00:00",
          "2022-10-31T00:00:00",
          "2023-01-30T00:00:00",
          "2023-02-02T00:00:00",
          "2023-02-06T00:00:00",
          "2023-02-13T00:00:00",
          "2023-02-21T00:00:00",
          "2023-02-27T00:00:00",
          "2023-03-06T00:00:00",
          "2023-03-07T00:00:00",
          "2023-03-13T00:00:00",
          "2023-03-20T00:00:00",
          "2023-03-23T00:00:00",
          "2023-04-06T00:00:00",
          "2023-05-01T00:00:00",
          "2023-05-08T00:00:00",
          "2023-05-15T00:00:00",
          "2023-05-23T00:00:00",
          "2023-05-29T00:00:00",
          "2023-06-05T00:00:00",
          "2023-06-12T00:00:00",
          "2023-06-19T00:00:00",
          "2023-06-26T00:00:00",
          "2023-07-17T00:00:00",
          "2023-07-26T00:00:00",
          "2023-08-23T00:00:00",
          "2023-08-28T00:00:00",
          "2023-09-11T00:00:00",
          "2023-09-12T00:00:00",
          "2023-09-18T00:00:00",
          "2023-09-19T00:00:00",
          "2023-09-20T00:00:00",
          "2023-09-21T00:00:00",
          "2023-09-25T00:00:00",
          "2023-09-26T00:00:00",
          "2023-09-27T00:00:00",
          "2023-09-28T00:00:00",
          "2023-10-02T00:00:00",
          "2023-10-03T00:00:00",
          "2023-10-04T00:00:00",
          "2023-10-05T00:00:00",
          "2023-10-09T00:00:00",
          "2023-10-10T00:00:00",
          "2023-10-11T00:00:00",
          "2023-10-12T00:00:00",
          "2023-10-16T00:00:00",
          "2023-10-17T00:00:00",
          "2023-10-18T00:00:00",
          "2023-10-19T00:00:00",
          "2023-10-23T00:00:00",
          "2023-10-24T00:00:00",
          "2023-10-25T00:00:00",
          "2023-10-26T00:00:00",
          "2023-10-30T00:00:00",
          "2023-10-31T00:00:00",
          "2023-11-01T00:00:00",
          "2023-11-02T00:00:00",
          "2023-11-06T00:00:00",
          "2023-11-07T00:00:00",
          "2023-11-08T00:00:00",
          "2023-11-09T00:00:00",
          "2023-11-13T00:00:00",
          "2023-11-15T00:00:00",
          "2023-11-16T00:00:00",
          "2023-11-20T00:00:00",
          "2023-11-21T00:00:00",
          "2023-11-22T00:00:00",
          "2023-11-27T00:00:00"
         ],
         "xaxis": "x",
         "y": [
          10,
          27,
          49,
          71,
          96,
          106,
          141,
          162,
          184,
          204,
          213,
          222,
          225,
          249,
          265,
          285,
          309,
          313,
          322,
          323,
          347,
          355,
          378,
          389,
          419,
          433,
          445,
          455,
          463,
          524,
          551,
          567,
          574,
          582,
          599,
          619,
          645,
          674,
          689,
          709,
          726,
          753,
          786,
          798,
          821,
          842,
          887,
          919,
          931,
          961,
          1011,
          1045,
          1080,
          1153,
          1187,
          1217,
          1286,
          1352,
          1410,
          1473,
          1487,
          1561,
          1614,
          1624,
          1721,
          1754,
          1820,
          1868,
          1915,
          1978,
          2031,
          2077,
          2135,
          2203,
          2555,
          2654,
          2685,
          2916,
          3100,
          3216,
          3281,
          3342,
          3414,
          3493,
          3546,
          3607,
          3667,
          3740,
          3784,
          3845,
          3907,
          3971,
          4030,
          4064,
          4130,
          4190,
          4226,
          4252,
          4310,
          4345,
          4389,
          4448,
          4485,
          4549,
          4567,
          4586,
          4610,
          4641,
          4665,
          4683,
          4708,
          4778,
          4809,
          4848,
          4871,
          4894,
          4906,
          4948,
          4976
         ],
         "yaxis": "y"
        },
        {
         "hovertemplate": "Attendance=Not Attending<br>variable=count<br>Date=%{x}<br>value=%{y}<extra></extra>",
         "legendgroup": "Not Attending",
         "line": {
          "color": "#EF553B",
          "dash": "solid"
         },
         "marker": {
          "symbol": "circle"
         },
         "mode": "markers+lines",
         "name": "Not Attending",
         "orientation": "v",
         "showlegend": true,
         "type": "scatter",
         "x": [
          "2022-03-14T00:00:00",
          "2022-03-17T00:00:00",
          "2022-03-21T00:00:00",
          "2022-03-24T00:00:00",
          "2022-03-28T00:00:00",
          "2022-03-31T00:00:00",
          "2022-04-04T00:00:00",
          "2022-04-07T00:00:00",
          "2022-04-14T00:00:00",
          "2022-05-30T00:00:00",
          "2022-06-02T00:00:00",
          "2022-06-06T00:00:00",
          "2022-06-09T00:00:00",
          "2022-06-13T00:00:00",
          "2022-06-16T00:00:00",
          "2022-06-20T00:00:00",
          "2022-06-23T00:00:00",
          "2022-06-27T00:00:00",
          "2022-06-30T00:00:00",
          "2022-07-04T00:00:00",
          "2022-07-07T00:00:00",
          "2022-07-11T00:00:00",
          "2022-07-14T00:00:00",
          "2022-07-18T00:00:00",
          "2022-07-21T00:00:00",
          "2022-07-25T00:00:00",
          "2022-07-28T00:00:00",
          "2022-09-12T00:00:00",
          "2022-09-15T00:00:00",
          "2022-09-19T00:00:00",
          "2022-09-22T00:00:00",
          "2022-09-26T00:00:00",
          "2022-09-29T00:00:00",
          "2022-10-03T00:00:00",
          "2022-10-06T00:00:00",
          "2022-10-11T00:00:00",
          "2022-10-13T00:00:00",
          "2022-10-17T00:00:00",
          "2022-10-20T00:00:00",
          "2022-10-24T00:00:00",
          "2022-10-27T00:00:00",
          "2022-10-31T00:00:00",
          "2022-11-03T00:00:00",
          "2022-11-07T00:00:00",
          "2023-01-30T00:00:00",
          "2023-02-02T00:00:00",
          "2023-02-06T00:00:00",
          "2023-02-09T00:00:00",
          "2023-02-13T00:00:00",
          "2023-02-16T00:00:00",
          "2023-02-21T00:00:00",
          "2023-02-23T00:00:00",
          "2023-02-27T00:00:00",
          "2023-03-02T00:00:00",
          "2023-03-06T00:00:00",
          "2023-03-07T00:00:00",
          "2023-03-09T00:00:00",
          "2023-03-13T00:00:00",
          "2023-03-16T00:00:00",
          "2023-03-20T00:00:00",
          "2023-03-23T00:00:00",
          "2023-03-30T00:00:00",
          "2023-04-06T00:00:00",
          "2023-05-01T00:00:00",
          "2023-05-04T00:00:00",
          "2023-05-08T00:00:00",
          "2023-05-11T00:00:00",
          "2023-05-15T00:00:00",
          "2023-05-18T00:00:00",
          "2023-05-23T00:00:00",
          "2023-05-25T00:00:00",
          "2023-05-29T00:00:00",
          "2023-06-01T00:00:00",
          "2023-06-05T00:00:00",
          "2023-06-08T00:00:00",
          "2023-06-12T00:00:00",
          "2023-06-15T00:00:00",
          "2023-06-19T00:00:00",
          "2023-06-22T00:00:00",
          "2023-06-26T00:00:00",
          "2023-06-29T00:00:00",
          "2023-07-17T00:00:00",
          "2023-07-26T00:00:00",
          "2023-08-23T00:00:00",
          "2023-08-28T00:00:00",
          "2023-09-11T00:00:00",
          "2023-09-12T00:00:00",
          "2023-09-18T00:00:00",
          "2023-09-19T00:00:00",
          "2023-09-20T00:00:00",
          "2023-09-21T00:00:00",
          "2023-09-25T00:00:00",
          "2023-09-26T00:00:00",
          "2023-09-27T00:00:00",
          "2023-09-28T00:00:00",
          "2023-10-02T00:00:00",
          "2023-10-03T00:00:00",
          "2023-10-04T00:00:00",
          "2023-10-05T00:00:00",
          "2023-10-09T00:00:00",
          "2023-10-10T00:00:00",
          "2023-10-11T00:00:00",
          "2023-10-12T00:00:00",
          "2023-10-16T00:00:00",
          "2023-10-17T00:00:00",
          "2023-10-18T00:00:00",
          "2023-10-19T00:00:00",
          "2023-10-23T00:00:00",
          "2023-10-24T00:00:00",
          "2023-10-25T00:00:00",
          "2023-10-26T00:00:00",
          "2023-10-30T00:00:00",
          "2023-10-30T00:00:00",
          "2023-10-31T00:00:00",
          "2023-11-01T00:00:00",
          "2023-11-01T00:00:00",
          "2023-11-02T00:00:00",
          "2023-11-02T00:00:00",
          "2023-11-06T00:00:00",
          "2023-11-06T00:00:00",
          "2023-11-07T00:00:00",
          "2023-11-08T00:00:00",
          "2023-11-08T00:00:00",
          "2023-11-09T00:00:00",
          "2023-11-13T00:00:00",
          "2023-11-13T00:00:00",
          "2023-11-15T00:00:00",
          "2023-11-15T00:00:00",
          "2023-11-16T00:00:00",
          "2023-11-16T00:00:00",
          "2023-11-20T00:00:00",
          "2023-11-20T00:00:00",
          "2023-11-21T00:00:00",
          "2023-11-22T00:00:00",
          "2023-11-22T00:00:00",
          "2023-11-23T00:00:00",
          "2023-11-23T00:00:00",
          "2023-11-27T00:00:00",
          "2023-11-27T00:00:00"
         ],
         "xaxis": "x",
         "y": [
          1,
          10,
          3,
          11,
          3,
          8,
          9,
          12,
          6,
          4,
          5,
          4,
          8,
          5,
          6,
          6,
          14,
          7,
          8,
          1,
          7,
          9,
          16,
          2,
          7,
          5,
          8,
          11,
          17,
          6,
          8,
          3,
          11,
          15,
          18,
          7,
          12,
          9,
          10,
          22,
          31,
          3,
          18,
          16,
          37,
          33,
          26,
          31,
          34,
          33,
          31,
          28,
          26,
          32,
          28,
          8,
          39,
          32,
          31,
          19,
          3,
          61,
          13,
          27,
          35,
          29,
          34,
          11,
          15,
          17,
          31,
          23,
          27,
          24,
          29,
          16,
          27,
          29,
          28,
          36,
          42,
          278,
          54,
          27,
          207,
          137,
          83,
          33,
          29,
          19,
          18,
          21,
          31,
          28,
          23,
          27,
          28,
          28,
          60,
          37,
          23,
          39,
          32,
          22,
          14,
          25,
          17,
          35,
          34,
          27,
          30,
          10,
          1,
          9,
          12,
          4,
          15,
          1,
          11,
          1,
          16,
          14,
          3,
          30,
          14,
          1,
          19,
          3,
          16,
          3,
          15,
          1,
          9,
          34,
          7,
          3,
          2,
          13,
          2
         ],
         "yaxis": "y"
        },
        {
         "hovertemplate": "Attendance=Not Attending<br>variable=total_count<br>Date=%{x}<br>value=%{y}<extra></extra>",
         "legendgroup": "Not Attending",
         "line": {
          "color": "#EF553B",
          "dash": "solid"
         },
         "marker": {
          "symbol": "circle"
         },
         "mode": "markers+lines",
         "name": "Not Attending",
         "orientation": "v",
         "showlegend": false,
         "type": "scatter",
         "x": [
          "2022-03-14T00:00:00",
          "2022-03-17T00:00:00",
          "2022-03-21T00:00:00",
          "2022-03-24T00:00:00",
          "2022-03-28T00:00:00",
          "2022-03-31T00:00:00",
          "2022-04-04T00:00:00",
          "2022-04-07T00:00:00",
          "2022-04-14T00:00:00",
          "2022-05-30T00:00:00",
          "2022-06-02T00:00:00",
          "2022-06-06T00:00:00",
          "2022-06-09T00:00:00",
          "2022-06-13T00:00:00",
          "2022-06-16T00:00:00",
          "2022-06-20T00:00:00",
          "2022-06-23T00:00:00",
          "2022-06-27T00:00:00",
          "2022-06-30T00:00:00",
          "2022-07-04T00:00:00",
          "2022-07-07T00:00:00",
          "2022-07-11T00:00:00",
          "2022-07-14T00:00:00",
          "2022-07-18T00:00:00",
          "2022-07-21T00:00:00",
          "2022-07-25T00:00:00",
          "2022-07-28T00:00:00",
          "2022-09-12T00:00:00",
          "2022-09-15T00:00:00",
          "2022-09-19T00:00:00",
          "2022-09-22T00:00:00",
          "2022-09-26T00:00:00",
          "2022-09-29T00:00:00",
          "2022-10-03T00:00:00",
          "2022-10-06T00:00:00",
          "2022-10-11T00:00:00",
          "2022-10-13T00:00:00",
          "2022-10-17T00:00:00",
          "2022-10-20T00:00:00",
          "2022-10-24T00:00:00",
          "2022-10-27T00:00:00",
          "2022-10-31T00:00:00",
          "2022-11-03T00:00:00",
          "2022-11-07T00:00:00",
          "2023-01-30T00:00:00",
          "2023-02-02T00:00:00",
          "2023-02-06T00:00:00",
          "2023-02-09T00:00:00",
          "2023-02-13T00:00:00",
          "2023-02-16T00:00:00",
          "2023-02-21T00:00:00",
          "2023-02-23T00:00:00",
          "2023-02-27T00:00:00",
          "2023-03-02T00:00:00",
          "2023-03-06T00:00:00",
          "2023-03-07T00:00:00",
          "2023-03-09T00:00:00",
          "2023-03-13T00:00:00",
          "2023-03-16T00:00:00",
          "2023-03-20T00:00:00",
          "2023-03-23T00:00:00",
          "2023-03-30T00:00:00",
          "2023-04-06T00:00:00",
          "2023-05-01T00:00:00",
          "2023-05-04T00:00:00",
          "2023-05-08T00:00:00",
          "2023-05-11T00:00:00",
          "2023-05-15T00:00:00",
          "2023-05-18T00:00:00",
          "2023-05-23T00:00:00",
          "2023-05-25T00:00:00",
          "2023-05-29T00:00:00",
          "2023-06-01T00:00:00",
          "2023-06-05T00:00:00",
          "2023-06-08T00:00:00",
          "2023-06-12T00:00:00",
          "2023-06-15T00:00:00",
          "2023-06-19T00:00:00",
          "2023-06-22T00:00:00",
          "2023-06-26T00:00:00",
          "2023-06-29T00:00:00",
          "2023-07-17T00:00:00",
          "2023-07-26T00:00:00",
          "2023-08-23T00:00:00",
          "2023-08-28T00:00:00",
          "2023-09-11T00:00:00",
          "2023-09-12T00:00:00",
          "2023-09-18T00:00:00",
          "2023-09-19T00:00:00",
          "2023-09-20T00:00:00",
          "2023-09-21T00:00:00",
          "2023-09-25T00:00:00",
          "2023-09-26T00:00:00",
          "2023-09-27T00:00:00",
          "2023-09-28T00:00:00",
          "2023-10-02T00:00:00",
          "2023-10-03T00:00:00",
          "2023-10-04T00:00:00",
          "2023-10-05T00:00:00",
          "2023-10-09T00:00:00",
          "2023-10-10T00:00:00",
          "2023-10-11T00:00:00",
          "2023-10-12T00:00:00",
          "2023-10-16T00:00:00",
          "2023-10-17T00:00:00",
          "2023-10-18T00:00:00",
          "2023-10-19T00:00:00",
          "2023-10-23T00:00:00",
          "2023-10-24T00:00:00",
          "2023-10-25T00:00:00",
          "2023-10-26T00:00:00",
          "2023-10-30T00:00:00",
          "2023-10-30T00:00:00",
          "2023-10-31T00:00:00",
          "2023-11-01T00:00:00",
          "2023-11-01T00:00:00",
          "2023-11-02T00:00:00",
          "2023-11-02T00:00:00",
          "2023-11-06T00:00:00",
          "2023-11-06T00:00:00",
          "2023-11-07T00:00:00",
          "2023-11-08T00:00:00",
          "2023-11-08T00:00:00",
          "2023-11-09T00:00:00",
          "2023-11-13T00:00:00",
          "2023-11-13T00:00:00",
          "2023-11-15T00:00:00",
          "2023-11-15T00:00:00",
          "2023-11-16T00:00:00",
          "2023-11-16T00:00:00",
          "2023-11-20T00:00:00",
          "2023-11-20T00:00:00",
          "2023-11-21T00:00:00",
          "2023-11-22T00:00:00",
          "2023-11-22T00:00:00",
          "2023-11-23T00:00:00",
          "2023-11-23T00:00:00",
          "2023-11-27T00:00:00",
          "2023-11-27T00:00:00"
         ],
         "xaxis": "x",
         "y": [
          575,
          592,
          595,
          610,
          613,
          627,
          636,
          657,
          663,
          667,
          679,
          693,
          717,
          722,
          732,
          738,
          767,
          774,
          794,
          795,
          805,
          814,
          837,
          839,
          849,
          854,
          862,
          873,
          904,
          910,
          927,
          930,
          942,
          957,
          979,
          986,
          998,
          1007,
          1021,
          1043,
          1076,
          1079,
          1098,
          1114,
          1151,
          1186,
          1213,
          1248,
          1282,
          1319,
          1350,
          1380,
          1406,
          1442,
          1470,
          1481,
          1526,
          1558,
          1592,
          1611,
          1617,
          1685,
          1698,
          1748,
          1789,
          1818,
          1854,
          1865,
          1883,
          1900,
          1946,
          1969,
          2005,
          2029,
          2060,
          2076,
          2104,
          2133,
          2163,
          2199,
          2245,
          2523,
          2609,
          2681,
          2892,
          3053,
          3183,
          3249,
          3310,
          3361,
          3432,
          3514,
          3577,
          3635,
          3690,
          3767,
          3812,
          3873,
          3967,
          4008,
          4053,
          4103,
          4162,
          4212,
          4240,
          4277,
          4327,
          4380,
          4423,
          4475,
          4515,
          4559,
          4568,
          4577,
          4598,
          4614,
          4629,
          4642,
          4653,
          4666,
          4682,
          4697,
          4711,
          4741,
          4792,
          4810,
          4829,
          4851,
          4867,
          4874,
          4889,
          4895,
          4904,
          4940,
          4955,
          4958,
          4960,
          4973,
          4978
         ],
         "yaxis": "y"
        }
       ],
       "layout": {
        "legend": {
         "title": {
          "text": "Attendance"
         },
         "tracegroupgap": 0
        },
        "template": {
         "data": {
          "bar": [
           {
            "error_x": {
             "color": "#2a3f5f"
            },
            "error_y": {
             "color": "#2a3f5f"
            },
            "marker": {
             "line": {
              "color": "#E5ECF6",
              "width": 0.5
             },
             "pattern": {
              "fillmode": "overlay",
              "size": 10,
              "solidity": 0.2
             }
            },
            "type": "bar"
           }
          ],
          "barpolar": [
           {
            "marker": {
             "line": {
              "color": "#E5ECF6",
              "width": 0.5
             },
             "pattern": {
              "fillmode": "overlay",
              "size": 10,
              "solidity": 0.2
             }
            },
            "type": "barpolar"
           }
          ],
          "carpet": [
           {
            "aaxis": {
             "endlinecolor": "#2a3f5f",
             "gridcolor": "white",
             "linecolor": "white",
             "minorgridcolor": "white",
             "startlinecolor": "#2a3f5f"
            },
            "baxis": {
             "endlinecolor": "#2a3f5f",
             "gridcolor": "white",
             "linecolor": "white",
             "minorgridcolor": "white",
             "startlinecolor": "#2a3f5f"
            },
            "type": "carpet"
           }
          ],
          "choropleth": [
           {
            "colorbar": {
             "outlinewidth": 0,
             "ticks": ""
            },
            "type": "choropleth"
           }
          ],
          "contour": [
           {
            "colorbar": {
             "outlinewidth": 0,
             "ticks": ""
            },
            "colorscale": [
             [
              0,
              "#0d0887"
             ],
             [
              0.1111111111111111,
              "#46039f"
             ],
             [
              0.2222222222222222,
              "#7201a8"
             ],
             [
              0.3333333333333333,
              "#9c179e"
             ],
             [
              0.4444444444444444,
              "#bd3786"
             ],
             [
              0.5555555555555556,
              "#d8576b"
             ],
             [
              0.6666666666666666,
              "#ed7953"
             ],
             [
              0.7777777777777778,
              "#fb9f3a"
             ],
             [
              0.8888888888888888,
              "#fdca26"
             ],
             [
              1,
              "#f0f921"
             ]
            ],
            "type": "contour"
           }
          ],
          "contourcarpet": [
           {
            "colorbar": {
             "outlinewidth": 0,
             "ticks": ""
            },
            "type": "contourcarpet"
           }
          ],
          "heatmap": [
           {
            "colorbar": {
             "outlinewidth": 0,
             "ticks": ""
            },
            "colorscale": [
             [
              0,
              "#0d0887"
             ],
             [
              0.1111111111111111,
              "#46039f"
             ],
             [
              0.2222222222222222,
              "#7201a8"
             ],
             [
              0.3333333333333333,
              "#9c179e"
             ],
             [
              0.4444444444444444,
              "#bd3786"
             ],
             [
              0.5555555555555556,
              "#d8576b"
             ],
             [
              0.6666666666666666,
              "#ed7953"
             ],
             [
              0.7777777777777778,
              "#fb9f3a"
             ],
             [
              0.8888888888888888,
              "#fdca26"
             ],
             [
              1,
              "#f0f921"
             ]
            ],
            "type": "heatmap"
           }
          ],
          "heatmapgl": [
           {
            "colorbar": {
             "outlinewidth": 0,
             "ticks": ""
            },
            "colorscale": [
             [
              0,
              "#0d0887"
             ],
             [
              0.1111111111111111,
              "#46039f"
             ],
             [
              0.2222222222222222,
              "#7201a8"
             ],
             [
              0.3333333333333333,
              "#9c179e"
             ],
             [
              0.4444444444444444,
              "#bd3786"
             ],
             [
              0.5555555555555556,
              "#d8576b"
             ],
             [
              0.6666666666666666,
              "#ed7953"
             ],
             [
              0.7777777777777778,
              "#fb9f3a"
             ],
             [
              0.8888888888888888,
              "#fdca26"
             ],
             [
              1,
              "#f0f921"
             ]
            ],
            "type": "heatmapgl"
           }
          ],
          "histogram": [
           {
            "marker": {
             "pattern": {
              "fillmode": "overlay",
              "size": 10,
              "solidity": 0.2
             }
            },
            "type": "histogram"
           }
          ],
          "histogram2d": [
           {
            "colorbar": {
             "outlinewidth": 0,
             "ticks": ""
            },
            "colorscale": [
             [
              0,
              "#0d0887"
             ],
             [
              0.1111111111111111,
              "#46039f"
             ],
             [
              0.2222222222222222,
              "#7201a8"
             ],
             [
              0.3333333333333333,
              "#9c179e"
             ],
             [
              0.4444444444444444,
              "#bd3786"
             ],
             [
              0.5555555555555556,
              "#d8576b"
             ],
             [
              0.6666666666666666,
              "#ed7953"
             ],
             [
              0.7777777777777778,
              "#fb9f3a"
             ],
             [
              0.8888888888888888,
              "#fdca26"
             ],
             [
              1,
              "#f0f921"
             ]
            ],
            "type": "histogram2d"
           }
          ],
          "histogram2dcontour": [
           {
            "colorbar": {
             "outlinewidth": 0,
             "ticks": ""
            },
            "colorscale": [
             [
              0,
              "#0d0887"
             ],
             [
              0.1111111111111111,
              "#46039f"
             ],
             [
              0.2222222222222222,
              "#7201a8"
             ],
             [
              0.3333333333333333,
              "#9c179e"
             ],
             [
              0.4444444444444444,
              "#bd3786"
             ],
             [
              0.5555555555555556,
              "#d8576b"
             ],
             [
              0.6666666666666666,
              "#ed7953"
             ],
             [
              0.7777777777777778,
              "#fb9f3a"
             ],
             [
              0.8888888888888888,
              "#fdca26"
             ],
             [
              1,
              "#f0f921"
             ]
            ],
            "type": "histogram2dcontour"
           }
          ],
          "mesh3d": [
           {
            "colorbar": {
             "outlinewidth": 0,
             "ticks": ""
            },
            "type": "mesh3d"
           }
          ],
          "parcoords": [
           {
            "line": {
             "colorbar": {
              "outlinewidth": 0,
              "ticks": ""
             }
            },
            "type": "parcoords"
           }
          ],
          "pie": [
           {
            "automargin": true,
            "type": "pie"
           }
          ],
          "scatter": [
           {
            "fillpattern": {
             "fillmode": "overlay",
             "size": 10,
             "solidity": 0.2
            },
            "type": "scatter"
           }
          ],
          "scatter3d": [
           {
            "line": {
             "colorbar": {
              "outlinewidth": 0,
              "ticks": ""
             }
            },
            "marker": {
             "colorbar": {
              "outlinewidth": 0,
              "ticks": ""
             }
            },
            "type": "scatter3d"
           }
          ],
          "scattercarpet": [
           {
            "marker": {
             "colorbar": {
              "outlinewidth": 0,
              "ticks": ""
             }
            },
            "type": "scattercarpet"
           }
          ],
          "scattergeo": [
           {
            "marker": {
             "colorbar": {
              "outlinewidth": 0,
              "ticks": ""
             }
            },
            "type": "scattergeo"
           }
          ],
          "scattergl": [
           {
            "marker": {
             "colorbar": {
              "outlinewidth": 0,
              "ticks": ""
             }
            },
            "type": "scattergl"
           }
          ],
          "scattermapbox": [
           {
            "marker": {
             "colorbar": {
              "outlinewidth": 0,
              "ticks": ""
             }
            },
            "type": "scattermapbox"
           }
          ],
          "scatterpolar": [
           {
            "marker": {
             "colorbar": {
              "outlinewidth": 0,
              "ticks": ""
             }
            },
            "type": "scatterpolar"
           }
          ],
          "scatterpolargl": [
           {
            "marker": {
             "colorbar": {
              "outlinewidth": 0,
              "ticks": ""
             }
            },
            "type": "scatterpolargl"
           }
          ],
          "scatterternary": [
           {
            "marker": {
             "colorbar": {
              "outlinewidth": 0,
              "ticks": ""
             }
            },
            "type": "scatterternary"
           }
          ],
          "surface": [
           {
            "colorbar": {
             "outlinewidth": 0,
             "ticks": ""
            },
            "colorscale": [
             [
              0,
              "#0d0887"
             ],
             [
              0.1111111111111111,
              "#46039f"
             ],
             [
              0.2222222222222222,
              "#7201a8"
             ],
             [
              0.3333333333333333,
              "#9c179e"
             ],
             [
              0.4444444444444444,
              "#bd3786"
             ],
             [
              0.5555555555555556,
              "#d8576b"
             ],
             [
              0.6666666666666666,
              "#ed7953"
             ],
             [
              0.7777777777777778,
              "#fb9f3a"
             ],
             [
              0.8888888888888888,
              "#fdca26"
             ],
             [
              1,
              "#f0f921"
             ]
            ],
            "type": "surface"
           }
          ],
          "table": [
           {
            "cells": {
             "fill": {
              "color": "#EBF0F8"
             },
             "line": {
              "color": "white"
             }
            },
            "header": {
             "fill": {
              "color": "#C8D4E3"
             },
             "line": {
              "color": "white"
             }
            },
            "type": "table"
           }
          ]
         },
         "layout": {
          "annotationdefaults": {
           "arrowcolor": "#2a3f5f",
           "arrowhead": 0,
           "arrowwidth": 1
          },
          "autotypenumbers": "strict",
          "coloraxis": {
           "colorbar": {
            "outlinewidth": 0,
            "ticks": ""
           }
          },
          "colorscale": {
           "diverging": [
            [
             0,
             "#8e0152"
            ],
            [
             0.1,
             "#c51b7d"
            ],
            [
             0.2,
             "#de77ae"
            ],
            [
             0.3,
             "#f1b6da"
            ],
            [
             0.4,
             "#fde0ef"
            ],
            [
             0.5,
             "#f7f7f7"
            ],
            [
             0.6,
             "#e6f5d0"
            ],
            [
             0.7,
             "#b8e186"
            ],
            [
             0.8,
             "#7fbc41"
            ],
            [
             0.9,
             "#4d9221"
            ],
            [
             1,
             "#276419"
            ]
           ],
           "sequential": [
            [
             0,
             "#0d0887"
            ],
            [
             0.1111111111111111,
             "#46039f"
            ],
            [
             0.2222222222222222,
             "#7201a8"
            ],
            [
             0.3333333333333333,
             "#9c179e"
            ],
            [
             0.4444444444444444,
             "#bd3786"
            ],
            [
             0.5555555555555556,
             "#d8576b"
            ],
            [
             0.6666666666666666,
             "#ed7953"
            ],
            [
             0.7777777777777778,
             "#fb9f3a"
            ],
            [
             0.8888888888888888,
             "#fdca26"
            ],
            [
             1,
             "#f0f921"
            ]
           ],
           "sequentialminus": [
            [
             0,
             "#0d0887"
            ],
            [
             0.1111111111111111,
             "#46039f"
            ],
            [
             0.2222222222222222,
             "#7201a8"
            ],
            [
             0.3333333333333333,
             "#9c179e"
            ],
            [
             0.4444444444444444,
             "#bd3786"
            ],
            [
             0.5555555555555556,
             "#d8576b"
            ],
            [
             0.6666666666666666,
             "#ed7953"
            ],
            [
             0.7777777777777778,
             "#fb9f3a"
            ],
            [
             0.8888888888888888,
             "#fdca26"
            ],
            [
             1,
             "#f0f921"
            ]
           ]
          },
          "colorway": [
           "#636efa",
           "#EF553B",
           "#00cc96",
           "#ab63fa",
           "#FFA15A",
           "#19d3f3",
           "#FF6692",
           "#B6E880",
           "#FF97FF",
           "#FECB52"
          ],
          "font": {
           "color": "#2a3f5f"
          },
          "geo": {
           "bgcolor": "white",
           "lakecolor": "white",
           "landcolor": "#E5ECF6",
           "showlakes": true,
           "showland": true,
           "subunitcolor": "white"
          },
          "hoverlabel": {
           "align": "left"
          },
          "hovermode": "closest",
          "mapbox": {
           "style": "light"
          },
          "paper_bgcolor": "white",
          "plot_bgcolor": "#E5ECF6",
          "polar": {
           "angularaxis": {
            "gridcolor": "white",
            "linecolor": "white",
            "ticks": ""
           },
           "bgcolor": "#E5ECF6",
           "radialaxis": {
            "gridcolor": "white",
            "linecolor": "white",
            "ticks": ""
           }
          },
          "scene": {
           "xaxis": {
            "backgroundcolor": "#E5ECF6",
            "gridcolor": "white",
            "gridwidth": 2,
            "linecolor": "white",
            "showbackground": true,
            "ticks": "",
            "zerolinecolor": "white"
           },
           "yaxis": {
            "backgroundcolor": "#E5ECF6",
            "gridcolor": "white",
            "gridwidth": 2,
            "linecolor": "white",
            "showbackground": true,
            "ticks": "",
            "zerolinecolor": "white"
           },
           "zaxis": {
            "backgroundcolor": "#E5ECF6",
            "gridcolor": "white",
            "gridwidth": 2,
            "linecolor": "white",
            "showbackground": true,
            "ticks": "",
            "zerolinecolor": "white"
           }
          },
          "shapedefaults": {
           "line": {
            "color": "#2a3f5f"
           }
          },
          "ternary": {
           "aaxis": {
            "gridcolor": "white",
            "linecolor": "white",
            "ticks": ""
           },
           "baxis": {
            "gridcolor": "white",
            "linecolor": "white",
            "ticks": ""
           },
           "bgcolor": "#E5ECF6",
           "caxis": {
            "gridcolor": "white",
            "linecolor": "white",
            "ticks": ""
           }
          },
          "title": {
           "x": 0.05
          },
          "xaxis": {
           "automargin": true,
           "gridcolor": "white",
           "linecolor": "white",
           "ticks": "",
           "title": {
            "standoff": 15
           },
           "zerolinecolor": "white",
           "zerolinewidth": 2
          },
          "yaxis": {
           "automargin": true,
           "gridcolor": "white",
           "linecolor": "white",
           "ticks": "",
           "title": {
            "standoff": 15
           },
           "zerolinecolor": "white",
           "zerolinewidth": 2
          }
         }
        },
        "title": {
         "text": "Attendance Count Over Time"
        },
        "xaxis": {
         "anchor": "y",
         "domain": [
          0,
          1
         ],
         "title": {
          "text": "Date"
         }
        },
        "yaxis": {
         "anchor": "x",
         "domain": [
          0,
          1
         ],
         "title": {
          "text": "value"
         }
        }
       }
      }
     },
     "metadata": {},
     "output_type": "display_data"
    }
   ],
   "source": [
    "fig = px.line(attendance_grouped, x='Date', y=['count', 'total_count'], color='Attendance', markers=True, title='Attendance Count Over Time')\n",
    "fig.show()"
   ]
  },
  {
   "cell_type": "markdown",
   "metadata": {},
   "source": [
    "### Attendees by Industry"
   ]
  },
  {
   "cell_type": "code",
   "execution_count": 39,
   "metadata": {},
   "outputs": [
    {
     "data": {
      "text/html": [
       "<div>\n",
       "<style scoped>\n",
       "    .dataframe tbody tr th:only-of-type {\n",
       "        vertical-align: middle;\n",
       "    }\n",
       "\n",
       "    .dataframe tbody tr th {\n",
       "        vertical-align: top;\n",
       "    }\n",
       "\n",
       "    .dataframe thead th {\n",
       "        text-align: right;\n",
       "    }\n",
       "</style>\n",
       "<table border=\"1\" class=\"dataframe\">\n",
       "  <thead>\n",
       "    <tr style=\"text-align: right;\">\n",
       "      <th></th>\n",
       "      <th>#</th>\n",
       "      <th>Industry / Event</th>\n",
       "      <th>Format</th>\n",
       "      <th>Attendance</th>\n",
       "    </tr>\n",
       "  </thead>\n",
       "  <tbody>\n",
       "    <tr>\n",
       "      <th>0</th>\n",
       "      <td>1</td>\n",
       "      <td>HR</td>\n",
       "      <td>Online</td>\n",
       "      <td>Checked In</td>\n",
       "    </tr>\n",
       "    <tr>\n",
       "      <th>1</th>\n",
       "      <td>1</td>\n",
       "      <td>HR</td>\n",
       "      <td>Online</td>\n",
       "      <td>Checked In</td>\n",
       "    </tr>\n",
       "    <tr>\n",
       "      <th>2</th>\n",
       "      <td>1</td>\n",
       "      <td>HR</td>\n",
       "      <td>Online</td>\n",
       "      <td>Checked In</td>\n",
       "    </tr>\n",
       "    <tr>\n",
       "      <th>3</th>\n",
       "      <td>1</td>\n",
       "      <td>HR</td>\n",
       "      <td>Online</td>\n",
       "      <td>Checked In</td>\n",
       "    </tr>\n",
       "    <tr>\n",
       "      <th>4</th>\n",
       "      <td>1</td>\n",
       "      <td>HR</td>\n",
       "      <td>Online</td>\n",
       "      <td>Checked In</td>\n",
       "    </tr>\n",
       "    <tr>\n",
       "      <th>...</th>\n",
       "      <td>...</td>\n",
       "      <td>...</td>\n",
       "      <td>...</td>\n",
       "      <td>...</td>\n",
       "    </tr>\n",
       "    <tr>\n",
       "      <th>4973</th>\n",
       "      <td>176</td>\n",
       "      <td>Legal</td>\n",
       "      <td>Online</td>\n",
       "      <td>Attending</td>\n",
       "    </tr>\n",
       "    <tr>\n",
       "      <th>4974</th>\n",
       "      <td>176</td>\n",
       "      <td>Legal</td>\n",
       "      <td>Online</td>\n",
       "      <td>Checked In</td>\n",
       "    </tr>\n",
       "    <tr>\n",
       "      <th>4975</th>\n",
       "      <td>176</td>\n",
       "      <td>Legal</td>\n",
       "      <td>Online</td>\n",
       "      <td>Attending</td>\n",
       "    </tr>\n",
       "    <tr>\n",
       "      <th>4976</th>\n",
       "      <td>176</td>\n",
       "      <td>Legal</td>\n",
       "      <td>Online</td>\n",
       "      <td>Not Attending</td>\n",
       "    </tr>\n",
       "    <tr>\n",
       "      <th>4977</th>\n",
       "      <td>176</td>\n",
       "      <td>Legal</td>\n",
       "      <td>Online</td>\n",
       "      <td>Not Attending</td>\n",
       "    </tr>\n",
       "  </tbody>\n",
       "</table>\n",
       "<p>4978 rows × 4 columns</p>\n",
       "</div>"
      ],
      "text/plain": [
       "        # Industry / Event  Format     Attendance\n",
       "0       1               HR  Online     Checked In\n",
       "1       1               HR  Online     Checked In\n",
       "2       1               HR  Online     Checked In\n",
       "3       1               HR  Online     Checked In\n",
       "4       1               HR  Online     Checked In\n",
       "...   ...              ...     ...            ...\n",
       "4973  176            Legal  Online      Attending\n",
       "4974  176            Legal  Online     Checked In\n",
       "4975  176            Legal  Online      Attending\n",
       "4976  176            Legal  Online  Not Attending\n",
       "4977  176            Legal  Online  Not Attending\n",
       "\n",
       "[4978 rows x 4 columns]"
      ]
     },
     "execution_count": 39,
     "metadata": {},
     "output_type": "execute_result"
    }
   ],
   "source": [
    "df[['#', 'Industry / Event', 'Format', 'Attendance']]"
   ]
  },
  {
   "cell_type": "code",
   "execution_count": 40,
   "metadata": {},
   "outputs": [
    {
     "data": {
      "text/html": [
       "<div>\n",
       "<style scoped>\n",
       "    .dataframe tbody tr th:only-of-type {\n",
       "        vertical-align: middle;\n",
       "    }\n",
       "\n",
       "    .dataframe tbody tr th {\n",
       "        vertical-align: top;\n",
       "    }\n",
       "\n",
       "    .dataframe thead th {\n",
       "        text-align: right;\n",
       "    }\n",
       "</style>\n",
       "<table border=\"1\" class=\"dataframe\">\n",
       "  <thead>\n",
       "    <tr style=\"text-align: right;\">\n",
       "      <th></th>\n",
       "      <th>#</th>\n",
       "      <th>Industry / Event</th>\n",
       "      <th>Format</th>\n",
       "      <th>Attendance</th>\n",
       "      <th>Count</th>\n",
       "    </tr>\n",
       "  </thead>\n",
       "  <tbody>\n",
       "    <tr>\n",
       "      <th>0</th>\n",
       "      <td>1</td>\n",
       "      <td>HR</td>\n",
       "      <td>Online</td>\n",
       "      <td>Checked In</td>\n",
       "      <td>10</td>\n",
       "    </tr>\n",
       "    <tr>\n",
       "      <th>1</th>\n",
       "      <td>10</td>\n",
       "      <td>Hospitality &amp; Tourism</td>\n",
       "      <td>Online</td>\n",
       "      <td>Checked In</td>\n",
       "      <td>20</td>\n",
       "    </tr>\n",
       "    <tr>\n",
       "      <th>2</th>\n",
       "      <td>100</td>\n",
       "      <td>Social Work &amp; Mental Health</td>\n",
       "      <td>In Person</td>\n",
       "      <td>Attending</td>\n",
       "      <td>34</td>\n",
       "    </tr>\n",
       "    <tr>\n",
       "      <th>3</th>\n",
       "      <td>101</td>\n",
       "      <td>Retail</td>\n",
       "      <td>Online</td>\n",
       "      <td>Attending</td>\n",
       "      <td>11</td>\n",
       "    </tr>\n",
       "    <tr>\n",
       "      <th>4</th>\n",
       "      <td>101</td>\n",
       "      <td>Retail</td>\n",
       "      <td>Online</td>\n",
       "      <td>Checked In</td>\n",
       "      <td>3</td>\n",
       "    </tr>\n",
       "    <tr>\n",
       "      <th>...</th>\n",
       "      <td>...</td>\n",
       "      <td>...</td>\n",
       "      <td>...</td>\n",
       "      <td>...</td>\n",
       "      <td>...</td>\n",
       "    </tr>\n",
       "    <tr>\n",
       "      <th>270</th>\n",
       "      <td>97</td>\n",
       "      <td>Engineering</td>\n",
       "      <td>Online</td>\n",
       "      <td>Attending</td>\n",
       "      <td>27</td>\n",
       "    </tr>\n",
       "    <tr>\n",
       "      <th>271</th>\n",
       "      <td>97</td>\n",
       "      <td>Engineering</td>\n",
       "      <td>Online</td>\n",
       "      <td>Checked In</td>\n",
       "      <td>6</td>\n",
       "    </tr>\n",
       "    <tr>\n",
       "      <th>272</th>\n",
       "      <td>98</td>\n",
       "      <td>Engineering</td>\n",
       "      <td>In Person</td>\n",
       "      <td>Attending</td>\n",
       "      <td>35</td>\n",
       "    </tr>\n",
       "    <tr>\n",
       "      <th>273</th>\n",
       "      <td>99</td>\n",
       "      <td>Social Work &amp; Mental Health</td>\n",
       "      <td>Online</td>\n",
       "      <td>Attending</td>\n",
       "      <td>29</td>\n",
       "    </tr>\n",
       "    <tr>\n",
       "      <th>274</th>\n",
       "      <td>99</td>\n",
       "      <td>Social Work &amp; Mental Health</td>\n",
       "      <td>Online</td>\n",
       "      <td>Checked In</td>\n",
       "      <td>2</td>\n",
       "    </tr>\n",
       "  </tbody>\n",
       "</table>\n",
       "<p>275 rows × 5 columns</p>\n",
       "</div>"
      ],
      "text/plain": [
       "       #             Industry / Event     Format  Attendance  Count\n",
       "0      1                           HR     Online  Checked In     10\n",
       "1     10        Hospitality & Tourism     Online  Checked In     20\n",
       "2    100  Social Work & Mental Health  In Person   Attending     34\n",
       "3    101                       Retail     Online   Attending     11\n",
       "4    101                       Retail     Online  Checked In      3\n",
       "..   ...                          ...        ...         ...    ...\n",
       "270   97                  Engineering     Online   Attending     27\n",
       "271   97                  Engineering     Online  Checked In      6\n",
       "272   98                  Engineering  In Person   Attending     35\n",
       "273   99  Social Work & Mental Health     Online   Attending     29\n",
       "274   99  Social Work & Mental Health     Online  Checked In      2\n",
       "\n",
       "[275 rows x 5 columns]"
      ]
     },
     "execution_count": 40,
     "metadata": {},
     "output_type": "execute_result"
    }
   ],
   "source": [
    "df_attendees = df[['#', 'Industry / Event', 'Format', 'Attendance']].value_counts().sort_index().reset_index(name='Count')\n",
    "df_attendees"
   ]
  },
  {
   "cell_type": "code",
   "execution_count": 41,
   "metadata": {},
   "outputs": [],
   "source": [
    "attendance_grouped = df.groupby(['Date', 'Attendance']).size().reset_index(name='count')\n",
    "attendance_grouped.loc[attendance_grouped['Attendance'] == 'Attending', 'Attendance'] = 'Not Attending'"
   ]
  },
  {
   "cell_type": "code",
   "execution_count": 42,
   "metadata": {},
   "outputs": [],
   "source": [
    "df_attendees=df_attendees.groupby(['Industry / Event', 'Format'])['Count'].sum().reset_index()"
   ]
  },
  {
   "cell_type": "code",
   "execution_count": 43,
   "metadata": {},
   "outputs": [],
   "source": [
    "df_average_attendees = df_attendees.groupby(['Industry / Event', 'Format']).agg({'Count': ['sum', 'count']}).reset_index()\n",
    "df_average_attendees.columns = ['Industry / Event', 'Format', 'Sum_Count', 'Count']"
   ]
  },
  {
   "cell_type": "code",
   "execution_count": 44,
   "metadata": {},
   "outputs": [],
   "source": [
    "df_average_attendees['Average']= df_average_attendees['Sum_Count']/df_average_attendees['Count']"
   ]
  },
  {
   "cell_type": "code",
   "execution_count": 45,
   "metadata": {},
   "outputs": [
    {
     "data": {
      "text/html": [
       "<div>\n",
       "<style scoped>\n",
       "    .dataframe tbody tr th:only-of-type {\n",
       "        vertical-align: middle;\n",
       "    }\n",
       "\n",
       "    .dataframe tbody tr th {\n",
       "        vertical-align: top;\n",
       "    }\n",
       "\n",
       "    .dataframe thead th {\n",
       "        text-align: right;\n",
       "    }\n",
       "</style>\n",
       "<table border=\"1\" class=\"dataframe\">\n",
       "  <thead>\n",
       "    <tr style=\"text-align: right;\">\n",
       "      <th></th>\n",
       "      <th>Industry / Event</th>\n",
       "      <th>Format</th>\n",
       "      <th>Sum_Count</th>\n",
       "      <th>Count</th>\n",
       "      <th>Average</th>\n",
       "    </tr>\n",
       "  </thead>\n",
       "  <tbody>\n",
       "    <tr>\n",
       "      <th>0</th>\n",
       "      <td>Accounting</td>\n",
       "      <td>In Person</td>\n",
       "      <td>10</td>\n",
       "      <td>1</td>\n",
       "      <td>10.0</td>\n",
       "    </tr>\n",
       "    <tr>\n",
       "      <th>1</th>\n",
       "      <td>Accounting</td>\n",
       "      <td>Online</td>\n",
       "      <td>22</td>\n",
       "      <td>1</td>\n",
       "      <td>22.0</td>\n",
       "    </tr>\n",
       "    <tr>\n",
       "      <th>2</th>\n",
       "      <td>Advertising, Media &amp; Film</td>\n",
       "      <td>In Person</td>\n",
       "      <td>94</td>\n",
       "      <td>1</td>\n",
       "      <td>94.0</td>\n",
       "    </tr>\n",
       "    <tr>\n",
       "      <th>3</th>\n",
       "      <td>Advertising, Media &amp; Film</td>\n",
       "      <td>Online</td>\n",
       "      <td>88</td>\n",
       "      <td>1</td>\n",
       "      <td>88.0</td>\n",
       "    </tr>\n",
       "    <tr>\n",
       "      <th>4</th>\n",
       "      <td>Architecture</td>\n",
       "      <td>In Person</td>\n",
       "      <td>38</td>\n",
       "      <td>1</td>\n",
       "      <td>38.0</td>\n",
       "    </tr>\n",
       "    <tr>\n",
       "      <th>...</th>\n",
       "      <td>...</td>\n",
       "      <td>...</td>\n",
       "      <td>...</td>\n",
       "      <td>...</td>\n",
       "      <td>...</td>\n",
       "    </tr>\n",
       "    <tr>\n",
       "      <th>65</th>\n",
       "      <td>Workshop: How to Write Business English (for N...</td>\n",
       "      <td>Online</td>\n",
       "      <td>116</td>\n",
       "      <td>1</td>\n",
       "      <td>116.0</td>\n",
       "    </tr>\n",
       "    <tr>\n",
       "      <th>66</th>\n",
       "      <td>Workshop: Insider Secrets to Landing Ideal Job...</td>\n",
       "      <td>Online</td>\n",
       "      <td>184</td>\n",
       "      <td>1</td>\n",
       "      <td>184.0</td>\n",
       "    </tr>\n",
       "    <tr>\n",
       "      <th>67</th>\n",
       "      <td>Workshop: LinkedIn Workshop to Advance Your Ca...</td>\n",
       "      <td>Online</td>\n",
       "      <td>541</td>\n",
       "      <td>1</td>\n",
       "      <td>541.0</td>\n",
       "    </tr>\n",
       "    <tr>\n",
       "      <th>68</th>\n",
       "      <td>Workshop: Secrets to Crafting The Perfect Job ...</td>\n",
       "      <td>Online</td>\n",
       "      <td>36</td>\n",
       "      <td>1</td>\n",
       "      <td>36.0</td>\n",
       "    </tr>\n",
       "    <tr>\n",
       "      <th>69</th>\n",
       "      <td>Workshop: Top 22 Tips to Get a Job in 2022</td>\n",
       "      <td>Online</td>\n",
       "      <td>61</td>\n",
       "      <td>1</td>\n",
       "      <td>61.0</td>\n",
       "    </tr>\n",
       "  </tbody>\n",
       "</table>\n",
       "<p>70 rows × 5 columns</p>\n",
       "</div>"
      ],
      "text/plain": [
       "                                     Industry / Event     Format  Sum_Count  \\\n",
       "0                                          Accounting  In Person         10   \n",
       "1                                          Accounting     Online         22   \n",
       "2                           Advertising, Media & Film  In Person         94   \n",
       "3                           Advertising, Media & Film     Online         88   \n",
       "4                                        Architecture  In Person         38   \n",
       "..                                                ...        ...        ...   \n",
       "65  Workshop: How to Write Business English (for N...     Online        116   \n",
       "66  Workshop: Insider Secrets to Landing Ideal Job...     Online        184   \n",
       "67  Workshop: LinkedIn Workshop to Advance Your Ca...     Online        541   \n",
       "68  Workshop: Secrets to Crafting The Perfect Job ...     Online         36   \n",
       "69         Workshop: Top 22 Tips to Get a Job in 2022     Online         61   \n",
       "\n",
       "    Count  Average  \n",
       "0       1     10.0  \n",
       "1       1     22.0  \n",
       "2       1     94.0  \n",
       "3       1     88.0  \n",
       "4       1     38.0  \n",
       "..    ...      ...  \n",
       "65      1    116.0  \n",
       "66      1    184.0  \n",
       "67      1    541.0  \n",
       "68      1     36.0  \n",
       "69      1     61.0  \n",
       "\n",
       "[70 rows x 5 columns]"
      ]
     },
     "execution_count": 45,
     "metadata": {},
     "output_type": "execute_result"
    }
   ],
   "source": [
    "df_average_attendees"
   ]
  },
  {
   "cell_type": "code",
   "execution_count": 46,
   "metadata": {},
   "outputs": [
    {
     "data": {
      "text/plain": [
       "Index(['#', 'Date', 'City', 'Season', 'Industry / Event', 'Format',\n",
       "       'Attendance', 'Email', 'First Name', 'Last Name', 'Country of Origin',\n",
       "       'Area of Expertise', 'Employment Status', 'Employer', 'Dream Job',\n",
       "       'Linkedin'],\n",
       "      dtype='object')"
      ]
     },
     "execution_count": 46,
     "metadata": {},
     "output_type": "execute_result"
    }
   ],
   "source": [
    "df.columns"
   ]
  },
  {
   "cell_type": "code",
   "execution_count": 47,
   "metadata": {},
   "outputs": [],
   "source": [
    "filtered_df = df[(df['Industry / Event']!='Workshop: LinkedIn Workshop to Advance Your Career') &\n",
    "                 (df['Industry / Event']!='Workshop: Insider Secrets to Landing Ideal Jobs (for Newcomers)') &\n",
    "                 (df['Industry / Event']!='Workshop: Secrets to Crafting The Perfect Job Application by Izzy Piyale-Sheard') &\n",
    "                 (df['Industry / Event']!='Workshop: Top 22 Tips to Get a Job in 2022') &\n",
    "                 (df['Industry / Event']!='Workshop: How to Write Business English (for Newcomers)') ]\n",
    "#top_9_industry = filtered_df[['Industry / Event','Format']].value_counts().nlargest(20).to_frame().reset_index()\n",
    "top_9_industry = filtered_df[['Industry / Event','Format']].value_counts().to_frame().reset_index()"
   ]
  },
  {
   "cell_type": "code",
   "execution_count": 48,
   "metadata": {},
   "outputs": [
    {
     "data": {
      "text/plain": [
       "array(['HR', 'Banking, Finance & Insurance', 'Operations & Logistics',\n",
       "       'Marketing', 'IT', 'Architecture', 'Engineering', 'Legal', 'Sales',\n",
       "       'Hospitality & Tourism', 'Design', 'Real Estate',\n",
       "       'Fitness, Nutrition & Wellness', 'Project Management',\n",
       "       'Education & Learning', 'Art & Entertainment', 'Consulting',\n",
       "       'Medicine & Pharmacy', 'Entrepreneurship',\n",
       "       'Crypto, NFT & Blockchain', 'Mental Health',\n",
       "       'Advertising, Media & Film', 'Fashion', 'Retail',\n",
       "       'Construction & Trades', 'Moms', 'Accounting', 'S7 Party',\n",
       "       'Social Work & Mental Health', 'S8 Party', 'Volunteer Training',\n",
       "       'Executive & Adm Assistants', 'Data Analysis', 'Education',\n",
       "       'Design & Graphic Design'], dtype=object)"
      ]
     },
     "execution_count": 48,
     "metadata": {},
     "output_type": "execute_result"
    }
   ],
   "source": [
    "filtered_df['Industry / Event'].unique()"
   ]
  },
  {
   "cell_type": "code",
   "execution_count": 49,
   "metadata": {},
   "outputs": [
    {
     "data": {
      "text/html": [
       "<div>\n",
       "<style scoped>\n",
       "    .dataframe tbody tr th:only-of-type {\n",
       "        vertical-align: middle;\n",
       "    }\n",
       "\n",
       "    .dataframe tbody tr th {\n",
       "        vertical-align: top;\n",
       "    }\n",
       "\n",
       "    .dataframe thead th {\n",
       "        text-align: right;\n",
       "    }\n",
       "</style>\n",
       "<table border=\"1\" class=\"dataframe\">\n",
       "  <thead>\n",
       "    <tr style=\"text-align: right;\">\n",
       "      <th></th>\n",
       "      <th>Industry / Event</th>\n",
       "      <th>Format</th>\n",
       "      <th>count</th>\n",
       "    </tr>\n",
       "  </thead>\n",
       "  <tbody>\n",
       "    <tr>\n",
       "      <th>0</th>\n",
       "      <td>IT</td>\n",
       "      <td>Online</td>\n",
       "      <td>229</td>\n",
       "    </tr>\n",
       "    <tr>\n",
       "      <th>1</th>\n",
       "      <td>Marketing</td>\n",
       "      <td>Online</td>\n",
       "      <td>218</td>\n",
       "    </tr>\n",
       "    <tr>\n",
       "      <th>2</th>\n",
       "      <td>Engineering</td>\n",
       "      <td>Online</td>\n",
       "      <td>209</td>\n",
       "    </tr>\n",
       "    <tr>\n",
       "      <th>3</th>\n",
       "      <td>Marketing</td>\n",
       "      <td>In Person</td>\n",
       "      <td>187</td>\n",
       "    </tr>\n",
       "    <tr>\n",
       "      <th>4</th>\n",
       "      <td>IT</td>\n",
       "      <td>In Person</td>\n",
       "      <td>182</td>\n",
       "    </tr>\n",
       "    <tr>\n",
       "      <th>...</th>\n",
       "      <td>...</td>\n",
       "      <td>...</td>\n",
       "      <td>...</td>\n",
       "    </tr>\n",
       "    <tr>\n",
       "      <th>60</th>\n",
       "      <td>Mental Health</td>\n",
       "      <td>In Person</td>\n",
       "      <td>8</td>\n",
       "    </tr>\n",
       "    <tr>\n",
       "      <th>61</th>\n",
       "      <td>Legal</td>\n",
       "      <td>In Person</td>\n",
       "      <td>8</td>\n",
       "    </tr>\n",
       "    <tr>\n",
       "      <th>62</th>\n",
       "      <td>Medicine &amp; Pharmacy</td>\n",
       "      <td>Online</td>\n",
       "      <td>7</td>\n",
       "    </tr>\n",
       "    <tr>\n",
       "      <th>63</th>\n",
       "      <td>Fitness, Nutrition &amp; Wellness</td>\n",
       "      <td>Online</td>\n",
       "      <td>7</td>\n",
       "    </tr>\n",
       "    <tr>\n",
       "      <th>64</th>\n",
       "      <td>Crypto, NFT &amp; Blockchain</td>\n",
       "      <td>Online</td>\n",
       "      <td>7</td>\n",
       "    </tr>\n",
       "  </tbody>\n",
       "</table>\n",
       "<p>65 rows × 3 columns</p>\n",
       "</div>"
      ],
      "text/plain": [
       "                 Industry / Event     Format  count\n",
       "0                              IT     Online    229\n",
       "1                       Marketing     Online    218\n",
       "2                     Engineering     Online    209\n",
       "3                       Marketing  In Person    187\n",
       "4                              IT  In Person    182\n",
       "..                            ...        ...    ...\n",
       "60                  Mental Health  In Person      8\n",
       "61                          Legal  In Person      8\n",
       "62            Medicine & Pharmacy     Online      7\n",
       "63  Fitness, Nutrition & Wellness     Online      7\n",
       "64       Crypto, NFT & Blockchain     Online      7\n",
       "\n",
       "[65 rows x 3 columns]"
      ]
     },
     "execution_count": 49,
     "metadata": {},
     "output_type": "execute_result"
    }
   ],
   "source": [
    "top_9_industry"
   ]
  },
  {
   "cell_type": "code",
   "execution_count": 50,
   "metadata": {},
   "outputs": [
    {
     "data": {
      "application/vnd.plotly.v1+json": {
       "config": {
        "plotlyServerURL": "https://plot.ly"
       },
       "data": [
        {
         "alignmentgroup": "True",
         "hovertemplate": "Format=Online<br>Industry / Event=%{x}<br>count=%{y}<extra></extra>",
         "legendgroup": "Online",
         "marker": {
          "color": "#636efa",
          "pattern": {
           "shape": ""
          }
         },
         "name": "Online",
         "offsetgroup": "Online",
         "orientation": "v",
         "showlegend": true,
         "textposition": "auto",
         "type": "bar",
         "x": [
          "IT",
          "Marketing",
          "Engineering",
          "HR",
          "Banking, Finance & Insurance",
          "Project Management",
          "Operations & Logistics",
          "Advertising, Media & Film",
          "Construction & Trades",
          "Data Analysis",
          "Social Work & Mental Health",
          "Architecture",
          "Entrepreneurship",
          "Executive & Adm Assistants",
          "Art & Entertainment",
          "Legal",
          "Hospitality & Tourism",
          "Education & Learning",
          "Design & Graphic Design",
          "Volunteer Training",
          "Consulting",
          "Accounting",
          "Design",
          "Sales",
          "Education",
          "Retail",
          "Fashion",
          "Moms",
          "Mental Health",
          "Real Estate",
          "Medicine & Pharmacy",
          "Fitness, Nutrition & Wellness",
          "Crypto, NFT & Blockchain"
         ],
         "xaxis": "x",
         "y": [
          229,
          218,
          209,
          167,
          162,
          158,
          121,
          88,
          78,
          59,
          55,
          45,
          44,
          44,
          42,
          39,
          37,
          33,
          32,
          31,
          27,
          22,
          22,
          22,
          19,
          19,
          15,
          14,
          9,
          9,
          7,
          7,
          7
         ],
         "yaxis": "y"
        },
        {
         "alignmentgroup": "True",
         "hovertemplate": "Format=In Person<br>Industry / Event=%{x}<br>count=%{y}<extra></extra>",
         "legendgroup": "In Person",
         "marker": {
          "color": "#EF553B",
          "pattern": {
           "shape": ""
          }
         },
         "name": "In Person",
         "offsetgroup": "In Person",
         "orientation": "v",
         "showlegend": true,
         "textposition": "auto",
         "type": "bar",
         "x": [
          "Marketing",
          "IT",
          "Engineering",
          "HR",
          "Project Management",
          "Banking, Finance & Insurance",
          "Operations & Logistics",
          "Construction & Trades",
          "S8 Party",
          "Advertising, Media & Film",
          "Entrepreneurship",
          "Hospitality & Tourism",
          "Social Work & Mental Health",
          "S7 Party",
          "Data Analysis",
          "Design & Graphic Design",
          "Art & Entertainment",
          "Architecture",
          "Executive & Adm Assistants",
          "Education & Learning",
          "Retail",
          "Sales",
          "Education",
          "Consulting",
          "Fashion",
          "Fitness, Nutrition & Wellness",
          "Crypto, NFT & Blockchain",
          "Design",
          "Accounting",
          "Moms",
          "Mental Health",
          "Legal"
         ],
         "xaxis": "x",
         "y": [
          187,
          182,
          149,
          143,
          120,
          119,
          101,
          100,
          99,
          94,
          67,
          62,
          62,
          61,
          57,
          41,
          40,
          38,
          35,
          27,
          27,
          23,
          22,
          16,
          12,
          11,
          11,
          10,
          10,
          8,
          8,
          8
         ],
         "yaxis": "y"
        }
       ],
       "layout": {
        "barmode": "group",
        "legend": {
         "title": {
          "text": "Format"
         },
         "tracegroupgap": 0
        },
        "margin": {
         "t": 60
        },
        "template": {
         "data": {
          "bar": [
           {
            "error_x": {
             "color": "#2a3f5f"
            },
            "error_y": {
             "color": "#2a3f5f"
            },
            "marker": {
             "line": {
              "color": "#E5ECF6",
              "width": 0.5
             },
             "pattern": {
              "fillmode": "overlay",
              "size": 10,
              "solidity": 0.2
             }
            },
            "type": "bar"
           }
          ],
          "barpolar": [
           {
            "marker": {
             "line": {
              "color": "#E5ECF6",
              "width": 0.5
             },
             "pattern": {
              "fillmode": "overlay",
              "size": 10,
              "solidity": 0.2
             }
            },
            "type": "barpolar"
           }
          ],
          "carpet": [
           {
            "aaxis": {
             "endlinecolor": "#2a3f5f",
             "gridcolor": "white",
             "linecolor": "white",
             "minorgridcolor": "white",
             "startlinecolor": "#2a3f5f"
            },
            "baxis": {
             "endlinecolor": "#2a3f5f",
             "gridcolor": "white",
             "linecolor": "white",
             "minorgridcolor": "white",
             "startlinecolor": "#2a3f5f"
            },
            "type": "carpet"
           }
          ],
          "choropleth": [
           {
            "colorbar": {
             "outlinewidth": 0,
             "ticks": ""
            },
            "type": "choropleth"
           }
          ],
          "contour": [
           {
            "colorbar": {
             "outlinewidth": 0,
             "ticks": ""
            },
            "colorscale": [
             [
              0,
              "#0d0887"
             ],
             [
              0.1111111111111111,
              "#46039f"
             ],
             [
              0.2222222222222222,
              "#7201a8"
             ],
             [
              0.3333333333333333,
              "#9c179e"
             ],
             [
              0.4444444444444444,
              "#bd3786"
             ],
             [
              0.5555555555555556,
              "#d8576b"
             ],
             [
              0.6666666666666666,
              "#ed7953"
             ],
             [
              0.7777777777777778,
              "#fb9f3a"
             ],
             [
              0.8888888888888888,
              "#fdca26"
             ],
             [
              1,
              "#f0f921"
             ]
            ],
            "type": "contour"
           }
          ],
          "contourcarpet": [
           {
            "colorbar": {
             "outlinewidth": 0,
             "ticks": ""
            },
            "type": "contourcarpet"
           }
          ],
          "heatmap": [
           {
            "colorbar": {
             "outlinewidth": 0,
             "ticks": ""
            },
            "colorscale": [
             [
              0,
              "#0d0887"
             ],
             [
              0.1111111111111111,
              "#46039f"
             ],
             [
              0.2222222222222222,
              "#7201a8"
             ],
             [
              0.3333333333333333,
              "#9c179e"
             ],
             [
              0.4444444444444444,
              "#bd3786"
             ],
             [
              0.5555555555555556,
              "#d8576b"
             ],
             [
              0.6666666666666666,
              "#ed7953"
             ],
             [
              0.7777777777777778,
              "#fb9f3a"
             ],
             [
              0.8888888888888888,
              "#fdca26"
             ],
             [
              1,
              "#f0f921"
             ]
            ],
            "type": "heatmap"
           }
          ],
          "heatmapgl": [
           {
            "colorbar": {
             "outlinewidth": 0,
             "ticks": ""
            },
            "colorscale": [
             [
              0,
              "#0d0887"
             ],
             [
              0.1111111111111111,
              "#46039f"
             ],
             [
              0.2222222222222222,
              "#7201a8"
             ],
             [
              0.3333333333333333,
              "#9c179e"
             ],
             [
              0.4444444444444444,
              "#bd3786"
             ],
             [
              0.5555555555555556,
              "#d8576b"
             ],
             [
              0.6666666666666666,
              "#ed7953"
             ],
             [
              0.7777777777777778,
              "#fb9f3a"
             ],
             [
              0.8888888888888888,
              "#fdca26"
             ],
             [
              1,
              "#f0f921"
             ]
            ],
            "type": "heatmapgl"
           }
          ],
          "histogram": [
           {
            "marker": {
             "pattern": {
              "fillmode": "overlay",
              "size": 10,
              "solidity": 0.2
             }
            },
            "type": "histogram"
           }
          ],
          "histogram2d": [
           {
            "colorbar": {
             "outlinewidth": 0,
             "ticks": ""
            },
            "colorscale": [
             [
              0,
              "#0d0887"
             ],
             [
              0.1111111111111111,
              "#46039f"
             ],
             [
              0.2222222222222222,
              "#7201a8"
             ],
             [
              0.3333333333333333,
              "#9c179e"
             ],
             [
              0.4444444444444444,
              "#bd3786"
             ],
             [
              0.5555555555555556,
              "#d8576b"
             ],
             [
              0.6666666666666666,
              "#ed7953"
             ],
             [
              0.7777777777777778,
              "#fb9f3a"
             ],
             [
              0.8888888888888888,
              "#fdca26"
             ],
             [
              1,
              "#f0f921"
             ]
            ],
            "type": "histogram2d"
           }
          ],
          "histogram2dcontour": [
           {
            "colorbar": {
             "outlinewidth": 0,
             "ticks": ""
            },
            "colorscale": [
             [
              0,
              "#0d0887"
             ],
             [
              0.1111111111111111,
              "#46039f"
             ],
             [
              0.2222222222222222,
              "#7201a8"
             ],
             [
              0.3333333333333333,
              "#9c179e"
             ],
             [
              0.4444444444444444,
              "#bd3786"
             ],
             [
              0.5555555555555556,
              "#d8576b"
             ],
             [
              0.6666666666666666,
              "#ed7953"
             ],
             [
              0.7777777777777778,
              "#fb9f3a"
             ],
             [
              0.8888888888888888,
              "#fdca26"
             ],
             [
              1,
              "#f0f921"
             ]
            ],
            "type": "histogram2dcontour"
           }
          ],
          "mesh3d": [
           {
            "colorbar": {
             "outlinewidth": 0,
             "ticks": ""
            },
            "type": "mesh3d"
           }
          ],
          "parcoords": [
           {
            "line": {
             "colorbar": {
              "outlinewidth": 0,
              "ticks": ""
             }
            },
            "type": "parcoords"
           }
          ],
          "pie": [
           {
            "automargin": true,
            "type": "pie"
           }
          ],
          "scatter": [
           {
            "fillpattern": {
             "fillmode": "overlay",
             "size": 10,
             "solidity": 0.2
            },
            "type": "scatter"
           }
          ],
          "scatter3d": [
           {
            "line": {
             "colorbar": {
              "outlinewidth": 0,
              "ticks": ""
             }
            },
            "marker": {
             "colorbar": {
              "outlinewidth": 0,
              "ticks": ""
             }
            },
            "type": "scatter3d"
           }
          ],
          "scattercarpet": [
           {
            "marker": {
             "colorbar": {
              "outlinewidth": 0,
              "ticks": ""
             }
            },
            "type": "scattercarpet"
           }
          ],
          "scattergeo": [
           {
            "marker": {
             "colorbar": {
              "outlinewidth": 0,
              "ticks": ""
             }
            },
            "type": "scattergeo"
           }
          ],
          "scattergl": [
           {
            "marker": {
             "colorbar": {
              "outlinewidth": 0,
              "ticks": ""
             }
            },
            "type": "scattergl"
           }
          ],
          "scattermapbox": [
           {
            "marker": {
             "colorbar": {
              "outlinewidth": 0,
              "ticks": ""
             }
            },
            "type": "scattermapbox"
           }
          ],
          "scatterpolar": [
           {
            "marker": {
             "colorbar": {
              "outlinewidth": 0,
              "ticks": ""
             }
            },
            "type": "scatterpolar"
           }
          ],
          "scatterpolargl": [
           {
            "marker": {
             "colorbar": {
              "outlinewidth": 0,
              "ticks": ""
             }
            },
            "type": "scatterpolargl"
           }
          ],
          "scatterternary": [
           {
            "marker": {
             "colorbar": {
              "outlinewidth": 0,
              "ticks": ""
             }
            },
            "type": "scatterternary"
           }
          ],
          "surface": [
           {
            "colorbar": {
             "outlinewidth": 0,
             "ticks": ""
            },
            "colorscale": [
             [
              0,
              "#0d0887"
             ],
             [
              0.1111111111111111,
              "#46039f"
             ],
             [
              0.2222222222222222,
              "#7201a8"
             ],
             [
              0.3333333333333333,
              "#9c179e"
             ],
             [
              0.4444444444444444,
              "#bd3786"
             ],
             [
              0.5555555555555556,
              "#d8576b"
             ],
             [
              0.6666666666666666,
              "#ed7953"
             ],
             [
              0.7777777777777778,
              "#fb9f3a"
             ],
             [
              0.8888888888888888,
              "#fdca26"
             ],
             [
              1,
              "#f0f921"
             ]
            ],
            "type": "surface"
           }
          ],
          "table": [
           {
            "cells": {
             "fill": {
              "color": "#EBF0F8"
             },
             "line": {
              "color": "white"
             }
            },
            "header": {
             "fill": {
              "color": "#C8D4E3"
             },
             "line": {
              "color": "white"
             }
            },
            "type": "table"
           }
          ]
         },
         "layout": {
          "annotationdefaults": {
           "arrowcolor": "#2a3f5f",
           "arrowhead": 0,
           "arrowwidth": 1
          },
          "autotypenumbers": "strict",
          "coloraxis": {
           "colorbar": {
            "outlinewidth": 0,
            "ticks": ""
           }
          },
          "colorscale": {
           "diverging": [
            [
             0,
             "#8e0152"
            ],
            [
             0.1,
             "#c51b7d"
            ],
            [
             0.2,
             "#de77ae"
            ],
            [
             0.3,
             "#f1b6da"
            ],
            [
             0.4,
             "#fde0ef"
            ],
            [
             0.5,
             "#f7f7f7"
            ],
            [
             0.6,
             "#e6f5d0"
            ],
            [
             0.7,
             "#b8e186"
            ],
            [
             0.8,
             "#7fbc41"
            ],
            [
             0.9,
             "#4d9221"
            ],
            [
             1,
             "#276419"
            ]
           ],
           "sequential": [
            [
             0,
             "#0d0887"
            ],
            [
             0.1111111111111111,
             "#46039f"
            ],
            [
             0.2222222222222222,
             "#7201a8"
            ],
            [
             0.3333333333333333,
             "#9c179e"
            ],
            [
             0.4444444444444444,
             "#bd3786"
            ],
            [
             0.5555555555555556,
             "#d8576b"
            ],
            [
             0.6666666666666666,
             "#ed7953"
            ],
            [
             0.7777777777777778,
             "#fb9f3a"
            ],
            [
             0.8888888888888888,
             "#fdca26"
            ],
            [
             1,
             "#f0f921"
            ]
           ],
           "sequentialminus": [
            [
             0,
             "#0d0887"
            ],
            [
             0.1111111111111111,
             "#46039f"
            ],
            [
             0.2222222222222222,
             "#7201a8"
            ],
            [
             0.3333333333333333,
             "#9c179e"
            ],
            [
             0.4444444444444444,
             "#bd3786"
            ],
            [
             0.5555555555555556,
             "#d8576b"
            ],
            [
             0.6666666666666666,
             "#ed7953"
            ],
            [
             0.7777777777777778,
             "#fb9f3a"
            ],
            [
             0.8888888888888888,
             "#fdca26"
            ],
            [
             1,
             "#f0f921"
            ]
           ]
          },
          "colorway": [
           "#636efa",
           "#EF553B",
           "#00cc96",
           "#ab63fa",
           "#FFA15A",
           "#19d3f3",
           "#FF6692",
           "#B6E880",
           "#FF97FF",
           "#FECB52"
          ],
          "font": {
           "color": "#2a3f5f"
          },
          "geo": {
           "bgcolor": "white",
           "lakecolor": "white",
           "landcolor": "#E5ECF6",
           "showlakes": true,
           "showland": true,
           "subunitcolor": "white"
          },
          "hoverlabel": {
           "align": "left"
          },
          "hovermode": "closest",
          "mapbox": {
           "style": "light"
          },
          "paper_bgcolor": "white",
          "plot_bgcolor": "#E5ECF6",
          "polar": {
           "angularaxis": {
            "gridcolor": "white",
            "linecolor": "white",
            "ticks": ""
           },
           "bgcolor": "#E5ECF6",
           "radialaxis": {
            "gridcolor": "white",
            "linecolor": "white",
            "ticks": ""
           }
          },
          "scene": {
           "xaxis": {
            "backgroundcolor": "#E5ECF6",
            "gridcolor": "white",
            "gridwidth": 2,
            "linecolor": "white",
            "showbackground": true,
            "ticks": "",
            "zerolinecolor": "white"
           },
           "yaxis": {
            "backgroundcolor": "#E5ECF6",
            "gridcolor": "white",
            "gridwidth": 2,
            "linecolor": "white",
            "showbackground": true,
            "ticks": "",
            "zerolinecolor": "white"
           },
           "zaxis": {
            "backgroundcolor": "#E5ECF6",
            "gridcolor": "white",
            "gridwidth": 2,
            "linecolor": "white",
            "showbackground": true,
            "ticks": "",
            "zerolinecolor": "white"
           }
          },
          "shapedefaults": {
           "line": {
            "color": "#2a3f5f"
           }
          },
          "ternary": {
           "aaxis": {
            "gridcolor": "white",
            "linecolor": "white",
            "ticks": ""
           },
           "baxis": {
            "gridcolor": "white",
            "linecolor": "white",
            "ticks": ""
           },
           "bgcolor": "#E5ECF6",
           "caxis": {
            "gridcolor": "white",
            "linecolor": "white",
            "ticks": ""
           }
          },
          "title": {
           "x": 0.05
          },
          "xaxis": {
           "automargin": true,
           "gridcolor": "white",
           "linecolor": "white",
           "ticks": "",
           "title": {
            "standoff": 15
           },
           "zerolinecolor": "white",
           "zerolinewidth": 2
          },
          "yaxis": {
           "automargin": true,
           "gridcolor": "white",
           "linecolor": "white",
           "ticks": "",
           "title": {
            "standoff": 15
           },
           "zerolinecolor": "white",
           "zerolinewidth": 2
          }
         }
        },
        "xaxis": {
         "anchor": "y",
         "domain": [
          0,
          1
         ],
         "title": {
          "text": "Industry / Event"
         }
        },
        "yaxis": {
         "anchor": "x",
         "domain": [
          0,
          1
         ],
         "title": {
          "text": "count"
         }
        }
       }
      }
     },
     "metadata": {},
     "output_type": "display_data"
    }
   ],
   "source": [
    "fig = px.bar(top_9_industry,x='Industry / Event', y='count',color='Format', barmode='group',labels={'x': 'Industry / Event', 'y': 'Format'})\n",
    "fig.show()"
   ]
  },
  {
   "cell_type": "code",
   "execution_count": 51,
   "metadata": {},
   "outputs": [
    {
     "data": {
      "application/vnd.plotly.v1+json": {
       "config": {
        "plotlyServerURL": "https://plot.ly"
       },
       "data": [
        {
         "alignmentgroup": "True",
         "bingroup": "x",
         "hovertemplate": "Format=Online<br>Industry / Event=%{x}<br>count=%{y}<extra></extra>",
         "legendgroup": "Online",
         "marker": {
          "color": "#636efa",
          "pattern": {
           "shape": ""
          }
         },
         "name": "Online",
         "offsetgroup": "Online",
         "orientation": "v",
         "showlegend": true,
         "type": "histogram",
         "x": [
          "HR",
          "HR",
          "HR",
          "HR",
          "HR",
          "HR",
          "HR",
          "HR",
          "HR",
          "HR",
          "Banking, Finance & Insurance",
          "Banking, Finance & Insurance",
          "Banking, Finance & Insurance",
          "Banking, Finance & Insurance",
          "Banking, Finance & Insurance",
          "Banking, Finance & Insurance",
          "Banking, Finance & Insurance",
          "Banking, Finance & Insurance",
          "Banking, Finance & Insurance",
          "Banking, Finance & Insurance",
          "Banking, Finance & Insurance",
          "Banking, Finance & Insurance",
          "Banking, Finance & Insurance",
          "Banking, Finance & Insurance",
          "Banking, Finance & Insurance",
          "Banking, Finance & Insurance",
          "Banking, Finance & Insurance",
          "Operations & Logistics",
          "Operations & Logistics",
          "Operations & Logistics",
          "Operations & Logistics",
          "Operations & Logistics",
          "Operations & Logistics",
          "Operations & Logistics",
          "Operations & Logistics",
          "Operations & Logistics",
          "Operations & Logistics",
          "Operations & Logistics",
          "Operations & Logistics",
          "Operations & Logistics",
          "Operations & Logistics",
          "Operations & Logistics",
          "Operations & Logistics",
          "Operations & Logistics",
          "Operations & Logistics",
          "Operations & Logistics",
          "Operations & Logistics",
          "Operations & Logistics",
          "Operations & Logistics",
          "Marketing",
          "Marketing",
          "Marketing",
          "Marketing",
          "Marketing",
          "Marketing",
          "Marketing",
          "Marketing",
          "Marketing",
          "Marketing",
          "Marketing",
          "Marketing",
          "Marketing",
          "Marketing",
          "Marketing",
          "Marketing",
          "Marketing",
          "Marketing",
          "Marketing",
          "Marketing",
          "Marketing",
          "Marketing",
          "IT",
          "IT",
          "IT",
          "IT",
          "IT",
          "IT",
          "IT",
          "IT",
          "IT",
          "IT",
          "IT",
          "IT",
          "IT",
          "IT",
          "IT",
          "IT",
          "IT",
          "IT",
          "IT",
          "IT",
          "IT",
          "IT",
          "IT",
          "IT",
          "IT",
          "Architecture",
          "Architecture",
          "Architecture",
          "Architecture",
          "Architecture",
          "Architecture",
          "Architecture",
          "Architecture",
          "Architecture",
          "Architecture",
          "Engineering",
          "Engineering",
          "Engineering",
          "Engineering",
          "Engineering",
          "Engineering",
          "Engineering",
          "Engineering",
          "Engineering",
          "Engineering",
          "Engineering",
          "Engineering",
          "Engineering",
          "Engineering",
          "Engineering",
          "Engineering",
          "Engineering",
          "Engineering",
          "Engineering",
          "Engineering",
          "Engineering",
          "Engineering",
          "Engineering",
          "Engineering",
          "Engineering",
          "Engineering",
          "Engineering",
          "Engineering",
          "Engineering",
          "Engineering",
          "Engineering",
          "Engineering",
          "Engineering",
          "Engineering",
          "Engineering",
          "Legal",
          "Legal",
          "Legal",
          "Legal",
          "Legal",
          "Legal",
          "Legal",
          "Legal",
          "Legal",
          "Legal",
          "Legal",
          "Legal",
          "Legal",
          "Legal",
          "Legal",
          "Legal",
          "Legal",
          "Legal",
          "Legal",
          "Legal",
          "Legal",
          "Sales",
          "Sales",
          "Sales",
          "Sales",
          "Sales",
          "Sales",
          "Sales",
          "Sales",
          "Sales",
          "Sales",
          "Sales",
          "Sales",
          "Sales",
          "Sales",
          "Sales",
          "Sales",
          "Sales",
          "Sales",
          "Sales",
          "Sales",
          "Sales",
          "Sales",
          "Hospitality & Tourism",
          "Hospitality & Tourism",
          "Hospitality & Tourism",
          "Hospitality & Tourism",
          "Hospitality & Tourism",
          "Hospitality & Tourism",
          "Hospitality & Tourism",
          "Hospitality & Tourism",
          "Hospitality & Tourism",
          "Hospitality & Tourism",
          "Hospitality & Tourism",
          "Hospitality & Tourism",
          "Hospitality & Tourism",
          "Hospitality & Tourism",
          "Hospitality & Tourism",
          "Hospitality & Tourism",
          "Hospitality & Tourism",
          "Hospitality & Tourism",
          "Hospitality & Tourism",
          "Hospitality & Tourism",
          "Design",
          "Design",
          "Design",
          "Design",
          "Design",
          "Design",
          "Design",
          "Design",
          "Design",
          "Real Estate",
          "Real Estate",
          "Real Estate",
          "Real Estate",
          "Real Estate",
          "Real Estate",
          "Real Estate",
          "Real Estate",
          "Real Estate",
          "Fitness, Nutrition & Wellness",
          "Fitness, Nutrition & Wellness",
          "Fitness, Nutrition & Wellness",
          "Project Management",
          "Project Management",
          "Project Management",
          "Project Management",
          "Project Management",
          "Project Management",
          "Project Management",
          "Project Management",
          "Project Management",
          "Project Management",
          "Project Management",
          "Project Management",
          "Project Management",
          "Project Management",
          "Project Management",
          "Project Management",
          "Project Management",
          "Project Management",
          "Project Management",
          "Project Management",
          "Project Management",
          "Project Management",
          "Project Management",
          "Project Management",
          "Education & Learning",
          "Education & Learning",
          "Education & Learning",
          "Education & Learning",
          "Education & Learning",
          "Education & Learning",
          "Education & Learning",
          "Education & Learning",
          "Education & Learning",
          "Education & Learning",
          "Education & Learning",
          "Education & Learning",
          "Education & Learning",
          "Education & Learning",
          "Education & Learning",
          "Education & Learning",
          "Art & Entertainment",
          "Art & Entertainment",
          "Art & Entertainment",
          "Art & Entertainment",
          "Art & Entertainment",
          "Art & Entertainment",
          "Art & Entertainment",
          "Art & Entertainment",
          "Art & Entertainment",
          "Art & Entertainment",
          "Art & Entertainment",
          "Art & Entertainment",
          "Art & Entertainment",
          "Art & Entertainment",
          "Art & Entertainment",
          "Art & Entertainment",
          "Art & Entertainment",
          "Art & Entertainment",
          "Art & Entertainment",
          "Art & Entertainment",
          "Banking, Finance & Insurance",
          "Banking, Finance & Insurance",
          "Banking, Finance & Insurance",
          "Banking, Finance & Insurance",
          "Banking, Finance & Insurance",
          "Banking, Finance & Insurance",
          "Banking, Finance & Insurance",
          "Banking, Finance & Insurance",
          "Banking, Finance & Insurance",
          "Banking, Finance & Insurance",
          "Banking, Finance & Insurance",
          "Banking, Finance & Insurance",
          "Banking, Finance & Insurance",
          "Banking, Finance & Insurance",
          "Banking, Finance & Insurance",
          "Banking, Finance & Insurance",
          "Banking, Finance & Insurance",
          "Banking, Finance & Insurance",
          "Banking, Finance & Insurance",
          "Banking, Finance & Insurance",
          "Banking, Finance & Insurance",
          "Banking, Finance & Insurance",
          "Banking, Finance & Insurance",
          "Banking, Finance & Insurance",
          "HR",
          "HR",
          "HR",
          "HR",
          "HR",
          "HR",
          "HR",
          "HR",
          "HR",
          "Operations & Logistics",
          "Operations & Logistics",
          "Operations & Logistics",
          "Operations & Logistics",
          "Operations & Logistics",
          "Operations & Logistics",
          "Operations & Logistics",
          "Operations & Logistics",
          "Operations & Logistics",
          "Operations & Logistics",
          "Operations & Logistics",
          "Operations & Logistics",
          "Operations & Logistics",
          "Operations & Logistics",
          "Operations & Logistics",
          "Operations & Logistics",
          "Operations & Logistics",
          "Operations & Logistics",
          "Operations & Logistics",
          "Operations & Logistics",
          "Operations & Logistics",
          "Operations & Logistics",
          "Operations & Logistics",
          "Operations & Logistics",
          "Engineering",
          "Engineering",
          "Engineering",
          "Engineering",
          "Engineering",
          "Engineering",
          "Engineering",
          "Engineering",
          "Engineering",
          "Engineering",
          "Engineering",
          "Engineering",
          "Engineering",
          "Engineering",
          "Engineering",
          "Engineering",
          "Engineering",
          "Engineering",
          "Engineering",
          "Engineering",
          "Engineering",
          "Engineering",
          "Engineering",
          "IT",
          "IT",
          "IT",
          "IT",
          "IT",
          "IT",
          "IT",
          "IT",
          "IT",
          "IT",
          "IT",
          "IT",
          "IT",
          "IT",
          "IT",
          "IT",
          "IT",
          "IT",
          "IT",
          "IT",
          "IT",
          "IT",
          "IT",
          "IT",
          "IT",
          "IT",
          "IT",
          "IT",
          "IT",
          "IT",
          "Project Management",
          "Project Management",
          "Project Management",
          "Project Management",
          "Project Management",
          "Project Management",
          "Project Management",
          "Project Management",
          "Project Management",
          "Project Management",
          "Project Management",
          "Project Management",
          "Consulting",
          "Consulting",
          "Consulting",
          "Consulting",
          "Consulting",
          "Consulting",
          "Consulting",
          "Consulting",
          "Consulting",
          "Consulting",
          "Consulting",
          "Consulting",
          "Consulting",
          "Consulting",
          "Consulting",
          "Consulting",
          "Consulting",
          "Consulting",
          "Consulting",
          "Consulting",
          "Consulting",
          "Consulting",
          "Consulting",
          "Consulting",
          "Consulting",
          "Consulting",
          "Consulting",
          "Medicine & Pharmacy",
          "Medicine & Pharmacy",
          "Medicine & Pharmacy",
          "Medicine & Pharmacy",
          "Medicine & Pharmacy",
          "Medicine & Pharmacy",
          "Medicine & Pharmacy",
          "Entrepreneurship",
          "Entrepreneurship",
          "Entrepreneurship",
          "Entrepreneurship",
          "Entrepreneurship",
          "Entrepreneurship",
          "Entrepreneurship",
          "Entrepreneurship",
          "Crypto, NFT & Blockchain",
          "Crypto, NFT & Blockchain",
          "Crypto, NFT & Blockchain",
          "Crypto, NFT & Blockchain",
          "Crypto, NFT & Blockchain",
          "Crypto, NFT & Blockchain",
          "Crypto, NFT & Blockchain",
          "Mental Health",
          "Mental Health",
          "Mental Health",
          "Mental Health",
          "Mental Health",
          "Mental Health",
          "Mental Health",
          "Mental Health",
          "Mental Health",
          "Advertising, Media & Film",
          "Advertising, Media & Film",
          "Advertising, Media & Film",
          "Advertising, Media & Film",
          "Advertising, Media & Film",
          "Advertising, Media & Film",
          "Advertising, Media & Film",
          "Advertising, Media & Film",
          "Advertising, Media & Film",
          "Advertising, Media & Film",
          "Advertising, Media & Film",
          "Advertising, Media & Film",
          "Advertising, Media & Film",
          "Advertising, Media & Film",
          "Advertising, Media & Film",
          "Advertising, Media & Film",
          "Advertising, Media & Film",
          "Advertising, Media & Film",
          "Banking, Finance & Insurance",
          "Banking, Finance & Insurance",
          "Banking, Finance & Insurance",
          "Banking, Finance & Insurance",
          "Banking, Finance & Insurance",
          "Banking, Finance & Insurance",
          "Banking, Finance & Insurance",
          "Banking, Finance & Insurance",
          "Banking, Finance & Insurance",
          "Banking, Finance & Insurance",
          "Banking, Finance & Insurance",
          "Engineering",
          "Engineering",
          "Engineering",
          "Engineering",
          "Engineering",
          "Engineering",
          "Engineering",
          "Engineering",
          "Engineering",
          "Engineering",
          "Engineering",
          "Engineering",
          "Engineering",
          "Engineering",
          "Engineering",
          "Engineering",
          "Engineering",
          "Engineering",
          "Engineering",
          "Engineering",
          "Architecture",
          "Architecture",
          "Architecture",
          "Architecture",
          "Architecture",
          "Architecture",
          "Architecture",
          "Architecture",
          "Architecture",
          "Project Management",
          "Project Management",
          "Project Management",
          "Project Management",
          "Project Management",
          "Project Management",
          "Project Management",
          "Project Management",
          "Project Management",
          "Project Management",
          "Project Management",
          "Project Management",
          "Project Management",
          "Project Management",
          "Project Management",
          "Project Management",
          "Project Management",
          "Project Management",
          "Project Management",
          "Project Management",
          "Project Management",
          "IT",
          "IT",
          "IT",
          "IT",
          "IT",
          "IT",
          "IT",
          "IT",
          "IT",
          "IT",
          "IT",
          "IT",
          "IT",
          "IT",
          "IT",
          "IT",
          "IT",
          "IT",
          "IT",
          "Fashion",
          "Fashion",
          "Fashion",
          "Fashion",
          "Marketing",
          "Marketing",
          "Marketing",
          "Marketing",
          "Marketing",
          "Marketing",
          "Marketing",
          "Marketing",
          "Marketing",
          "Marketing",
          "Marketing",
          "Marketing",
          "Marketing",
          "Marketing",
          "Marketing",
          "Marketing",
          "Retail",
          "Retail",
          "Retail",
          "Retail",
          "Retail",
          "Operations & Logistics",
          "Operations & Logistics",
          "Operations & Logistics",
          "Operations & Logistics",
          "Operations & Logistics",
          "HR",
          "HR",
          "HR",
          "HR",
          "HR",
          "HR",
          "HR",
          "HR",
          "HR",
          "HR",
          "HR",
          "HR",
          "HR",
          "HR",
          "HR",
          "HR",
          "HR",
          "HR",
          "HR",
          "HR",
          "HR",
          "HR",
          "HR",
          "HR",
          "HR",
          "Entrepreneurship",
          "Entrepreneurship",
          "Entrepreneurship",
          "Entrepreneurship",
          "Entrepreneurship",
          "Entrepreneurship",
          "Entrepreneurship",
          "Entrepreneurship",
          "Entrepreneurship",
          "Entrepreneurship",
          "Entrepreneurship",
          "Entrepreneurship",
          "Entrepreneurship",
          "Entrepreneurship",
          "Entrepreneurship",
          "Fitness, Nutrition & Wellness",
          "Fitness, Nutrition & Wellness",
          "Fitness, Nutrition & Wellness",
          "Fitness, Nutrition & Wellness",
          "IT",
          "IT",
          "IT",
          "IT",
          "IT",
          "IT",
          "IT",
          "IT",
          "IT",
          "IT",
          "IT",
          "IT",
          "IT",
          "IT",
          "IT",
          "IT",
          "IT",
          "IT",
          "IT",
          "Construction & Trades",
          "Construction & Trades",
          "Construction & Trades",
          "Construction & Trades",
          "Construction & Trades",
          "Construction & Trades",
          "Construction & Trades",
          "Design",
          "Design",
          "Design",
          "Design",
          "Design",
          "Design",
          "Design",
          "Design",
          "Design",
          "Design",
          "Design",
          "Design",
          "Design",
          "Marketing",
          "Marketing",
          "Marketing",
          "Marketing",
          "Marketing",
          "Marketing",
          "Marketing",
          "Marketing",
          "Marketing",
          "Marketing",
          "Marketing",
          "Marketing",
          "Marketing",
          "Marketing",
          "Marketing",
          "Marketing",
          "Marketing",
          "Marketing",
          "Marketing",
          "Marketing",
          "Marketing",
          "Marketing",
          "Marketing",
          "Marketing",
          "Art & Entertainment",
          "Art & Entertainment",
          "Art & Entertainment",
          "Art & Entertainment",
          "Marketing",
          "Marketing",
          "Marketing",
          "Marketing",
          "Marketing",
          "Marketing",
          "Marketing",
          "Marketing",
          "Marketing",
          "Marketing",
          "Marketing",
          "Marketing",
          "Marketing",
          "Marketing",
          "Marketing",
          "Marketing",
          "Banking, Finance & Insurance",
          "Banking, Finance & Insurance",
          "Banking, Finance & Insurance",
          "Banking, Finance & Insurance",
          "Banking, Finance & Insurance",
          "Banking, Finance & Insurance",
          "Banking, Finance & Insurance",
          "Banking, Finance & Insurance",
          "Banking, Finance & Insurance",
          "Banking, Finance & Insurance",
          "Banking, Finance & Insurance",
          "Banking, Finance & Insurance",
          "Banking, Finance & Insurance",
          "Banking, Finance & Insurance",
          "Banking, Finance & Insurance",
          "Banking, Finance & Insurance",
          "Banking, Finance & Insurance",
          "Banking, Finance & Insurance",
          "Banking, Finance & Insurance",
          "Banking, Finance & Insurance",
          "Banking, Finance & Insurance",
          "Banking, Finance & Insurance",
          "Banking, Finance & Insurance",
          "Banking, Finance & Insurance",
          "Banking, Finance & Insurance",
          "Banking, Finance & Insurance",
          "Banking, Finance & Insurance",
          "Banking, Finance & Insurance",
          "Banking, Finance & Insurance",
          "Banking, Finance & Insurance",
          "Banking, Finance & Insurance",
          "Banking, Finance & Insurance",
          "Banking, Finance & Insurance",
          "Banking, Finance & Insurance",
          "Banking, Finance & Insurance",
          "Banking, Finance & Insurance",
          "Banking, Finance & Insurance",
          "Banking, Finance & Insurance",
          "Banking, Finance & Insurance",
          "HR",
          "HR",
          "HR",
          "HR",
          "HR",
          "HR",
          "HR",
          "HR",
          "HR",
          "HR",
          "HR",
          "HR",
          "HR",
          "HR",
          "HR",
          "HR",
          "HR",
          "HR",
          "HR",
          "HR",
          "HR",
          "HR",
          "HR",
          "HR",
          "HR",
          "HR",
          "HR",
          "HR",
          "HR",
          "HR",
          "Marketing",
          "Marketing",
          "Marketing",
          "Marketing",
          "Marketing",
          "Marketing",
          "Marketing",
          "Marketing",
          "Marketing",
          "Marketing",
          "Marketing",
          "Marketing",
          "Marketing",
          "Marketing",
          "Marketing",
          "Marketing",
          "Marketing",
          "Marketing",
          "Marketing",
          "Marketing",
          "Marketing",
          "Marketing",
          "Marketing",
          "Marketing",
          "Marketing",
          "Marketing",
          "Marketing",
          "Marketing",
          "Marketing",
          "Marketing",
          "Marketing",
          "Marketing",
          "Marketing",
          "Marketing",
          "Marketing",
          "Marketing",
          "Marketing",
          "Marketing",
          "Engineering",
          "Engineering",
          "Engineering",
          "Engineering",
          "Engineering",
          "Engineering",
          "Engineering",
          "Engineering",
          "Engineering",
          "Engineering",
          "Engineering",
          "Engineering",
          "Engineering",
          "Engineering",
          "Engineering",
          "Engineering",
          "Engineering",
          "Engineering",
          "Engineering",
          "Engineering",
          "Engineering",
          "Engineering",
          "Engineering",
          "Engineering",
          "Engineering",
          "Engineering",
          "Engineering",
          "Engineering",
          "Engineering",
          "Engineering",
          "Engineering",
          "Engineering",
          "Engineering",
          "Construction & Trades",
          "Construction & Trades",
          "Construction & Trades",
          "Construction & Trades",
          "Construction & Trades",
          "Construction & Trades",
          "Construction & Trades",
          "Construction & Trades",
          "Construction & Trades",
          "Construction & Trades",
          "Construction & Trades",
          "Construction & Trades",
          "Construction & Trades",
          "Construction & Trades",
          "Construction & Trades",
          "Construction & Trades",
          "Construction & Trades",
          "Construction & Trades",
          "Construction & Trades",
          "Construction & Trades",
          "Construction & Trades",
          "Construction & Trades",
          "Construction & Trades",
          "Construction & Trades",
          "Construction & Trades",
          "Construction & Trades",
          "Construction & Trades",
          "Construction & Trades",
          "Construction & Trades",
          "Construction & Trades",
          "Project Management",
          "Project Management",
          "Project Management",
          "Project Management",
          "Project Management",
          "Project Management",
          "Project Management",
          "Project Management",
          "Project Management",
          "Project Management",
          "Project Management",
          "Project Management",
          "Project Management",
          "Project Management",
          "Project Management",
          "Project Management",
          "Project Management",
          "Project Management",
          "Project Management",
          "Project Management",
          "Project Management",
          "Project Management",
          "Project Management",
          "Project Management",
          "Project Management",
          "Project Management",
          "Project Management",
          "Project Management",
          "Project Management",
          "Project Management",
          "Project Management",
          "Moms",
          "Moms",
          "Moms",
          "Moms",
          "Moms",
          "Moms",
          "Moms",
          "Moms",
          "Moms",
          "Moms",
          "Moms",
          "Moms",
          "Moms",
          "Moms",
          "IT",
          "IT",
          "IT",
          "IT",
          "IT",
          "IT",
          "IT",
          "IT",
          "IT",
          "IT",
          "IT",
          "IT",
          "IT",
          "IT",
          "IT",
          "IT",
          "IT",
          "IT",
          "IT",
          "IT",
          "IT",
          "IT",
          "IT",
          "IT",
          "IT",
          "IT",
          "IT",
          "IT",
          "IT",
          "IT",
          "IT",
          "IT",
          "IT",
          "IT",
          "IT",
          "Accounting",
          "Accounting",
          "Accounting",
          "Accounting",
          "Accounting",
          "Accounting",
          "Accounting",
          "Accounting",
          "Accounting",
          "Accounting",
          "Accounting",
          "Accounting",
          "Accounting",
          "Accounting",
          "Accounting",
          "Accounting",
          "Accounting",
          "Accounting",
          "Accounting",
          "Accounting",
          "Accounting",
          "Accounting",
          "Engineering",
          "Engineering",
          "Engineering",
          "Engineering",
          "Engineering",
          "Engineering",
          "Engineering",
          "Engineering",
          "Engineering",
          "Engineering",
          "Engineering",
          "Engineering",
          "Engineering",
          "Engineering",
          "Engineering",
          "Engineering",
          "Engineering",
          "Engineering",
          "Engineering",
          "Engineering",
          "Engineering",
          "Engineering",
          "Engineering",
          "Engineering",
          "Engineering",
          "Engineering",
          "Engineering",
          "Engineering",
          "Engineering",
          "Engineering",
          "Engineering",
          "Engineering",
          "Engineering",
          "Social Work & Mental Health",
          "Social Work & Mental Health",
          "Social Work & Mental Health",
          "Social Work & Mental Health",
          "Social Work & Mental Health",
          "Social Work & Mental Health",
          "Social Work & Mental Health",
          "Social Work & Mental Health",
          "Social Work & Mental Health",
          "Social Work & Mental Health",
          "Social Work & Mental Health",
          "Social Work & Mental Health",
          "Social Work & Mental Health",
          "Social Work & Mental Health",
          "Social Work & Mental Health",
          "Social Work & Mental Health",
          "Social Work & Mental Health",
          "Social Work & Mental Health",
          "Social Work & Mental Health",
          "Social Work & Mental Health",
          "Social Work & Mental Health",
          "Social Work & Mental Health",
          "Social Work & Mental Health",
          "Social Work & Mental Health",
          "Social Work & Mental Health",
          "Social Work & Mental Health",
          "Social Work & Mental Health",
          "Social Work & Mental Health",
          "Social Work & Mental Health",
          "Social Work & Mental Health",
          "Social Work & Mental Health",
          "Retail",
          "Retail",
          "Retail",
          "Retail",
          "Retail",
          "Retail",
          "Retail",
          "Retail",
          "Retail",
          "Retail",
          "Retail",
          "Retail",
          "Retail",
          "Retail",
          "IT",
          "IT",
          "IT",
          "IT",
          "IT",
          "IT",
          "IT",
          "IT",
          "IT",
          "IT",
          "IT",
          "IT",
          "IT",
          "IT",
          "IT",
          "IT",
          "IT",
          "IT",
          "IT",
          "IT",
          "IT",
          "IT",
          "IT",
          "IT",
          "IT",
          "IT",
          "IT",
          "IT",
          "IT",
          "IT",
          "IT",
          "IT",
          "Operations & Logistics",
          "Operations & Logistics",
          "Operations & Logistics",
          "Operations & Logistics",
          "Operations & Logistics",
          "Operations & Logistics",
          "Operations & Logistics",
          "Operations & Logistics",
          "Operations & Logistics",
          "Operations & Logistics",
          "Operations & Logistics",
          "Operations & Logistics",
          "Operations & Logistics",
          "Operations & Logistics",
          "Operations & Logistics",
          "Operations & Logistics",
          "Operations & Logistics",
          "Operations & Logistics",
          "Operations & Logistics",
          "Operations & Logistics",
          "Operations & Logistics",
          "Operations & Logistics",
          "Operations & Logistics",
          "Operations & Logistics",
          "Operations & Logistics",
          "Operations & Logistics",
          "Operations & Logistics",
          "Operations & Logistics",
          "Operations & Logistics",
          "Operations & Logistics",
          "Operations & Logistics",
          "Operations & Logistics",
          "Advertising, Media & Film",
          "Advertising, Media & Film",
          "Advertising, Media & Film",
          "Advertising, Media & Film",
          "Advertising, Media & Film",
          "Advertising, Media & Film",
          "Advertising, Media & Film",
          "Advertising, Media & Film",
          "Advertising, Media & Film",
          "Advertising, Media & Film",
          "Advertising, Media & Film",
          "Advertising, Media & Film",
          "Advertising, Media & Film",
          "Advertising, Media & Film",
          "Advertising, Media & Film",
          "Advertising, Media & Film",
          "Advertising, Media & Film",
          "Advertising, Media & Film",
          "Advertising, Media & Film",
          "Advertising, Media & Film",
          "Advertising, Media & Film",
          "Advertising, Media & Film",
          "Advertising, Media & Film",
          "Advertising, Media & Film",
          "Advertising, Media & Film",
          "Advertising, Media & Film",
          "Education & Learning",
          "Education & Learning",
          "Education & Learning",
          "Education & Learning",
          "Education & Learning",
          "Education & Learning",
          "Education & Learning",
          "Education & Learning",
          "Education & Learning",
          "Education & Learning",
          "Education & Learning",
          "Education & Learning",
          "Education & Learning",
          "Education & Learning",
          "Education & Learning",
          "Education & Learning",
          "Education & Learning",
          "Marketing",
          "Marketing",
          "Marketing",
          "Marketing",
          "Marketing",
          "Marketing",
          "Marketing",
          "Marketing",
          "Marketing",
          "Marketing",
          "Marketing",
          "Marketing",
          "Marketing",
          "Marketing",
          "Marketing",
          "Marketing",
          "Marketing",
          "Marketing",
          "Marketing",
          "Marketing",
          "Marketing",
          "Marketing",
          "Marketing",
          "Marketing",
          "Marketing",
          "Marketing",
          "Marketing",
          "Marketing",
          "Marketing",
          "Marketing",
          "Marketing",
          "HR",
          "HR",
          "HR",
          "HR",
          "HR",
          "HR",
          "HR",
          "HR",
          "HR",
          "HR",
          "HR",
          "HR",
          "HR",
          "HR",
          "HR",
          "HR",
          "HR",
          "HR",
          "HR",
          "HR",
          "HR",
          "HR",
          "HR",
          "HR",
          "HR",
          "HR",
          "HR",
          "HR",
          "HR",
          "HR",
          "HR",
          "HR",
          "HR",
          "HR",
          "HR",
          "HR",
          "HR",
          "HR",
          "HR",
          "HR",
          "Volunteer Training",
          "Volunteer Training",
          "Volunteer Training",
          "Volunteer Training",
          "Volunteer Training",
          "Volunteer Training",
          "Volunteer Training",
          "Volunteer Training",
          "Volunteer Training",
          "Volunteer Training",
          "Volunteer Training",
          "Volunteer Training",
          "Volunteer Training",
          "Volunteer Training",
          "Volunteer Training",
          "Volunteer Training",
          "Volunteer Training",
          "Volunteer Training",
          "Volunteer Training",
          "Volunteer Training",
          "Volunteer Training",
          "Volunteer Training",
          "Volunteer Training",
          "Volunteer Training",
          "Volunteer Training",
          "Volunteer Training",
          "Volunteer Training",
          "Volunteer Training",
          "Volunteer Training",
          "Volunteer Training",
          "Volunteer Training",
          "Banking, Finance & Insurance",
          "Banking, Finance & Insurance",
          "Banking, Finance & Insurance",
          "Banking, Finance & Insurance",
          "Banking, Finance & Insurance",
          "Banking, Finance & Insurance",
          "Banking, Finance & Insurance",
          "Banking, Finance & Insurance",
          "Banking, Finance & Insurance",
          "Banking, Finance & Insurance",
          "Banking, Finance & Insurance",
          "Banking, Finance & Insurance",
          "Banking, Finance & Insurance",
          "Banking, Finance & Insurance",
          "Banking, Finance & Insurance",
          "Banking, Finance & Insurance",
          "Banking, Finance & Insurance",
          "Banking, Finance & Insurance",
          "Banking, Finance & Insurance",
          "Banking, Finance & Insurance",
          "Banking, Finance & Insurance",
          "Banking, Finance & Insurance",
          "Banking, Finance & Insurance",
          "Banking, Finance & Insurance",
          "Banking, Finance & Insurance",
          "Banking, Finance & Insurance",
          "Banking, Finance & Insurance",
          "Banking, Finance & Insurance",
          "Banking, Finance & Insurance",
          "Banking, Finance & Insurance",
          "Banking, Finance & Insurance",
          "Banking, Finance & Insurance",
          "Banking, Finance & Insurance",
          "Banking, Finance & Insurance",
          "Banking, Finance & Insurance",
          "Banking, Finance & Insurance",
          "Banking, Finance & Insurance",
          "Banking, Finance & Insurance",
          "Banking, Finance & Insurance",
          "Banking, Finance & Insurance",
          "Banking, Finance & Insurance",
          "Banking, Finance & Insurance",
          "Banking, Finance & Insurance",
          "Banking, Finance & Insurance",
          "Banking, Finance & Insurance",
          "Banking, Finance & Insurance",
          "Banking, Finance & Insurance",
          "Banking, Finance & Insurance",
          "Banking, Finance & Insurance",
          "Banking, Finance & Insurance",
          "Banking, Finance & Insurance",
          "Banking, Finance & Insurance",
          "Banking, Finance & Insurance",
          "Banking, Finance & Insurance",
          "Banking, Finance & Insurance",
          "Banking, Finance & Insurance",
          "Banking, Finance & Insurance",
          "Banking, Finance & Insurance",
          "Banking, Finance & Insurance",
          "Banking, Finance & Insurance",
          "Banking, Finance & Insurance",
          "Banking, Finance & Insurance",
          "Banking, Finance & Insurance",
          "Banking, Finance & Insurance",
          "Banking, Finance & Insurance",
          "IT",
          "IT",
          "IT",
          "IT",
          "IT",
          "IT",
          "IT",
          "IT",
          "IT",
          "IT",
          "IT",
          "IT",
          "IT",
          "IT",
          "IT",
          "IT",
          "IT",
          "IT",
          "IT",
          "IT",
          "IT",
          "IT",
          "IT",
          "IT",
          "IT",
          "IT",
          "IT",
          "IT",
          "IT",
          "IT",
          "IT",
          "IT",
          "IT",
          "IT",
          "IT",
          "IT",
          "IT",
          "IT",
          "IT",
          "IT",
          "IT",
          "IT",
          "IT",
          "IT",
          "IT",
          "IT",
          "IT",
          "IT",
          "IT",
          "IT",
          "IT",
          "IT",
          "IT",
          "IT",
          "IT",
          "IT",
          "IT",
          "IT",
          "IT",
          "IT",
          "IT",
          "Marketing",
          "Marketing",
          "Marketing",
          "Marketing",
          "Marketing",
          "Marketing",
          "Marketing",
          "Marketing",
          "Marketing",
          "Marketing",
          "Marketing",
          "Marketing",
          "HR",
          "HR",
          "HR",
          "HR",
          "HR",
          "HR",
          "HR",
          "HR",
          "HR",
          "HR",
          "HR",
          "HR",
          "HR",
          "HR",
          "HR",
          "HR",
          "HR",
          "HR",
          "HR",
          "HR",
          "HR",
          "HR",
          "HR",
          "HR",
          "HR",
          "HR",
          "HR",
          "HR",
          "HR",
          "HR",
          "HR",
          "HR",
          "HR",
          "HR",
          "HR",
          "HR",
          "HR",
          "HR",
          "HR",
          "HR",
          "HR",
          "HR",
          "HR",
          "HR",
          "HR",
          "HR",
          "HR",
          "HR",
          "HR",
          "HR",
          "HR",
          "HR",
          "HR",
          "Project Management",
          "Project Management",
          "Project Management",
          "Project Management",
          "Project Management",
          "Project Management",
          "Project Management",
          "Project Management",
          "Project Management",
          "Project Management",
          "Project Management",
          "Project Management",
          "Project Management",
          "Project Management",
          "Project Management",
          "Project Management",
          "Project Management",
          "Project Management",
          "Project Management",
          "Project Management",
          "Project Management",
          "Project Management",
          "Project Management",
          "Project Management",
          "Project Management",
          "Project Management",
          "Project Management",
          "Project Management",
          "Project Management",
          "Project Management",
          "Project Management",
          "Project Management",
          "Project Management",
          "Project Management",
          "Project Management",
          "Project Management",
          "Project Management",
          "Project Management",
          "Project Management",
          "Project Management",
          "Project Management",
          "Project Management",
          "Project Management",
          "Project Management",
          "Project Management",
          "Project Management",
          "Project Management",
          "Project Management",
          "Project Management",
          "Project Management",
          "Project Management",
          "Project Management",
          "Project Management",
          "Project Management",
          "Project Management",
          "Project Management",
          "Project Management",
          "Project Management",
          "Project Management",
          "Project Management",
          "Project Management",
          "IT",
          "IT",
          "IT",
          "IT",
          "IT",
          "IT",
          "IT",
          "IT",
          "Advertising, Media & Film",
          "Advertising, Media & Film",
          "Advertising, Media & Film",
          "Advertising, Media & Film",
          "Advertising, Media & Film",
          "Advertising, Media & Film",
          "Advertising, Media & Film",
          "Advertising, Media & Film",
          "Advertising, Media & Film",
          "Advertising, Media & Film",
          "Advertising, Media & Film",
          "Advertising, Media & Film",
          "Advertising, Media & Film",
          "Advertising, Media & Film",
          "Advertising, Media & Film",
          "Advertising, Media & Film",
          "Advertising, Media & Film",
          "Advertising, Media & Film",
          "Advertising, Media & Film",
          "Advertising, Media & Film",
          "Advertising, Media & Film",
          "Advertising, Media & Film",
          "Advertising, Media & Film",
          "Advertising, Media & Film",
          "Advertising, Media & Film",
          "Advertising, Media & Film",
          "Advertising, Media & Film",
          "Advertising, Media & Film",
          "Advertising, Media & Film",
          "Advertising, Media & Film",
          "Advertising, Media & Film",
          "Advertising, Media & Film",
          "Advertising, Media & Film",
          "Advertising, Media & Film",
          "Advertising, Media & Film",
          "Advertising, Media & Film",
          "Advertising, Media & Film",
          "Advertising, Media & Film",
          "Advertising, Media & Film",
          "Advertising, Media & Film",
          "Advertising, Media & Film",
          "Advertising, Media & Film",
          "Advertising, Media & Film",
          "Advertising, Media & Film",
          "Engineering",
          "Engineering",
          "Engineering",
          "Engineering",
          "Engineering",
          "Engineering",
          "Engineering",
          "Engineering",
          "Engineering",
          "Engineering",
          "Engineering",
          "Engineering",
          "Engineering",
          "Engineering",
          "Engineering",
          "Engineering",
          "Engineering",
          "Engineering",
          "Engineering",
          "Engineering",
          "Engineering",
          "Engineering",
          "Engineering",
          "Engineering",
          "Engineering",
          "Engineering",
          "Engineering",
          "Engineering",
          "Engineering",
          "Engineering",
          "Engineering",
          "Engineering",
          "Engineering",
          "Engineering",
          "Engineering",
          "Engineering",
          "Engineering",
          "Engineering",
          "Engineering",
          "Engineering",
          "Engineering",
          "Engineering",
          "Engineering",
          "Engineering",
          "Engineering",
          "Engineering",
          "Engineering",
          "Engineering",
          "Engineering",
          "Engineering",
          "Engineering",
          "Engineering",
          "Engineering",
          "Engineering",
          "Engineering",
          "Engineering",
          "Engineering",
          "Engineering",
          "Engineering",
          "Engineering",
          "Engineering",
          "Project Management",
          "Project Management",
          "Project Management",
          "Project Management",
          "Project Management",
          "Project Management",
          "Project Management",
          "Project Management",
          "Project Management",
          "Marketing",
          "Marketing",
          "Marketing",
          "Marketing",
          "Marketing",
          "Marketing",
          "Marketing",
          "Marketing",
          "Marketing",
          "Marketing",
          "Marketing",
          "Marketing",
          "Marketing",
          "Marketing",
          "Marketing",
          "Marketing",
          "Marketing",
          "Marketing",
          "Marketing",
          "Marketing",
          "Marketing",
          "Marketing",
          "Marketing",
          "Marketing",
          "Marketing",
          "Marketing",
          "Marketing",
          "Marketing",
          "Marketing",
          "Marketing",
          "Marketing",
          "Marketing",
          "Marketing",
          "Marketing",
          "Marketing",
          "Marketing",
          "Marketing",
          "Marketing",
          "Marketing",
          "Marketing",
          "Marketing",
          "Marketing",
          "Marketing",
          "Marketing",
          "Marketing",
          "Marketing",
          "Marketing",
          "Marketing",
          "Marketing",
          "Marketing",
          "Marketing",
          "Marketing",
          "Marketing",
          "Marketing",
          "Marketing",
          "Marketing",
          "Marketing",
          "Marketing",
          "Marketing",
          "Construction & Trades",
          "Construction & Trades",
          "Construction & Trades",
          "Construction & Trades",
          "Construction & Trades",
          "Construction & Trades",
          "Construction & Trades",
          "Construction & Trades",
          "Construction & Trades",
          "Construction & Trades",
          "Construction & Trades",
          "Construction & Trades",
          "Construction & Trades",
          "Construction & Trades",
          "Construction & Trades",
          "Construction & Trades",
          "Construction & Trades",
          "Construction & Trades",
          "Construction & Trades",
          "Construction & Trades",
          "Construction & Trades",
          "Construction & Trades",
          "Construction & Trades",
          "Construction & Trades",
          "Construction & Trades",
          "Construction & Trades",
          "Construction & Trades",
          "Construction & Trades",
          "Construction & Trades",
          "Construction & Trades",
          "Construction & Trades",
          "Construction & Trades",
          "Construction & Trades",
          "Construction & Trades",
          "Engineering",
          "Engineering",
          "Engineering",
          "Engineering",
          "Operations & Logistics",
          "Operations & Logistics",
          "Operations & Logistics",
          "Operations & Logistics",
          "Operations & Logistics",
          "Operations & Logistics",
          "Operations & Logistics",
          "Operations & Logistics",
          "Operations & Logistics",
          "Operations & Logistics",
          "Operations & Logistics",
          "Operations & Logistics",
          "Operations & Logistics",
          "Operations & Logistics",
          "Operations & Logistics",
          "Operations & Logistics",
          "Operations & Logistics",
          "Operations & Logistics",
          "Operations & Logistics",
          "Operations & Logistics",
          "Operations & Logistics",
          "Operations & Logistics",
          "Operations & Logistics",
          "Operations & Logistics",
          "Operations & Logistics",
          "Operations & Logistics",
          "Operations & Logistics",
          "Operations & Logistics",
          "Operations & Logistics",
          "Operations & Logistics",
          "Operations & Logistics",
          "Operations & Logistics",
          "Operations & Logistics",
          "Operations & Logistics",
          "Operations & Logistics",
          "Operations & Logistics",
          "Architecture",
          "Architecture",
          "Architecture",
          "Architecture",
          "Architecture",
          "Architecture",
          "Architecture",
          "Architecture",
          "Architecture",
          "Architecture",
          "Architecture",
          "Architecture",
          "Architecture",
          "Architecture",
          "Architecture",
          "Architecture",
          "Architecture",
          "Architecture",
          "Architecture",
          "Architecture",
          "Architecture",
          "Architecture",
          "Architecture",
          "Architecture",
          "Architecture",
          "Architecture",
          "Construction & Trades",
          "Construction & Trades",
          "Construction & Trades",
          "Construction & Trades",
          "Construction & Trades",
          "Construction & Trades",
          "Construction & Trades",
          "Executive & Adm Assistants",
          "Executive & Adm Assistants",
          "Executive & Adm Assistants",
          "Executive & Adm Assistants",
          "Executive & Adm Assistants",
          "Executive & Adm Assistants",
          "Executive & Adm Assistants",
          "Executive & Adm Assistants",
          "Executive & Adm Assistants",
          "Executive & Adm Assistants",
          "Executive & Adm Assistants",
          "Executive & Adm Assistants",
          "Executive & Adm Assistants",
          "Executive & Adm Assistants",
          "Executive & Adm Assistants",
          "Executive & Adm Assistants",
          "Executive & Adm Assistants",
          "Executive & Adm Assistants",
          "Executive & Adm Assistants",
          "Executive & Adm Assistants",
          "Executive & Adm Assistants",
          "Executive & Adm Assistants",
          "Executive & Adm Assistants",
          "Executive & Adm Assistants",
          "Executive & Adm Assistants",
          "Executive & Adm Assistants",
          "Executive & Adm Assistants",
          "Executive & Adm Assistants",
          "Executive & Adm Assistants",
          "Executive & Adm Assistants",
          "Executive & Adm Assistants",
          "Executive & Adm Assistants",
          "Executive & Adm Assistants",
          "Executive & Adm Assistants",
          "Executive & Adm Assistants",
          "Executive & Adm Assistants",
          "Executive & Adm Assistants",
          "Executive & Adm Assistants",
          "Executive & Adm Assistants",
          "Executive & Adm Assistants",
          "Executive & Adm Assistants",
          "Executive & Adm Assistants",
          "Executive & Adm Assistants",
          "Executive & Adm Assistants",
          "Data Analysis",
          "Data Analysis",
          "Data Analysis",
          "Data Analysis",
          "Data Analysis",
          "Data Analysis",
          "Data Analysis",
          "Data Analysis",
          "Data Analysis",
          "Data Analysis",
          "Data Analysis",
          "Data Analysis",
          "Data Analysis",
          "Data Analysis",
          "Data Analysis",
          "Data Analysis",
          "Data Analysis",
          "Data Analysis",
          "Data Analysis",
          "Data Analysis",
          "Data Analysis",
          "Data Analysis",
          "Data Analysis",
          "Data Analysis",
          "Data Analysis",
          "Data Analysis",
          "Data Analysis",
          "Data Analysis",
          "Data Analysis",
          "Data Analysis",
          "Data Analysis",
          "Data Analysis",
          "Data Analysis",
          "Data Analysis",
          "Data Analysis",
          "Data Analysis",
          "Data Analysis",
          "Data Analysis",
          "Data Analysis",
          "Data Analysis",
          "Data Analysis",
          "Data Analysis",
          "Data Analysis",
          "Data Analysis",
          "Data Analysis",
          "Data Analysis",
          "Data Analysis",
          "Data Analysis",
          "Data Analysis",
          "Data Analysis",
          "Data Analysis",
          "Data Analysis",
          "Data Analysis",
          "Data Analysis",
          "Data Analysis",
          "Data Analysis",
          "Data Analysis",
          "Data Analysis",
          "Data Analysis",
          "Operations & Logistics",
          "Operations & Logistics",
          "Education",
          "Education",
          "Education",
          "Education",
          "Education",
          "Education",
          "Education",
          "Education",
          "Education",
          "Education",
          "Education",
          "Education",
          "Education",
          "Education",
          "Education",
          "Education",
          "Education",
          "Education",
          "Education",
          "Art & Entertainment",
          "Art & Entertainment",
          "Art & Entertainment",
          "Art & Entertainment",
          "Art & Entertainment",
          "Art & Entertainment",
          "Art & Entertainment",
          "Art & Entertainment",
          "Art & Entertainment",
          "Art & Entertainment",
          "Art & Entertainment",
          "Art & Entertainment",
          "Art & Entertainment",
          "Art & Entertainment",
          "Art & Entertainment",
          "Art & Entertainment",
          "Art & Entertainment",
          "Art & Entertainment",
          "Banking, Finance & Insurance",
          "Banking, Finance & Insurance",
          "Banking, Finance & Insurance",
          "Banking, Finance & Insurance",
          "Banking, Finance & Insurance",
          "Banking, Finance & Insurance",
          "Social Work & Mental Health",
          "Social Work & Mental Health",
          "Social Work & Mental Health",
          "Social Work & Mental Health",
          "Social Work & Mental Health",
          "Social Work & Mental Health",
          "Social Work & Mental Health",
          "Social Work & Mental Health",
          "Social Work & Mental Health",
          "Social Work & Mental Health",
          "Social Work & Mental Health",
          "Social Work & Mental Health",
          "Social Work & Mental Health",
          "Social Work & Mental Health",
          "Social Work & Mental Health",
          "Social Work & Mental Health",
          "Social Work & Mental Health",
          "Social Work & Mental Health",
          "Social Work & Mental Health",
          "Social Work & Mental Health",
          "Social Work & Mental Health",
          "Social Work & Mental Health",
          "Social Work & Mental Health",
          "Social Work & Mental Health",
          "Hospitality & Tourism",
          "Hospitality & Tourism",
          "Hospitality & Tourism",
          "Hospitality & Tourism",
          "Hospitality & Tourism",
          "Hospitality & Tourism",
          "Hospitality & Tourism",
          "Hospitality & Tourism",
          "Hospitality & Tourism",
          "Hospitality & Tourism",
          "Hospitality & Tourism",
          "Hospitality & Tourism",
          "Hospitality & Tourism",
          "Hospitality & Tourism",
          "Hospitality & Tourism",
          "Hospitality & Tourism",
          "Hospitality & Tourism",
          "Design & Graphic Design",
          "Design & Graphic Design",
          "Design & Graphic Design",
          "Design & Graphic Design",
          "Design & Graphic Design",
          "Design & Graphic Design",
          "Design & Graphic Design",
          "Design & Graphic Design",
          "Design & Graphic Design",
          "Design & Graphic Design",
          "Design & Graphic Design",
          "Design & Graphic Design",
          "Design & Graphic Design",
          "Design & Graphic Design",
          "Design & Graphic Design",
          "Design & Graphic Design",
          "Design & Graphic Design",
          "Design & Graphic Design",
          "Design & Graphic Design",
          "Design & Graphic Design",
          "Design & Graphic Design",
          "Design & Graphic Design",
          "Design & Graphic Design",
          "Design & Graphic Design",
          "Design & Graphic Design",
          "Design & Graphic Design",
          "Design & Graphic Design",
          "Design & Graphic Design",
          "Design & Graphic Design",
          "Design & Graphic Design",
          "Design & Graphic Design",
          "Design & Graphic Design",
          "Entrepreneurship",
          "Entrepreneurship",
          "Entrepreneurship",
          "Entrepreneurship",
          "Entrepreneurship",
          "Entrepreneurship",
          "Entrepreneurship",
          "Entrepreneurship",
          "Entrepreneurship",
          "Entrepreneurship",
          "Entrepreneurship",
          "Entrepreneurship",
          "Entrepreneurship",
          "Entrepreneurship",
          "Entrepreneurship",
          "Entrepreneurship",
          "Entrepreneurship",
          "Entrepreneurship",
          "Entrepreneurship",
          "Entrepreneurship",
          "Entrepreneurship",
          "Fashion",
          "Fashion",
          "Fashion",
          "Fashion",
          "Fashion",
          "Fashion",
          "Fashion",
          "Fashion",
          "Fashion",
          "Fashion",
          "Fashion",
          "Legal",
          "Legal",
          "Legal",
          "Legal",
          "Legal",
          "Legal",
          "Legal",
          "Legal",
          "Legal",
          "Legal",
          "Legal",
          "Legal",
          "Legal",
          "Legal",
          "Legal",
          "Legal",
          "Legal",
          "Legal"
         ],
         "xaxis": "x",
         "yaxis": "y"
        },
        {
         "alignmentgroup": "True",
         "bingroup": "x",
         "hovertemplate": "Format=In Person<br>Industry / Event=%{x}<br>count=%{y}<extra></extra>",
         "legendgroup": "In Person",
         "marker": {
          "color": "#EF553B",
          "pattern": {
           "shape": ""
          }
         },
         "name": "In Person",
         "offsetgroup": "In Person",
         "orientation": "v",
         "showlegend": true,
         "type": "histogram",
         "x": [
          "Banking, Finance & Insurance",
          "Banking, Finance & Insurance",
          "Banking, Finance & Insurance",
          "Banking, Finance & Insurance",
          "HR",
          "Operations & Logistics",
          "Operations & Logistics",
          "Operations & Logistics",
          "Operations & Logistics",
          "Operations & Logistics",
          "Operations & Logistics",
          "Operations & Logistics",
          "Operations & Logistics",
          "Engineering",
          "Engineering",
          "Engineering",
          "Engineering",
          "Engineering",
          "Engineering",
          "Engineering",
          "Engineering",
          "Engineering",
          "Engineering",
          "Engineering",
          "IT",
          "IT",
          "IT",
          "IT",
          "IT",
          "IT",
          "IT",
          "IT",
          "IT",
          "IT",
          "IT",
          "IT",
          "IT",
          "IT",
          "Project Management",
          "Project Management",
          "Project Management",
          "Project Management",
          "Project Management",
          "Project Management",
          "Project Management",
          "Project Management",
          "Project Management",
          "Project Management",
          "Legal",
          "Legal",
          "Legal",
          "Legal",
          "Legal",
          "Legal",
          "Legal",
          "Legal",
          "Consulting",
          "Consulting",
          "Consulting",
          "Consulting",
          "Consulting",
          "Consulting",
          "Consulting",
          "Consulting",
          "Consulting",
          "Consulting",
          "Consulting",
          "Consulting",
          "Consulting",
          "Consulting",
          "Consulting",
          "Consulting",
          "Entrepreneurship",
          "Entrepreneurship",
          "Entrepreneurship",
          "Entrepreneurship",
          "Entrepreneurship",
          "Entrepreneurship",
          "Entrepreneurship",
          "Entrepreneurship",
          "Entrepreneurship",
          "Entrepreneurship",
          "Crypto, NFT & Blockchain",
          "Crypto, NFT & Blockchain",
          "Crypto, NFT & Blockchain",
          "Crypto, NFT & Blockchain",
          "Crypto, NFT & Blockchain",
          "Crypto, NFT & Blockchain",
          "Crypto, NFT & Blockchain",
          "Crypto, NFT & Blockchain",
          "Crypto, NFT & Blockchain",
          "Crypto, NFT & Blockchain",
          "Crypto, NFT & Blockchain",
          "Mental Health",
          "Mental Health",
          "Mental Health",
          "Mental Health",
          "Mental Health",
          "Mental Health",
          "Mental Health",
          "Mental Health",
          "Advertising, Media & Film",
          "Advertising, Media & Film",
          "Advertising, Media & Film",
          "Advertising, Media & Film",
          "Advertising, Media & Film",
          "Advertising, Media & Film",
          "Advertising, Media & Film",
          "Advertising, Media & Film",
          "Advertising, Media & Film",
          "Advertising, Media & Film",
          "Advertising, Media & Film",
          "Advertising, Media & Film",
          "IT",
          "IT",
          "IT",
          "IT",
          "IT",
          "IT",
          "Banking, Finance & Insurance",
          "Banking, Finance & Insurance",
          "Banking, Finance & Insurance",
          "Banking, Finance & Insurance",
          "Banking, Finance & Insurance",
          "Banking, Finance & Insurance",
          "Banking, Finance & Insurance",
          "Banking, Finance & Insurance",
          "Banking, Finance & Insurance",
          "Banking, Finance & Insurance",
          "Banking, Finance & Insurance",
          "Banking, Finance & Insurance",
          "Banking, Finance & Insurance",
          "Banking, Finance & Insurance",
          "Banking, Finance & Insurance",
          "Engineering",
          "Engineering",
          "Engineering",
          "Engineering",
          "Engineering",
          "Engineering",
          "Engineering",
          "Engineering",
          "Architecture",
          "Architecture",
          "Architecture",
          "Architecture",
          "Architecture",
          "Architecture",
          "Project Management",
          "Project Management",
          "Project Management",
          "Project Management",
          "Project Management",
          "Project Management",
          "Project Management",
          "Project Management",
          "Project Management",
          "Project Management",
          "Project Management",
          "Project Management",
          "Project Management",
          "Project Management",
          "IT",
          "IT",
          "IT",
          "IT",
          "IT",
          "IT",
          "IT",
          "IT",
          "Fashion",
          "Fashion",
          "Fashion",
          "Fashion",
          "Fashion",
          "Fashion",
          "Fashion",
          "Marketing",
          "Marketing",
          "Marketing",
          "Marketing",
          "Marketing",
          "Marketing",
          "Marketing",
          "Marketing",
          "Marketing",
          "Marketing",
          "Marketing",
          "Marketing",
          "Marketing",
          "Marketing",
          "Marketing",
          "Marketing",
          "Retail",
          "Retail",
          "Retail",
          "Retail",
          "Retail",
          "Retail",
          "Retail",
          "Operations & Logistics",
          "Operations & Logistics",
          "Operations & Logistics",
          "Operations & Logistics",
          "Operations & Logistics",
          "Operations & Logistics",
          "Operations & Logistics",
          "Operations & Logistics",
          "HR",
          "HR",
          "HR",
          "HR",
          "HR",
          "HR",
          "HR",
          "HR",
          "HR",
          "HR",
          "HR",
          "HR",
          "HR",
          "HR",
          "HR",
          "HR",
          "HR",
          "Entrepreneurship",
          "Entrepreneurship",
          "Entrepreneurship",
          "Entrepreneurship",
          "Entrepreneurship",
          "Entrepreneurship",
          "Entrepreneurship",
          "Entrepreneurship",
          "Fitness, Nutrition & Wellness",
          "Fitness, Nutrition & Wellness",
          "Fitness, Nutrition & Wellness",
          "Fitness, Nutrition & Wellness",
          "Fitness, Nutrition & Wellness",
          "Fitness, Nutrition & Wellness",
          "Fitness, Nutrition & Wellness",
          "Fitness, Nutrition & Wellness",
          "Fitness, Nutrition & Wellness",
          "Fitness, Nutrition & Wellness",
          "Fitness, Nutrition & Wellness",
          "IT",
          "IT",
          "IT",
          "IT",
          "IT",
          "IT",
          "IT",
          "IT",
          "IT",
          "IT",
          "IT",
          "IT",
          "IT",
          "IT",
          "IT",
          "IT",
          "IT",
          "IT",
          "Construction & Trades",
          "Construction & Trades",
          "Construction & Trades",
          "Construction & Trades",
          "Construction & Trades",
          "Construction & Trades",
          "Construction & Trades",
          "Construction & Trades",
          "Construction & Trades",
          "Construction & Trades",
          "Construction & Trades",
          "Construction & Trades",
          "Design",
          "Design",
          "Design",
          "Design",
          "Design",
          "Design",
          "Design",
          "Design",
          "Design",
          "Design",
          "Marketing",
          "Marketing",
          "Marketing",
          "Marketing",
          "Marketing",
          "Marketing",
          "Marketing",
          "Marketing",
          "Marketing",
          "Marketing",
          "Marketing",
          "Marketing",
          "Marketing",
          "Marketing",
          "Marketing",
          "Marketing",
          "Marketing",
          "Marketing",
          "Marketing",
          "Marketing",
          "Marketing",
          "Marketing",
          "Marketing",
          "Marketing",
          "Marketing",
          "Marketing",
          "Marketing",
          "Marketing",
          "Marketing",
          "Marketing",
          "Marketing",
          "Art & Entertainment",
          "Art & Entertainment",
          "Art & Entertainment",
          "Art & Entertainment",
          "Art & Entertainment",
          "Art & Entertainment",
          "Art & Entertainment",
          "Art & Entertainment",
          "Art & Entertainment",
          "Art & Entertainment",
          "Art & Entertainment",
          "Art & Entertainment",
          "Art & Entertainment",
          "Art & Entertainment",
          "Art & Entertainment",
          "Art & Entertainment",
          "Art & Entertainment",
          "Art & Entertainment",
          "Banking, Finance & Insurance",
          "Banking, Finance & Insurance",
          "Banking, Finance & Insurance",
          "Banking, Finance & Insurance",
          "Banking, Finance & Insurance",
          "Banking, Finance & Insurance",
          "Banking, Finance & Insurance",
          "Banking, Finance & Insurance",
          "Banking, Finance & Insurance",
          "Banking, Finance & Insurance",
          "Banking, Finance & Insurance",
          "Banking, Finance & Insurance",
          "Banking, Finance & Insurance",
          "Banking, Finance & Insurance",
          "Banking, Finance & Insurance",
          "Banking, Finance & Insurance",
          "Banking, Finance & Insurance",
          "Banking, Finance & Insurance",
          "Banking, Finance & Insurance",
          "Banking, Finance & Insurance",
          "Banking, Finance & Insurance",
          "Banking, Finance & Insurance",
          "Banking, Finance & Insurance",
          "Banking, Finance & Insurance",
          "Banking, Finance & Insurance",
          "Banking, Finance & Insurance",
          "Banking, Finance & Insurance",
          "Banking, Finance & Insurance",
          "Banking, Finance & Insurance",
          "Banking, Finance & Insurance",
          "Banking, Finance & Insurance",
          "Banking, Finance & Insurance",
          "Banking, Finance & Insurance",
          "Banking, Finance & Insurance",
          "HR",
          "HR",
          "HR",
          "HR",
          "HR",
          "HR",
          "HR",
          "HR",
          "HR",
          "HR",
          "HR",
          "HR",
          "HR",
          "HR",
          "HR",
          "HR",
          "HR",
          "HR",
          "HR",
          "HR",
          "HR",
          "HR",
          "HR",
          "HR",
          "HR",
          "HR",
          "HR",
          "HR",
          "HR",
          "HR",
          "HR",
          "Marketing",
          "Marketing",
          "Marketing",
          "Marketing",
          "Marketing",
          "Marketing",
          "Marketing",
          "Marketing",
          "Marketing",
          "Marketing",
          "Marketing",
          "Marketing",
          "Marketing",
          "Marketing",
          "Marketing",
          "Marketing",
          "Marketing",
          "Marketing",
          "Marketing",
          "Marketing",
          "Marketing",
          "Marketing",
          "Marketing",
          "Marketing",
          "Marketing",
          "Marketing",
          "Marketing",
          "Marketing",
          "Marketing",
          "Marketing",
          "Marketing",
          "Marketing",
          "Marketing",
          "Engineering",
          "Engineering",
          "Engineering",
          "Engineering",
          "Engineering",
          "Engineering",
          "Engineering",
          "Engineering",
          "Engineering",
          "Engineering",
          "Engineering",
          "Engineering",
          "Engineering",
          "Engineering",
          "Engineering",
          "Engineering",
          "Engineering",
          "Engineering",
          "Engineering",
          "Engineering",
          "Engineering",
          "Engineering",
          "Engineering",
          "Engineering",
          "Engineering",
          "Engineering",
          "Engineering",
          "Engineering",
          "Construction & Trades",
          "Construction & Trades",
          "Construction & Trades",
          "Construction & Trades",
          "Construction & Trades",
          "Construction & Trades",
          "Construction & Trades",
          "Construction & Trades",
          "Construction & Trades",
          "Construction & Trades",
          "Construction & Trades",
          "Construction & Trades",
          "Construction & Trades",
          "Construction & Trades",
          "Construction & Trades",
          "Construction & Trades",
          "Construction & Trades",
          "Construction & Trades",
          "Construction & Trades",
          "Construction & Trades",
          "Construction & Trades",
          "Construction & Trades",
          "Construction & Trades",
          "Construction & Trades",
          "Construction & Trades",
          "Construction & Trades",
          "Construction & Trades",
          "Construction & Trades",
          "Construction & Trades",
          "Construction & Trades",
          "Construction & Trades",
          "Construction & Trades",
          "Project Management",
          "Project Management",
          "Project Management",
          "Project Management",
          "Project Management",
          "Project Management",
          "Project Management",
          "Project Management",
          "Project Management",
          "Project Management",
          "Project Management",
          "Project Management",
          "Project Management",
          "Project Management",
          "Project Management",
          "Project Management",
          "Project Management",
          "Project Management",
          "Project Management",
          "Project Management",
          "Project Management",
          "Project Management",
          "Project Management",
          "Project Management",
          "Project Management",
          "Project Management",
          "Project Management",
          "Project Management",
          "Project Management",
          "Project Management",
          "Project Management",
          "Moms",
          "Moms",
          "Moms",
          "Moms",
          "Moms",
          "Moms",
          "Moms",
          "Moms",
          "IT",
          "IT",
          "IT",
          "IT",
          "IT",
          "IT",
          "IT",
          "IT",
          "IT",
          "IT",
          "IT",
          "IT",
          "IT",
          "IT",
          "IT",
          "IT",
          "IT",
          "IT",
          "IT",
          "IT",
          "IT",
          "IT",
          "IT",
          "IT",
          "IT",
          "IT",
          "IT",
          "IT",
          "IT",
          "IT",
          "IT",
          "Accounting",
          "Accounting",
          "Accounting",
          "Accounting",
          "Accounting",
          "Accounting",
          "Accounting",
          "Accounting",
          "Accounting",
          "Accounting",
          "S7 Party",
          "S7 Party",
          "S7 Party",
          "S7 Party",
          "S7 Party",
          "S7 Party",
          "S7 Party",
          "S7 Party",
          "S7 Party",
          "S7 Party",
          "S7 Party",
          "S7 Party",
          "S7 Party",
          "S7 Party",
          "S7 Party",
          "S7 Party",
          "S7 Party",
          "S7 Party",
          "S7 Party",
          "S7 Party",
          "S7 Party",
          "S7 Party",
          "S7 Party",
          "S7 Party",
          "S7 Party",
          "S7 Party",
          "S7 Party",
          "S7 Party",
          "S7 Party",
          "S7 Party",
          "S7 Party",
          "S7 Party",
          "S7 Party",
          "S7 Party",
          "S7 Party",
          "S7 Party",
          "S7 Party",
          "S7 Party",
          "S7 Party",
          "S7 Party",
          "S7 Party",
          "S7 Party",
          "S7 Party",
          "S7 Party",
          "S7 Party",
          "S7 Party",
          "S7 Party",
          "S7 Party",
          "S7 Party",
          "S7 Party",
          "S7 Party",
          "S7 Party",
          "S7 Party",
          "S7 Party",
          "S7 Party",
          "S7 Party",
          "S7 Party",
          "S7 Party",
          "S7 Party",
          "S7 Party",
          "S7 Party",
          "Engineering",
          "Engineering",
          "Engineering",
          "Engineering",
          "Engineering",
          "Engineering",
          "Engineering",
          "Engineering",
          "Engineering",
          "Engineering",
          "Engineering",
          "Engineering",
          "Engineering",
          "Engineering",
          "Engineering",
          "Engineering",
          "Engineering",
          "Engineering",
          "Engineering",
          "Engineering",
          "Engineering",
          "Engineering",
          "Engineering",
          "Engineering",
          "Engineering",
          "Engineering",
          "Engineering",
          "Engineering",
          "Engineering",
          "Engineering",
          "Engineering",
          "Engineering",
          "Engineering",
          "Engineering",
          "Engineering",
          "Social Work & Mental Health",
          "Social Work & Mental Health",
          "Social Work & Mental Health",
          "Social Work & Mental Health",
          "Social Work & Mental Health",
          "Social Work & Mental Health",
          "Social Work & Mental Health",
          "Social Work & Mental Health",
          "Social Work & Mental Health",
          "Social Work & Mental Health",
          "Social Work & Mental Health",
          "Social Work & Mental Health",
          "Social Work & Mental Health",
          "Social Work & Mental Health",
          "Social Work & Mental Health",
          "Social Work & Mental Health",
          "Social Work & Mental Health",
          "Social Work & Mental Health",
          "Social Work & Mental Health",
          "Social Work & Mental Health",
          "Social Work & Mental Health",
          "Social Work & Mental Health",
          "Social Work & Mental Health",
          "Social Work & Mental Health",
          "Social Work & Mental Health",
          "Social Work & Mental Health",
          "Social Work & Mental Health",
          "Social Work & Mental Health",
          "Social Work & Mental Health",
          "Social Work & Mental Health",
          "Social Work & Mental Health",
          "Social Work & Mental Health",
          "Social Work & Mental Health",
          "Social Work & Mental Health",
          "Retail",
          "Retail",
          "Retail",
          "Retail",
          "Retail",
          "Retail",
          "Retail",
          "Retail",
          "Retail",
          "Retail",
          "Retail",
          "Retail",
          "Retail",
          "Retail",
          "Retail",
          "IT",
          "IT",
          "IT",
          "IT",
          "IT",
          "IT",
          "IT",
          "IT",
          "IT",
          "IT",
          "IT",
          "IT",
          "IT",
          "IT",
          "IT",
          "IT",
          "IT",
          "IT",
          "IT",
          "IT",
          "IT",
          "IT",
          "IT",
          "IT",
          "IT",
          "IT",
          "IT",
          "IT",
          "IT",
          "IT",
          "IT",
          "Operations & Logistics",
          "Operations & Logistics",
          "Operations & Logistics",
          "Operations & Logistics",
          "Operations & Logistics",
          "Operations & Logistics",
          "Operations & Logistics",
          "Operations & Logistics",
          "Operations & Logistics",
          "Operations & Logistics",
          "Operations & Logistics",
          "Operations & Logistics",
          "Operations & Logistics",
          "Operations & Logistics",
          "Operations & Logistics",
          "Operations & Logistics",
          "Operations & Logistics",
          "Operations & Logistics",
          "Operations & Logistics",
          "Operations & Logistics",
          "Operations & Logistics",
          "Operations & Logistics",
          "Operations & Logistics",
          "Operations & Logistics",
          "Operations & Logistics",
          "Operations & Logistics",
          "Operations & Logistics",
          "Advertising, Media & Film",
          "Advertising, Media & Film",
          "Advertising, Media & Film",
          "Advertising, Media & Film",
          "Advertising, Media & Film",
          "Advertising, Media & Film",
          "Advertising, Media & Film",
          "Advertising, Media & Film",
          "Advertising, Media & Film",
          "Advertising, Media & Film",
          "Advertising, Media & Film",
          "Advertising, Media & Film",
          "Advertising, Media & Film",
          "Advertising, Media & Film",
          "Advertising, Media & Film",
          "Advertising, Media & Film",
          "Advertising, Media & Film",
          "Advertising, Media & Film",
          "Advertising, Media & Film",
          "Advertising, Media & Film",
          "Advertising, Media & Film",
          "Advertising, Media & Film",
          "Advertising, Media & Film",
          "Advertising, Media & Film",
          "Advertising, Media & Film",
          "Advertising, Media & Film",
          "Advertising, Media & Film",
          "Advertising, Media & Film",
          "Advertising, Media & Film",
          "Education & Learning",
          "Education & Learning",
          "Education & Learning",
          "Education & Learning",
          "Education & Learning",
          "Education & Learning",
          "Education & Learning",
          "Education & Learning",
          "Education & Learning",
          "Education & Learning",
          "Education & Learning",
          "Education & Learning",
          "Education & Learning",
          "Education & Learning",
          "Education & Learning",
          "Education & Learning",
          "Education & Learning",
          "Education & Learning",
          "Education & Learning",
          "Education & Learning",
          "Education & Learning",
          "Education & Learning",
          "Education & Learning",
          "Education & Learning",
          "Education & Learning",
          "Education & Learning",
          "Education & Learning",
          "Marketing",
          "Marketing",
          "Marketing",
          "Marketing",
          "Marketing",
          "Marketing",
          "Marketing",
          "Marketing",
          "Marketing",
          "Marketing",
          "Marketing",
          "Marketing",
          "Marketing",
          "Marketing",
          "Marketing",
          "Marketing",
          "Marketing",
          "Marketing",
          "Marketing",
          "Marketing",
          "Marketing",
          "Marketing",
          "Marketing",
          "Marketing",
          "Marketing",
          "Marketing",
          "Marketing",
          "Marketing",
          "HR",
          "HR",
          "HR",
          "HR",
          "HR",
          "HR",
          "HR",
          "HR",
          "HR",
          "HR",
          "HR",
          "HR",
          "HR",
          "HR",
          "HR",
          "HR",
          "HR",
          "HR",
          "HR",
          "HR",
          "HR",
          "HR",
          "HR",
          "HR",
          "HR",
          "HR",
          "HR",
          "HR",
          "HR",
          "HR",
          "HR",
          "HR",
          "HR",
          "HR",
          "HR",
          "HR",
          "HR",
          "HR",
          "HR",
          "HR",
          "HR",
          "HR",
          "S8 Party",
          "S8 Party",
          "S8 Party",
          "S8 Party",
          "S8 Party",
          "S8 Party",
          "S8 Party",
          "S8 Party",
          "S8 Party",
          "S8 Party",
          "S8 Party",
          "S8 Party",
          "S8 Party",
          "S8 Party",
          "S8 Party",
          "S8 Party",
          "S8 Party",
          "S8 Party",
          "S8 Party",
          "S8 Party",
          "S8 Party",
          "S8 Party",
          "S8 Party",
          "S8 Party",
          "S8 Party",
          "S8 Party",
          "S8 Party",
          "S8 Party",
          "S8 Party",
          "S8 Party",
          "S8 Party",
          "S8 Party",
          "S8 Party",
          "S8 Party",
          "S8 Party",
          "S8 Party",
          "S8 Party",
          "S8 Party",
          "S8 Party",
          "S8 Party",
          "S8 Party",
          "S8 Party",
          "S8 Party",
          "S8 Party",
          "S8 Party",
          "S8 Party",
          "S8 Party",
          "S8 Party",
          "S8 Party",
          "S8 Party",
          "S8 Party",
          "S8 Party",
          "S8 Party",
          "S8 Party",
          "S8 Party",
          "S8 Party",
          "S8 Party",
          "S8 Party",
          "S8 Party",
          "S8 Party",
          "S8 Party",
          "S8 Party",
          "S8 Party",
          "S8 Party",
          "S8 Party",
          "S8 Party",
          "S8 Party",
          "S8 Party",
          "S8 Party",
          "S8 Party",
          "S8 Party",
          "S8 Party",
          "S8 Party",
          "S8 Party",
          "S8 Party",
          "S8 Party",
          "S8 Party",
          "S8 Party",
          "S8 Party",
          "S8 Party",
          "S8 Party",
          "S8 Party",
          "S8 Party",
          "S8 Party",
          "S8 Party",
          "S8 Party",
          "S8 Party",
          "S8 Party",
          "S8 Party",
          "S8 Party",
          "S8 Party",
          "S8 Party",
          "S8 Party",
          "S8 Party",
          "S8 Party",
          "S8 Party",
          "S8 Party",
          "S8 Party",
          "S8 Party",
          "Banking, Finance & Insurance",
          "Banking, Finance & Insurance",
          "Banking, Finance & Insurance",
          "Banking, Finance & Insurance",
          "Banking, Finance & Insurance",
          "Banking, Finance & Insurance",
          "Banking, Finance & Insurance",
          "Banking, Finance & Insurance",
          "Banking, Finance & Insurance",
          "Banking, Finance & Insurance",
          "Banking, Finance & Insurance",
          "Banking, Finance & Insurance",
          "Banking, Finance & Insurance",
          "Banking, Finance & Insurance",
          "Banking, Finance & Insurance",
          "Banking, Finance & Insurance",
          "Banking, Finance & Insurance",
          "Banking, Finance & Insurance",
          "Banking, Finance & Insurance",
          "Banking, Finance & Insurance",
          "Banking, Finance & Insurance",
          "Banking, Finance & Insurance",
          "Banking, Finance & Insurance",
          "Banking, Finance & Insurance",
          "Banking, Finance & Insurance",
          "Banking, Finance & Insurance",
          "Banking, Finance & Insurance",
          "Banking, Finance & Insurance",
          "Banking, Finance & Insurance",
          "Banking, Finance & Insurance",
          "Banking, Finance & Insurance",
          "Banking, Finance & Insurance",
          "Banking, Finance & Insurance",
          "Banking, Finance & Insurance",
          "Banking, Finance & Insurance",
          "Banking, Finance & Insurance",
          "Banking, Finance & Insurance",
          "Banking, Finance & Insurance",
          "Banking, Finance & Insurance",
          "Banking, Finance & Insurance",
          "Banking, Finance & Insurance",
          "Banking, Finance & Insurance",
          "Banking, Finance & Insurance",
          "Banking, Finance & Insurance",
          "Banking, Finance & Insurance",
          "Banking, Finance & Insurance",
          "Banking, Finance & Insurance",
          "Banking, Finance & Insurance",
          "Banking, Finance & Insurance",
          "Banking, Finance & Insurance",
          "Banking, Finance & Insurance",
          "Banking, Finance & Insurance",
          "Banking, Finance & Insurance",
          "Banking, Finance & Insurance",
          "Banking, Finance & Insurance",
          "Banking, Finance & Insurance",
          "Banking, Finance & Insurance",
          "Banking, Finance & Insurance",
          "Banking, Finance & Insurance",
          "Banking, Finance & Insurance",
          "IT",
          "IT",
          "IT",
          "IT",
          "IT",
          "IT",
          "IT",
          "IT",
          "IT",
          "IT",
          "IT",
          "IT",
          "IT",
          "IT",
          "IT",
          "IT",
          "IT",
          "IT",
          "IT",
          "IT",
          "IT",
          "IT",
          "IT",
          "IT",
          "IT",
          "IT",
          "IT",
          "IT",
          "IT",
          "IT",
          "IT",
          "IT",
          "IT",
          "IT",
          "IT",
          "IT",
          "IT",
          "IT",
          "IT",
          "IT",
          "IT",
          "IT",
          "IT",
          "IT",
          "IT",
          "IT",
          "IT",
          "IT",
          "IT",
          "IT",
          "IT",
          "IT",
          "IT",
          "IT",
          "IT",
          "IT",
          "IT",
          "IT",
          "IT",
          "IT",
          "IT",
          "IT",
          "Marketing",
          "Marketing",
          "Marketing",
          "Marketing",
          "Marketing",
          "Marketing",
          "Marketing",
          "Marketing",
          "Marketing",
          "Marketing",
          "Marketing",
          "Marketing",
          "Marketing",
          "Marketing",
          "Marketing",
          "Marketing",
          "Marketing",
          "HR",
          "HR",
          "HR",
          "HR",
          "HR",
          "HR",
          "HR",
          "HR",
          "HR",
          "HR",
          "HR",
          "HR",
          "HR",
          "HR",
          "HR",
          "HR",
          "HR",
          "HR",
          "HR",
          "HR",
          "HR",
          "HR",
          "HR",
          "HR",
          "HR",
          "HR",
          "HR",
          "HR",
          "HR",
          "HR",
          "HR",
          "HR",
          "HR",
          "HR",
          "HR",
          "HR",
          "HR",
          "HR",
          "HR",
          "HR",
          "HR",
          "HR",
          "HR",
          "HR",
          "HR",
          "HR",
          "HR",
          "HR",
          "HR",
          "HR",
          "HR",
          "HR",
          "Project Management",
          "Project Management",
          "Project Management",
          "Project Management",
          "Project Management",
          "Project Management",
          "Project Management",
          "Project Management",
          "Project Management",
          "Project Management",
          "Project Management",
          "Project Management",
          "Project Management",
          "Project Management",
          "Project Management",
          "Project Management",
          "Project Management",
          "Project Management",
          "Project Management",
          "Project Management",
          "Project Management",
          "Project Management",
          "Project Management",
          "Project Management",
          "Project Management",
          "Project Management",
          "Project Management",
          "Project Management",
          "Project Management",
          "Project Management",
          "Project Management",
          "Project Management",
          "Project Management",
          "Project Management",
          "Project Management",
          "Project Management",
          "Project Management",
          "Project Management",
          "Project Management",
          "Project Management",
          "Project Management",
          "Project Management",
          "Project Management",
          "Project Management",
          "Project Management",
          "Project Management",
          "Project Management",
          "Project Management",
          "Project Management",
          "Project Management",
          "Project Management",
          "Project Management",
          "Project Management",
          "Project Management",
          "Project Management",
          "Project Management",
          "Project Management",
          "Project Management",
          "Project Management",
          "Project Management",
          "Project Management",
          "IT",
          "IT",
          "IT",
          "IT",
          "IT",
          "IT",
          "IT",
          "IT",
          "IT",
          "IT",
          "IT",
          "IT",
          "Advertising, Media & Film",
          "Advertising, Media & Film",
          "Advertising, Media & Film",
          "Advertising, Media & Film",
          "Advertising, Media & Film",
          "Advertising, Media & Film",
          "Advertising, Media & Film",
          "Advertising, Media & Film",
          "Advertising, Media & Film",
          "Advertising, Media & Film",
          "Advertising, Media & Film",
          "Advertising, Media & Film",
          "Advertising, Media & Film",
          "Advertising, Media & Film",
          "Advertising, Media & Film",
          "Advertising, Media & Film",
          "Advertising, Media & Film",
          "Advertising, Media & Film",
          "Advertising, Media & Film",
          "Advertising, Media & Film",
          "Advertising, Media & Film",
          "Advertising, Media & Film",
          "Advertising, Media & Film",
          "Advertising, Media & Film",
          "Advertising, Media & Film",
          "Advertising, Media & Film",
          "Advertising, Media & Film",
          "Advertising, Media & Film",
          "Advertising, Media & Film",
          "Advertising, Media & Film",
          "Advertising, Media & Film",
          "Advertising, Media & Film",
          "Advertising, Media & Film",
          "Advertising, Media & Film",
          "Advertising, Media & Film",
          "Advertising, Media & Film",
          "Advertising, Media & Film",
          "Advertising, Media & Film",
          "Advertising, Media & Film",
          "Advertising, Media & Film",
          "Advertising, Media & Film",
          "Advertising, Media & Film",
          "Advertising, Media & Film",
          "Advertising, Media & Film",
          "Advertising, Media & Film",
          "Advertising, Media & Film",
          "Advertising, Media & Film",
          "Advertising, Media & Film",
          "Advertising, Media & Film",
          "Advertising, Media & Film",
          "Advertising, Media & Film",
          "Advertising, Media & Film",
          "Advertising, Media & Film",
          "Engineering",
          "Engineering",
          "Engineering",
          "Engineering",
          "Engineering",
          "Engineering",
          "Engineering",
          "Engineering",
          "Engineering",
          "Engineering",
          "Engineering",
          "Engineering",
          "Engineering",
          "Engineering",
          "Engineering",
          "Engineering",
          "Engineering",
          "Engineering",
          "Engineering",
          "Engineering",
          "Engineering",
          "Engineering",
          "Engineering",
          "Engineering",
          "Engineering",
          "Engineering",
          "Engineering",
          "Engineering",
          "Engineering",
          "Engineering",
          "Engineering",
          "Engineering",
          "Engineering",
          "Engineering",
          "Engineering",
          "Engineering",
          "Engineering",
          "Engineering",
          "Engineering",
          "Engineering",
          "Engineering",
          "Engineering",
          "Engineering",
          "Engineering",
          "Engineering",
          "Engineering",
          "Engineering",
          "Engineering",
          "Engineering",
          "Engineering",
          "Engineering",
          "Engineering",
          "Engineering",
          "Engineering",
          "Engineering",
          "Engineering",
          "Engineering",
          "Engineering",
          "Engineering",
          "Engineering",
          "Project Management",
          "Project Management",
          "Project Management",
          "Project Management",
          "Marketing",
          "Marketing",
          "Marketing",
          "Marketing",
          "Marketing",
          "Marketing",
          "Marketing",
          "Marketing",
          "Marketing",
          "Marketing",
          "Marketing",
          "Marketing",
          "Marketing",
          "Marketing",
          "Marketing",
          "Marketing",
          "Marketing",
          "Marketing",
          "Marketing",
          "Marketing",
          "Marketing",
          "Marketing",
          "Marketing",
          "Marketing",
          "Marketing",
          "Marketing",
          "Marketing",
          "Marketing",
          "Marketing",
          "Marketing",
          "Marketing",
          "Marketing",
          "Marketing",
          "Marketing",
          "Marketing",
          "Marketing",
          "Marketing",
          "Marketing",
          "Marketing",
          "Marketing",
          "Marketing",
          "Marketing",
          "Marketing",
          "Marketing",
          "Marketing",
          "Marketing",
          "Marketing",
          "Marketing",
          "Marketing",
          "Marketing",
          "Marketing",
          "Marketing",
          "Marketing",
          "Marketing",
          "Marketing",
          "Marketing",
          "Marketing",
          "Marketing",
          "Marketing",
          "Marketing",
          "Marketing",
          "Marketing",
          "Construction & Trades",
          "Construction & Trades",
          "Construction & Trades",
          "Construction & Trades",
          "Construction & Trades",
          "Construction & Trades",
          "Construction & Trades",
          "Construction & Trades",
          "Construction & Trades",
          "Construction & Trades",
          "Construction & Trades",
          "Construction & Trades",
          "Construction & Trades",
          "Construction & Trades",
          "Construction & Trades",
          "Construction & Trades",
          "Construction & Trades",
          "Construction & Trades",
          "Construction & Trades",
          "Construction & Trades",
          "Construction & Trades",
          "Construction & Trades",
          "Construction & Trades",
          "Construction & Trades",
          "Construction & Trades",
          "Construction & Trades",
          "Construction & Trades",
          "Construction & Trades",
          "Construction & Trades",
          "Construction & Trades",
          "Construction & Trades",
          "Construction & Trades",
          "Construction & Trades",
          "Construction & Trades",
          "Construction & Trades",
          "Construction & Trades",
          "Construction & Trades",
          "Construction & Trades",
          "Construction & Trades",
          "Construction & Trades",
          "Construction & Trades",
          "Construction & Trades",
          "Construction & Trades",
          "Construction & Trades",
          "Construction & Trades",
          "Construction & Trades",
          "Construction & Trades",
          "Construction & Trades",
          "Construction & Trades",
          "Construction & Trades",
          "Construction & Trades",
          "Construction & Trades",
          "Construction & Trades",
          "Engineering",
          "Engineering",
          "Engineering",
          "Engineering",
          "Engineering",
          "Engineering",
          "Engineering",
          "Operations & Logistics",
          "Operations & Logistics",
          "Operations & Logistics",
          "Operations & Logistics",
          "Operations & Logistics",
          "Operations & Logistics",
          "Operations & Logistics",
          "Operations & Logistics",
          "Operations & Logistics",
          "Operations & Logistics",
          "Operations & Logistics",
          "Operations & Logistics",
          "Operations & Logistics",
          "Operations & Logistics",
          "Operations & Logistics",
          "Operations & Logistics",
          "Operations & Logistics",
          "Operations & Logistics",
          "Operations & Logistics",
          "Operations & Logistics",
          "Operations & Logistics",
          "Operations & Logistics",
          "Operations & Logistics",
          "Operations & Logistics",
          "Operations & Logistics",
          "Operations & Logistics",
          "Operations & Logistics",
          "Operations & Logistics",
          "Operations & Logistics",
          "Operations & Logistics",
          "Operations & Logistics",
          "Operations & Logistics",
          "Operations & Logistics",
          "Operations & Logistics",
          "Operations & Logistics",
          "Operations & Logistics",
          "Operations & Logistics",
          "Operations & Logistics",
          "Operations & Logistics",
          "Operations & Logistics",
          "Operations & Logistics",
          "Operations & Logistics",
          "Operations & Logistics",
          "Operations & Logistics",
          "Operations & Logistics",
          "Operations & Logistics",
          "Operations & Logistics",
          "Operations & Logistics",
          "Operations & Logistics",
          "Operations & Logistics",
          "Operations & Logistics",
          "Architecture",
          "Architecture",
          "Architecture",
          "Architecture",
          "Architecture",
          "Architecture",
          "Architecture",
          "Architecture",
          "Architecture",
          "Architecture",
          "Architecture",
          "Architecture",
          "Architecture",
          "Architecture",
          "Architecture",
          "Architecture",
          "Architecture",
          "Architecture",
          "Architecture",
          "Architecture",
          "Architecture",
          "Architecture",
          "Architecture",
          "Architecture",
          "Architecture",
          "Architecture",
          "Architecture",
          "Architecture",
          "Architecture",
          "Architecture",
          "Architecture",
          "Architecture",
          "Construction & Trades",
          "Construction & Trades",
          "Construction & Trades",
          "Executive & Adm Assistants",
          "Executive & Adm Assistants",
          "Executive & Adm Assistants",
          "Executive & Adm Assistants",
          "Executive & Adm Assistants",
          "Executive & Adm Assistants",
          "Executive & Adm Assistants",
          "Executive & Adm Assistants",
          "Executive & Adm Assistants",
          "Executive & Adm Assistants",
          "Executive & Adm Assistants",
          "Executive & Adm Assistants",
          "Executive & Adm Assistants",
          "Executive & Adm Assistants",
          "Executive & Adm Assistants",
          "Executive & Adm Assistants",
          "Executive & Adm Assistants",
          "Executive & Adm Assistants",
          "Executive & Adm Assistants",
          "Executive & Adm Assistants",
          "Executive & Adm Assistants",
          "Executive & Adm Assistants",
          "Executive & Adm Assistants",
          "Executive & Adm Assistants",
          "Executive & Adm Assistants",
          "Executive & Adm Assistants",
          "Executive & Adm Assistants",
          "Executive & Adm Assistants",
          "Executive & Adm Assistants",
          "Executive & Adm Assistants",
          "Executive & Adm Assistants",
          "Executive & Adm Assistants",
          "Executive & Adm Assistants",
          "Executive & Adm Assistants",
          "Executive & Adm Assistants",
          "Data Analysis",
          "Data Analysis",
          "Data Analysis",
          "Data Analysis",
          "Data Analysis",
          "Data Analysis",
          "Data Analysis",
          "Data Analysis",
          "Data Analysis",
          "Data Analysis",
          "Data Analysis",
          "Data Analysis",
          "Data Analysis",
          "Data Analysis",
          "Data Analysis",
          "Data Analysis",
          "Data Analysis",
          "Data Analysis",
          "Data Analysis",
          "Data Analysis",
          "Data Analysis",
          "Data Analysis",
          "Data Analysis",
          "Data Analysis",
          "Data Analysis",
          "Data Analysis",
          "Data Analysis",
          "Data Analysis",
          "Data Analysis",
          "Data Analysis",
          "Data Analysis",
          "Data Analysis",
          "Data Analysis",
          "Data Analysis",
          "Data Analysis",
          "Data Analysis",
          "Data Analysis",
          "Data Analysis",
          "Data Analysis",
          "Data Analysis",
          "Data Analysis",
          "Data Analysis",
          "Data Analysis",
          "Data Analysis",
          "Data Analysis",
          "Data Analysis",
          "Data Analysis",
          "Data Analysis",
          "Data Analysis",
          "Data Analysis",
          "Data Analysis",
          "Data Analysis",
          "Data Analysis",
          "Data Analysis",
          "Data Analysis",
          "Data Analysis",
          "Data Analysis",
          "Operations & Logistics",
          "Operations & Logistics",
          "Operations & Logistics",
          "Operations & Logistics",
          "Operations & Logistics",
          "Operations & Logistics",
          "Operations & Logistics",
          "Education",
          "Education",
          "Education",
          "Education",
          "Education",
          "Education",
          "Education",
          "Education",
          "Education",
          "Education",
          "Education",
          "Education",
          "Education",
          "Education",
          "Education",
          "Education",
          "Education",
          "Education",
          "Education",
          "Education",
          "Education",
          "Education",
          "Art & Entertainment",
          "Art & Entertainment",
          "Art & Entertainment",
          "Art & Entertainment",
          "Art & Entertainment",
          "Art & Entertainment",
          "Art & Entertainment",
          "Art & Entertainment",
          "Art & Entertainment",
          "Art & Entertainment",
          "Art & Entertainment",
          "Art & Entertainment",
          "Art & Entertainment",
          "Art & Entertainment",
          "Art & Entertainment",
          "Art & Entertainment",
          "Art & Entertainment",
          "Art & Entertainment",
          "Art & Entertainment",
          "Art & Entertainment",
          "Art & Entertainment",
          "Art & Entertainment",
          "Banking, Finance & Insurance",
          "Banking, Finance & Insurance",
          "Banking, Finance & Insurance",
          "Banking, Finance & Insurance",
          "Banking, Finance & Insurance",
          "Banking, Finance & Insurance",
          "Social Work & Mental Health",
          "Social Work & Mental Health",
          "Social Work & Mental Health",
          "Social Work & Mental Health",
          "Social Work & Mental Health",
          "Social Work & Mental Health",
          "Social Work & Mental Health",
          "Social Work & Mental Health",
          "Social Work & Mental Health",
          "Social Work & Mental Health",
          "Social Work & Mental Health",
          "Social Work & Mental Health",
          "Social Work & Mental Health",
          "Social Work & Mental Health",
          "Social Work & Mental Health",
          "Social Work & Mental Health",
          "Social Work & Mental Health",
          "Social Work & Mental Health",
          "Social Work & Mental Health",
          "Social Work & Mental Health",
          "Social Work & Mental Health",
          "Social Work & Mental Health",
          "Social Work & Mental Health",
          "Social Work & Mental Health",
          "Social Work & Mental Health",
          "Social Work & Mental Health",
          "Social Work & Mental Health",
          "Social Work & Mental Health",
          "Hospitality & Tourism",
          "Hospitality & Tourism",
          "Hospitality & Tourism",
          "Hospitality & Tourism",
          "Hospitality & Tourism",
          "Hospitality & Tourism",
          "Hospitality & Tourism",
          "Hospitality & Tourism",
          "Hospitality & Tourism",
          "Hospitality & Tourism",
          "Hospitality & Tourism",
          "Hospitality & Tourism",
          "Hospitality & Tourism",
          "Hospitality & Tourism",
          "Hospitality & Tourism",
          "Hospitality & Tourism",
          "Hospitality & Tourism",
          "Hospitality & Tourism",
          "Hospitality & Tourism",
          "Hospitality & Tourism",
          "Hospitality & Tourism",
          "Hospitality & Tourism",
          "Hospitality & Tourism",
          "Hospitality & Tourism",
          "Hospitality & Tourism",
          "Hospitality & Tourism",
          "Hospitality & Tourism",
          "Hospitality & Tourism",
          "Hospitality & Tourism",
          "Hospitality & Tourism",
          "Hospitality & Tourism",
          "Retail",
          "Retail",
          "Retail",
          "Retail",
          "Retail",
          "Hospitality & Tourism",
          "Hospitality & Tourism",
          "Hospitality & Tourism",
          "Hospitality & Tourism",
          "Hospitality & Tourism",
          "Hospitality & Tourism",
          "Hospitality & Tourism",
          "Hospitality & Tourism",
          "Hospitality & Tourism",
          "Hospitality & Tourism",
          "Hospitality & Tourism",
          "Hospitality & Tourism",
          "Hospitality & Tourism",
          "Hospitality & Tourism",
          "Hospitality & Tourism",
          "Hospitality & Tourism",
          "Hospitality & Tourism",
          "Hospitality & Tourism",
          "Hospitality & Tourism",
          "Hospitality & Tourism",
          "Hospitality & Tourism",
          "Hospitality & Tourism",
          "Hospitality & Tourism",
          "Hospitality & Tourism",
          "Hospitality & Tourism",
          "Hospitality & Tourism",
          "Hospitality & Tourism",
          "Hospitality & Tourism",
          "Hospitality & Tourism",
          "Hospitality & Tourism",
          "Hospitality & Tourism",
          "Design & Graphic Design",
          "Design & Graphic Design",
          "Design & Graphic Design",
          "Design & Graphic Design",
          "Design & Graphic Design",
          "Design & Graphic Design",
          "Design & Graphic Design",
          "Design & Graphic Design",
          "Design & Graphic Design",
          "Design & Graphic Design",
          "Design & Graphic Design",
          "Design & Graphic Design",
          "Design & Graphic Design",
          "Design & Graphic Design",
          "Design & Graphic Design",
          "Design & Graphic Design",
          "Design & Graphic Design",
          "Design & Graphic Design",
          "Design & Graphic Design",
          "Design & Graphic Design",
          "Design & Graphic Design",
          "Design & Graphic Design",
          "Design & Graphic Design",
          "Design & Graphic Design",
          "Design & Graphic Design",
          "Design & Graphic Design",
          "Design & Graphic Design",
          "Design & Graphic Design",
          "Design & Graphic Design",
          "Design & Graphic Design",
          "Design & Graphic Design",
          "Design & Graphic Design",
          "Design & Graphic Design",
          "Design & Graphic Design",
          "Design & Graphic Design",
          "Design & Graphic Design",
          "Design & Graphic Design",
          "Design & Graphic Design",
          "Design & Graphic Design",
          "Design & Graphic Design",
          "Design & Graphic Design",
          "Sales",
          "Sales",
          "Sales",
          "Sales",
          "Sales",
          "Sales",
          "Sales",
          "Sales",
          "Sales",
          "Sales",
          "Sales",
          "Sales",
          "Sales",
          "Sales",
          "Sales",
          "Sales",
          "Sales",
          "Sales",
          "Sales",
          "Sales",
          "Sales",
          "Sales",
          "Sales",
          "Entrepreneurship",
          "Entrepreneurship",
          "Entrepreneurship",
          "Entrepreneurship",
          "Entrepreneurship",
          "Entrepreneurship",
          "Entrepreneurship",
          "Entrepreneurship",
          "Entrepreneurship",
          "Entrepreneurship",
          "Entrepreneurship",
          "Entrepreneurship",
          "Entrepreneurship",
          "Entrepreneurship",
          "Entrepreneurship",
          "Entrepreneurship",
          "Entrepreneurship",
          "Entrepreneurship",
          "Entrepreneurship",
          "Entrepreneurship",
          "Entrepreneurship",
          "Entrepreneurship",
          "Entrepreneurship",
          "Entrepreneurship",
          "Entrepreneurship",
          "Entrepreneurship",
          "Entrepreneurship",
          "Entrepreneurship",
          "Entrepreneurship",
          "Entrepreneurship",
          "Entrepreneurship",
          "Entrepreneurship",
          "Entrepreneurship",
          "Entrepreneurship",
          "Entrepreneurship",
          "Entrepreneurship",
          "Entrepreneurship",
          "Entrepreneurship",
          "Entrepreneurship",
          "Entrepreneurship",
          "Entrepreneurship",
          "Entrepreneurship",
          "Entrepreneurship",
          "Entrepreneurship",
          "Entrepreneurship",
          "Entrepreneurship",
          "Entrepreneurship",
          "Entrepreneurship",
          "Entrepreneurship",
          "Fashion",
          "Fashion",
          "Fashion",
          "Fashion",
          "Fashion"
         ],
         "xaxis": "x",
         "yaxis": "y"
        }
       ],
       "layout": {
        "barmode": "group",
        "legend": {
         "title": {
          "text": "Format"
         },
         "tracegroupgap": 0
        },
        "margin": {
         "t": 60
        },
        "template": {
         "data": {
          "bar": [
           {
            "error_x": {
             "color": "#2a3f5f"
            },
            "error_y": {
             "color": "#2a3f5f"
            },
            "marker": {
             "line": {
              "color": "#E5ECF6",
              "width": 0.5
             },
             "pattern": {
              "fillmode": "overlay",
              "size": 10,
              "solidity": 0.2
             }
            },
            "type": "bar"
           }
          ],
          "barpolar": [
           {
            "marker": {
             "line": {
              "color": "#E5ECF6",
              "width": 0.5
             },
             "pattern": {
              "fillmode": "overlay",
              "size": 10,
              "solidity": 0.2
             }
            },
            "type": "barpolar"
           }
          ],
          "carpet": [
           {
            "aaxis": {
             "endlinecolor": "#2a3f5f",
             "gridcolor": "white",
             "linecolor": "white",
             "minorgridcolor": "white",
             "startlinecolor": "#2a3f5f"
            },
            "baxis": {
             "endlinecolor": "#2a3f5f",
             "gridcolor": "white",
             "linecolor": "white",
             "minorgridcolor": "white",
             "startlinecolor": "#2a3f5f"
            },
            "type": "carpet"
           }
          ],
          "choropleth": [
           {
            "colorbar": {
             "outlinewidth": 0,
             "ticks": ""
            },
            "type": "choropleth"
           }
          ],
          "contour": [
           {
            "colorbar": {
             "outlinewidth": 0,
             "ticks": ""
            },
            "colorscale": [
             [
              0,
              "#0d0887"
             ],
             [
              0.1111111111111111,
              "#46039f"
             ],
             [
              0.2222222222222222,
              "#7201a8"
             ],
             [
              0.3333333333333333,
              "#9c179e"
             ],
             [
              0.4444444444444444,
              "#bd3786"
             ],
             [
              0.5555555555555556,
              "#d8576b"
             ],
             [
              0.6666666666666666,
              "#ed7953"
             ],
             [
              0.7777777777777778,
              "#fb9f3a"
             ],
             [
              0.8888888888888888,
              "#fdca26"
             ],
             [
              1,
              "#f0f921"
             ]
            ],
            "type": "contour"
           }
          ],
          "contourcarpet": [
           {
            "colorbar": {
             "outlinewidth": 0,
             "ticks": ""
            },
            "type": "contourcarpet"
           }
          ],
          "heatmap": [
           {
            "colorbar": {
             "outlinewidth": 0,
             "ticks": ""
            },
            "colorscale": [
             [
              0,
              "#0d0887"
             ],
             [
              0.1111111111111111,
              "#46039f"
             ],
             [
              0.2222222222222222,
              "#7201a8"
             ],
             [
              0.3333333333333333,
              "#9c179e"
             ],
             [
              0.4444444444444444,
              "#bd3786"
             ],
             [
              0.5555555555555556,
              "#d8576b"
             ],
             [
              0.6666666666666666,
              "#ed7953"
             ],
             [
              0.7777777777777778,
              "#fb9f3a"
             ],
             [
              0.8888888888888888,
              "#fdca26"
             ],
             [
              1,
              "#f0f921"
             ]
            ],
            "type": "heatmap"
           }
          ],
          "heatmapgl": [
           {
            "colorbar": {
             "outlinewidth": 0,
             "ticks": ""
            },
            "colorscale": [
             [
              0,
              "#0d0887"
             ],
             [
              0.1111111111111111,
              "#46039f"
             ],
             [
              0.2222222222222222,
              "#7201a8"
             ],
             [
              0.3333333333333333,
              "#9c179e"
             ],
             [
              0.4444444444444444,
              "#bd3786"
             ],
             [
              0.5555555555555556,
              "#d8576b"
             ],
             [
              0.6666666666666666,
              "#ed7953"
             ],
             [
              0.7777777777777778,
              "#fb9f3a"
             ],
             [
              0.8888888888888888,
              "#fdca26"
             ],
             [
              1,
              "#f0f921"
             ]
            ],
            "type": "heatmapgl"
           }
          ],
          "histogram": [
           {
            "marker": {
             "pattern": {
              "fillmode": "overlay",
              "size": 10,
              "solidity": 0.2
             }
            },
            "type": "histogram"
           }
          ],
          "histogram2d": [
           {
            "colorbar": {
             "outlinewidth": 0,
             "ticks": ""
            },
            "colorscale": [
             [
              0,
              "#0d0887"
             ],
             [
              0.1111111111111111,
              "#46039f"
             ],
             [
              0.2222222222222222,
              "#7201a8"
             ],
             [
              0.3333333333333333,
              "#9c179e"
             ],
             [
              0.4444444444444444,
              "#bd3786"
             ],
             [
              0.5555555555555556,
              "#d8576b"
             ],
             [
              0.6666666666666666,
              "#ed7953"
             ],
             [
              0.7777777777777778,
              "#fb9f3a"
             ],
             [
              0.8888888888888888,
              "#fdca26"
             ],
             [
              1,
              "#f0f921"
             ]
            ],
            "type": "histogram2d"
           }
          ],
          "histogram2dcontour": [
           {
            "colorbar": {
             "outlinewidth": 0,
             "ticks": ""
            },
            "colorscale": [
             [
              0,
              "#0d0887"
             ],
             [
              0.1111111111111111,
              "#46039f"
             ],
             [
              0.2222222222222222,
              "#7201a8"
             ],
             [
              0.3333333333333333,
              "#9c179e"
             ],
             [
              0.4444444444444444,
              "#bd3786"
             ],
             [
              0.5555555555555556,
              "#d8576b"
             ],
             [
              0.6666666666666666,
              "#ed7953"
             ],
             [
              0.7777777777777778,
              "#fb9f3a"
             ],
             [
              0.8888888888888888,
              "#fdca26"
             ],
             [
              1,
              "#f0f921"
             ]
            ],
            "type": "histogram2dcontour"
           }
          ],
          "mesh3d": [
           {
            "colorbar": {
             "outlinewidth": 0,
             "ticks": ""
            },
            "type": "mesh3d"
           }
          ],
          "parcoords": [
           {
            "line": {
             "colorbar": {
              "outlinewidth": 0,
              "ticks": ""
             }
            },
            "type": "parcoords"
           }
          ],
          "pie": [
           {
            "automargin": true,
            "type": "pie"
           }
          ],
          "scatter": [
           {
            "fillpattern": {
             "fillmode": "overlay",
             "size": 10,
             "solidity": 0.2
            },
            "type": "scatter"
           }
          ],
          "scatter3d": [
           {
            "line": {
             "colorbar": {
              "outlinewidth": 0,
              "ticks": ""
             }
            },
            "marker": {
             "colorbar": {
              "outlinewidth": 0,
              "ticks": ""
             }
            },
            "type": "scatter3d"
           }
          ],
          "scattercarpet": [
           {
            "marker": {
             "colorbar": {
              "outlinewidth": 0,
              "ticks": ""
             }
            },
            "type": "scattercarpet"
           }
          ],
          "scattergeo": [
           {
            "marker": {
             "colorbar": {
              "outlinewidth": 0,
              "ticks": ""
             }
            },
            "type": "scattergeo"
           }
          ],
          "scattergl": [
           {
            "marker": {
             "colorbar": {
              "outlinewidth": 0,
              "ticks": ""
             }
            },
            "type": "scattergl"
           }
          ],
          "scattermapbox": [
           {
            "marker": {
             "colorbar": {
              "outlinewidth": 0,
              "ticks": ""
             }
            },
            "type": "scattermapbox"
           }
          ],
          "scatterpolar": [
           {
            "marker": {
             "colorbar": {
              "outlinewidth": 0,
              "ticks": ""
             }
            },
            "type": "scatterpolar"
           }
          ],
          "scatterpolargl": [
           {
            "marker": {
             "colorbar": {
              "outlinewidth": 0,
              "ticks": ""
             }
            },
            "type": "scatterpolargl"
           }
          ],
          "scatterternary": [
           {
            "marker": {
             "colorbar": {
              "outlinewidth": 0,
              "ticks": ""
             }
            },
            "type": "scatterternary"
           }
          ],
          "surface": [
           {
            "colorbar": {
             "outlinewidth": 0,
             "ticks": ""
            },
            "colorscale": [
             [
              0,
              "#0d0887"
             ],
             [
              0.1111111111111111,
              "#46039f"
             ],
             [
              0.2222222222222222,
              "#7201a8"
             ],
             [
              0.3333333333333333,
              "#9c179e"
             ],
             [
              0.4444444444444444,
              "#bd3786"
             ],
             [
              0.5555555555555556,
              "#d8576b"
             ],
             [
              0.6666666666666666,
              "#ed7953"
             ],
             [
              0.7777777777777778,
              "#fb9f3a"
             ],
             [
              0.8888888888888888,
              "#fdca26"
             ],
             [
              1,
              "#f0f921"
             ]
            ],
            "type": "surface"
           }
          ],
          "table": [
           {
            "cells": {
             "fill": {
              "color": "#EBF0F8"
             },
             "line": {
              "color": "white"
             }
            },
            "header": {
             "fill": {
              "color": "#C8D4E3"
             },
             "line": {
              "color": "white"
             }
            },
            "type": "table"
           }
          ]
         },
         "layout": {
          "annotationdefaults": {
           "arrowcolor": "#2a3f5f",
           "arrowhead": 0,
           "arrowwidth": 1
          },
          "autotypenumbers": "strict",
          "coloraxis": {
           "colorbar": {
            "outlinewidth": 0,
            "ticks": ""
           }
          },
          "colorscale": {
           "diverging": [
            [
             0,
             "#8e0152"
            ],
            [
             0.1,
             "#c51b7d"
            ],
            [
             0.2,
             "#de77ae"
            ],
            [
             0.3,
             "#f1b6da"
            ],
            [
             0.4,
             "#fde0ef"
            ],
            [
             0.5,
             "#f7f7f7"
            ],
            [
             0.6,
             "#e6f5d0"
            ],
            [
             0.7,
             "#b8e186"
            ],
            [
             0.8,
             "#7fbc41"
            ],
            [
             0.9,
             "#4d9221"
            ],
            [
             1,
             "#276419"
            ]
           ],
           "sequential": [
            [
             0,
             "#0d0887"
            ],
            [
             0.1111111111111111,
             "#46039f"
            ],
            [
             0.2222222222222222,
             "#7201a8"
            ],
            [
             0.3333333333333333,
             "#9c179e"
            ],
            [
             0.4444444444444444,
             "#bd3786"
            ],
            [
             0.5555555555555556,
             "#d8576b"
            ],
            [
             0.6666666666666666,
             "#ed7953"
            ],
            [
             0.7777777777777778,
             "#fb9f3a"
            ],
            [
             0.8888888888888888,
             "#fdca26"
            ],
            [
             1,
             "#f0f921"
            ]
           ],
           "sequentialminus": [
            [
             0,
             "#0d0887"
            ],
            [
             0.1111111111111111,
             "#46039f"
            ],
            [
             0.2222222222222222,
             "#7201a8"
            ],
            [
             0.3333333333333333,
             "#9c179e"
            ],
            [
             0.4444444444444444,
             "#bd3786"
            ],
            [
             0.5555555555555556,
             "#d8576b"
            ],
            [
             0.6666666666666666,
             "#ed7953"
            ],
            [
             0.7777777777777778,
             "#fb9f3a"
            ],
            [
             0.8888888888888888,
             "#fdca26"
            ],
            [
             1,
             "#f0f921"
            ]
           ]
          },
          "colorway": [
           "#636efa",
           "#EF553B",
           "#00cc96",
           "#ab63fa",
           "#FFA15A",
           "#19d3f3",
           "#FF6692",
           "#B6E880",
           "#FF97FF",
           "#FECB52"
          ],
          "font": {
           "color": "#2a3f5f"
          },
          "geo": {
           "bgcolor": "white",
           "lakecolor": "white",
           "landcolor": "#E5ECF6",
           "showlakes": true,
           "showland": true,
           "subunitcolor": "white"
          },
          "hoverlabel": {
           "align": "left"
          },
          "hovermode": "closest",
          "mapbox": {
           "style": "light"
          },
          "paper_bgcolor": "white",
          "plot_bgcolor": "#E5ECF6",
          "polar": {
           "angularaxis": {
            "gridcolor": "white",
            "linecolor": "white",
            "ticks": ""
           },
           "bgcolor": "#E5ECF6",
           "radialaxis": {
            "gridcolor": "white",
            "linecolor": "white",
            "ticks": ""
           }
          },
          "scene": {
           "xaxis": {
            "backgroundcolor": "#E5ECF6",
            "gridcolor": "white",
            "gridwidth": 2,
            "linecolor": "white",
            "showbackground": true,
            "ticks": "",
            "zerolinecolor": "white"
           },
           "yaxis": {
            "backgroundcolor": "#E5ECF6",
            "gridcolor": "white",
            "gridwidth": 2,
            "linecolor": "white",
            "showbackground": true,
            "ticks": "",
            "zerolinecolor": "white"
           },
           "zaxis": {
            "backgroundcolor": "#E5ECF6",
            "gridcolor": "white",
            "gridwidth": 2,
            "linecolor": "white",
            "showbackground": true,
            "ticks": "",
            "zerolinecolor": "white"
           }
          },
          "shapedefaults": {
           "line": {
            "color": "#2a3f5f"
           }
          },
          "ternary": {
           "aaxis": {
            "gridcolor": "white",
            "linecolor": "white",
            "ticks": ""
           },
           "baxis": {
            "gridcolor": "white",
            "linecolor": "white",
            "ticks": ""
           },
           "bgcolor": "#E5ECF6",
           "caxis": {
            "gridcolor": "white",
            "linecolor": "white",
            "ticks": ""
           }
          },
          "title": {
           "x": 0.05
          },
          "xaxis": {
           "automargin": true,
           "gridcolor": "white",
           "linecolor": "white",
           "ticks": "",
           "title": {
            "standoff": 15
           },
           "zerolinecolor": "white",
           "zerolinewidth": 2
          },
          "yaxis": {
           "automargin": true,
           "gridcolor": "white",
           "linecolor": "white",
           "ticks": "",
           "title": {
            "standoff": 15
           },
           "zerolinecolor": "white",
           "zerolinewidth": 2
          }
         }
        },
        "xaxis": {
         "anchor": "y",
         "domain": [
          0,
          1
         ],
         "title": {
          "text": "Industry / Event"
         }
        },
        "yaxis": {
         "anchor": "x",
         "domain": [
          0,
          1
         ],
         "title": {
          "text": "count"
         }
        }
       }
      }
     },
     "metadata": {},
     "output_type": "display_data"
    }
   ],
   "source": [
    "fig = px.histogram(filtered_df,x='Industry / Event',color='Format',  barmode='group')\n",
    "fig.show()"
   ]
  },
  {
   "cell_type": "markdown",
   "metadata": {},
   "source": [
    "### Average Attendees by Industry"
   ]
  },
  {
   "cell_type": "markdown",
   "metadata": {},
   "source": [
    "# 1 "
   ]
  },
  {
   "cell_type": "markdown",
   "metadata": {},
   "source": [
    "# 2"
   ]
  },
  {
   "cell_type": "markdown",
   "metadata": {},
   "source": [
    "# 3"
   ]
  },
  {
   "cell_type": "markdown",
   "metadata": {},
   "source": [
    "# 4"
   ]
  },
  {
   "cell_type": "markdown",
   "metadata": {},
   "source": [
    "# 5"
   ]
  },
  {
   "cell_type": "markdown",
   "metadata": {},
   "source": [
    "# 6"
   ]
  }
 ],
 "metadata": {
  "kernelspec": {
   "display_name": "Python 3",
   "language": "python",
   "name": "python3"
  },
  "language_info": {
   "codemirror_mode": {
    "name": "ipython",
    "version": 3
   },
   "file_extension": ".py",
   "mimetype": "text/x-python",
   "name": "python",
   "nbconvert_exporter": "python",
   "pygments_lexer": "ipython3",
   "version": "3.11.5"
  }
 },
 "nbformat": 4,
 "nbformat_minor": 2
}
